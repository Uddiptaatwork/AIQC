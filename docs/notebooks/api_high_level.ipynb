{
 "cells": [
  {
   "cell_type": "markdown",
   "metadata": {},
   "source": [
    "# API"
   ]
  },
  {
   "cell_type": "markdown",
   "metadata": {},
   "source": [
    "<img src=\"../_static/images/api/high-level_api.png\" class=\"banner-photo\"/>"
   ]
  },
  {
   "cell_type": "markdown",
   "metadata": {},
   "source": [
    "## Declarative"
   ]
  },
  {
   "cell_type": "markdown",
   "metadata": {},
   "source": [
    "The *High-Level API* is *declarative*. What does that mean? All you have to do is specify the *state* that you want the data in, and then the backend executes all of the tedious data wrangling needed to achieve that state. It's like Terraform for machine learning."
   ]
  },
  {
   "cell_type": "markdown",
   "metadata": {},
   "source": [
    "```python\n",
    "from aiqc.orm import Dataset\n",
    "from aiqc.mlops import *\n",
    "```"
   ]
  },
  {
   "cell_type": "markdown",
   "metadata": {},
   "source": [
    "1. `Pipeline` declares how to preprocess data.\n",
    "2. `Experiment` declares variations of models to train and evaluate.\n",
    "3. `Inference` declares new samples to predict."
   ]
  },
  {
   "cell_type": "markdown",
   "metadata": {
    "tags": []
   },
   "source": [
    "Reference the [tutorials](../pages/gallery.html) to the see the high level API in action for various types of data and analysis. It's declarative nature makes it easy to learn by reading examples as opposed to piecing together which arguments point to each other. Check back here if you get stuck."
   ]
  },
  {
   "cell_type": "markdown",
   "metadata": {},
   "source": [
    "> *Why so many pointer variables?* -- Under the hood, the High-Level API is actually chaining together a workflow using the *object-relational model (ORM)* of the [Low-Level API](api_low_level.html). Many of the classes provided here are just an easier-to-use versions of their ORM counterparts."
   ]
  },
  {
   "cell_type": "markdown",
   "metadata": {},
   "source": [
    "---"
   ]
  },
  {
   "cell_type": "markdown",
   "metadata": {},
   "source": [
    "## 1. `Pipeline`"
   ]
  },
  {
   "cell_type": "markdown",
   "metadata": {},
   "source": [
    "Declares how to prepare data. The steps defined within the pipeline are used at multiple points in the machine learning lifecycle:\n",
    "\n",
    "- Preprocessing of training and evaluation data.\n",
    "- Caching of preprocessed training and evaluation data.\n",
    "- Post-processing (e.g. decoding) during model evaluation.\n",
    "- Inference: encoding and decoding new data."
   ]
  },
  {
   "cell_type": "markdown",
   "metadata": {},
   "source": [
    "```python\n",
    "Pipeline(\n",
    "    inputs\n",
    "    , target\n",
    "    , stratifier\n",
    "    , name\n",
    "    , description\n",
    ")\n",
    "```"
   ]
  },
  {
   "cell_type": "markdown",
   "metadata": {},
   "source": [
    "| Argument | Type | Default | Description |\n",
    "| --- | --- | --- | --- |\n",
    "| **inputs** | list(Input)| Required | [Input](#1a.-Input) - One or more featuresets |\n",
    "| **target** | Target | None | [Target](#1b.-Target) - Leave blank during unsupervised/ self-supervised analysis. |\n",
    "| **stratifier** | Stratifier | None | [Stratifier](#1c.-Stratifier) - Leave blank during inference. |\n",
    "| **name** | str | None | An auto-incrementing version will be assigned to Pipelines that share a name.  |\n",
    "| **description** | str | None | Describes how this particular workflow is unique. |"
   ]
  },
  {
   "cell_type": "markdown",
   "metadata": {},
   "source": [
    "> It is possible for an `Input` and a `Target` to share the same `Dataset`. The `Input.include_columns` and `Input.exclude_columns` will automatically be adjusted to exclude `Target.column`."
   ]
  },
  {
   "cell_type": "markdown",
   "metadata": {},
   "source": [
    "|||\n",
    "| --- | --- |\n",
    "| **Returns** | [Splitset](api_low_level.html#8.-Splitset) instance as seen in the Low-Level API. We will use this later as the [Trainer.pipeline](#2b.-Trainer) argument. |"
   ]
  },
  {
   "cell_type": "markdown",
   "metadata": {},
   "source": [
    "---"
   ]
  },
  {
   "cell_type": "markdown",
   "metadata": {},
   "source": [
    "### 1a. `Input`"
   ]
  },
  {
   "cell_type": "markdown",
   "metadata": {},
   "source": [
    "These are the features that our model will learn from. \n",
    "\n",
    "This is a wrapper for `Feature` and all of its preprocessors in the [Low-Level API](api_low_level.html#2.-Feature)."
   ]
  },
  {
   "cell_type": "markdown",
   "metadata": {},
   "source": [
    "```python\n",
    "Input(\n",
    "    dataset\n",
    "    , exclude_columns\n",
    "    , include_columns\n",
    "    , interpolaters\n",
    "    , window\n",
    "    , encoders\n",
    "    , reshape_indices\n",
    ")\n",
    "```"
   ]
  },
  {
   "cell_type": "markdown",
   "metadata": {},
   "source": [
    "Argument | Type | Default | Description\n",
    "--- | --- | --- | ---\n",
    "**dataset** | Dataset | Required | [Dataset](api_low_level.html#1.-Dataset) from Low-Level API\n",
    "**exclude_columns** | list(str) | None | The columns from the Dataset that will *not* be used in the featureset\n",
    "**include_columns** | list(str) | None | The columns from the Dataset that *will* be used in the featureset\n",
    "**interpolaters** | list(Input.Interpolater) | None | [Input.Interpolater](#1ai.-Input.Interpolater)\n",
    "**window** | Input.Window | None | [Input.Window](#1aii.-Input.Window)\n",
    "**encoders** | list(Input.Encoder) | None | [Input.Encoder](#1aiii.-Input.Encoder)\n",
    "**reshape_indices** | tuple(int/str/tuple) | None | Reference `FeatureShaper` from [Low-Level API](api_low_level.html)."
   ]
  },
  {
   "cell_type": "markdown",
   "metadata": {},
   "source": [
    "> Both `exclude_columns` and `include_columns` cannot be used simultaneously."
   ]
  },
  {
   "cell_type": "markdown",
   "metadata": {},
   "source": [
    "---"
   ]
  },
  {
   "cell_type": "markdown",
   "metadata": {},
   "source": [
    "#### 1ai. `Input.Interpolater`"
   ]
  },
  {
   "cell_type": "markdown",
   "metadata": {},
   "source": [
    "Used to fill in the blanks in a sequence. \n",
    "\n",
    "This is a wrapper for `FeatureInterpolater` in the [Low-Level API](api_low_level.html#4b.-FeatureInterpolater)."
   ]
  },
  {
   "cell_type": "markdown",
   "metadata": {},
   "source": [
    "```python\n",
    "Input.Interpolater(\n",
    "    process_separately\n",
    "    , verbose\n",
    "    , interpolate_kwargs\n",
    "    , dtypes\n",
    "    , columns\n",
    ")\n",
    "```"
   ]
  },
  {
   "cell_type": "markdown",
   "metadata": {},
   "source": [
    "---"
   ]
  },
  {
   "cell_type": "markdown",
   "metadata": {},
   "source": [
    "#### 1aii. `Input.Window`"
   ]
  },
  {
   "cell_type": "markdown",
   "metadata": {},
   "source": [
    "Used to slice and shift samples into many time series windows for walk-forward/ backward analysis. \n",
    "\n",
    "This is a wrapper for `Window` in the [Low-Level API](api_low_level.html#7.-Window)."
   ]
  },
  {
   "cell_type": "markdown",
   "metadata": {},
   "source": [
    "```\n",
    "Input.Window(\n",
    "    size_window\n",
    "    , size_shift\n",
    "    , record_shifted\n",
    ")\n",
    "```"
   ]
  },
  {
   "cell_type": "markdown",
   "metadata": {},
   "source": [
    "---"
   ]
  },
  {
   "cell_type": "markdown",
   "metadata": {},
   "source": [
    "#### 1aiii. `Input.Encoder`"
   ]
  },
  {
   "cell_type": "markdown",
   "metadata": {},
   "source": [
    "Used to numerically encode data.\n",
    "\n",
    "This is a wrapper for `FeatureCoder` in the [Low-Level API](api_low_level.html#5b.-FeatureCoder)."
   ]
  },
  {
   "cell_type": "markdown",
   "metadata": {},
   "source": [
    "```python\n",
    "Input.Encoder(\n",
    "    sklearn_preprocess\n",
    "    , verbose\n",
    "    , include\n",
    "    , dtypes\n",
    "    , columns\n",
    ")\n",
    "```"
   ]
  },
  {
   "cell_type": "markdown",
   "metadata": {},
   "source": [
    "---"
   ]
  },
  {
   "cell_type": "markdown",
   "metadata": {},
   "source": [
    "### 1b. `Target`"
   ]
  },
  {
   "cell_type": "markdown",
   "metadata": {},
   "source": [
    "What the model is trying to predict.\n",
    "\n",
    "This is a wrapper for `Label` and all of its preprocessors in the [Low-Level API](api_low_level.html#3.-Label)."
   ]
  },
  {
   "cell_type": "markdown",
   "metadata": {},
   "source": [
    "```python\n",
    "Target(\n",
    "    dataset\n",
    "    , column\n",
    "    , interpolater\n",
    "    , encoder\n",
    ")\n",
    "```"
   ]
  },
  {
   "cell_type": "markdown",
   "metadata": {},
   "source": [
    "Argument | Type | Default | Description\n",
    "--- | --- | --- | ---\n",
    "**dataset** | Dataset | Required | `Dataset` from [Low-Level API](api_low_level.html#1.-Dataset)\n",
    "**column** | list(str) | None | The column from the Dataset to use as the target.\n",
    "**interpolater** | Target.Interpolater | None | [Target.Interpolater](#1bi.-Target.Interpolater)\n",
    "**encoder** | Target.Encoder | None | [Target.Encoder](#1bii.-Target.Encoder)"
   ]
  },
  {
   "cell_type": "markdown",
   "metadata": {},
   "source": [
    "---"
   ]
  },
  {
   "cell_type": "markdown",
   "metadata": {},
   "source": [
    "#### 1bi. `Target.Interpolater`"
   ]
  },
  {
   "cell_type": "markdown",
   "metadata": {},
   "source": [
    "Used to fill in the blanks in a sequence.\n",
    "\n",
    "This is a wrapper for `LabelInterpolater` in the [Low-Level API](api_low_level.html#4a.-LabelInterpolater)."
   ]
  },
  {
   "cell_type": "markdown",
   "metadata": {},
   "source": [
    "```python\n",
    "Target.Interpolater(\n",
    "    process_separately\n",
    "    , interpolate_kwargs\n",
    ")\n",
    "```"
   ]
  },
  {
   "cell_type": "markdown",
   "metadata": {},
   "source": [
    "---"
   ]
  },
  {
   "cell_type": "markdown",
   "metadata": {},
   "source": [
    "#### 1bii. `Target.Encoder`"
   ]
  },
  {
   "cell_type": "markdown",
   "metadata": {},
   "source": [
    "Used to numerically encode data.\n",
    "\n",
    "This is a wrapper for `LabelCoder` in the [Low-Level API](api_low_level.html#5a.-LabelCoder). "
   ]
  },
  {
   "cell_type": "markdown",
   "metadata": {},
   "source": [
    "```python\n",
    "Target.Encoder(\n",
    "    sklearn_preprocess\n",
    ")\n",
    "```"
   ]
  },
  {
   "cell_type": "markdown",
   "metadata": {},
   "source": [
    "---"
   ]
  },
  {
   "cell_type": "markdown",
   "metadata": {},
   "source": [
    "### 1c. `Stratifier`"
   ]
  },
  {
   "cell_type": "markdown",
   "metadata": {},
   "source": [
    "Used to slice the dataset into training, validation, test, and/or cross-validated subsets.\n",
    "\n",
    "This is a wrapper for `Splitset` in the [Low-Level API](api_low_level.html#8.-Splitset). "
   ]
  },
  {
   "cell_type": "markdown",
   "metadata": {},
   "source": [
    "```python\n",
    "Stratifier(\n",
    "    size_test\n",
    "    , size_validation\n",
    "    , fold_count\n",
    "    , bin_count\n",
    ")\n",
    "```"
   ]
  },
  {
   "cell_type": "markdown",
   "metadata": {},
   "source": [
    "---"
   ]
  },
  {
   "cell_type": "markdown",
   "metadata": {},
   "source": [
    "## 2. `Experiment`"
   ]
  },
  {
   "cell_type": "markdown",
   "metadata": {},
   "source": [
    "Used to declare variations of models that will be trained."
   ]
  },
  {
   "cell_type": "markdown",
   "metadata": {},
   "source": [
    "```python\n",
    "Experiment(\n",
    "    architecture\n",
    "    , trainer\n",
    ")\n",
    "```"
   ]
  },
  {
   "cell_type": "markdown",
   "metadata": {},
   "source": [
    "Argument | Type | Default | Description\n",
    "--- | --- | --- | ---\n",
    "**architecture** | Architecture | Required | [Architecture](#2a.-Architecture)\n",
    "**trainer** | Trainer | Required | [Trainer](#2b.-Trainer)"
   ]
  },
  {
   "cell_type": "markdown",
   "metadata": {},
   "source": [
    "|||\n",
    "--- | ---\n",
    "**Returns** | [Queue](api_low_level.html#11.-Queue) instance as seen in the Low-Level API."
   ]
  },
  {
   "cell_type": "markdown",
   "metadata": {},
   "source": [
    "---"
   ]
  },
  {
   "cell_type": "markdown",
   "metadata": {},
   "source": [
    "### 2a. `Architecture`"
   ]
  },
  {
   "cell_type": "markdown",
   "metadata": {},
   "source": [
    "The model and hyperparameters to be trained.\n",
    "\n",
    "This is a wrapper for `Algorithm` in the [Low-Level API](api_low_level.html#9.-Algorithm), with the addition of [hyperparameters](api_low_level.html#10.-Hyperparameters)."
   ]
  },
  {
   "cell_type": "markdown",
   "metadata": {},
   "source": [
    "```python\n",
    "Architecture(\n",
    "    library\n",
    "    , analysis_type\n",
    "    , fn_build\n",
    "    , fn_train\n",
    "    , fn_optimize\n",
    "    , fn_lose\n",
    "    , fn_predict\n",
    "    , hyperparameters\n",
    ")\n",
    "```"
   ]
  },
  {
   "cell_type": "markdown",
   "metadata": {},
   "source": [
    "---"
   ]
  },
  {
   "cell_type": "markdown",
   "metadata": {},
   "source": [
    "### 2b. `Trainer`"
   ]
  },
  {
   "cell_type": "markdown",
   "metadata": {},
   "source": [
    "The options used for training.\n",
    "\n",
    "This is a wrapper for `Queue` in the [Low-Level API](api_low_level.html#11.-Queue), with the addition of `pipeline`."
   ]
  },
  {
   "cell_type": "markdown",
   "metadata": {},
   "source": [
    "```python\n",
    "Trainer(\n",
    "    pipeline\n",
    "    , repeat_count\n",
    "    , permute_count\n",
    "    , search_count\n",
    "    , search_percent\n",
    ")\n",
    "```"
   ]
  },
  {
   "cell_type": "markdown",
   "metadata": {},
   "source": [
    "---"
   ]
  },
  {
   "cell_type": "markdown",
   "metadata": {},
   "source": [
    "## 3. `Inference`"
   ]
  },
  {
   "cell_type": "markdown",
   "metadata": {},
   "source": [
    "Used to preprocess new samples, run predictions on them, decode the output, and, optionally, evaluate the predictions."
   ]
  },
  {
   "cell_type": "markdown",
   "metadata": {},
   "source": [
    "```python\n",
    "Inference(\n",
    "    predictor\n",
    "    , input_datasets\n",
    "    , target_dataset\n",
    "    , record_shifted\n",
    ")\n",
    "```"
   ]
  },
  {
   "cell_type": "markdown",
   "metadata": {},
   "source": [
    "Argument | Type | Default | Description\n",
    "--- | --- | --- | ---\n",
    "**predictor** | Predictor | Required | [Predictor](api_low_level.html#13.-Predictor) to use for inference\n",
    "**input_datasets** | list(Dataset) | Required | New [Datasets](api_low_level.html#1.-Dataset) to run inference on.\n",
    "**target_dataset** | Dataset | None | New [Datasets](api_low_level.html#1.-Dataset) for scoring inference.  Leave this blank for pure inference where no metrics will be calculared.\n",
    "**record_shifted** | bool | False | Set this to True for scoring during unsupervised time series inference"
   ]
  },
  {
   "cell_type": "markdown",
   "metadata": {},
   "source": [
    "> We don't need to specify fully-fledged `Inputs` and `Target` objects because the `Pipeline` of the `predictor` object will be reused in order to process these new datasets."
   ]
  },
  {
   "cell_type": "markdown",
   "metadata": {},
   "source": [
    "|||\n",
    "--- | ---\n",
    "**Returns** | `Prediction` instance as seen in the [Low-Level API](api_low_level.html#14.-Prediction)."
   ]
  }
 ],
 "metadata": {
  "kernelspec": {
   "display_name": "Python 3",
   "language": "python",
   "name": "python3"
  },
  "language_info": {
   "codemirror_mode": {
    "name": "ipython",
    "version": 3
   },
   "file_extension": ".py",
   "mimetype": "text/x-python",
   "name": "python",
   "nbconvert_exporter": "python",
   "pygments_lexer": "ipython3",
   "version": "3.7.12"
  }
 },
 "nbformat": 4,
 "nbformat_minor": 4
}
