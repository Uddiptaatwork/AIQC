{
 "cells": [
  {
   "cell_type": "markdown",
   "id": "08ec3e9b-5d17-4544-a9bf-0a30851d67cf",
   "metadata": {
    "tags": []
   },
   "source": [
    "# Tests\n",
    "\n",
    "Be sure to make a copy of this file so that you don't overwrite the template for running tests.\n",
    "\n",
    "The tests are located in `AIQC/aiqc/tests`\n",
    "\n",
    "`fold_count` triggers other binary cases like `ingest:bool`"
   ]
  },
  {
   "cell_type": "markdown",
   "id": "88f9c475-3286-4322-9274-3fc1e68814b6",
   "metadata": {},
   "source": [
    "---"
   ]
  },
  {
   "cell_type": "markdown",
   "id": "e42882f4-bfb3-4e78-b4c2-28eee2ead860",
   "metadata": {},
   "source": [
    "Use the location where you cloned the repo:"
   ]
  },
  {
   "cell_type": "code",
   "execution_count": 1,
   "id": "e092b41a-74a0-4b62-82e3-5b546d60e70a",
   "metadata": {},
   "outputs": [
    {
     "name": "stdout",
     "output_type": "stream",
     "text": [
      "/Users/layne/Desktop/AIQC\n"
     ]
    }
   ],
   "source": [
    "cd '~/Desktop/AIQC'"
   ]
  },
  {
   "cell_type": "code",
   "execution_count": 2,
   "id": "5ffd0a24-3528-4182-87be-c077813d0458",
   "metadata": {
    "tags": []
   },
   "outputs": [],
   "source": [
    "from aiqc import orm, datum, tests"
   ]
  },
  {
   "cell_type": "markdown",
   "id": "f3cf2fde-0288-417d-bfed-d47f50e0a8bf",
   "metadata": {},
   "source": [
    "---"
   ]
  },
  {
   "cell_type": "markdown",
   "id": "1c490e18-3959-46d7-a675-cc70e9cb7e88",
   "metadata": {},
   "source": [
    "Makes sure local tests are running, not an installed pypi module"
   ]
  },
  {
   "cell_type": "code",
   "execution_count": 3,
   "id": "f6120333-7d4d-443e-acde-007c5cc6c669",
   "metadata": {
    "tags": []
   },
   "outputs": [],
   "source": [
    "# orm.destroy_db(confirm=True, rebuild=True)"
   ]
  },
  {
   "cell_type": "code",
   "execution_count": 4,
   "id": "62ef429b-f196-4263-b692-ca44dc4844d7",
   "metadata": {
    "tags": []
   },
   "outputs": [],
   "source": [
    "# orm.clear_cache_all()"
   ]
  },
  {
   "cell_type": "markdown",
   "id": "70a972f3-6d0e-49ba-83eb-0135b469bd8c",
   "metadata": {
    "tags": []
   },
   "source": [
    "---"
   ]
  },
  {
   "cell_type": "markdown",
   "id": "fd804be5-86db-4713-bdd9-07a5ae224185",
   "metadata": {
    "tags": []
   },
   "source": [
    "# TensorFlow"
   ]
  },
  {
   "cell_type": "code",
   "execution_count": 5,
   "id": "e8d67434-a361-4e15-bfac-785058009b36",
   "metadata": {
    "tags": []
   },
   "outputs": [
    {
     "name": "stdout",
     "output_type": "stream",
     "text": [
      "\n",
      "└── Info - Hashes identical to `Dataset.version=1`.\n",
      "Reusing & returning that Dataset instead of creating duplicate version.\n",
      "\n",
      "\n",
      "└── 👟 Success - Fit PowerTransformer(copy=False) on 60 columns.\n",
      "\n",
      "\n",
      "└── ✅ Success - All columns now have encoders associated with them.\n",
      "\n",
      "\n",
      "└── 🔂 Success - created Queue consisting of 1 runs.\n",
      "\n"
     ]
    }
   ],
   "source": [
    "tf_bin_tab = tests.tf_bin_tab.make_queue()"
   ]
  },
  {
   "cell_type": "code",
   "execution_count": 6,
   "id": "fa3da512-a9aa-43ea-9484-44d5f9eef244",
   "metadata": {
    "tags": []
   },
   "outputs": [
    {
     "name": "stderr",
     "output_type": "stream",
     "text": [
      "└── 📦 Caching Splits:: 100%|█████████████████████████| 3/3 [00:00<00:00, 376.55it/s]\n",
      "└── 🔮 Queue #204:: 100%|██████████████████████████████| 1/1 [00:07<00:00,  7.64s/it]\n"
     ]
    }
   ],
   "source": [
    "tf_bin_tab.run_jobs()"
   ]
  },
  {
   "cell_type": "code",
   "execution_count": 7,
   "id": "b860f76c-a06b-4082-b081-111745c7a411",
   "metadata": {
    "tags": []
   },
   "outputs": [],
   "source": [
    "prediction = tests.infer(tf_bin_tab)"
   ]
  },
  {
   "cell_type": "code",
   "execution_count": 8,
   "id": "94a65b6d-2349-44ec-bf0c-fc335233b0d8",
   "metadata": {
    "tags": []
   },
   "outputs": [
    {
     "data": {
      "text/plain": [
       "{'infer_0': {'accuracy': 0.923,\n",
       "  'f1': 0.918,\n",
       "  'loss': 0.199,\n",
       "  'precision': 0.918,\n",
       "  'recall': 0.918,\n",
       "  'roc_auc': 0.977}}"
      ]
     },
     "execution_count": 8,
     "metadata": {},
     "output_type": "execute_result"
    }
   ],
   "source": [
    "prediction.metrics"
   ]
  },
  {
   "cell_type": "code",
   "execution_count": 9,
   "id": "1bc56292-a5c9-4f0d-b418-fd01068d6b36",
   "metadata": {
    "tags": []
   },
   "outputs": [
    {
     "data": {
      "text/plain": [
       "{'infer_0': array(['M', 'R', 'R', 'R', 'R', 'R', 'M', 'M', 'R', 'R', 'R', 'R', 'R',\n",
       "        'R', 'R', 'R', 'R', 'R', 'R', 'R', 'M', 'M', 'R', 'R', 'R', 'R',\n",
       "        'R', 'R', 'R', 'R', 'R', 'R', 'R', 'R', 'R', 'R', 'R', 'R', 'R',\n",
       "        'R', 'R', 'R', 'R', 'R', 'R', 'R', 'M', 'R', 'R', 'R', 'R', 'R',\n",
       "        'R', 'R', 'R', 'R', 'R', 'R', 'R', 'R', 'R', 'R', 'R', 'R', 'R',\n",
       "        'R', 'R', 'R', 'R', 'R', 'R', 'R', 'R', 'R', 'R', 'R', 'R', 'R',\n",
       "        'R', 'R', 'R', 'M', 'R', 'R', 'M', 'R', 'R', 'R', 'R', 'R', 'R',\n",
       "        'R', 'R', 'R', 'R', 'R', 'R', 'M', 'M', 'R', 'M', 'M', 'M', 'M',\n",
       "        'M', 'R', 'M', 'M', 'R', 'M', 'M', 'M', 'M', 'M', 'M', 'M', 'M',\n",
       "        'M', 'M', 'M', 'M', 'M', 'M', 'M', 'M', 'M', 'M', 'M', 'M', 'M',\n",
       "        'M', 'M', 'M', 'M', 'M', 'M', 'M', 'M', 'M', 'R', 'M', 'M', 'M',\n",
       "        'M', 'M', 'M', 'M', 'M', 'M', 'M', 'M', 'M', 'R', 'M', 'R', 'M',\n",
       "        'M', 'M', 'M', 'M', 'M', 'M', 'M', 'M', 'M', 'M', 'M', 'M', 'M',\n",
       "        'M', 'M', 'M', 'M', 'M', 'M', 'M', 'M', 'R', 'R', 'M', 'M', 'M',\n",
       "        'M', 'M', 'M', 'M', 'M', 'M', 'M', 'M', 'M', 'M', 'M', 'M', 'M',\n",
       "        'M', 'M', 'M', 'M', 'M', 'M', 'M', 'M', 'M', 'M', 'M', 'M', 'M'],\n",
       "       dtype='<U1')}"
      ]
     },
     "execution_count": 9,
     "metadata": {},
     "output_type": "execute_result"
    }
   ],
   "source": [
    "prediction.predictions"
   ]
  },
  {
   "cell_type": "code",
   "execution_count": 10,
   "id": "7683cb00-9a06-4257-aee6-0b672d6dee45",
   "metadata": {
    "tags": []
   },
   "outputs": [],
   "source": [
    "prediction = tests.infer(tf_bin_tab, include_label=False)"
   ]
  },
  {
   "cell_type": "code",
   "execution_count": 11,
   "id": "17b83f04-943e-4b26-ba34-addf97d837f6",
   "metadata": {
    "tags": []
   },
   "outputs": [
    {
     "data": {
      "text/plain": [
       "{'infer_1': array(['M', 'R', 'R', 'R', 'R', 'R', 'M', 'M', 'R', 'R', 'R', 'R', 'R',\n",
       "        'R', 'R', 'R', 'R', 'R', 'R', 'R', 'M', 'M', 'R', 'R', 'R', 'R',\n",
       "        'R', 'R', 'R', 'R', 'R', 'R', 'R', 'R', 'R', 'R', 'R', 'R', 'R',\n",
       "        'R', 'R', 'R', 'R', 'R', 'R', 'R', 'M', 'R', 'R', 'R', 'R', 'R',\n",
       "        'R', 'R', 'R', 'R', 'R', 'R', 'R', 'R', 'R', 'R', 'R', 'R', 'R',\n",
       "        'R', 'R', 'R', 'R', 'R', 'R', 'R', 'R', 'R', 'R', 'R', 'R', 'R',\n",
       "        'R', 'R', 'R', 'M', 'R', 'R', 'M', 'R', 'R', 'R', 'R', 'R', 'R',\n",
       "        'R', 'R', 'R', 'R', 'R', 'R', 'M', 'M', 'R', 'M', 'M', 'M', 'M',\n",
       "        'M', 'R', 'M', 'M', 'R', 'M', 'M', 'M', 'M', 'M', 'M', 'M', 'M',\n",
       "        'M', 'M', 'M', 'M', 'M', 'M', 'M', 'M', 'M', 'M', 'M', 'M', 'M',\n",
       "        'M', 'M', 'M', 'M', 'M', 'M', 'M', 'M', 'M', 'R', 'M', 'M', 'M',\n",
       "        'M', 'M', 'M', 'M', 'M', 'M', 'M', 'M', 'M', 'R', 'M', 'R', 'M',\n",
       "        'M', 'M', 'M', 'M', 'M', 'M', 'M', 'M', 'M', 'M', 'M', 'M', 'M',\n",
       "        'M', 'M', 'M', 'M', 'M', 'M', 'M', 'M', 'R', 'R', 'M', 'M', 'M',\n",
       "        'M', 'M', 'M', 'M', 'M', 'M', 'M', 'M', 'M', 'M', 'M', 'M', 'M',\n",
       "        'M', 'M', 'M', 'M', 'M', 'M', 'M', 'M', 'M', 'M', 'M', 'M', 'M'],\n",
       "       dtype='<U1')}"
      ]
     },
     "execution_count": 11,
     "metadata": {},
     "output_type": "execute_result"
    }
   ],
   "source": [
    "prediction.predictions"
   ]
  },
  {
   "cell_type": "markdown",
   "id": "a55d7588-10cd-45e0-ac93-629dae844a76",
   "metadata": {
    "tags": []
   },
   "source": [
    "---"
   ]
  },
  {
   "cell_type": "code",
   "execution_count": 12,
   "id": "97fa4d68-ee28-4bc4-9dd5-ee74454fa557",
   "metadata": {
    "tags": []
   },
   "outputs": [
    {
     "name": "stdout",
     "output_type": "stream",
     "text": [
      "\n",
      "└── 👟 Success - Fit PowerTransformer(copy=False) on 60 columns.\n",
      "\n",
      "\n",
      "└── ✅ Success - All columns now have encoders associated with them.\n",
      "\n",
      "\n",
      "└── 🔂 Success - created Queue consisting of 3 runs.\n",
      "\n"
     ]
    }
   ],
   "source": [
    "tf_bin_tab_fold = tests.tf_bin_tab.make_queue(fold_count=3)"
   ]
  },
  {
   "cell_type": "code",
   "execution_count": 13,
   "id": "7b079976-951b-4fa8-bd9d-fa272eb67ee9",
   "metadata": {
    "tags": []
   },
   "outputs": [
    {
     "name": "stderr",
     "output_type": "stream",
     "text": [
      "└── 📦 Caching - Fold #1:: 100%|██████████████████████| 4/4 [00:00<00:00, 396.83it/s]\n",
      "└── 📦 Caching - Fold #2:: 100%|██████████████████████| 4/4 [00:00<00:00, 388.73it/s]\n",
      "└── 📦 Caching - Fold #3:: 100%|██████████████████████| 4/4 [00:00<00:00, 398.85it/s]\n",
      "└── 🔮 Queue 205 // Fold #1:: 100%|████████████████████| 1/1 [00:07<00:00,  7.12s/it]\n",
      "└── 🔮 Queue 205 // Fold #2:: 100%|████████████████████| 1/1 [00:07<00:00,  7.19s/it]\n",
      "└── 🔮 Queue 205 // Fold #3:: 100%|████████████████████| 1/1 [00:06<00:00,  6.99s/it]\n"
     ]
    }
   ],
   "source": [
    "tf_bin_tab_fold.run_jobs()"
   ]
  },
  {
   "cell_type": "code",
   "execution_count": 14,
   "id": "4948d128-4839-4730-907f-074ed9f2e94b",
   "metadata": {
    "tags": []
   },
   "outputs": [],
   "source": [
    "prediction = tests.infer(tf_bin_tab_fold)"
   ]
  },
  {
   "cell_type": "code",
   "execution_count": 15,
   "id": "b393b361-9c8a-446d-a79f-79c1e73f5b83",
   "metadata": {
    "tags": []
   },
   "outputs": [
    {
     "data": {
      "text/plain": [
       "{'infer_0': {'accuracy': 0.894,\n",
       "  'f1': 0.88,\n",
       "  'loss': 0.278,\n",
       "  'precision': 0.931,\n",
       "  'recall': 0.835,\n",
       "  'roc_auc': 0.956}}"
      ]
     },
     "execution_count": 15,
     "metadata": {},
     "output_type": "execute_result"
    }
   ],
   "source": [
    "prediction.metrics"
   ]
  },
  {
   "cell_type": "code",
   "execution_count": 16,
   "id": "19262d83-9413-4cb2-86ef-706cba045815",
   "metadata": {
    "tags": []
   },
   "outputs": [
    {
     "data": {
      "text/plain": [
       "{'infer_0': array(['R', 'R', 'R', 'R', 'R', 'R', 'R', 'M', 'R', 'R', 'R', 'R', 'R',\n",
       "        'R', 'M', 'R', 'R', 'M', 'R', 'R', 'M', 'M', 'R', 'R', 'R', 'R',\n",
       "        'R', 'R', 'M', 'R', 'R', 'R', 'R', 'R', 'R', 'M', 'R', 'R', 'R',\n",
       "        'R', 'R', 'R', 'R', 'R', 'R', 'R', 'M', 'R', 'R', 'R', 'R', 'R',\n",
       "        'R', 'R', 'R', 'R', 'R', 'R', 'R', 'R', 'R', 'R', 'R', 'R', 'R',\n",
       "        'R', 'R', 'R', 'R', 'R', 'R', 'R', 'R', 'R', 'R', 'M', 'R', 'R',\n",
       "        'R', 'R', 'R', 'M', 'M', 'R', 'R', 'M', 'M', 'M', 'M', 'M', 'R',\n",
       "        'R', 'R', 'R', 'R', 'R', 'R', 'M', 'M', 'R', 'M', 'M', 'M', 'M',\n",
       "        'M', 'M', 'R', 'M', 'M', 'M', 'M', 'M', 'M', 'M', 'M', 'M', 'M',\n",
       "        'M', 'M', 'M', 'M', 'M', 'M', 'M', 'M', 'M', 'M', 'M', 'M', 'M',\n",
       "        'M', 'M', 'M', 'M', 'M', 'M', 'M', 'M', 'M', 'M', 'M', 'M', 'M',\n",
       "        'M', 'M', 'M', 'M', 'M', 'M', 'M', 'M', 'M', 'M', 'M', 'M', 'R',\n",
       "        'M', 'M', 'M', 'M', 'M', 'M', 'M', 'R', 'M', 'M', 'M', 'M', 'M',\n",
       "        'R', 'M', 'M', 'M', 'R', 'M', 'M', 'M', 'M', 'M', 'M', 'M', 'M',\n",
       "        'M', 'M', 'M', 'M', 'M', 'M', 'M', 'M', 'M', 'M', 'M', 'M', 'M',\n",
       "        'M', 'M', 'M', 'M', 'M', 'M', 'M', 'M', 'M', 'M', 'M', 'M', 'M'],\n",
       "       dtype='<U1')}"
      ]
     },
     "execution_count": 16,
     "metadata": {},
     "output_type": "execute_result"
    }
   ],
   "source": [
    "prediction.predictions"
   ]
  },
  {
   "cell_type": "code",
   "execution_count": 17,
   "id": "cfa781da-22af-46bb-9733-6534716c841a",
   "metadata": {
    "tags": []
   },
   "outputs": [],
   "source": [
    "prediction = tests.infer(tf_bin_tab_fold, include_label=False)"
   ]
  },
  {
   "cell_type": "code",
   "execution_count": 18,
   "id": "771e5d96-c085-4aad-b24b-af3d64d709d9",
   "metadata": {
    "tags": []
   },
   "outputs": [
    {
     "data": {
      "text/plain": [
       "{'infer_1': array(['R', 'R', 'R', 'R', 'R', 'R', 'R', 'M', 'R', 'R', 'R', 'R', 'R',\n",
       "        'R', 'M', 'R', 'R', 'M', 'R', 'R', 'M', 'M', 'R', 'R', 'R', 'R',\n",
       "        'R', 'R', 'M', 'R', 'R', 'R', 'R', 'R', 'R', 'M', 'R', 'R', 'R',\n",
       "        'R', 'R', 'R', 'R', 'R', 'R', 'R', 'M', 'R', 'R', 'R', 'R', 'R',\n",
       "        'R', 'R', 'R', 'R', 'R', 'R', 'R', 'R', 'R', 'R', 'R', 'R', 'R',\n",
       "        'R', 'R', 'R', 'R', 'R', 'R', 'R', 'R', 'R', 'R', 'M', 'R', 'R',\n",
       "        'R', 'R', 'R', 'M', 'M', 'R', 'R', 'M', 'M', 'M', 'M', 'M', 'R',\n",
       "        'R', 'R', 'R', 'R', 'R', 'R', 'M', 'M', 'R', 'M', 'M', 'M', 'M',\n",
       "        'M', 'M', 'R', 'M', 'M', 'M', 'M', 'M', 'M', 'M', 'M', 'M', 'M',\n",
       "        'M', 'M', 'M', 'M', 'M', 'M', 'M', 'M', 'M', 'M', 'M', 'M', 'M',\n",
       "        'M', 'M', 'M', 'M', 'M', 'M', 'M', 'M', 'M', 'M', 'M', 'M', 'M',\n",
       "        'M', 'M', 'M', 'M', 'M', 'M', 'M', 'M', 'M', 'M', 'M', 'M', 'R',\n",
       "        'M', 'M', 'M', 'M', 'M', 'M', 'M', 'R', 'M', 'M', 'M', 'M', 'M',\n",
       "        'R', 'M', 'M', 'M', 'R', 'M', 'M', 'M', 'M', 'M', 'M', 'M', 'M',\n",
       "        'M', 'M', 'M', 'M', 'M', 'M', 'M', 'M', 'M', 'M', 'M', 'M', 'M',\n",
       "        'M', 'M', 'M', 'M', 'M', 'M', 'M', 'M', 'M', 'M', 'M', 'M', 'M'],\n",
       "       dtype='<U1')}"
      ]
     },
     "execution_count": 18,
     "metadata": {},
     "output_type": "execute_result"
    }
   ],
   "source": [
    "prediction.predictions"
   ]
  },
  {
   "cell_type": "markdown",
   "id": "48cb8ded-154b-4443-8292-e8a5c4092b2d",
   "metadata": {
    "tags": []
   },
   "source": [
    "---"
   ]
  },
  {
   "cell_type": "code",
   "execution_count": 19,
   "id": "90949696-bd14-4bac-a4df-018561e97d69",
   "metadata": {
    "tags": []
   },
   "outputs": [
    {
     "name": "stdout",
     "output_type": "stream",
     "text": [
      "\n",
      "└── 👟 Success - Fit StandardScaler(copy=False) on the following columns:\n",
      "['petal_width']\n",
      "\n",
      "\n",
      "└── ⬇️ Info - The following columns have not yet been encoded:\n",
      "['sepal_width', 'sepal_length', 'petal_length']\n",
      "\n",
      "\n",
      "└── 👟 Success - Fit RobustScaler(copy=False) on the following columns:\n",
      "['sepal_length', 'sepal_width', 'petal_length']\n",
      "\n",
      "\n",
      "└── ✅ Success - All columns now have encoders associated with them.\n",
      "\n",
      "\n",
      "└── 🔂 Success - created Queue consisting of 1 runs.\n",
      "\n"
     ]
    }
   ],
   "source": [
    "tf_multi_tab = tests.tf_multi_tab.make_queue()"
   ]
  },
  {
   "cell_type": "code",
   "execution_count": 20,
   "id": "e34e3285-bbfd-450c-a247-333b86a16b72",
   "metadata": {
    "tags": []
   },
   "outputs": [
    {
     "name": "stderr",
     "output_type": "stream",
     "text": [
      "└── 📦 Caching Splits:: 100%|█████████████████████████| 3/3 [00:00<00:00, 397.35it/s]\n",
      "└── 🔮 Queue #206:: 100%|██████████████████████████████| 1/1 [00:01<00:00,  1.81s/it]\n"
     ]
    }
   ],
   "source": [
    "tf_multi_tab.run_jobs()"
   ]
  },
  {
   "cell_type": "code",
   "execution_count": 21,
   "id": "4a2cfd0f-8123-4c89-97b7-1bb804d07c81",
   "metadata": {
    "tags": []
   },
   "outputs": [],
   "source": [
    "prediction = tests.infer(tf_multi_tab)"
   ]
  },
  {
   "cell_type": "code",
   "execution_count": 22,
   "id": "50cff6a0-0cbf-4daf-98d4-2b35df348cd8",
   "metadata": {
    "tags": []
   },
   "outputs": [
    {
     "data": {
      "text/plain": [
       "{'infer_0': {'accuracy': 0.8,\n",
       "  'f1': 0.785,\n",
       "  'loss': 0.396,\n",
       "  'precision': 0.849,\n",
       "  'recall': 0.8,\n",
       "  'roc_auc': 0.984}}"
      ]
     },
     "execution_count": 22,
     "metadata": {},
     "output_type": "execute_result"
    }
   ],
   "source": [
    "prediction.metrics"
   ]
  },
  {
   "cell_type": "code",
   "execution_count": 23,
   "id": "d243812f-a45d-4ba7-9b61-fec35ed67f52",
   "metadata": {
    "tags": []
   },
   "outputs": [
    {
     "data": {
      "text/plain": [
       "{'infer_0': array(['setosa', 'setosa', 'setosa', 'setosa', 'setosa', 'setosa',\n",
       "        'setosa', 'setosa', 'setosa', 'setosa', 'setosa', 'setosa',\n",
       "        'setosa', 'setosa', 'setosa', 'setosa', 'setosa', 'setosa',\n",
       "        'setosa', 'setosa', 'setosa', 'setosa', 'setosa', 'setosa',\n",
       "        'setosa', 'setosa', 'setosa', 'setosa', 'setosa', 'setosa',\n",
       "        'setosa', 'setosa', 'setosa', 'setosa', 'setosa', 'setosa',\n",
       "        'setosa', 'setosa', 'setosa', 'setosa', 'setosa', 'setosa',\n",
       "        'setosa', 'setosa', 'setosa', 'setosa', 'setosa', 'setosa',\n",
       "        'setosa', 'setosa', 'virginica', 'virginica', 'virginica',\n",
       "        'versicolor', 'virginica', 'versicolor', 'virginica', 'versicolor',\n",
       "        'virginica', 'versicolor', 'versicolor', 'virginica', 'versicolor',\n",
       "        'virginica', 'versicolor', 'virginica', 'virginica', 'versicolor',\n",
       "        'versicolor', 'versicolor', 'virginica', 'virginica', 'virginica',\n",
       "        'virginica', 'virginica', 'virginica', 'virginica', 'virginica',\n",
       "        'virginica', 'versicolor', 'versicolor', 'versicolor',\n",
       "        'versicolor', 'virginica', 'virginica', 'virginica', 'virginica',\n",
       "        'versicolor', 'virginica', 'versicolor', 'versicolor', 'virginica',\n",
       "        'versicolor', 'versicolor', 'versicolor', 'virginica', 'virginica',\n",
       "        'virginica', 'versicolor', 'versicolor', 'virginica', 'virginica',\n",
       "        'virginica', 'virginica', 'virginica', 'virginica', 'versicolor',\n",
       "        'virginica', 'virginica', 'virginica', 'virginica', 'virginica',\n",
       "        'virginica', 'virginica', 'virginica', 'virginica', 'virginica',\n",
       "        'virginica', 'virginica', 'versicolor', 'virginica', 'virginica',\n",
       "        'virginica', 'virginica', 'virginica', 'virginica', 'virginica',\n",
       "        'virginica', 'virginica', 'virginica', 'virginica', 'virginica',\n",
       "        'virginica', 'virginica', 'virginica', 'virginica', 'virginica',\n",
       "        'virginica', 'virginica', 'virginica', 'virginica', 'virginica',\n",
       "        'virginica', 'virginica', 'virginica', 'virginica', 'virginica',\n",
       "        'virginica', 'virginica', 'virginica'], dtype=object)}"
      ]
     },
     "execution_count": 23,
     "metadata": {},
     "output_type": "execute_result"
    }
   ],
   "source": [
    "prediction.predictions"
   ]
  },
  {
   "cell_type": "code",
   "execution_count": 24,
   "id": "282d311d-e50a-47fa-bdcb-46e8d271d7bf",
   "metadata": {
    "tags": []
   },
   "outputs": [],
   "source": [
    "prediction = tests.infer(tf_multi_tab, include_label=False)"
   ]
  },
  {
   "cell_type": "code",
   "execution_count": 25,
   "id": "28f238f7-5312-44de-9b53-bcb4069e49f7",
   "metadata": {
    "tags": []
   },
   "outputs": [
    {
     "data": {
      "text/plain": [
       "{'infer_1': array(['setosa', 'setosa', 'setosa', 'setosa', 'setosa', 'setosa',\n",
       "        'setosa', 'setosa', 'setosa', 'setosa', 'setosa', 'setosa',\n",
       "        'setosa', 'setosa', 'setosa', 'setosa', 'setosa', 'setosa',\n",
       "        'setosa', 'setosa', 'setosa', 'setosa', 'setosa', 'setosa',\n",
       "        'setosa', 'setosa', 'setosa', 'setosa', 'setosa', 'setosa',\n",
       "        'setosa', 'setosa', 'setosa', 'setosa', 'setosa', 'setosa',\n",
       "        'setosa', 'setosa', 'setosa', 'setosa', 'setosa', 'setosa',\n",
       "        'setosa', 'setosa', 'setosa', 'setosa', 'setosa', 'setosa',\n",
       "        'setosa', 'setosa', 'virginica', 'virginica', 'virginica',\n",
       "        'versicolor', 'virginica', 'versicolor', 'virginica', 'versicolor',\n",
       "        'virginica', 'versicolor', 'versicolor', 'virginica', 'versicolor',\n",
       "        'virginica', 'versicolor', 'virginica', 'virginica', 'versicolor',\n",
       "        'versicolor', 'versicolor', 'virginica', 'virginica', 'virginica',\n",
       "        'virginica', 'virginica', 'virginica', 'virginica', 'virginica',\n",
       "        'virginica', 'versicolor', 'versicolor', 'versicolor',\n",
       "        'versicolor', 'virginica', 'virginica', 'virginica', 'virginica',\n",
       "        'versicolor', 'virginica', 'versicolor', 'versicolor', 'virginica',\n",
       "        'versicolor', 'versicolor', 'versicolor', 'virginica', 'virginica',\n",
       "        'virginica', 'versicolor', 'versicolor', 'virginica', 'virginica',\n",
       "        'virginica', 'virginica', 'virginica', 'virginica', 'versicolor',\n",
       "        'virginica', 'virginica', 'virginica', 'virginica', 'virginica',\n",
       "        'virginica', 'virginica', 'virginica', 'virginica', 'virginica',\n",
       "        'virginica', 'virginica', 'versicolor', 'virginica', 'virginica',\n",
       "        'virginica', 'virginica', 'virginica', 'virginica', 'virginica',\n",
       "        'virginica', 'virginica', 'virginica', 'virginica', 'virginica',\n",
       "        'virginica', 'virginica', 'virginica', 'virginica', 'virginica',\n",
       "        'virginica', 'virginica', 'virginica', 'virginica', 'virginica',\n",
       "        'virginica', 'virginica', 'virginica', 'virginica', 'virginica',\n",
       "        'virginica', 'virginica', 'virginica'], dtype=object)}"
      ]
     },
     "execution_count": 25,
     "metadata": {},
     "output_type": "execute_result"
    }
   ],
   "source": [
    "prediction.predictions"
   ]
  },
  {
   "cell_type": "markdown",
   "id": "7e06f112-bdf3-4494-b891-bc73276223f2",
   "metadata": {
    "tags": []
   },
   "source": [
    "---"
   ]
  },
  {
   "cell_type": "code",
   "execution_count": 26,
   "id": "a6e5278b-b122-45dd-86d9-1aac7a78eb2e",
   "metadata": {
    "tags": []
   },
   "outputs": [
    {
     "name": "stdout",
     "output_type": "stream",
     "text": [
      "\n",
      "└── 👟 Success - Fit StandardScaler(copy=False) on the following columns:\n",
      "['petal_width']\n",
      "\n",
      "\n",
      "└── ⬇️ Info - The following columns have not yet been encoded:\n",
      "['sepal_width', 'sepal_length', 'petal_length']\n",
      "\n",
      "\n",
      "└── 👟 Success - Fit RobustScaler(copy=False) on the following columns:\n",
      "['sepal_length', 'sepal_width', 'petal_length']\n",
      "\n",
      "\n",
      "└── ✅ Success - All columns now have encoders associated with them.\n",
      "\n",
      "\n",
      "└── 🔂 Success - created Queue consisting of 3 runs.\n",
      "\n"
     ]
    }
   ],
   "source": [
    "tf_multi_tab_fold = tests.tf_multi_tab.make_queue(fold_count=3)"
   ]
  },
  {
   "cell_type": "code",
   "execution_count": 27,
   "id": "d143cf4b-5f4e-4303-8323-6b1837f78825",
   "metadata": {
    "tags": []
   },
   "outputs": [
    {
     "name": "stderr",
     "output_type": "stream",
     "text": [
      "└── 📦 Caching - Fold #1:: 100%|██████████████████████| 4/4 [00:00<00:00, 429.50it/s]\n",
      "└── 📦 Caching - Fold #2:: 100%|██████████████████████| 4/4 [00:00<00:00, 377.71it/s]\n",
      "└── 📦 Caching - Fold #3:: 100%|██████████████████████| 4/4 [00:00<00:00, 307.51it/s]\n",
      "└── 🔮 Queue 207 // Fold #1:: 100%|████████████████████| 1/1 [00:04<00:00,  4.36s/it]\n",
      "└── 🔮 Queue 207 // Fold #2:: 100%|████████████████████| 1/1 [00:04<00:00,  4.34s/it]\n",
      "└── 🔮 Queue 207 // Fold #3:: 100%|████████████████████| 1/1 [00:04<00:00,  4.61s/it]\n"
     ]
    }
   ],
   "source": [
    "tf_multi_tab_fold.run_jobs()"
   ]
  },
  {
   "cell_type": "code",
   "execution_count": 28,
   "id": "8f38e55d-f949-401e-a52a-555500e6cd45",
   "metadata": {
    "tags": []
   },
   "outputs": [],
   "source": [
    "prediction = tests.infer(tf_multi_tab_fold)"
   ]
  },
  {
   "cell_type": "code",
   "execution_count": 29,
   "id": "c4b30629-d4ff-4a10-a3fa-a5c74c89b7e6",
   "metadata": {
    "tags": []
   },
   "outputs": [
    {
     "data": {
      "text/plain": [
       "{'infer_0': {'accuracy': 0.96,\n",
       "  'f1': 0.96,\n",
       "  'loss': 0.091,\n",
       "  'precision': 0.96,\n",
       "  'recall': 0.96,\n",
       "  'roc_auc': 0.998}}"
      ]
     },
     "execution_count": 29,
     "metadata": {},
     "output_type": "execute_result"
    }
   ],
   "source": [
    "prediction.metrics"
   ]
  },
  {
   "cell_type": "code",
   "execution_count": 30,
   "id": "e3584530-fd51-413e-bfc3-9e1cbdf79ecf",
   "metadata": {
    "tags": []
   },
   "outputs": [
    {
     "data": {
      "text/plain": [
       "{'infer_0': array([0, 0, 0, ..., 2, 2, 2])}"
      ]
     },
     "execution_count": 30,
     "metadata": {},
     "output_type": "execute_result"
    }
   ],
   "source": [
    "prediction.predictions"
   ]
  },
  {
   "cell_type": "code",
   "execution_count": 31,
   "id": "e4d92ea2-abc1-4bcb-8d77-88321c51950e",
   "metadata": {
    "tags": []
   },
   "outputs": [],
   "source": [
    "prediction = tests.infer(tf_multi_tab_fold, include_label=False)"
   ]
  },
  {
   "cell_type": "code",
   "execution_count": 32,
   "id": "bb65181d-3d29-4549-860b-5d6ee6531461",
   "metadata": {
    "tags": []
   },
   "outputs": [
    {
     "data": {
      "text/plain": [
       "{'infer_1': array([0, 0, 0, ..., 2, 2, 2])}"
      ]
     },
     "execution_count": 32,
     "metadata": {},
     "output_type": "execute_result"
    }
   ],
   "source": [
    "prediction.predictions"
   ]
  },
  {
   "cell_type": "markdown",
   "id": "48901cf5-875a-4933-b428-68a69b692ef5",
   "metadata": {
    "tags": []
   },
   "source": [
    "---"
   ]
  },
  {
   "cell_type": "code",
   "execution_count": 33,
   "id": "bb3b1a92-70d6-401d-b0d8-2f2b4175c185",
   "metadata": {
    "tags": []
   },
   "outputs": [
    {
     "name": "stdout",
     "output_type": "stream",
     "text": [
      "\n",
      "└── 👟 Success - Fit MinMaxScaler(copy=False) on the following columns:\n",
      "['crim', 'zn', 'indus', 'nox', 'rm', 'age', 'dis', 'ptratio', 'lstat']\n",
      "\n",
      "\n",
      "└── ⬇️ Info - The following columns have not yet been encoded:\n",
      "['rad', 'chas', 'tax']\n",
      "\n",
      "\n",
      "└── 👟 Success - Fit OrdinalEncoder() on the following columns:\n",
      "['rad', 'chas', 'tax']\n",
      "\n",
      "\n",
      "└── ✅ Success - All columns now have encoders associated with them.\n",
      "\n",
      "\n",
      "└── 🔂 Success - created Queue consisting of 1 runs.\n",
      "\n"
     ]
    }
   ],
   "source": [
    "tf_reg_tab = tests.tf_reg_tab.make_queue()"
   ]
  },
  {
   "cell_type": "code",
   "execution_count": 34,
   "id": "d665067d-811d-4e63-aea4-3be2fb653bce",
   "metadata": {
    "tags": []
   },
   "outputs": [
    {
     "name": "stderr",
     "output_type": "stream",
     "text": [
      "└── 📦 Caching Splits:: 100%|█████████████████████████| 3/3 [00:00<00:00, 395.51it/s]\n",
      "└── 🔮 Queue #208:: 100%|██████████████████████████████| 1/1 [00:03<00:00,  3.56s/it]\n"
     ]
    }
   ],
   "source": [
    "tf_reg_tab.run_jobs()"
   ]
  },
  {
   "cell_type": "code",
   "execution_count": 35,
   "id": "9156d0b9-b0df-4102-8d7c-6b3bbf55e959",
   "metadata": {
    "tags": []
   },
   "outputs": [],
   "source": [
    "prediction = tests.infer(tf_reg_tab)"
   ]
  },
  {
   "cell_type": "code",
   "execution_count": 36,
   "id": "46fb8d2c-0573-4788-870c-dfc7c9c234d7",
   "metadata": {
    "tags": []
   },
   "outputs": [
    {
     "data": {
      "text/plain": [
       "{'infer_0': {'explained_variance': -0.056,\n",
       "  'loss': 0.791,\n",
       "  'mse': 1.1,\n",
       "  'r2': -0.057}}"
      ]
     },
     "execution_count": 36,
     "metadata": {},
     "output_type": "execute_result"
    }
   ],
   "source": [
    "prediction.metrics"
   ]
  },
  {
   "cell_type": "code",
   "execution_count": 37,
   "id": "ff0e3d6e-ad79-40a6-8f3b-22ffaa0313c5",
   "metadata": {
    "tags": []
   },
   "outputs": [
    {
     "data": {
      "text/plain": [
       "{'infer_0': array([20.529179, 21.311064, 20.908974, 22.967237, 23.392633, 23.553795,\n",
       "        20.417404, 20.38981 , 20.404549, 20.392118, 20.379787, 20.397917,\n",
       "        20.441496, 20.395624, 20.380198, 20.40552 , 20.420235, 20.389189,\n",
       "        20.440638, 20.412115, 20.399256, 20.38829 , 20.383244, 20.38611 ,\n",
       "        20.381409, 20.396025, 20.382889, 20.380827, 20.36252 , 20.364786,\n",
       "        20.391796, 20.375916, 20.397388, 20.396812, 20.38489 , 19.90098 ,\n",
       "        19.90666 , 19.908882, 19.913069, 19.824612, 19.828856, 20.709711,\n",
       "        20.751448, 20.807018, 21.395628, 21.174282, 21.409636, 22.82402 ,\n",
       "        23.723307, 22.172346, 20.166952, 20.261934, 20.033766, 20.045227,\n",
       "        21.48518 , 20.016308, 20.648462, 19.782393, 19.850842, 19.854225,\n",
       "        19.847923, 19.839275, 19.838835, 19.83716 , 23.951952, 20.799522,\n",
       "        20.807306, 20.79382 , 20.793444, 20.786102, 20.39828 , 20.405598,\n",
       "        20.407787, 20.403975, 21.065636, 21.035982, 21.02353 , 21.046118,\n",
       "        21.025286, 21.054316, 20.02481 , 20.005472, 20.038578, 20.03344 ,\n",
       "        19.979208, 19.97671 , 19.964905, 19.944336, 19.939152, 19.950855,\n",
       "        19.973715, 19.96924 , 19.83131 , 19.846394, 19.827768, 20.041231,\n",
       "        20.04834 , 19.987434, 20.018888, 20.015205, 20.910633, 20.913185,\n",
       "        20.918047, 20.925549, 20.926754, 20.937374, 20.940111, 20.93584 ,\n",
       "        20.912422, 20.923141, 20.944784, 21.19344 , 21.216825, 21.207197,\n",
       "        21.211979, 21.21788 , 21.215935, 21.213236, 21.229395, 21.234585,\n",
       "        30.767109, 31.210817, 31.760115, 32.48272 , 31.79005 , 31.363283,\n",
       "        32.52512 , 21.382622, 21.35705 , 21.383224, 21.351088, 21.354378,\n",
       "        21.351257, 21.368715, 21.371536, 21.356699, 21.37398 , 21.35591 ,\n",
       "        21.378725, 21.369335, 21.373531, 21.411055, 21.167936, 21.186346,\n",
       "        21.2059  , 21.16483 , 21.175869, 21.2047  , 21.196648, 21.181868,\n",
       "        21.159973, 21.18028 , 21.178791, 21.172638, 21.137894, 21.147865,\n",
       "        21.187819, 21.141695, 21.169214, 21.14214 , 21.146797, 21.12741 ,\n",
       "        21.091331, 21.074951, 21.17391 , 21.1675  , 21.110178, 21.181389,\n",
       "        21.161188, 21.15711 , 21.171288, 21.170057, 20.23899 , 20.214516,\n",
       "        20.24047 , 20.236046, 20.238028, 20.214508, 20.203335, 24.824812,\n",
       "        25.843374, 25.109419, 25.746065, 25.8107  , 26.164988, 25.643421,\n",
       "        24.833084, 21.091461, 21.094883, 21.069233, 21.060934, 21.061096,\n",
       "        21.050163, 20.039099, 20.039068, 19.782393, 20.786215, 20.791103,\n",
       "        20.78441 , 21.240053, 21.236013, 21.048326, 21.01807 , 20.165491,\n",
       "        20.136547, 19.956001, 19.919945, 19.92696 , 19.907349, 19.911211,\n",
       "        19.898056, 19.919107, 19.92596 , 19.935534, 19.989174, 19.934984,\n",
       "        19.85262 , 19.834019, 19.8375  , 19.826355, 20.117815, 20.13635 ,\n",
       "        20.120335, 20.140354, 20.107414, 20.095194, 20.104818, 20.128805,\n",
       "        20.14414 , 20.167608, 20.157991, 20.11933 , 20.097298, 20.10308 ,\n",
       "        20.12418 , 20.15832 , 20.116787, 20.117504, 20.180767, 20.161991,\n",
       "        20.14461 , 20.161694, 20.151894, 20.178461, 20.35106 , 20.356369,\n",
       "        20.360579, 20.328373, 20.34473 , 20.356024, 20.37157 , 20.375158,\n",
       "        20.340092, 20.30038 , 20.786686, 20.803102, 20.036386, 19.784412,\n",
       "        19.788218, 19.790876, 19.79066 , 19.787786, 19.784103, 19.78808 ,\n",
       "        19.790022, 19.805305, 19.79083 , 19.787462, 19.793411, 22.68256 ,\n",
       "        22.947191, 21.929712, 23.043852, 22.264227, 19.787895, 19.796125,\n",
       "        19.809261, 19.793242, 19.788658, 20.56808 , 21.316887, 20.731703,\n",
       "        20.456997, 21.016363, 20.370846, 20.569801, 20.617458, 20.095194,\n",
       "        20.082962, 20.09069 , 19.868906, 19.869215, 19.868767, 20.237768,\n",
       "        20.226265, 20.2063  , 20.197485, 20.212872, 20.914509, 20.899927,\n",
       "        20.880642, 20.378922, 20.395931, 20.380795, 20.228237, 20.489817,\n",
       "        20.669724, 20.635614, 20.333143, 20.361027, 20.426762, 20.377756,\n",
       "        20.354591, 20.345438, 20.329144, 20.356928, 20.34793 , 20.358368,\n",
       "        20.349102, 20.356739, 20.0551  , 20.055218, 20.06584 , 20.060976,\n",
       "        20.060663, 20.066704, 20.061441, 20.060368, 21.354605, 21.345379,\n",
       "        21.331972, 20.615927, 20.608377, 21.559378, 21.642437, 21.56352 ,\n",
       "        21.877028, 22.286385, 21.577477, 21.837414, 22.118193, 20.288727,\n",
       "        21.502972, 20.90586 , 20.908236, 20.94382 , 20.945362, 20.856853,\n",
       "        19.992302, 20.868898, 20.876156, 21.168924, 21.202667, 22.79758 ,\n",
       "        20.60534 , 20.59815 , 21.032759, 21.020937, 21.031696, 21.056807,\n",
       "        21.04234 , 21.049116, 21.074467, 21.049536, 20.962072, 21.144743,\n",
       "        21.098581, 21.141823, 21.101004, 21.030342, 21.022314, 21.070095,\n",
       "        21.064594, 21.116615, 21.147259, 21.042742, 21.065111, 21.0521  ,\n",
       "        21.077347, 21.074694, 21.109919, 21.061829, 21.0854  , 21.085909,\n",
       "        21.139381, 21.10458 , 21.127031, 21.122278, 21.111244, 21.08699 ,\n",
       "        21.073627, 21.068708, 21.102457, 21.064877, 21.076904, 21.053726,\n",
       "        21.056742, 21.077114, 21.11378 , 21.09431 , 21.084778, 21.064062,\n",
       "        21.057734, 21.103329, 21.121035, 21.128178, 21.144865, 21.088459,\n",
       "        21.090752, 21.054903, 21.114653, 21.060095, 21.129196, 21.116156,\n",
       "        21.147484, 21.063612, 21.052889, 21.113562, 21.118797, 21.059435,\n",
       "        21.05284 , 21.065256, 21.089008, 21.074402, 21.101198, 21.079163,\n",
       "        21.103313, 21.095577, 21.073975, 21.058298, 21.066885, 21.047794,\n",
       "        21.066902, 21.050083, 21.059725, 21.047182, 21.056   , 21.065096,\n",
       "        21.08206 , 21.081253, 21.085167, 21.051018, 21.05184 , 21.047955,\n",
       "        21.074234, 21.054008, 21.050348, 21.053598, 21.05471 , 21.047892,\n",
       "        21.038446, 21.036247, 21.050905, 21.013416, 21.038132, 21.04648 ,\n",
       "        21.0605  , 21.066128, 21.052082, 21.058144, 21.036055, 21.046175,\n",
       "        21.0513  , 21.038109, 21.066788, 21.087297, 21.061031, 21.062853,\n",
       "        21.083569, 21.098032, 21.056662, 21.050648, 21.05521 , 21.046997,\n",
       "        21.083391, 21.06303 , 21.05013 , 21.096176, 21.063047, 21.072403,\n",
       "        21.063797, 21.04183 , 21.02961 , 21.082907, 21.08163 , 21.057894,\n",
       "        21.05437 , 21.082487, 21.530357, 21.53017 , 21.540815, 21.508947,\n",
       "        21.514761, 20.943628, 20.945026, 20.95717 , 20.93743 , 20.923399,\n",
       "        20.926512, 20.935463, 20.915808, 20.05251 , 20.064074, 20.031122,\n",
       "        20.034792, 20.060883], dtype=float32)}"
      ]
     },
     "execution_count": 37,
     "metadata": {},
     "output_type": "execute_result"
    }
   ],
   "source": [
    "prediction.predictions"
   ]
  },
  {
   "cell_type": "code",
   "execution_count": 38,
   "id": "5d2f6b2b-e385-4abd-adf4-b8b0c186af81",
   "metadata": {
    "tags": []
   },
   "outputs": [],
   "source": [
    "prediction = tests.infer(tf_reg_tab, include_label=False)"
   ]
  },
  {
   "cell_type": "code",
   "execution_count": 39,
   "id": "3845741b-2851-4f05-90a5-1442fa070787",
   "metadata": {
    "tags": []
   },
   "outputs": [
    {
     "data": {
      "text/plain": [
       "{'infer_1': array([20.529179, 21.311064, 20.908974, 22.967237, 23.392633, 23.553795,\n",
       "        20.417404, 20.38981 , 20.404549, 20.392118, 20.379787, 20.397917,\n",
       "        20.441496, 20.395624, 20.380198, 20.40552 , 20.420235, 20.389189,\n",
       "        20.440638, 20.412115, 20.399256, 20.38829 , 20.383244, 20.38611 ,\n",
       "        20.381409, 20.396025, 20.382889, 20.380827, 20.36252 , 20.364786,\n",
       "        20.391796, 20.375916, 20.397388, 20.396812, 20.38489 , 19.90098 ,\n",
       "        19.90666 , 19.908882, 19.913069, 19.824612, 19.828856, 20.709711,\n",
       "        20.751448, 20.807018, 21.395628, 21.174282, 21.409636, 22.82402 ,\n",
       "        23.723307, 22.172346, 20.166952, 20.261934, 20.033766, 20.045227,\n",
       "        21.48518 , 20.016308, 20.648462, 19.782393, 19.850842, 19.854225,\n",
       "        19.847923, 19.839275, 19.838835, 19.83716 , 23.951952, 20.799522,\n",
       "        20.807306, 20.79382 , 20.793444, 20.786102, 20.39828 , 20.405598,\n",
       "        20.407787, 20.403975, 21.065636, 21.035982, 21.02353 , 21.046118,\n",
       "        21.025286, 21.054316, 20.02481 , 20.005472, 20.038578, 20.03344 ,\n",
       "        19.979208, 19.97671 , 19.964905, 19.944336, 19.939152, 19.950855,\n",
       "        19.973715, 19.96924 , 19.83131 , 19.846394, 19.827768, 20.041231,\n",
       "        20.04834 , 19.987434, 20.018888, 20.015205, 20.910633, 20.913185,\n",
       "        20.918047, 20.925549, 20.926754, 20.937374, 20.940111, 20.93584 ,\n",
       "        20.912422, 20.923141, 20.944784, 21.19344 , 21.216825, 21.207197,\n",
       "        21.211979, 21.21788 , 21.215935, 21.213236, 21.229395, 21.234585,\n",
       "        30.767109, 31.210817, 31.760115, 32.48272 , 31.79005 , 31.363283,\n",
       "        32.52512 , 21.382622, 21.35705 , 21.383224, 21.351088, 21.354378,\n",
       "        21.351257, 21.368715, 21.371536, 21.356699, 21.37398 , 21.35591 ,\n",
       "        21.378725, 21.369335, 21.373531, 21.411055, 21.167936, 21.186346,\n",
       "        21.2059  , 21.16483 , 21.175869, 21.2047  , 21.196648, 21.181868,\n",
       "        21.159973, 21.18028 , 21.178791, 21.172638, 21.137894, 21.147865,\n",
       "        21.187819, 21.141695, 21.169214, 21.14214 , 21.146797, 21.12741 ,\n",
       "        21.091331, 21.074951, 21.17391 , 21.1675  , 21.110178, 21.181389,\n",
       "        21.161188, 21.15711 , 21.171288, 21.170057, 20.23899 , 20.214516,\n",
       "        20.24047 , 20.236046, 20.238028, 20.214508, 20.203335, 24.824812,\n",
       "        25.843374, 25.109419, 25.746065, 25.8107  , 26.164988, 25.643421,\n",
       "        24.833084, 21.091461, 21.094883, 21.069233, 21.060934, 21.061096,\n",
       "        21.050163, 20.039099, 20.039068, 19.782393, 20.786215, 20.791103,\n",
       "        20.78441 , 21.240053, 21.236013, 21.048326, 21.01807 , 20.165491,\n",
       "        20.136547, 19.956001, 19.919945, 19.92696 , 19.907349, 19.911211,\n",
       "        19.898056, 19.919107, 19.92596 , 19.935534, 19.989174, 19.934984,\n",
       "        19.85262 , 19.834019, 19.8375  , 19.826355, 20.117815, 20.13635 ,\n",
       "        20.120335, 20.140354, 20.107414, 20.095194, 20.104818, 20.128805,\n",
       "        20.14414 , 20.167608, 20.157991, 20.11933 , 20.097298, 20.10308 ,\n",
       "        20.12418 , 20.15832 , 20.116787, 20.117504, 20.180767, 20.161991,\n",
       "        20.14461 , 20.161694, 20.151894, 20.178461, 20.35106 , 20.356369,\n",
       "        20.360579, 20.328373, 20.34473 , 20.356024, 20.37157 , 20.375158,\n",
       "        20.340092, 20.30038 , 20.786686, 20.803102, 20.036386, 19.784412,\n",
       "        19.788218, 19.790876, 19.79066 , 19.787786, 19.784103, 19.78808 ,\n",
       "        19.790022, 19.805305, 19.79083 , 19.787462, 19.793411, 22.68256 ,\n",
       "        22.947191, 21.929712, 23.043852, 22.264227, 19.787895, 19.796125,\n",
       "        19.809261, 19.793242, 19.788658, 20.56808 , 21.316887, 20.731703,\n",
       "        20.456997, 21.016363, 20.370846, 20.569801, 20.617458, 20.095194,\n",
       "        20.082962, 20.09069 , 19.868906, 19.869215, 19.868767, 20.237768,\n",
       "        20.226265, 20.2063  , 20.197485, 20.212872, 20.914509, 20.899927,\n",
       "        20.880642, 20.378922, 20.395931, 20.380795, 20.228237, 20.489817,\n",
       "        20.669724, 20.635614, 20.333143, 20.361027, 20.426762, 20.377756,\n",
       "        20.354591, 20.345438, 20.329144, 20.356928, 20.34793 , 20.358368,\n",
       "        20.349102, 20.356739, 20.0551  , 20.055218, 20.06584 , 20.060976,\n",
       "        20.060663, 20.066704, 20.061441, 20.060368, 21.354605, 21.345379,\n",
       "        21.331972, 20.615927, 20.608377, 21.559378, 21.642437, 21.56352 ,\n",
       "        21.877028, 22.286385, 21.577477, 21.837414, 22.118193, 20.288727,\n",
       "        21.502972, 20.90586 , 20.908236, 20.94382 , 20.945362, 20.856853,\n",
       "        19.992302, 20.868898, 20.876156, 21.168924, 21.202667, 22.79758 ,\n",
       "        20.60534 , 20.59815 , 21.032759, 21.020937, 21.031696, 21.056807,\n",
       "        21.04234 , 21.049116, 21.074467, 21.049536, 20.962072, 21.144743,\n",
       "        21.098581, 21.141823, 21.101004, 21.030342, 21.022314, 21.070095,\n",
       "        21.064594, 21.116615, 21.147259, 21.042742, 21.065111, 21.0521  ,\n",
       "        21.077347, 21.074694, 21.109919, 21.061829, 21.0854  , 21.085909,\n",
       "        21.139381, 21.10458 , 21.127031, 21.122278, 21.111244, 21.08699 ,\n",
       "        21.073627, 21.068708, 21.102457, 21.064877, 21.076904, 21.053726,\n",
       "        21.056742, 21.077114, 21.11378 , 21.09431 , 21.084778, 21.064062,\n",
       "        21.057734, 21.103329, 21.121035, 21.128178, 21.144865, 21.088459,\n",
       "        21.090752, 21.054903, 21.114653, 21.060095, 21.129196, 21.116156,\n",
       "        21.147484, 21.063612, 21.052889, 21.113562, 21.118797, 21.059435,\n",
       "        21.05284 , 21.065256, 21.089008, 21.074402, 21.101198, 21.079163,\n",
       "        21.103313, 21.095577, 21.073975, 21.058298, 21.066885, 21.047794,\n",
       "        21.066902, 21.050083, 21.059725, 21.047182, 21.056   , 21.065096,\n",
       "        21.08206 , 21.081253, 21.085167, 21.051018, 21.05184 , 21.047955,\n",
       "        21.074234, 21.054008, 21.050348, 21.053598, 21.05471 , 21.047892,\n",
       "        21.038446, 21.036247, 21.050905, 21.013416, 21.038132, 21.04648 ,\n",
       "        21.0605  , 21.066128, 21.052082, 21.058144, 21.036055, 21.046175,\n",
       "        21.0513  , 21.038109, 21.066788, 21.087297, 21.061031, 21.062853,\n",
       "        21.083569, 21.098032, 21.056662, 21.050648, 21.05521 , 21.046997,\n",
       "        21.083391, 21.06303 , 21.05013 , 21.096176, 21.063047, 21.072403,\n",
       "        21.063797, 21.04183 , 21.02961 , 21.082907, 21.08163 , 21.057894,\n",
       "        21.05437 , 21.082487, 21.530357, 21.53017 , 21.540815, 21.508947,\n",
       "        21.514761, 20.943628, 20.945026, 20.95717 , 20.93743 , 20.923399,\n",
       "        20.926512, 20.935463, 20.915808, 20.05251 , 20.064074, 20.031122,\n",
       "        20.034792, 20.060883], dtype=float32)}"
      ]
     },
     "execution_count": 39,
     "metadata": {},
     "output_type": "execute_result"
    }
   ],
   "source": [
    "prediction.predictions"
   ]
  },
  {
   "cell_type": "markdown",
   "id": "7ac15966-94c5-491a-ab46-518dbf0b81a9",
   "metadata": {},
   "source": [
    "---"
   ]
  },
  {
   "cell_type": "code",
   "execution_count": 40,
   "id": "0b19cd9c-8f58-42eb-b8f2-7f968f1e7626",
   "metadata": {
    "tags": []
   },
   "outputs": [
    {
     "name": "stdout",
     "output_type": "stream",
     "text": [
      "\n",
      "└── 👟 Success - Fit MinMaxScaler(copy=False) on the following columns:\n",
      "['crim', 'zn', 'indus', 'nox', 'rm', 'age', 'dis', 'ptratio', 'lstat']\n",
      "\n",
      "\n",
      "└── ⬇️ Info - The following columns have not yet been encoded:\n",
      "['rad', 'chas', 'tax']\n",
      "\n",
      "\n",
      "└── 👟 Success - Fit OrdinalEncoder() on the following columns:\n",
      "['rad', 'chas', 'tax']\n",
      "\n",
      "\n",
      "└── ✅ Success - All columns now have encoders associated with them.\n",
      "\n",
      "Warning - The number of samples <343> in your training Split\n",
      "is not evenly divisible by the `fold_count` <3> you specified.\n",
      "This can result in misleading performance metrics for the last Fold.\n",
      "\n",
      "\n",
      "└── 🔂 Success - created Queue consisting of 3 runs.\n",
      "\n"
     ]
    }
   ],
   "source": [
    "tf_reg_tab_fold = tests.tf_reg_tab.make_queue(fold_count=3)"
   ]
  },
  {
   "cell_type": "code",
   "execution_count": 41,
   "id": "71d80f89-9c9a-4d24-9b1e-64db57049b5f",
   "metadata": {
    "tags": []
   },
   "outputs": [
    {
     "name": "stderr",
     "output_type": "stream",
     "text": [
      "└── 📦 Caching - Fold #1:: 100%|██████████████████████| 4/4 [00:00<00:00, 400.25it/s]\n",
      "└── 📦 Caching - Fold #2:: 100%|██████████████████████| 4/4 [00:00<00:00, 474.78it/s]\n",
      "└── 📦 Caching - Fold #3:: 100%|██████████████████████| 4/4 [00:00<00:00, 425.17it/s]\n",
      "└── 🔮 Queue 209 // Fold #1:: 100%|████████████████████| 1/1 [00:03<00:00,  3.22s/it]\n",
      "└── 🔮 Queue 209 // Fold #2:: 100%|████████████████████| 1/1 [00:03<00:00,  3.26s/it]\n",
      "└── 🔮 Queue 209 // Fold #3:: 100%|████████████████████| 1/1 [00:03<00:00,  3.24s/it]\n"
     ]
    }
   ],
   "source": [
    "tf_reg_tab_fold.run_jobs()"
   ]
  },
  {
   "cell_type": "code",
   "execution_count": 42,
   "id": "38f9f10d-944f-4c20-afbc-b7801e651e2e",
   "metadata": {
    "tags": []
   },
   "outputs": [],
   "source": [
    "prediction = tests.infer(tf_reg_tab_fold)"
   ]
  },
  {
   "cell_type": "code",
   "execution_count": 43,
   "id": "23b6e6e2-8142-43a8-91e8-ec1a343b7c48",
   "metadata": {
    "tags": []
   },
   "outputs": [
    {
     "data": {
      "text/plain": [
       "{'infer_0': {'explained_variance': -0.001,\n",
       "  'loss': 0.736,\n",
       "  'mse': 0.995,\n",
       "  'r2': -0.001}}"
      ]
     },
     "execution_count": 43,
     "metadata": {},
     "output_type": "execute_result"
    }
   ],
   "source": [
    "prediction.metrics"
   ]
  },
  {
   "cell_type": "code",
   "execution_count": 44,
   "id": "58340b7c-de53-4c56-917f-43b98413eab8",
   "metadata": {
    "tags": []
   },
   "outputs": [
    {
     "data": {
      "text/plain": [
       "{'infer_0': array([21.172789, 21.171267, 21.171267, 21.164907, 21.162788, 21.165678,\n",
       "        21.174215, 21.174177, 21.174196, 21.174196, 21.174177, 21.174196,\n",
       "        21.174253, 21.173927, 21.173887, 21.173927, 21.173946, 21.173906,\n",
       "        21.173965, 21.173927, 21.173906, 21.173887, 21.173887, 21.173887,\n",
       "        21.173887, 21.173906, 21.173887, 21.173887, 21.173868, 21.173868,\n",
       "        21.173906, 21.173887, 21.173906, 21.173906, 21.173887, 21.17252 ,\n",
       "        21.172539, 21.172539, 21.172558, 21.171267, 21.171267, 21.171267,\n",
       "        21.171267, 21.171267, 21.171267, 21.171267, 21.171267, 21.171267,\n",
       "        21.171267, 21.171267, 21.171267, 21.171267, 21.171267, 21.171267,\n",
       "        21.176876, 21.169937, 21.173637, 21.171267, 21.173021, 21.17304 ,\n",
       "        21.173002, 21.172943, 21.172924, 21.172924, 21.143898, 21.174833,\n",
       "        21.174833, 21.17514 , 21.175121, 21.175121, 21.173887, 21.173887,\n",
       "        21.173906, 21.173887, 21.176472, 21.176413, 21.176394, 21.176432,\n",
       "        21.176413, 21.176432, 21.172539, 21.17252 , 21.172577, 21.172558,\n",
       "        21.171267, 21.171267, 21.171267, 21.171267, 21.171402, 21.171421,\n",
       "        21.17144 , 21.171421, 21.171844, 21.171864, 21.171825, 21.171711,\n",
       "        21.171711, 21.171633, 21.17169 , 21.17167 , 21.176046, 21.176046,\n",
       "        21.176046, 21.176046, 21.176046, 21.176065, 21.176065, 21.176065,\n",
       "        21.176046, 21.176046, 21.176085, 21.1773  , 21.177319, 21.1773  ,\n",
       "        21.177319, 21.177319, 21.177319, 21.177319, 21.177338, 21.177357,\n",
       "        21.175295, 21.175951, 21.176586, 21.177242, 21.176702, 21.1762  ,\n",
       "        21.17728 , 21.177164, 21.177126, 21.177164, 21.177126, 21.177126,\n",
       "        21.177126, 21.177164, 21.177164, 21.177145, 21.177164, 21.177126,\n",
       "        21.177164, 21.177145, 21.177164, 21.177183, 21.176586, 21.176643,\n",
       "        21.176664, 21.176624, 21.176643, 21.176664, 21.176664, 21.176643,\n",
       "        21.176624, 21.176643, 21.176624, 21.176643, 21.176586, 21.176586,\n",
       "        21.176664, 21.176664, 21.176683, 21.176605, 21.176624, 21.176643,\n",
       "        21.176567, 21.176548, 21.176702, 21.176683, 21.176624, 21.176702,\n",
       "        21.176664, 21.176664, 21.176702, 21.176683, 21.173561, 21.17354 ,\n",
       "        21.173561, 21.17358 , 21.17358 , 21.17354 , 21.173521, 21.130215,\n",
       "        21.121618, 21.134832, 21.123117, 21.126368, 21.135372, 21.133524,\n",
       "        21.126522, 21.176239, 21.176258, 21.17622 , 21.176239, 21.176239,\n",
       "        21.176239, 21.171267, 21.171267, 21.171267, 21.173906, 21.173906,\n",
       "        21.173906, 21.175892, 21.175892, 21.174717, 21.174698, 21.167528,\n",
       "        21.166662, 21.172308, 21.172249, 21.172249, 21.17221 , 21.172192,\n",
       "        21.172173, 21.172192, 21.17223 , 21.17227 , 21.172327, 21.17227 ,\n",
       "        21.172289, 21.17227 , 21.172249, 21.17223 , 21.174486, 21.174562,\n",
       "        21.174505, 21.1746  , 21.174543, 21.174505, 21.174543, 21.174582,\n",
       "        21.17462 , 21.17466 , 21.174639, 21.174582, 21.174524, 21.174543,\n",
       "        21.174524, 21.174639, 21.174505, 21.174582, 21.17385 , 21.173811,\n",
       "        21.173811, 21.173811, 21.173811, 21.173868, 21.175064, 21.175064,\n",
       "        21.175083, 21.175045, 21.175064, 21.175083, 21.175102, 21.175102,\n",
       "        21.175083, 21.175045, 21.173656, 21.173656, 21.171267, 21.171383,\n",
       "        21.171497, 21.171537, 21.171556, 21.171497, 21.171402, 21.171518,\n",
       "        21.171537, 21.17169 , 21.171576, 21.17146 , 21.171537, 21.171267,\n",
       "        21.171267, 21.171267, 21.171267, 21.17092 , 21.171267, 21.171267,\n",
       "        21.171267, 21.171267, 21.171267, 21.168762, 21.155027, 21.165794,\n",
       "        21.168877, 21.129427, 21.172153, 21.172905, 21.171267, 21.17354 ,\n",
       "        21.173521, 21.17354 , 21.171267, 21.171267, 21.171267, 21.173271,\n",
       "        21.173233, 21.173233, 21.173214, 21.173233, 21.17568 , 21.175661,\n",
       "        21.175623, 21.174929, 21.174948, 21.174929, 21.168877, 21.168993,\n",
       "        21.1651  , 21.168839, 21.173637, 21.173676, 21.173754, 21.173695,\n",
       "        21.173656, 21.173656, 21.173637, 21.173676, 21.173656, 21.173676,\n",
       "        21.173656, 21.173676, 21.173174, 21.173174, 21.173195, 21.173195,\n",
       "        21.173195, 21.173214, 21.173214, 21.173195, 21.176857, 21.176838,\n",
       "        21.176838, 21.173117, 21.173117, 21.171267, 21.171267, 21.171267,\n",
       "        21.171267, 21.171267, 21.171267, 21.171267, 21.171267, 21.172096,\n",
       "        21.176125, 21.175777, 21.175797, 21.175314, 21.175333, 21.175179,\n",
       "        21.17227 , 21.174196, 21.174196, 21.176394, 21.176432, 21.087969,\n",
       "        21.174543, 21.174524, 21.178167, 21.178186, 21.178186, 21.178244,\n",
       "        21.178244, 21.178244, 21.178263, 21.178205, 21.17813 , 21.17836 ,\n",
       "        21.178303, 21.178322, 21.178303, 21.178186, 21.178186, 21.178244,\n",
       "        21.178225, 21.178284, 21.178303, 21.178186, 21.178225, 21.178225,\n",
       "        21.178205, 21.178225, 21.17807 , 21.178225, 21.178263, 21.178263,\n",
       "        21.178284, 21.178263, 21.178263, 21.178263, 21.178284, 21.178263,\n",
       "        21.178263, 21.178263, 21.178284, 21.178244, 21.178244, 21.178244,\n",
       "        21.178244, 21.178263, 21.178205, 21.178284, 21.178225, 21.178225,\n",
       "        21.178244, 21.178244, 21.178205, 21.17813 , 21.178303, 21.178263,\n",
       "        21.178284, 21.178225, 21.178186, 21.178244, 21.178303, 21.178263,\n",
       "        21.178225, 21.178225, 21.178225, 21.178244, 21.17813 , 21.178244,\n",
       "        21.178225, 21.178244, 21.178284, 21.178284, 21.178322, 21.178244,\n",
       "        21.178322, 21.178205, 21.178263, 21.178244, 21.178284, 21.178244,\n",
       "        21.178284, 21.178244, 21.178225, 21.178205, 21.178205, 21.178225,\n",
       "        21.178244, 21.178244, 21.178225, 21.178225, 21.178244, 21.178225,\n",
       "        21.178244, 21.178225, 21.178244, 21.178225, 21.178244, 21.178244,\n",
       "        21.178225, 21.178225, 21.178244, 21.178186, 21.178225, 21.178244,\n",
       "        21.178263, 21.178263, 21.178244, 21.178244, 21.178244, 21.178244,\n",
       "        21.178244, 21.178244, 21.178284, 21.178322, 21.178284, 21.178284,\n",
       "        21.178284, 21.178322, 21.178284, 21.178284, 21.178284, 21.178263,\n",
       "        21.178284, 21.178263, 21.178263, 21.178284, 21.178244, 21.178244,\n",
       "        21.178303, 21.178284, 21.178263, 21.17836 , 21.17834 , 21.178322,\n",
       "        21.178284, 21.178322, 21.177628, 21.177628, 21.177647, 21.177608,\n",
       "        21.177628, 21.176432, 21.176432, 21.17645 , 21.176413, 21.176394,\n",
       "        21.176394, 21.176413, 21.176394, 21.17144 , 21.17144 , 21.171402,\n",
       "        21.171421, 21.17144 ], dtype=float32)}"
      ]
     },
     "execution_count": 44,
     "metadata": {},
     "output_type": "execute_result"
    }
   ],
   "source": [
    "prediction.predictions"
   ]
  },
  {
   "cell_type": "code",
   "execution_count": 45,
   "id": "ae11d039-4605-4ac4-925e-a9c87f436951",
   "metadata": {
    "tags": []
   },
   "outputs": [],
   "source": [
    "prediction = tests.infer(tf_reg_tab_fold, include_label=False)"
   ]
  },
  {
   "cell_type": "code",
   "execution_count": 46,
   "id": "cfb7b6a3-5bbd-4b74-bdde-cc0a3c9e80fb",
   "metadata": {
    "tags": []
   },
   "outputs": [
    {
     "data": {
      "text/plain": [
       "{'infer_1': array([21.172789, 21.171267, 21.171267, 21.164907, 21.162788, 21.165678,\n",
       "        21.174215, 21.174177, 21.174196, 21.174196, 21.174177, 21.174196,\n",
       "        21.174253, 21.173927, 21.173887, 21.173927, 21.173946, 21.173906,\n",
       "        21.173965, 21.173927, 21.173906, 21.173887, 21.173887, 21.173887,\n",
       "        21.173887, 21.173906, 21.173887, 21.173887, 21.173868, 21.173868,\n",
       "        21.173906, 21.173887, 21.173906, 21.173906, 21.173887, 21.17252 ,\n",
       "        21.172539, 21.172539, 21.172558, 21.171267, 21.171267, 21.171267,\n",
       "        21.171267, 21.171267, 21.171267, 21.171267, 21.171267, 21.171267,\n",
       "        21.171267, 21.171267, 21.171267, 21.171267, 21.171267, 21.171267,\n",
       "        21.176876, 21.169937, 21.173637, 21.171267, 21.173021, 21.17304 ,\n",
       "        21.173002, 21.172943, 21.172924, 21.172924, 21.143898, 21.174833,\n",
       "        21.174833, 21.17514 , 21.175121, 21.175121, 21.173887, 21.173887,\n",
       "        21.173906, 21.173887, 21.176472, 21.176413, 21.176394, 21.176432,\n",
       "        21.176413, 21.176432, 21.172539, 21.17252 , 21.172577, 21.172558,\n",
       "        21.171267, 21.171267, 21.171267, 21.171267, 21.171402, 21.171421,\n",
       "        21.17144 , 21.171421, 21.171844, 21.171864, 21.171825, 21.171711,\n",
       "        21.171711, 21.171633, 21.17169 , 21.17167 , 21.176046, 21.176046,\n",
       "        21.176046, 21.176046, 21.176046, 21.176065, 21.176065, 21.176065,\n",
       "        21.176046, 21.176046, 21.176085, 21.1773  , 21.177319, 21.1773  ,\n",
       "        21.177319, 21.177319, 21.177319, 21.177319, 21.177338, 21.177357,\n",
       "        21.175295, 21.175951, 21.176586, 21.177242, 21.176702, 21.1762  ,\n",
       "        21.17728 , 21.177164, 21.177126, 21.177164, 21.177126, 21.177126,\n",
       "        21.177126, 21.177164, 21.177164, 21.177145, 21.177164, 21.177126,\n",
       "        21.177164, 21.177145, 21.177164, 21.177183, 21.176586, 21.176643,\n",
       "        21.176664, 21.176624, 21.176643, 21.176664, 21.176664, 21.176643,\n",
       "        21.176624, 21.176643, 21.176624, 21.176643, 21.176586, 21.176586,\n",
       "        21.176664, 21.176664, 21.176683, 21.176605, 21.176624, 21.176643,\n",
       "        21.176567, 21.176548, 21.176702, 21.176683, 21.176624, 21.176702,\n",
       "        21.176664, 21.176664, 21.176702, 21.176683, 21.173561, 21.17354 ,\n",
       "        21.173561, 21.17358 , 21.17358 , 21.17354 , 21.173521, 21.130215,\n",
       "        21.121618, 21.134832, 21.123117, 21.126368, 21.135372, 21.133524,\n",
       "        21.126522, 21.176239, 21.176258, 21.17622 , 21.176239, 21.176239,\n",
       "        21.176239, 21.171267, 21.171267, 21.171267, 21.173906, 21.173906,\n",
       "        21.173906, 21.175892, 21.175892, 21.174717, 21.174698, 21.167528,\n",
       "        21.166662, 21.172308, 21.172249, 21.172249, 21.17221 , 21.172192,\n",
       "        21.172173, 21.172192, 21.17223 , 21.17227 , 21.172327, 21.17227 ,\n",
       "        21.172289, 21.17227 , 21.172249, 21.17223 , 21.174486, 21.174562,\n",
       "        21.174505, 21.1746  , 21.174543, 21.174505, 21.174543, 21.174582,\n",
       "        21.17462 , 21.17466 , 21.174639, 21.174582, 21.174524, 21.174543,\n",
       "        21.174524, 21.174639, 21.174505, 21.174582, 21.17385 , 21.173811,\n",
       "        21.173811, 21.173811, 21.173811, 21.173868, 21.175064, 21.175064,\n",
       "        21.175083, 21.175045, 21.175064, 21.175083, 21.175102, 21.175102,\n",
       "        21.175083, 21.175045, 21.173656, 21.173656, 21.171267, 21.171383,\n",
       "        21.171497, 21.171537, 21.171556, 21.171497, 21.171402, 21.171518,\n",
       "        21.171537, 21.17169 , 21.171576, 21.17146 , 21.171537, 21.171267,\n",
       "        21.171267, 21.171267, 21.171267, 21.17092 , 21.171267, 21.171267,\n",
       "        21.171267, 21.171267, 21.171267, 21.168762, 21.155027, 21.165794,\n",
       "        21.168877, 21.129427, 21.172153, 21.172905, 21.171267, 21.17354 ,\n",
       "        21.173521, 21.17354 , 21.171267, 21.171267, 21.171267, 21.173271,\n",
       "        21.173233, 21.173233, 21.173214, 21.173233, 21.17568 , 21.175661,\n",
       "        21.175623, 21.174929, 21.174948, 21.174929, 21.168877, 21.168993,\n",
       "        21.1651  , 21.168839, 21.173637, 21.173676, 21.173754, 21.173695,\n",
       "        21.173656, 21.173656, 21.173637, 21.173676, 21.173656, 21.173676,\n",
       "        21.173656, 21.173676, 21.173174, 21.173174, 21.173195, 21.173195,\n",
       "        21.173195, 21.173214, 21.173214, 21.173195, 21.176857, 21.176838,\n",
       "        21.176838, 21.173117, 21.173117, 21.171267, 21.171267, 21.171267,\n",
       "        21.171267, 21.171267, 21.171267, 21.171267, 21.171267, 21.172096,\n",
       "        21.176125, 21.175777, 21.175797, 21.175314, 21.175333, 21.175179,\n",
       "        21.17227 , 21.174196, 21.174196, 21.176394, 21.176432, 21.087969,\n",
       "        21.174543, 21.174524, 21.178167, 21.178186, 21.178186, 21.178244,\n",
       "        21.178244, 21.178244, 21.178263, 21.178205, 21.17813 , 21.17836 ,\n",
       "        21.178303, 21.178322, 21.178303, 21.178186, 21.178186, 21.178244,\n",
       "        21.178225, 21.178284, 21.178303, 21.178186, 21.178225, 21.178225,\n",
       "        21.178205, 21.178225, 21.17807 , 21.178225, 21.178263, 21.178263,\n",
       "        21.178284, 21.178263, 21.178263, 21.178263, 21.178284, 21.178263,\n",
       "        21.178263, 21.178263, 21.178284, 21.178244, 21.178244, 21.178244,\n",
       "        21.178244, 21.178263, 21.178205, 21.178284, 21.178225, 21.178225,\n",
       "        21.178244, 21.178244, 21.178205, 21.17813 , 21.178303, 21.178263,\n",
       "        21.178284, 21.178225, 21.178186, 21.178244, 21.178303, 21.178263,\n",
       "        21.178225, 21.178225, 21.178225, 21.178244, 21.17813 , 21.178244,\n",
       "        21.178225, 21.178244, 21.178284, 21.178284, 21.178322, 21.178244,\n",
       "        21.178322, 21.178205, 21.178263, 21.178244, 21.178284, 21.178244,\n",
       "        21.178284, 21.178244, 21.178225, 21.178205, 21.178205, 21.178225,\n",
       "        21.178244, 21.178244, 21.178225, 21.178225, 21.178244, 21.178225,\n",
       "        21.178244, 21.178225, 21.178244, 21.178225, 21.178244, 21.178244,\n",
       "        21.178225, 21.178225, 21.178244, 21.178186, 21.178225, 21.178244,\n",
       "        21.178263, 21.178263, 21.178244, 21.178244, 21.178244, 21.178244,\n",
       "        21.178244, 21.178244, 21.178284, 21.178322, 21.178284, 21.178284,\n",
       "        21.178284, 21.178322, 21.178284, 21.178284, 21.178284, 21.178263,\n",
       "        21.178284, 21.178263, 21.178263, 21.178284, 21.178244, 21.178244,\n",
       "        21.178303, 21.178284, 21.178263, 21.17836 , 21.17834 , 21.178322,\n",
       "        21.178284, 21.178322, 21.177628, 21.177628, 21.177647, 21.177608,\n",
       "        21.177628, 21.176432, 21.176432, 21.17645 , 21.176413, 21.176394,\n",
       "        21.176394, 21.176413, 21.176394, 21.17144 , 21.17144 , 21.171402,\n",
       "        21.171421, 21.17144 ], dtype=float32)}"
      ]
     },
     "execution_count": 46,
     "metadata": {},
     "output_type": "execute_result"
    }
   ],
   "source": [
    "prediction.predictions"
   ]
  },
  {
   "cell_type": "markdown",
   "id": "fc993f88-54cb-4846-a73a-76af63f267e9",
   "metadata": {},
   "source": [
    "---"
   ]
  },
  {
   "cell_type": "code",
   "execution_count": 47,
   "id": "82119cb6-fb6e-4aa7-9553-db1c05acf6eb",
   "metadata": {
    "tags": []
   },
   "outputs": [
    {
     "name": "stdout",
     "output_type": "stream",
     "text": [
      "\n",
      "└── 👟 Success - Fit StandardScaler(copy=False) on the following columns:\n",
      "['0']\n",
      "\n",
      "\n",
      "└── ✅ Success - All columns now have encoders associated with them.\n",
      "\n",
      "\n",
      "Info - Featureset only contains 1 non-OHE column. System overriding to `permute_count=0`.\n",
      "\n",
      "\n",
      "└── 🔂 Success - created Queue consisting of 1 runs.\n",
      "\n"
     ]
    }
   ],
   "source": [
    "tf_bin_seq = tests.tf_bin_seq.make_queue()"
   ]
  },
  {
   "cell_type": "code",
   "execution_count": 48,
   "id": "54bbca6c-b806-47b4-8d16-15f76ddc5d43",
   "metadata": {
    "tags": []
   },
   "outputs": [
    {
     "name": "stderr",
     "output_type": "stream",
     "text": [
      "└── 📦 Caching Splits:: 100%|█████████████████████████| 3/3 [00:00<00:00, 225.71it/s]\n",
      "└── 🔮 Queue #210:: 100%|██████████████████████████████| 1/1 [00:21<00:00, 21.14s/it]\n"
     ]
    }
   ],
   "source": [
    "tf_bin_seq.run_jobs()"
   ]
  },
  {
   "cell_type": "code",
   "execution_count": 49,
   "id": "77ed8b77-1056-4b08-8bd0-99dc1dfac792",
   "metadata": {
    "tags": []
   },
   "outputs": [],
   "source": [
    "prediction = tests.infer(tf_bin_seq)"
   ]
  },
  {
   "cell_type": "code",
   "execution_count": 50,
   "id": "581d4c6f-19bb-4d36-b62d-5e6e446258e4",
   "metadata": {
    "tags": []
   },
   "outputs": [
    {
     "data": {
      "text/plain": [
       "{'infer_0': {'accuracy': 0.98,\n",
       "  'f1': 0.98,\n",
       "  'loss': 0.085,\n",
       "  'precision': 1.0,\n",
       "  'recall': 0.96,\n",
       "  'roc_auc': 0.993}}"
      ]
     },
     "execution_count": 50,
     "metadata": {},
     "output_type": "execute_result"
    }
   ],
   "source": [
    "prediction.metrics"
   ]
  },
  {
   "cell_type": "code",
   "execution_count": 51,
   "id": "48a115a7-f31b-4bbe-beda-16a1bb9b10b3",
   "metadata": {
    "tags": []
   },
   "outputs": [
    {
     "data": {
      "text/plain": [
       "{'infer_0': array([1, 1, 1, 1, 1, 1, 1, 1, 1, 1, 1, 1, 1, 1, 1, 1, 1, 1, 1, 1, 1, 1,\n",
       "        1, 1, 1, 1, 1, 1, 1, 1, 1, 1, 1, 1, 1, 1, 1, 1, 1, 0, 1, 1, 1, 1,\n",
       "        1, 1, 1, 1, 1, 1, 1, 1, 1, 1, 1, 1, 1, 1, 1, 1, 1, 1, 0, 1, 1, 1,\n",
       "        1, 1, 1, 1, 1, 1, 1, 1, 1, 1, 1, 1, 1, 1, 1, 1, 1, 1, 1, 1, 1, 1,\n",
       "        1, 1, 1, 1, 1, 1, 1, 0, 1, 1, 1, 1, 1, 1, 1, 1, 1, 1, 1, 1, 1, 1,\n",
       "        1, 1, 1, 1, 1, 1, 0, 1, 1, 0, 1, 1, 1, 1, 1, 1, 1, 1, 1, 1, 1, 1,\n",
       "        1, 1, 1, 1, 1, 1, 1, 1, 1, 1, 1, 1, 1, 1, 1, 1, 1, 1, 1, 1, 1, 1,\n",
       "        1, 1, 1, 1, 1, 1, 0, 1, 1, 1, 1, 1, 1, 0, 1, 1, 1, 1, 1, 1, 1, 1,\n",
       "        1, 1, 1, 1, 0, 1, 1, 1, 1, 1, 1, 1, 1, 1, 1, 1, 1, 1, 1, 1, 1, 1,\n",
       "        1, 1, 1, 0, 1, 1, 1, 1, 1, 1, 1, 1, 1, 1, 1, 1, 1, 1, 0, 1, 1, 1,\n",
       "        1, 1, 1, 1, 1, 1, 1, 1, 1, 1, 1, 1, 1, 1, 1, 1, 1, 1, 1, 1, 1, 1,\n",
       "        1, 1, 1, 0, 1, 1, 1, 1, 1, 1, 1, 1, 0, 1, 1, 1, 1, 1, 1, 1, 1, 1,\n",
       "        1, 1, 1, 1, 1, 1, 1, 1, 1, 1, 1, 1, 1, 1, 1, 1, 1, 1, 1, 1, 1, 1,\n",
       "        1, 1, 1, 1, 1, 1, 1, 1, 1, 1, 1, 1, 1, 1, 1, 1, 1, 1, 1, 1, 1, 1,\n",
       "        1, 1, 1, 1, 1, 1, 1, 1, 1, 1, 0, 1, 1, 1, 1, 1, 1, 1, 1, 1, 1, 1,\n",
       "        1, 1, 1, 1, 1, 1, 1, 1, 1, 0, 1, 1, 1, 1, 1, 1, 1, 1, 1, 1, 1, 1,\n",
       "        1, 1, 1, 1, 1, 1, 1, 1, 1, 1, 1, 1, 1, 1, 1, 1, 1, 1, 1, 1, 1, 1,\n",
       "        1, 1, 1, 1, 1, 1, 1, 1, 1, 1, 1, 1, 1, 1, 1, 1, 1, 1, 1, 1, 1, 1,\n",
       "        0, 0, 1, 1, 1, 1, 1, 1, 1, 1, 1, 1, 1, 1, 1, 1, 1, 1, 1, 0, 1, 1,\n",
       "        1, 1, 1, 1, 1, 1, 1, 1, 1, 1, 1, 1, 1, 1, 1, 1, 1, 1, 1, 1, 1, 1,\n",
       "        1, 1, 1, 1, 1, 0, 0, 1, 1, 1, 1, 1, 1, 1, 1, 1, 1, 1, 0, 1, 1, 1,\n",
       "        1, 1, 1, 1, 1, 1, 1, 1, 1, 1, 1, 1, 1, 1, 1, 1, 1, 1, 1, 1, 1, 1,\n",
       "        1, 1, 1, 1, 1, 1, 1, 1, 1, 1, 1, 1, 1, 1, 1, 1, 0, 0, 0, 0, 0, 0,\n",
       "        0, 0, 0, 0, 0, 0, 0, 0, 0, 0, 0, 0, 0, 0, 0, 0, 0, 0, 0, 0, 0, 0,\n",
       "        0, 0, 0, 0, 0, 0, 0, 0, 0, 0, 0, 0, 0, 0, 0, 0, 0, 0, 0, 0, 0, 0,\n",
       "        0, 0, 0, 0, 0, 0, 0, 0, 0, 0, 0, 0, 0, 0, 0, 0, 0, 0, 0, 0, 0, 0,\n",
       "        0, 0, 0, 0, 0, 0, 0, 0, 0, 0, 0, 0, 0, 0, 0, 0, 0, 0, 0, 0, 0, 0,\n",
       "        0, 0, 0, 0, 0, 0, 0, 0, 0, 0, 0, 0, 0, 0, 0, 0, 0, 0, 0, 0, 0, 0,\n",
       "        0, 0, 0, 0, 0, 0, 0, 0, 0, 0, 0, 0, 0, 0, 0, 0, 0, 0, 0, 0, 0, 0,\n",
       "        0, 0, 0, 0, 0, 0, 0, 0, 0, 0, 0, 0, 0, 0, 0, 0, 0, 0, 0, 0, 0, 0,\n",
       "        0, 0, 0, 0, 0, 0, 0, 0, 0, 0, 0, 0, 0, 0, 0, 0, 0, 0, 0, 0, 0, 0,\n",
       "        0, 0, 0, 0, 0, 0, 0, 0, 0, 0, 0, 0, 0, 0, 0, 0, 0, 0, 0, 0, 0, 0,\n",
       "        0, 0, 0, 0, 0, 0, 0, 0, 0, 0, 0, 0, 0, 0, 0, 0, 0, 0, 0, 0, 0, 0,\n",
       "        0, 0, 0, 0, 0, 0, 0, 0, 0, 0, 0, 0, 0, 0, 0, 0, 0, 0, 0, 0, 0, 0,\n",
       "        0, 0, 0, 0, 0, 0, 0, 0, 0, 0, 0, 0, 0, 0, 0, 0, 0, 0, 0, 0, 0, 0,\n",
       "        0, 0, 0, 0, 0, 0, 0, 0, 0, 0, 0, 0, 0, 0, 0, 0, 0, 0, 0, 0, 0, 0,\n",
       "        0, 0, 0, 0, 0, 0, 0, 0, 0, 0, 0, 0, 0, 0, 0, 0, 0, 0, 0, 0, 0, 0,\n",
       "        0, 0, 0, 0, 0, 0, 0, 0, 0, 0, 0, 0, 0, 0, 0, 0, 0, 0, 0, 0, 0, 0,\n",
       "        0, 0, 0, 0, 0, 0, 0, 0, 0, 0, 0, 0, 0, 0, 0, 0, 0, 0, 0, 0, 0, 0,\n",
       "        0, 0, 0, 0, 0, 0, 0, 0, 0, 0, 0, 0, 0, 0, 0, 0, 0, 0, 0, 0, 0, 0,\n",
       "        0, 0, 0, 0, 0, 0, 0, 0, 0, 0, 0, 0, 0, 0, 0, 0, 0, 0, 0, 0, 0, 0,\n",
       "        0, 0, 0, 0, 0, 0, 0, 0, 0, 0, 0, 0, 0, 0, 0, 0, 0, 0, 0, 0, 0, 0,\n",
       "        0, 0, 0, 0, 0, 0, 0, 0, 0, 0, 0, 0, 0, 0, 0, 0, 0, 0, 0, 0, 0, 0,\n",
       "        0, 0, 0, 0, 0, 0, 0, 0, 0, 0, 0, 0, 0, 0, 0, 0, 0, 0, 0, 0, 0, 0,\n",
       "        0, 0, 0, 0, 0, 0, 0, 0, 0, 0, 0, 0, 0, 0, 0, 0, 0, 0, 0, 0, 0, 0,\n",
       "        0, 0, 0, 0, 0, 0, 0, 0, 0, 0], dtype=int32)}"
      ]
     },
     "execution_count": 51,
     "metadata": {},
     "output_type": "execute_result"
    }
   ],
   "source": [
    "prediction.predictions"
   ]
  },
  {
   "cell_type": "code",
   "execution_count": 52,
   "id": "c75125b9-67f8-419c-afd2-fda0631c2f9d",
   "metadata": {
    "tags": []
   },
   "outputs": [],
   "source": [
    "prediction = tests.infer(tf_bin_seq, include_label=False)"
   ]
  },
  {
   "cell_type": "code",
   "execution_count": 53,
   "id": "4a4009c8-f132-4a67-b0c8-c27bf4f83000",
   "metadata": {
    "tags": []
   },
   "outputs": [
    {
     "data": {
      "text/plain": [
       "{'infer_1': array([1, 1, 1, 1, 1, 1, 1, 1, 1, 1, 1, 1, 1, 1, 1, 1, 1, 1, 1, 1, 1, 1,\n",
       "        1, 1, 1, 1, 1, 1, 1, 1, 1, 1, 1, 1, 1, 1, 1, 1, 1, 0, 1, 1, 1, 1,\n",
       "        1, 1, 1, 1, 1, 1, 1, 1, 1, 1, 1, 1, 1, 1, 1, 1, 1, 1, 0, 1, 1, 1,\n",
       "        1, 1, 1, 1, 1, 1, 1, 1, 1, 1, 1, 1, 1, 1, 1, 1, 1, 1, 1, 1, 1, 1,\n",
       "        1, 1, 1, 1, 1, 1, 1, 0, 1, 1, 1, 1, 1, 1, 1, 1, 1, 1, 1, 1, 1, 1,\n",
       "        1, 1, 1, 1, 1, 1, 0, 1, 1, 0, 1, 1, 1, 1, 1, 1, 1, 1, 1, 1, 1, 1,\n",
       "        1, 1, 1, 1, 1, 1, 1, 1, 1, 1, 1, 1, 1, 1, 1, 1, 1, 1, 1, 1, 1, 1,\n",
       "        1, 1, 1, 1, 1, 1, 0, 1, 1, 1, 1, 1, 1, 0, 1, 1, 1, 1, 1, 1, 1, 1,\n",
       "        1, 1, 1, 1, 0, 1, 1, 1, 1, 1, 1, 1, 1, 1, 1, 1, 1, 1, 1, 1, 1, 1,\n",
       "        1, 1, 1, 0, 1, 1, 1, 1, 1, 1, 1, 1, 1, 1, 1, 1, 1, 1, 0, 1, 1, 1,\n",
       "        1, 1, 1, 1, 1, 1, 1, 1, 1, 1, 1, 1, 1, 1, 1, 1, 1, 1, 1, 1, 1, 1,\n",
       "        1, 1, 1, 0, 1, 1, 1, 1, 1, 1, 1, 1, 0, 1, 1, 1, 1, 1, 1, 1, 1, 1,\n",
       "        1, 1, 1, 1, 1, 1, 1, 1, 1, 1, 1, 1, 1, 1, 1, 1, 1, 1, 1, 1, 1, 1,\n",
       "        1, 1, 1, 1, 1, 1, 1, 1, 1, 1, 1, 1, 1, 1, 1, 1, 1, 1, 1, 1, 1, 1,\n",
       "        1, 1, 1, 1, 1, 1, 1, 1, 1, 1, 0, 1, 1, 1, 1, 1, 1, 1, 1, 1, 1, 1,\n",
       "        1, 1, 1, 1, 1, 1, 1, 1, 1, 0, 1, 1, 1, 1, 1, 1, 1, 1, 1, 1, 1, 1,\n",
       "        1, 1, 1, 1, 1, 1, 1, 1, 1, 1, 1, 1, 1, 1, 1, 1, 1, 1, 1, 1, 1, 1,\n",
       "        1, 1, 1, 1, 1, 1, 1, 1, 1, 1, 1, 1, 1, 1, 1, 1, 1, 1, 1, 1, 1, 1,\n",
       "        0, 0, 1, 1, 1, 1, 1, 1, 1, 1, 1, 1, 1, 1, 1, 1, 1, 1, 1, 0, 1, 1,\n",
       "        1, 1, 1, 1, 1, 1, 1, 1, 1, 1, 1, 1, 1, 1, 1, 1, 1, 1, 1, 1, 1, 1,\n",
       "        1, 1, 1, 1, 1, 0, 0, 1, 1, 1, 1, 1, 1, 1, 1, 1, 1, 1, 0, 1, 1, 1,\n",
       "        1, 1, 1, 1, 1, 1, 1, 1, 1, 1, 1, 1, 1, 1, 1, 1, 1, 1, 1, 1, 1, 1,\n",
       "        1, 1, 1, 1, 1, 1, 1, 1, 1, 1, 1, 1, 1, 1, 1, 1, 0, 0, 0, 0, 0, 0,\n",
       "        0, 0, 0, 0, 0, 0, 0, 0, 0, 0, 0, 0, 0, 0, 0, 0, 0, 0, 0, 0, 0, 0,\n",
       "        0, 0, 0, 0, 0, 0, 0, 0, 0, 0, 0, 0, 0, 0, 0, 0, 0, 0, 0, 0, 0, 0,\n",
       "        0, 0, 0, 0, 0, 0, 0, 0, 0, 0, 0, 0, 0, 0, 0, 0, 0, 0, 0, 0, 0, 0,\n",
       "        0, 0, 0, 0, 0, 0, 0, 0, 0, 0, 0, 0, 0, 0, 0, 0, 0, 0, 0, 0, 0, 0,\n",
       "        0, 0, 0, 0, 0, 0, 0, 0, 0, 0, 0, 0, 0, 0, 0, 0, 0, 0, 0, 0, 0, 0,\n",
       "        0, 0, 0, 0, 0, 0, 0, 0, 0, 0, 0, 0, 0, 0, 0, 0, 0, 0, 0, 0, 0, 0,\n",
       "        0, 0, 0, 0, 0, 0, 0, 0, 0, 0, 0, 0, 0, 0, 0, 0, 0, 0, 0, 0, 0, 0,\n",
       "        0, 0, 0, 0, 0, 0, 0, 0, 0, 0, 0, 0, 0, 0, 0, 0, 0, 0, 0, 0, 0, 0,\n",
       "        0, 0, 0, 0, 0, 0, 0, 0, 0, 0, 0, 0, 0, 0, 0, 0, 0, 0, 0, 0, 0, 0,\n",
       "        0, 0, 0, 0, 0, 0, 0, 0, 0, 0, 0, 0, 0, 0, 0, 0, 0, 0, 0, 0, 0, 0,\n",
       "        0, 0, 0, 0, 0, 0, 0, 0, 0, 0, 0, 0, 0, 0, 0, 0, 0, 0, 0, 0, 0, 0,\n",
       "        0, 0, 0, 0, 0, 0, 0, 0, 0, 0, 0, 0, 0, 0, 0, 0, 0, 0, 0, 0, 0, 0,\n",
       "        0, 0, 0, 0, 0, 0, 0, 0, 0, 0, 0, 0, 0, 0, 0, 0, 0, 0, 0, 0, 0, 0,\n",
       "        0, 0, 0, 0, 0, 0, 0, 0, 0, 0, 0, 0, 0, 0, 0, 0, 0, 0, 0, 0, 0, 0,\n",
       "        0, 0, 0, 0, 0, 0, 0, 0, 0, 0, 0, 0, 0, 0, 0, 0, 0, 0, 0, 0, 0, 0,\n",
       "        0, 0, 0, 0, 0, 0, 0, 0, 0, 0, 0, 0, 0, 0, 0, 0, 0, 0, 0, 0, 0, 0,\n",
       "        0, 0, 0, 0, 0, 0, 0, 0, 0, 0, 0, 0, 0, 0, 0, 0, 0, 0, 0, 0, 0, 0,\n",
       "        0, 0, 0, 0, 0, 0, 0, 0, 0, 0, 0, 0, 0, 0, 0, 0, 0, 0, 0, 0, 0, 0,\n",
       "        0, 0, 0, 0, 0, 0, 0, 0, 0, 0, 0, 0, 0, 0, 0, 0, 0, 0, 0, 0, 0, 0,\n",
       "        0, 0, 0, 0, 0, 0, 0, 0, 0, 0, 0, 0, 0, 0, 0, 0, 0, 0, 0, 0, 0, 0,\n",
       "        0, 0, 0, 0, 0, 0, 0, 0, 0, 0, 0, 0, 0, 0, 0, 0, 0, 0, 0, 0, 0, 0,\n",
       "        0, 0, 0, 0, 0, 0, 0, 0, 0, 0, 0, 0, 0, 0, 0, 0, 0, 0, 0, 0, 0, 0,\n",
       "        0, 0, 0, 0, 0, 0, 0, 0, 0, 0], dtype=int32)}"
      ]
     },
     "execution_count": 53,
     "metadata": {},
     "output_type": "execute_result"
    }
   ],
   "source": [
    "prediction.predictions"
   ]
  },
  {
   "cell_type": "markdown",
   "id": "77c0e502-5678-4208-aa54-f4a2a51bf256",
   "metadata": {
    "tags": []
   },
   "source": [
    "---"
   ]
  },
  {
   "cell_type": "code",
   "execution_count": 54,
   "id": "17f0b181-4451-4288-a0fb-bf8d37a7c198",
   "metadata": {
    "tags": []
   },
   "outputs": [
    {
     "name": "stdout",
     "output_type": "stream",
     "text": [
      "\n",
      "└── 👟 Success - Fit StandardScaler(copy=False) on the following columns:\n",
      "['0']\n",
      "\n",
      "\n",
      "└── ✅ Success - All columns now have encoders associated with them.\n",
      "\n",
      "\n",
      "Info - Featureset only contains 1 non-OHE column. System overriding to `permute_count=0`.\n",
      "\n",
      "\n",
      "└── 🔂 Success - created Queue consisting of 3 runs.\n",
      "\n"
     ]
    }
   ],
   "source": [
    "tf_bin_seq_fold = tests.tf_bin_seq.make_queue(fold_count=3)"
   ]
  },
  {
   "cell_type": "code",
   "execution_count": 55,
   "id": "8d92a522-2eab-4005-9116-4e82231f5c5b",
   "metadata": {
    "tags": []
   },
   "outputs": [
    {
     "name": "stderr",
     "output_type": "stream",
     "text": [
      "└── 📦 Caching - Fold #1:: 100%|██████████████████████| 4/4 [00:00<00:00, 267.43it/s]\n",
      "└── 📦 Caching - Fold #2:: 100%|██████████████████████| 4/4 [00:00<00:00, 246.03it/s]\n",
      "└── 📦 Caching - Fold #3:: 100%|██████████████████████| 4/4 [00:00<00:00, 248.28it/s]\n",
      "└── 🔮 Queue 211 // Fold #1:: 100%|████████████████████| 1/1 [00:11<00:00, 11.73s/it]\n",
      "└── 🔮 Queue 211 // Fold #2:: 100%|████████████████████| 1/1 [00:11<00:00, 11.44s/it]\n",
      "└── 🔮 Queue 211 // Fold #3:: 100%|████████████████████| 1/1 [00:11<00:00, 11.46s/it]\n"
     ]
    }
   ],
   "source": [
    "tf_bin_seq_fold.run_jobs()"
   ]
  },
  {
   "cell_type": "code",
   "execution_count": 56,
   "id": "9bed6d82-e3fe-48a1-9b3c-6ef8a63a9a20",
   "metadata": {
    "tags": []
   },
   "outputs": [],
   "source": [
    "prediction = tests.infer(tf_bin_seq_fold)"
   ]
  },
  {
   "cell_type": "code",
   "execution_count": 57,
   "id": "6d058fc4-1986-449f-927c-b1261cde5adb",
   "metadata": {
    "tags": []
   },
   "outputs": [
    {
     "data": {
      "text/plain": [
       "{'infer_0': {'accuracy': 0.959,\n",
       "  'f1': 0.959,\n",
       "  'loss': 0.166,\n",
       "  'precision': 0.966,\n",
       "  'recall': 0.952,\n",
       "  'roc_auc': 0.984}}"
      ]
     },
     "execution_count": 57,
     "metadata": {},
     "output_type": "execute_result"
    }
   ],
   "source": [
    "prediction.metrics"
   ]
  },
  {
   "cell_type": "code",
   "execution_count": 58,
   "id": "81e4c756-2ee0-4434-a61f-84bfaa6a6b9d",
   "metadata": {
    "tags": []
   },
   "outputs": [
    {
     "data": {
      "text/plain": [
       "{'infer_0': array([1, 1, 1, 1, 1, 1, 1, 1, 1, 1, 1, 1, 1, 1, 1, 1, 1, 1, 1, 1, 1, 1,\n",
       "        1, 1, 1, 1, 1, 1, 1, 1, 1, 1, 1, 1, 1, 1, 1, 1, 1, 0, 1, 1, 1, 1,\n",
       "        1, 1, 1, 1, 1, 1, 1, 1, 1, 1, 1, 1, 1, 1, 1, 1, 1, 1, 1, 1, 1, 1,\n",
       "        1, 1, 1, 1, 1, 1, 1, 1, 1, 1, 1, 1, 1, 1, 1, 1, 1, 1, 1, 1, 1, 1,\n",
       "        1, 1, 1, 1, 1, 1, 1, 1, 1, 1, 1, 0, 1, 1, 1, 1, 1, 1, 1, 1, 1, 1,\n",
       "        1, 1, 1, 1, 1, 1, 1, 1, 1, 1, 1, 1, 1, 1, 1, 1, 1, 1, 1, 1, 1, 1,\n",
       "        1, 1, 1, 1, 1, 1, 1, 1, 1, 1, 1, 1, 1, 1, 1, 1, 1, 1, 1, 1, 1, 1,\n",
       "        1, 1, 1, 1, 1, 1, 0, 1, 1, 1, 1, 1, 1, 0, 1, 1, 1, 1, 1, 1, 1, 1,\n",
       "        1, 1, 1, 1, 1, 1, 0, 1, 1, 1, 1, 1, 1, 1, 1, 1, 1, 1, 1, 1, 1, 1,\n",
       "        1, 1, 1, 0, 1, 1, 1, 1, 1, 1, 1, 1, 1, 1, 1, 1, 1, 1, 0, 1, 1, 1,\n",
       "        1, 1, 1, 1, 1, 1, 1, 1, 1, 1, 1, 1, 1, 0, 1, 1, 1, 1, 1, 1, 1, 1,\n",
       "        1, 1, 1, 0, 1, 1, 1, 1, 1, 1, 1, 0, 1, 1, 1, 1, 1, 1, 1, 1, 1, 1,\n",
       "        1, 1, 1, 1, 1, 1, 1, 1, 1, 1, 1, 1, 1, 1, 1, 1, 1, 1, 1, 1, 1, 1,\n",
       "        1, 1, 1, 1, 1, 1, 1, 1, 1, 1, 1, 1, 0, 1, 1, 1, 1, 1, 1, 1, 1, 1,\n",
       "        1, 1, 1, 1, 1, 1, 1, 1, 1, 1, 1, 1, 1, 1, 1, 1, 1, 1, 1, 1, 1, 1,\n",
       "        1, 1, 1, 1, 1, 1, 1, 1, 0, 0, 1, 1, 1, 0, 1, 1, 1, 1, 1, 1, 1, 1,\n",
       "        1, 1, 1, 1, 1, 1, 1, 1, 1, 1, 1, 1, 1, 1, 1, 0, 1, 1, 0, 1, 1, 1,\n",
       "        1, 1, 1, 1, 1, 1, 1, 1, 1, 1, 1, 1, 1, 1, 1, 1, 1, 1, 1, 1, 1, 1,\n",
       "        0, 0, 1, 1, 1, 1, 1, 1, 1, 1, 1, 1, 1, 1, 1, 1, 1, 0, 1, 0, 1, 1,\n",
       "        1, 1, 1, 1, 0, 1, 1, 1, 1, 1, 1, 1, 1, 1, 1, 1, 1, 1, 1, 1, 1, 1,\n",
       "        1, 1, 1, 1, 1, 0, 0, 1, 1, 1, 1, 1, 1, 1, 1, 1, 1, 1, 1, 1, 1, 1,\n",
       "        1, 1, 1, 1, 1, 1, 1, 1, 1, 1, 1, 1, 1, 1, 1, 1, 1, 1, 1, 1, 1, 1,\n",
       "        1, 1, 1, 1, 1, 0, 1, 1, 1, 1, 1, 1, 1, 1, 1, 1, 0, 0, 0, 0, 0, 0,\n",
       "        0, 0, 0, 0, 0, 1, 0, 0, 1, 0, 0, 0, 0, 0, 0, 0, 0, 0, 0, 0, 0, 0,\n",
       "        0, 0, 0, 0, 1, 0, 0, 0, 0, 0, 0, 0, 0, 0, 0, 0, 0, 0, 0, 0, 0, 0,\n",
       "        0, 0, 0, 0, 0, 0, 0, 0, 0, 0, 0, 0, 0, 0, 0, 0, 0, 0, 0, 0, 0, 0,\n",
       "        0, 0, 0, 0, 0, 0, 0, 0, 1, 0, 0, 0, 0, 0, 0, 0, 0, 0, 0, 0, 0, 0,\n",
       "        0, 0, 0, 0, 0, 0, 1, 0, 0, 0, 0, 0, 0, 0, 0, 0, 0, 0, 0, 0, 0, 0,\n",
       "        0, 0, 0, 0, 0, 0, 0, 0, 0, 0, 0, 0, 0, 0, 0, 1, 0, 0, 0, 0, 0, 0,\n",
       "        0, 0, 0, 0, 0, 0, 0, 0, 0, 0, 0, 0, 0, 0, 0, 0, 0, 0, 0, 0, 0, 0,\n",
       "        0, 0, 0, 0, 0, 0, 0, 0, 0, 0, 1, 0, 0, 0, 0, 0, 0, 0, 0, 0, 0, 0,\n",
       "        0, 0, 0, 0, 0, 0, 0, 0, 0, 0, 0, 0, 0, 0, 0, 0, 0, 0, 0, 0, 0, 0,\n",
       "        0, 0, 0, 0, 0, 0, 0, 0, 0, 0, 0, 0, 0, 0, 0, 0, 0, 0, 0, 0, 1, 0,\n",
       "        0, 1, 0, 0, 0, 0, 0, 0, 0, 0, 0, 0, 0, 0, 0, 0, 0, 0, 0, 0, 0, 0,\n",
       "        0, 0, 0, 1, 0, 0, 0, 0, 0, 0, 0, 0, 0, 0, 0, 0, 0, 0, 0, 0, 0, 0,\n",
       "        0, 0, 0, 0, 0, 0, 0, 0, 0, 0, 0, 1, 0, 0, 0, 0, 0, 0, 0, 0, 0, 0,\n",
       "        0, 0, 0, 0, 0, 0, 0, 0, 0, 0, 0, 0, 0, 0, 0, 0, 0, 0, 0, 0, 0, 0,\n",
       "        0, 0, 0, 0, 0, 0, 0, 0, 0, 0, 0, 0, 0, 0, 0, 0, 0, 0, 0, 0, 0, 0,\n",
       "        0, 0, 0, 0, 0, 0, 0, 0, 0, 0, 0, 0, 0, 0, 0, 0, 0, 1, 0, 0, 0, 0,\n",
       "        0, 0, 0, 0, 0, 0, 0, 0, 0, 0, 0, 0, 0, 0, 0, 0, 0, 0, 0, 0, 0, 0,\n",
       "        0, 0, 0, 0, 0, 0, 0, 0, 0, 0, 0, 0, 1, 0, 0, 0, 1, 0, 0, 0, 0, 0,\n",
       "        0, 0, 0, 0, 0, 1, 0, 0, 0, 0, 0, 0, 0, 0, 0, 0, 1, 0, 0, 0, 0, 0,\n",
       "        0, 0, 0, 0, 0, 0, 0, 0, 0, 0, 0, 0, 0, 0, 0, 0, 0, 0, 0, 0, 0, 0,\n",
       "        0, 0, 0, 0, 0, 0, 0, 0, 0, 0, 0, 0, 0, 0, 0, 0, 0, 0, 0, 0, 0, 0,\n",
       "        1, 0, 0, 0, 0, 0, 0, 0, 0, 0, 0, 0, 0, 0, 0, 0, 0, 0, 0, 0, 0, 0,\n",
       "        0, 0, 0, 0, 0, 0, 0, 0, 0, 0], dtype=int32)}"
      ]
     },
     "execution_count": 58,
     "metadata": {},
     "output_type": "execute_result"
    }
   ],
   "source": [
    "prediction.predictions"
   ]
  },
  {
   "cell_type": "code",
   "execution_count": 59,
   "id": "0f21299f-1921-48cb-89ef-0438fbae07e4",
   "metadata": {
    "tags": []
   },
   "outputs": [],
   "source": [
    "prediction = tests.infer(tf_bin_seq_fold, include_label=False)"
   ]
  },
  {
   "cell_type": "code",
   "execution_count": 60,
   "id": "5d23a822-bb79-43c3-acc6-f7a23ba28a15",
   "metadata": {
    "tags": []
   },
   "outputs": [
    {
     "data": {
      "text/plain": [
       "{'infer_1': array([1, 1, 1, 1, 1, 1, 1, 1, 1, 1, 1, 1, 1, 1, 1, 1, 1, 1, 1, 1, 1, 1,\n",
       "        1, 1, 1, 1, 1, 1, 1, 1, 1, 1, 1, 1, 1, 1, 1, 1, 1, 0, 1, 1, 1, 1,\n",
       "        1, 1, 1, 1, 1, 1, 1, 1, 1, 1, 1, 1, 1, 1, 1, 1, 1, 1, 1, 1, 1, 1,\n",
       "        1, 1, 1, 1, 1, 1, 1, 1, 1, 1, 1, 1, 1, 1, 1, 1, 1, 1, 1, 1, 1, 1,\n",
       "        1, 1, 1, 1, 1, 1, 1, 1, 1, 1, 1, 0, 1, 1, 1, 1, 1, 1, 1, 1, 1, 1,\n",
       "        1, 1, 1, 1, 1, 1, 1, 1, 1, 1, 1, 1, 1, 1, 1, 1, 1, 1, 1, 1, 1, 1,\n",
       "        1, 1, 1, 1, 1, 1, 1, 1, 1, 1, 1, 1, 1, 1, 1, 1, 1, 1, 1, 1, 1, 1,\n",
       "        1, 1, 1, 1, 1, 1, 0, 1, 1, 1, 1, 1, 1, 0, 1, 1, 1, 1, 1, 1, 1, 1,\n",
       "        1, 1, 1, 1, 1, 1, 0, 1, 1, 1, 1, 1, 1, 1, 1, 1, 1, 1, 1, 1, 1, 1,\n",
       "        1, 1, 1, 0, 1, 1, 1, 1, 1, 1, 1, 1, 1, 1, 1, 1, 1, 1, 0, 1, 1, 1,\n",
       "        1, 1, 1, 1, 1, 1, 1, 1, 1, 1, 1, 1, 1, 0, 1, 1, 1, 1, 1, 1, 1, 1,\n",
       "        1, 1, 1, 0, 1, 1, 1, 1, 1, 1, 1, 0, 1, 1, 1, 1, 1, 1, 1, 1, 1, 1,\n",
       "        1, 1, 1, 1, 1, 1, 1, 1, 1, 1, 1, 1, 1, 1, 1, 1, 1, 1, 1, 1, 1, 1,\n",
       "        1, 1, 1, 1, 1, 1, 1, 1, 1, 1, 1, 1, 0, 1, 1, 1, 1, 1, 1, 1, 1, 1,\n",
       "        1, 1, 1, 1, 1, 1, 1, 1, 1, 1, 1, 1, 1, 1, 1, 1, 1, 1, 1, 1, 1, 1,\n",
       "        1, 1, 1, 1, 1, 1, 1, 1, 0, 0, 1, 1, 1, 0, 1, 1, 1, 1, 1, 1, 1, 1,\n",
       "        1, 1, 1, 1, 1, 1, 1, 1, 1, 1, 1, 1, 1, 1, 1, 0, 1, 1, 0, 1, 1, 1,\n",
       "        1, 1, 1, 1, 1, 1, 1, 1, 1, 1, 1, 1, 1, 1, 1, 1, 1, 1, 1, 1, 1, 1,\n",
       "        0, 0, 1, 1, 1, 1, 1, 1, 1, 1, 1, 1, 1, 1, 1, 1, 1, 0, 1, 0, 1, 1,\n",
       "        1, 1, 1, 1, 0, 1, 1, 1, 1, 1, 1, 1, 1, 1, 1, 1, 1, 1, 1, 1, 1, 1,\n",
       "        1, 1, 1, 1, 1, 0, 0, 1, 1, 1, 1, 1, 1, 1, 1, 1, 1, 1, 1, 1, 1, 1,\n",
       "        1, 1, 1, 1, 1, 1, 1, 1, 1, 1, 1, 1, 1, 1, 1, 1, 1, 1, 1, 1, 1, 1,\n",
       "        1, 1, 1, 1, 1, 0, 1, 1, 1, 1, 1, 1, 1, 1, 1, 1, 0, 0, 0, 0, 0, 0,\n",
       "        0, 0, 0, 0, 0, 1, 0, 0, 1, 0, 0, 0, 0, 0, 0, 0, 0, 0, 0, 0, 0, 0,\n",
       "        0, 0, 0, 0, 1, 0, 0, 0, 0, 0, 0, 0, 0, 0, 0, 0, 0, 0, 0, 0, 0, 0,\n",
       "        0, 0, 0, 0, 0, 0, 0, 0, 0, 0, 0, 0, 0, 0, 0, 0, 0, 0, 0, 0, 0, 0,\n",
       "        0, 0, 0, 0, 0, 0, 0, 0, 1, 0, 0, 0, 0, 0, 0, 0, 0, 0, 0, 0, 0, 0,\n",
       "        0, 0, 0, 0, 0, 0, 1, 0, 0, 0, 0, 0, 0, 0, 0, 0, 0, 0, 0, 0, 0, 0,\n",
       "        0, 0, 0, 0, 0, 0, 0, 0, 0, 0, 0, 0, 0, 0, 0, 1, 0, 0, 0, 0, 0, 0,\n",
       "        0, 0, 0, 0, 0, 0, 0, 0, 0, 0, 0, 0, 0, 0, 0, 0, 0, 0, 0, 0, 0, 0,\n",
       "        0, 0, 0, 0, 0, 0, 0, 0, 0, 0, 1, 0, 0, 0, 0, 0, 0, 0, 0, 0, 0, 0,\n",
       "        0, 0, 0, 0, 0, 0, 0, 0, 0, 0, 0, 0, 0, 0, 0, 0, 0, 0, 0, 0, 0, 0,\n",
       "        0, 0, 0, 0, 0, 0, 0, 0, 0, 0, 0, 0, 0, 0, 0, 0, 0, 0, 0, 0, 1, 0,\n",
       "        0, 1, 0, 0, 0, 0, 0, 0, 0, 0, 0, 0, 0, 0, 0, 0, 0, 0, 0, 0, 0, 0,\n",
       "        0, 0, 0, 1, 0, 0, 0, 0, 0, 0, 0, 0, 0, 0, 0, 0, 0, 0, 0, 0, 0, 0,\n",
       "        0, 0, 0, 0, 0, 0, 0, 0, 0, 0, 0, 1, 0, 0, 0, 0, 0, 0, 0, 0, 0, 0,\n",
       "        0, 0, 0, 0, 0, 0, 0, 0, 0, 0, 0, 0, 0, 0, 0, 0, 0, 0, 0, 0, 0, 0,\n",
       "        0, 0, 0, 0, 0, 0, 0, 0, 0, 0, 0, 0, 0, 0, 0, 0, 0, 0, 0, 0, 0, 0,\n",
       "        0, 0, 0, 0, 0, 0, 0, 0, 0, 0, 0, 0, 0, 0, 0, 0, 0, 1, 0, 0, 0, 0,\n",
       "        0, 0, 0, 0, 0, 0, 0, 0, 0, 0, 0, 0, 0, 0, 0, 0, 0, 0, 0, 0, 0, 0,\n",
       "        0, 0, 0, 0, 0, 0, 0, 0, 0, 0, 0, 0, 1, 0, 0, 0, 1, 0, 0, 0, 0, 0,\n",
       "        0, 0, 0, 0, 0, 1, 0, 0, 0, 0, 0, 0, 0, 0, 0, 0, 1, 0, 0, 0, 0, 0,\n",
       "        0, 0, 0, 0, 0, 0, 0, 0, 0, 0, 0, 0, 0, 0, 0, 0, 0, 0, 0, 0, 0, 0,\n",
       "        0, 0, 0, 0, 0, 0, 0, 0, 0, 0, 0, 0, 0, 0, 0, 0, 0, 0, 0, 0, 0, 0,\n",
       "        1, 0, 0, 0, 0, 0, 0, 0, 0, 0, 0, 0, 0, 0, 0, 0, 0, 0, 0, 0, 0, 0,\n",
       "        0, 0, 0, 0, 0, 0, 0, 0, 0, 0], dtype=int32)}"
      ]
     },
     "execution_count": 60,
     "metadata": {},
     "output_type": "execute_result"
    }
   ],
   "source": [
    "prediction.predictions"
   ]
  },
  {
   "cell_type": "markdown",
   "id": "9b343ca8-62d5-4a8e-9796-b55c4c92e231",
   "metadata": {
    "tags": []
   },
   "source": [
    "---"
   ]
  },
  {
   "cell_type": "code",
   "execution_count": 61,
   "id": "7652ebbb-edc3-4470-a5e9-c79ced212591",
   "metadata": {
    "tags": []
   },
   "outputs": [
    {
     "name": "stdout",
     "output_type": "stream",
     "text": [
      "\n",
      "└── 🔂 Success - created Queue consisting of 1 runs.\n",
      "\n"
     ]
    }
   ],
   "source": [
    "tf_bin_img = tests.tf_bin_img.make_queue()"
   ]
  },
  {
   "cell_type": "code",
   "execution_count": 62,
   "id": "7b21eeae-923d-4207-9767-b61e1c5defbe",
   "metadata": {
    "tags": []
   },
   "outputs": [
    {
     "name": "stderr",
     "output_type": "stream",
     "text": [
      "└── 📦 Caching Splits:: 100%|██████████████████████████| 3/3 [00:00<00:00, 28.46it/s]\n",
      "└── 🔮 Queue #212:: 100%|██████████████████████████████| 1/1 [00:02<00:00,  2.41s/it]\n"
     ]
    }
   ],
   "source": [
    "tf_bin_img.run_jobs()"
   ]
  },
  {
   "cell_type": "code",
   "execution_count": 63,
   "id": "44a0f45c-7a4b-4cc6-bbe9-353dbb86fd2f",
   "metadata": {
    "tags": []
   },
   "outputs": [],
   "source": [
    "prediction = tests.infer(tf_bin_img)"
   ]
  },
  {
   "cell_type": "code",
   "execution_count": 64,
   "id": "cfcb8273-bee8-48e5-97a7-c8288c5c736e",
   "metadata": {
    "tags": []
   },
   "outputs": [
    {
     "data": {
      "text/plain": [
       "{'infer_0': {'accuracy': 0.538,\n",
       "  'f1': 0.641,\n",
       "  'loss': 0.66,\n",
       "  'precision': 0.524,\n",
       "  'recall': 0.825,\n",
       "  'roc_auc': 0.607}}"
      ]
     },
     "execution_count": 64,
     "metadata": {},
     "output_type": "execute_result"
    }
   ],
   "source": [
    "prediction.metrics"
   ]
  },
  {
   "cell_type": "code",
   "execution_count": 65,
   "id": "5fbd8fe7-fe96-46da-ad3b-f4acfd77c0df",
   "metadata": {
    "tags": []
   },
   "outputs": [
    {
     "data": {
      "text/plain": [
       "{'infer_0': array([1, 0, 1, 1, 1, 1, 0, 1, 1, 1, 1, 1, 1, 1, 1, 0, 1, 1, 1, 0, 1, 0,\n",
       "        1, 0, 1, 0, 1, 1, 0, 0, 1, 0, 1, 1, 1, 1, 1, 1, 1, 1, 1, 1, 1, 1,\n",
       "        1, 1, 1, 1, 1, 0, 1, 1, 1, 0, 0, 0, 1, 1, 1, 0, 1, 1, 1, 1, 1, 1,\n",
       "        1, 1, 1, 0, 1, 0, 1, 1, 1, 1, 1, 1, 1, 1], dtype=int32)}"
      ]
     },
     "execution_count": 65,
     "metadata": {},
     "output_type": "execute_result"
    }
   ],
   "source": [
    "prediction.predictions"
   ]
  },
  {
   "cell_type": "code",
   "execution_count": 66,
   "id": "2b0c9879-6d09-4be6-a7f0-8f15a912ef03",
   "metadata": {
    "tags": []
   },
   "outputs": [],
   "source": [
    "prediction = tests.infer(tf_bin_img, include_label=False)"
   ]
  },
  {
   "cell_type": "code",
   "execution_count": 67,
   "id": "27b7196b-3d1f-4023-9f7f-d894de8bccf8",
   "metadata": {
    "tags": []
   },
   "outputs": [
    {
     "data": {
      "text/plain": [
       "{'infer_1': array([1, 0, 1, 1, 1, 1, 0, 1, 1, 1, 1, 1, 1, 1, 1, 0, 1, 1, 1, 0, 1, 0,\n",
       "        1, 0, 1, 0, 1, 1, 0, 0, 1, 0, 1, 1, 1, 1, 1, 1, 1, 1, 1, 1, 1, 1,\n",
       "        1, 1, 1, 1, 1, 0, 1, 1, 1, 0, 0, 0, 1, 1, 1, 0, 1, 1, 1, 1, 1, 1,\n",
       "        1, 1, 1, 0, 1, 0, 1, 1, 1, 1, 1, 1, 1, 1], dtype=int32)}"
      ]
     },
     "execution_count": 67,
     "metadata": {},
     "output_type": "execute_result"
    }
   ],
   "source": [
    "prediction.predictions"
   ]
  },
  {
   "cell_type": "markdown",
   "id": "4a66572f-f709-4f11-9465-a40c718a9fe2",
   "metadata": {
    "tags": []
   },
   "source": [
    "---"
   ]
  },
  {
   "cell_type": "code",
   "execution_count": 68,
   "id": "172833a6-2fe0-4566-b24d-9da8ac5cf6ae",
   "metadata": {
    "tags": []
   },
   "outputs": [
    {
     "name": "stdout",
     "output_type": "stream",
     "text": [
      "\n",
      "└── 🔂 Success - created Queue consisting of 3 runs.\n",
      "\n"
     ]
    }
   ],
   "source": [
    "tf_bin_img_fold = tests.tf_bin_img.make_queue(fold_count=3)"
   ]
  },
  {
   "cell_type": "code",
   "execution_count": 69,
   "id": "ab6b269b-f52b-4fa7-9ee4-fc5d37969fc5",
   "metadata": {
    "tags": []
   },
   "outputs": [
    {
     "name": "stderr",
     "output_type": "stream",
     "text": [
      "└── 📦 Caching - Fold #1:: 100%|███████████████████████| 4/4 [00:00<00:00, 37.77it/s]\n",
      "└── 📦 Caching - Fold #2:: 100%|███████████████████████| 4/4 [00:00<00:00, 37.74it/s]\n",
      "└── 📦 Caching - Fold #3:: 100%|███████████████████████| 4/4 [00:00<00:00, 38.20it/s]\n",
      "└── 🔮 Queue 213 // Fold #1:: 100%|████████████████████| 1/1 [00:02<00:00,  2.16s/it]\n",
      "└── 🔮 Queue 213 // Fold #2:: 100%|████████████████████| 1/1 [00:02<00:00,  2.45s/it]\n",
      "└── 🔮 Queue 213 // Fold #3:: 100%|████████████████████| 1/1 [00:02<00:00,  2.15s/it]\n"
     ]
    }
   ],
   "source": [
    "tf_bin_img_fold.run_jobs()"
   ]
  },
  {
   "cell_type": "code",
   "execution_count": 70,
   "id": "64360842-8598-4737-8311-6eae11853be6",
   "metadata": {
    "tags": []
   },
   "outputs": [],
   "source": [
    "prediction = tests.infer(tf_bin_img_fold)"
   ]
  },
  {
   "cell_type": "code",
   "execution_count": 71,
   "id": "1f002b0d-0c5a-4e0a-bb8a-c82156212329",
   "metadata": {
    "tags": []
   },
   "outputs": [
    {
     "data": {
      "text/plain": [
       "{'infer_0': {'accuracy': 0.588,\n",
       "  'f1': 0.645,\n",
       "  'loss': 0.662,\n",
       "  'precision': 0.566,\n",
       "  'recall': 0.75,\n",
       "  'roc_auc': 0.658}}"
      ]
     },
     "execution_count": 71,
     "metadata": {},
     "output_type": "execute_result"
    }
   ],
   "source": [
    "prediction.metrics"
   ]
  },
  {
   "cell_type": "code",
   "execution_count": 72,
   "id": "5b207a0f-5884-4b19-8071-c4199b4399d2",
   "metadata": {
    "tags": []
   },
   "outputs": [
    {
     "data": {
      "text/plain": [
       "{'infer_0': array([1, 0, 0, 1, 0, 1, 1, 0, 0, 0, 0, 1, 0, 1, 0, 0, 0, 1, 1, 1, 0, 1,\n",
       "        1, 1, 0, 1, 1, 1, 1, 1, 1, 1, 0, 1, 1, 1, 0, 0, 1, 0, 0, 1, 1, 1,\n",
       "        0, 1, 1, 0, 1, 1, 1, 1, 0, 1, 1, 1, 1, 1, 0, 1, 1, 0, 1, 1, 0, 1,\n",
       "        1, 0, 1, 1, 1, 1, 1, 1, 0, 1, 1, 0, 1, 1], dtype=int32)}"
      ]
     },
     "execution_count": 72,
     "metadata": {},
     "output_type": "execute_result"
    }
   ],
   "source": [
    "prediction.predictions"
   ]
  },
  {
   "cell_type": "code",
   "execution_count": 73,
   "id": "8cef926b-2e0a-45e2-8c61-2cddcb530bef",
   "metadata": {
    "tags": []
   },
   "outputs": [],
   "source": [
    "prediction = tests.infer(tf_bin_img_fold, include_label=False)"
   ]
  },
  {
   "cell_type": "code",
   "execution_count": 74,
   "id": "aec255d4-cd4d-4590-99d3-a696f87dc893",
   "metadata": {
    "tags": []
   },
   "outputs": [
    {
     "data": {
      "text/plain": [
       "{'infer_1': array([1, 0, 0, 1, 0, 1, 1, 0, 0, 0, 0, 1, 0, 1, 0, 0, 0, 1, 1, 1, 0, 1,\n",
       "        1, 1, 0, 1, 1, 1, 1, 1, 1, 1, 0, 1, 1, 1, 0, 0, 1, 0, 0, 1, 1, 1,\n",
       "        0, 1, 1, 0, 1, 1, 1, 1, 0, 1, 1, 1, 1, 1, 0, 1, 1, 0, 1, 1, 0, 1,\n",
       "        1, 0, 1, 1, 1, 1, 1, 1, 0, 1, 1, 0, 1, 1], dtype=int32)}"
      ]
     },
     "execution_count": 74,
     "metadata": {},
     "output_type": "execute_result"
    }
   ],
   "source": [
    "prediction.predictions"
   ]
  },
  {
   "cell_type": "markdown",
   "id": "0484e1f8-65b2-4ca1-9d2c-64fb712e4fcc",
   "metadata": {
    "tags": []
   },
   "source": [
    "---"
   ]
  },
  {
   "cell_type": "code",
   "execution_count": 75,
   "id": "0e0f527e-d5b8-4998-97e1-9963f3caa063",
   "metadata": {
    "tags": []
   },
   "outputs": [
    {
     "name": "stdout",
     "output_type": "stream",
     "text": [
      "\n",
      "└── 👟 Success - Fit RobustScaler(copy=False) on the following columns:\n",
      "['wind', 'pressure']\n",
      "\n",
      "\n",
      "└── ⬇️ Info - The following columns have not yet been encoded:\n",
      "['humidity', 'temperature', 'day_of_year']\n",
      "\n",
      "\n",
      "└── 👟 Success - Fit StandardScaler(copy=False) on the following columns:\n",
      "['temperature', 'humidity', 'day_of_year']\n",
      "\n",
      "\n",
      "└── ✅ Success - All columns now have encoders associated with them.\n",
      "\n",
      "\n",
      "└── 🔂 Success - created Queue consisting of 1 runs.\n",
      "\n"
     ]
    }
   ],
   "source": [
    "tf_fore_tab = tests.tf_fore_tab.make_queue()"
   ]
  },
  {
   "cell_type": "code",
   "execution_count": 76,
   "id": "0b9d4593-51f4-460c-8551-7b3147af34c0",
   "metadata": {
    "tags": []
   },
   "outputs": [
    {
     "name": "stderr",
     "output_type": "stream",
     "text": [
      "└── 📦 Caching Splits:: 100%|█████████████████████████| 3/3 [00:00<00:00, 311.30it/s]\n",
      "└── 🔮 Queue #214::   0%|                                      | 0/1 [00:00<?, ?it/s]"
     ]
    },
    {
     "name": "stdout",
     "output_type": "stream",
     "text": [
      "WARNING:tensorflow:Layers in a Sequential model should only have a single input tensor. Received: inputs=<keras.layers.recurrent_v2.GRU object at 0x18b6acc10>. Consider rewriting this model with the Functional API.\n",
      "WARNING:tensorflow:Layers in a Sequential model should only have a single input tensor. Received: inputs=<keras.layers.core.dense.Dense object at 0x18b638e10>. Consider rewriting this model with the Functional API.\n",
      "WARNING:tensorflow:Layers in a Sequential model should only have a single input tensor. Received: inputs=<keras.layers.core.dropout.Dropout object at 0x18b638e10>. Consider rewriting this model with the Functional API.\n",
      "WARNING:tensorflow:Layers in a Sequential model should only have a single input tensor. Received: inputs=<keras.layers.core.dense.Dense object at 0x18b638e10>. Consider rewriting this model with the Functional API.\n",
      "WARNING:tensorflow:Layers in a Sequential model should only have a single input tensor. Received: inputs=<keras.layers.core.dropout.Dropout object at 0x18b638e10>. Consider rewriting this model with the Functional API.\n",
      "WARNING:tensorflow:Layers in a Sequential model should only have a single input tensor. Received: inputs=<keras.layers.core.reshape.Reshape object at 0x18b638e10>. Consider rewriting this model with the Functional API.\n"
     ]
    },
    {
     "name": "stderr",
     "output_type": "stream",
     "text": [
      "└── 🔮 Queue #214:: 100%|██████████████████████████████| 1/1 [00:01<00:00,  1.44s/it]\n"
     ]
    }
   ],
   "source": [
    "tf_fore_tab.run_jobs()"
   ]
  },
  {
   "cell_type": "code",
   "execution_count": 77,
   "id": "989217fa-d9f5-455e-a1c6-e40a62e244a3",
   "metadata": {
    "tags": []
   },
   "outputs": [],
   "source": [
    "prediction = tests.infer(tf_fore_tab, include_label=False)"
   ]
  },
  {
   "cell_type": "code",
   "execution_count": 78,
   "id": "a4fd09e1-2839-4a0c-83aa-56608aa0d841",
   "metadata": {
    "tags": []
   },
   "outputs": [],
   "source": [
    "prediction.metrics"
   ]
  },
  {
   "cell_type": "code",
   "execution_count": 79,
   "id": "0ef4d9a8-c519-4af2-9e47-396a1c854ec0",
   "metadata": {
    "tags": []
   },
   "outputs": [
    {
     "data": {
      "text/plain": [
       "{'infer_0': array([[[8.00000191e+00, 8.85714245e+00, 6.37142868e+01, 7.14285707e+00,\n",
       "          1.01871429e+03],\n",
       "         [8.99998665e+00, 1.40000000e+01, 5.12500000e+01, 1.25000000e+01,\n",
       "          1.01700000e+03],\n",
       "         [1.00000019e+01, 1.09999990e+01, 6.20000000e+01, 7.40000010e+00,\n",
       "          1.01566669e+03],\n",
       "         ...,\n",
       "         [3.30000000e+01, 1.62857151e+01, 7.75714264e+01, 1.32857144e+00,\n",
       "          1.01714288e+03],\n",
       "         [3.40000000e+01, 1.80000000e+01, 6.55714264e+01, 1.85714304e+00,\n",
       "          1.01528571e+03],\n",
       "         [3.50000000e+01, 1.74285717e+01, 7.42857132e+01, 1.11142855e+01,\n",
       "          1.01457141e+03]],\n",
       " \n",
       "        [[2.20000019e+01, 9.49999905e+00, 7.96666641e+01, 3.08333302e+00,\n",
       "          1.02179999e+03],\n",
       "         [2.30000019e+01, 1.40000000e+01, 6.01666679e+01, 4.01666641e+00,\n",
       "          1.02050000e+03],\n",
       "         [2.40000019e+01, 1.38333330e+01, 6.06666679e+01, 6.16666651e+00,\n",
       "          1.02050000e+03],\n",
       "         ...,\n",
       "         [4.70000000e+01, 1.44285717e+01, 9.27142868e+01, 8.48571396e+00,\n",
       "          1.00800000e+03],\n",
       "         [4.80000000e+01, 1.36666660e+01, 9.00000000e+01, 1.14440915e-07,\n",
       "          1.01266669e+03],\n",
       "         [4.89999924e+01, 1.55999994e+01, 7.84000015e+01, 1.22200003e+01,\n",
       "          1.01620001e+03]],\n",
       " \n",
       "        [[3.60000000e+01, 1.66250000e+01, 9.23750000e+01, 9.72500038e+00,\n",
       "          1.01637500e+03],\n",
       "         [3.70000000e+01, 1.66666660e+01, 7.13333359e+01, 8.63333321e+00,\n",
       "          1.01866669e+03],\n",
       "         [3.80000000e+01, 1.55999994e+01, 5.94000015e+01, 1.07400007e+01,\n",
       "          1.01859998e+03],\n",
       "         ...,\n",
       "         [6.09999924e+01, 1.90000000e+01, 5.40000000e+01, 1.57249994e+01,\n",
       "          1.01625000e+03],\n",
       "         [6.20000000e+01, 1.93333340e+01, 6.28333321e+01, 8.63333321e+00,\n",
       "          1.01616669e+03],\n",
       "         [6.30000076e+01, 1.76000004e+01, 7.10000000e+01, 5.55999994e+00,\n",
       "          1.01579999e+03]],\n",
       " \n",
       "        ...,\n",
       " \n",
       "        [[5.90000000e+01, 2.33333340e+01, 5.16666679e+01, 3.91111088e+00,\n",
       "          1.01311108e+03],\n",
       "         [6.00000000e+01, 2.44615383e+01, 4.79230766e+01, 6.41538477e+00,\n",
       "          1.01292310e+03],\n",
       "         [6.09999924e+01, 2.37500000e+01, 5.42500000e+01, 5.92999983e+00,\n",
       "          1.01215002e+03],\n",
       "         ...,\n",
       "         [8.40000000e+01, 2.65000000e+01, 3.93750000e+01, 1.04250002e+01,\n",
       "          1.00987500e+03],\n",
       "         [8.50000000e+01, 2.91000004e+01, 3.70999985e+01, 1.75900002e+01,\n",
       "          1.01020001e+03],\n",
       "         [8.60000000e+01, 2.95000000e+01, 3.86250000e+01, 1.36500006e+01,\n",
       "          1.00950000e+03]],\n",
       " \n",
       "        [[7.30000000e+01, 1.80000000e+01, 5.63333321e+01, 4.52222204e+00,\n",
       "          1.01655554e+03],\n",
       "         [7.39999924e+01, 1.98750000e+01, 5.47500000e+01, 7.17499971e+00,\n",
       "          1.01412500e+03],\n",
       "         [7.50000000e+01, 2.40000000e+01, 4.92000008e+01, 5.55999994e+00,\n",
       "          1.01109998e+03],\n",
       "         ...,\n",
       "         [9.79999924e+01, 2.56250000e+01, 2.93750000e+01, 8.33749962e+00,\n",
       "          1.01037500e+03],\n",
       "         [9.90000000e+01, 2.71250000e+01, 2.11249981e+01, 1.41250000e+01,\n",
       "          1.01062500e+03],\n",
       "         [1.00000000e+02, 2.78571434e+01, 1.94285717e+01, 1.93142853e+01,\n",
       "          1.00857141e+03]],\n",
       " \n",
       "        [[8.70000000e+01, 2.98888893e+01, 4.06666679e+01, 8.84444427e+00,\n",
       "          1.00900000e+03],\n",
       "         [8.79999924e+01, 3.10000000e+01, 3.45000000e+01, 1.32000008e+01,\n",
       "          1.00712500e+03],\n",
       "         [8.90000000e+01, 2.92857132e+01, 3.68571434e+01, 1.05857143e+01,\n",
       "          1.00714288e+03],\n",
       "         ...,\n",
       "         [1.12000000e+02, 3.29000015e+01, 4.09000015e+01, 8.89000034e+00,\n",
       "          1.00159998e+03],\n",
       "         [1.13000000e+02, 3.28750000e+01, 2.74999981e+01, 9.96249962e+00,\n",
       "          1.00212500e+03],\n",
       "         [1.14000000e+02, 3.20000000e+01, 2.71428547e+01, 1.21571426e+01,\n",
       "          1.00414288e+03]]], dtype=float32)}"
      ]
     },
     "execution_count": 79,
     "metadata": {},
     "output_type": "execute_result"
    }
   ],
   "source": [
    "prediction.predictions"
   ]
  },
  {
   "cell_type": "code",
   "execution_count": 80,
   "id": "f8d471f1-7a34-47ab-ad4d-8e95a5d10267",
   "metadata": {
    "tags": []
   },
   "outputs": [],
   "source": [
    "prediction = tests.infer(tf_fore_tab, include_label=False)"
   ]
  },
  {
   "cell_type": "code",
   "execution_count": 81,
   "id": "0528e31b-1551-465c-9c34-ce551364cf88",
   "metadata": {
    "tags": []
   },
   "outputs": [
    {
     "data": {
      "text/plain": [
       "{'infer_1': array([[[8.00000191e+00, 8.85714245e+00, 6.37142868e+01, 7.14285707e+00,\n",
       "          1.01871429e+03],\n",
       "         [8.99998665e+00, 1.40000000e+01, 5.12500000e+01, 1.25000000e+01,\n",
       "          1.01700000e+03],\n",
       "         [1.00000019e+01, 1.09999990e+01, 6.20000000e+01, 7.40000010e+00,\n",
       "          1.01566669e+03],\n",
       "         ...,\n",
       "         [3.30000000e+01, 1.62857151e+01, 7.75714264e+01, 1.32857144e+00,\n",
       "          1.01714288e+03],\n",
       "         [3.40000000e+01, 1.80000000e+01, 6.55714264e+01, 1.85714304e+00,\n",
       "          1.01528571e+03],\n",
       "         [3.50000000e+01, 1.74285717e+01, 7.42857132e+01, 1.11142855e+01,\n",
       "          1.01457141e+03]],\n",
       " \n",
       "        [[2.20000019e+01, 9.49999905e+00, 7.96666641e+01, 3.08333302e+00,\n",
       "          1.02179999e+03],\n",
       "         [2.30000019e+01, 1.40000000e+01, 6.01666679e+01, 4.01666641e+00,\n",
       "          1.02050000e+03],\n",
       "         [2.40000019e+01, 1.38333330e+01, 6.06666679e+01, 6.16666651e+00,\n",
       "          1.02050000e+03],\n",
       "         ...,\n",
       "         [4.70000000e+01, 1.44285717e+01, 9.27142868e+01, 8.48571396e+00,\n",
       "          1.00800000e+03],\n",
       "         [4.80000000e+01, 1.36666660e+01, 9.00000000e+01, 1.14440915e-07,\n",
       "          1.01266669e+03],\n",
       "         [4.89999924e+01, 1.55999994e+01, 7.84000015e+01, 1.22200003e+01,\n",
       "          1.01620001e+03]],\n",
       " \n",
       "        [[3.60000000e+01, 1.66250000e+01, 9.23750000e+01, 9.72500038e+00,\n",
       "          1.01637500e+03],\n",
       "         [3.70000000e+01, 1.66666660e+01, 7.13333359e+01, 8.63333321e+00,\n",
       "          1.01866669e+03],\n",
       "         [3.80000000e+01, 1.55999994e+01, 5.94000015e+01, 1.07400007e+01,\n",
       "          1.01859998e+03],\n",
       "         ...,\n",
       "         [6.09999924e+01, 1.90000000e+01, 5.40000000e+01, 1.57249994e+01,\n",
       "          1.01625000e+03],\n",
       "         [6.20000000e+01, 1.93333340e+01, 6.28333321e+01, 8.63333321e+00,\n",
       "          1.01616669e+03],\n",
       "         [6.30000076e+01, 1.76000004e+01, 7.10000000e+01, 5.55999994e+00,\n",
       "          1.01579999e+03]],\n",
       " \n",
       "        ...,\n",
       " \n",
       "        [[5.90000000e+01, 2.33333340e+01, 5.16666679e+01, 3.91111088e+00,\n",
       "          1.01311108e+03],\n",
       "         [6.00000000e+01, 2.44615383e+01, 4.79230766e+01, 6.41538477e+00,\n",
       "          1.01292310e+03],\n",
       "         [6.09999924e+01, 2.37500000e+01, 5.42500000e+01, 5.92999983e+00,\n",
       "          1.01215002e+03],\n",
       "         ...,\n",
       "         [8.40000000e+01, 2.65000000e+01, 3.93750000e+01, 1.04250002e+01,\n",
       "          1.00987500e+03],\n",
       "         [8.50000000e+01, 2.91000004e+01, 3.70999985e+01, 1.75900002e+01,\n",
       "          1.01020001e+03],\n",
       "         [8.60000000e+01, 2.95000000e+01, 3.86250000e+01, 1.36500006e+01,\n",
       "          1.00950000e+03]],\n",
       " \n",
       "        [[7.30000000e+01, 1.80000000e+01, 5.63333321e+01, 4.52222204e+00,\n",
       "          1.01655554e+03],\n",
       "         [7.39999924e+01, 1.98750000e+01, 5.47500000e+01, 7.17499971e+00,\n",
       "          1.01412500e+03],\n",
       "         [7.50000000e+01, 2.40000000e+01, 4.92000008e+01, 5.55999994e+00,\n",
       "          1.01109998e+03],\n",
       "         ...,\n",
       "         [9.79999924e+01, 2.56250000e+01, 2.93750000e+01, 8.33749962e+00,\n",
       "          1.01037500e+03],\n",
       "         [9.90000000e+01, 2.71250000e+01, 2.11249981e+01, 1.41250000e+01,\n",
       "          1.01062500e+03],\n",
       "         [1.00000000e+02, 2.78571434e+01, 1.94285717e+01, 1.93142853e+01,\n",
       "          1.00857141e+03]],\n",
       " \n",
       "        [[8.70000000e+01, 2.98888893e+01, 4.06666679e+01, 8.84444427e+00,\n",
       "          1.00900000e+03],\n",
       "         [8.79999924e+01, 3.10000000e+01, 3.45000000e+01, 1.32000008e+01,\n",
       "          1.00712500e+03],\n",
       "         [8.90000000e+01, 2.92857132e+01, 3.68571434e+01, 1.05857143e+01,\n",
       "          1.00714288e+03],\n",
       "         ...,\n",
       "         [1.12000000e+02, 3.29000015e+01, 4.09000015e+01, 8.89000034e+00,\n",
       "          1.00159998e+03],\n",
       "         [1.13000000e+02, 3.28750000e+01, 2.74999981e+01, 9.96249962e+00,\n",
       "          1.00212500e+03],\n",
       "         [1.14000000e+02, 3.20000000e+01, 2.71428547e+01, 1.21571426e+01,\n",
       "          1.00414288e+03]]], dtype=float32)}"
      ]
     },
     "execution_count": 81,
     "metadata": {},
     "output_type": "execute_result"
    }
   ],
   "source": [
    "prediction.predictions"
   ]
  },
  {
   "cell_type": "markdown",
   "id": "753a0f5b-0718-4d7f-9d80-d1982e07d061",
   "metadata": {
    "tags": []
   },
   "source": [
    "---"
   ]
  },
  {
   "cell_type": "code",
   "execution_count": 82,
   "id": "bca086ea-4ab0-4b69-839d-e01558b92999",
   "metadata": {
    "tags": []
   },
   "outputs": [
    {
     "name": "stdout",
     "output_type": "stream",
     "text": [
      "\n",
      "└── 👟 Success - Fit RobustScaler(copy=False) on the following columns:\n",
      "['wind', 'pressure']\n",
      "\n",
      "\n",
      "└── ⬇️ Info - The following columns have not yet been encoded:\n",
      "['humidity', 'temperature', 'day_of_year']\n",
      "\n",
      "\n",
      "└── 👟 Success - Fit StandardScaler(copy=False) on the following columns:\n",
      "['temperature', 'humidity', 'day_of_year']\n",
      "\n",
      "\n",
      "└── ✅ Success - All columns now have encoders associated with them.\n",
      "\n",
      "Warning - The number of samples <74> in your training Split\n",
      "is not evenly divisible by the `fold_count` <3> you specified.\n",
      "This can result in misleading performance metrics for the last Fold.\n",
      "\n",
      "\n",
      "└── 🔂 Success - created Queue consisting of 3 runs.\n",
      "\n"
     ]
    }
   ],
   "source": [
    "tf_fore_tab_fold = tests.tf_fore_tab.make_queue(fold_count=3)"
   ]
  },
  {
   "cell_type": "code",
   "execution_count": 83,
   "id": "892a8068-f8a0-4f40-9874-ba7c81bd19ad",
   "metadata": {
    "tags": []
   },
   "outputs": [
    {
     "name": "stderr",
     "output_type": "stream",
     "text": [
      "└── 📦 Caching - Fold #1:: 100%|██████████████████████| 4/4 [00:00<00:00, 319.34it/s]\n",
      "└── 📦 Caching - Fold #2:: 100%|██████████████████████| 4/4 [00:00<00:00, 301.59it/s]\n",
      "└── 📦 Caching - Fold #3:: 100%|██████████████████████| 4/4 [00:00<00:00, 327.36it/s]\n",
      "└── 🔮 Queue 215 // Fold #1::   0%|                            | 0/1 [00:00<?, ?it/s]"
     ]
    },
    {
     "name": "stdout",
     "output_type": "stream",
     "text": [
      "WARNING:tensorflow:Layers in a Sequential model should only have a single input tensor. Received: inputs=<keras.layers.recurrent_v2.GRU object at 0x188c6d750>. Consider rewriting this model with the Functional API.\n",
      "WARNING:tensorflow:Layers in a Sequential model should only have a single input tensor. Received: inputs=<keras.layers.core.dense.Dense object at 0x18900d450>. Consider rewriting this model with the Functional API.\n",
      "WARNING:tensorflow:Layers in a Sequential model should only have a single input tensor. Received: inputs=<keras.layers.core.dropout.Dropout object at 0x18900d450>. Consider rewriting this model with the Functional API.\n",
      "WARNING:tensorflow:Layers in a Sequential model should only have a single input tensor. Received: inputs=<keras.layers.core.dense.Dense object at 0x18900d450>. Consider rewriting this model with the Functional API.\n",
      "WARNING:tensorflow:Layers in a Sequential model should only have a single input tensor. Received: inputs=<keras.layers.core.dropout.Dropout object at 0x18900d450>. Consider rewriting this model with the Functional API.\n",
      "WARNING:tensorflow:Layers in a Sequential model should only have a single input tensor. Received: inputs=<keras.layers.core.reshape.Reshape object at 0x18900d450>. Consider rewriting this model with the Functional API.\n"
     ]
    },
    {
     "name": "stderr",
     "output_type": "stream",
     "text": [
      "└── 🔮 Queue 215 // Fold #1:: 100%|████████████████████| 1/1 [00:01<00:00,  1.50s/it]\n",
      "└── 🔮 Queue 215 // Fold #2::   0%|                            | 0/1 [00:00<?, ?it/s]"
     ]
    },
    {
     "name": "stdout",
     "output_type": "stream",
     "text": [
      "WARNING:tensorflow:Layers in a Sequential model should only have a single input tensor. Received: inputs=<keras.layers.recurrent_v2.GRU object at 0x187918710>. Consider rewriting this model with the Functional API.\n",
      "WARNING:tensorflow:Layers in a Sequential model should only have a single input tensor. Received: inputs=<keras.layers.core.dense.Dense object at 0x188c6d890>. Consider rewriting this model with the Functional API.\n",
      "WARNING:tensorflow:Layers in a Sequential model should only have a single input tensor. Received: inputs=<keras.layers.core.dropout.Dropout object at 0x188c6d890>. Consider rewriting this model with the Functional API.\n",
      "WARNING:tensorflow:Layers in a Sequential model should only have a single input tensor. Received: inputs=<keras.layers.core.dense.Dense object at 0x188c6d890>. Consider rewriting this model with the Functional API.\n",
      "WARNING:tensorflow:Layers in a Sequential model should only have a single input tensor. Received: inputs=<keras.layers.core.dropout.Dropout object at 0x188c6d890>. Consider rewriting this model with the Functional API.\n",
      "WARNING:tensorflow:Layers in a Sequential model should only have a single input tensor. Received: inputs=<keras.layers.core.reshape.Reshape object at 0x188c6d890>. Consider rewriting this model with the Functional API.\n"
     ]
    },
    {
     "name": "stderr",
     "output_type": "stream",
     "text": [
      "└── 🔮 Queue 215 // Fold #2:: 100%|████████████████████| 1/1 [00:01<00:00,  1.46s/it]\n",
      "└── 🔮 Queue 215 // Fold #3::   0%|                            | 0/1 [00:00<?, ?it/s]"
     ]
    },
    {
     "name": "stdout",
     "output_type": "stream",
     "text": [
      "WARNING:tensorflow:Layers in a Sequential model should only have a single input tensor. Received: inputs=<keras.layers.recurrent_v2.GRU object at 0x18b3bcb90>. Consider rewriting this model with the Functional API.\n",
      "WARNING:tensorflow:Layers in a Sequential model should only have a single input tensor. Received: inputs=<keras.layers.core.dense.Dense object at 0x1888f3cd0>. Consider rewriting this model with the Functional API.\n",
      "WARNING:tensorflow:Layers in a Sequential model should only have a single input tensor. Received: inputs=<keras.layers.core.dropout.Dropout object at 0x1888f3cd0>. Consider rewriting this model with the Functional API.\n",
      "WARNING:tensorflow:Layers in a Sequential model should only have a single input tensor. Received: inputs=<keras.layers.core.dense.Dense object at 0x1888f3cd0>. Consider rewriting this model with the Functional API.\n",
      "WARNING:tensorflow:Layers in a Sequential model should only have a single input tensor. Received: inputs=<keras.layers.core.dropout.Dropout object at 0x1888f3cd0>. Consider rewriting this model with the Functional API.\n",
      "WARNING:tensorflow:Layers in a Sequential model should only have a single input tensor. Received: inputs=<keras.layers.core.reshape.Reshape object at 0x1888f3cd0>. Consider rewriting this model with the Functional API.\n"
     ]
    },
    {
     "name": "stderr",
     "output_type": "stream",
     "text": [
      "└── 🔮 Queue 215 // Fold #3:: 100%|████████████████████| 1/1 [00:01<00:00,  1.42s/it]\n"
     ]
    }
   ],
   "source": [
    "tf_fore_tab_fold.run_jobs()"
   ]
  },
  {
   "cell_type": "code",
   "execution_count": 84,
   "id": "dcf2764f-77ff-4be8-a7d2-08f3770391da",
   "metadata": {
    "tags": []
   },
   "outputs": [],
   "source": [
    "prediction = tests.infer(tf_fore_tab_fold, include_label=False)"
   ]
  },
  {
   "cell_type": "code",
   "execution_count": 85,
   "id": "63f1889a-8a4b-419e-9510-f97226e0230e",
   "metadata": {
    "tags": []
   },
   "outputs": [
    {
     "data": {
      "text/plain": [
       "{'infer_0': array([[[8.00000191e+00, 8.85714245e+00, 6.37142868e+01, 7.14285707e+00,\n",
       "          1.01871429e+03],\n",
       "         [8.99998665e+00, 1.40000000e+01, 5.12500000e+01, 1.25000000e+01,\n",
       "          1.01700000e+03],\n",
       "         [1.00000019e+01, 1.09999990e+01, 6.20000000e+01, 7.40000010e+00,\n",
       "          1.01566669e+03],\n",
       "         ...,\n",
       "         [3.30000000e+01, 1.62857151e+01, 7.75714264e+01, 1.32857144e+00,\n",
       "          1.01714288e+03],\n",
       "         [3.40000000e+01, 1.80000000e+01, 6.55714264e+01, 1.85714304e+00,\n",
       "          1.01528571e+03],\n",
       "         [3.50000000e+01, 1.74285717e+01, 7.42857132e+01, 1.11142855e+01,\n",
       "          1.01457141e+03]],\n",
       " \n",
       "        [[2.20000019e+01, 9.49999905e+00, 7.96666641e+01, 3.08333302e+00,\n",
       "          1.02179999e+03],\n",
       "         [2.30000019e+01, 1.40000000e+01, 6.01666679e+01, 4.01666641e+00,\n",
       "          1.02050000e+03],\n",
       "         [2.40000019e+01, 1.38333330e+01, 6.06666679e+01, 6.16666651e+00,\n",
       "          1.02050000e+03],\n",
       "         ...,\n",
       "         [4.70000000e+01, 1.44285717e+01, 9.27142868e+01, 8.48571396e+00,\n",
       "          1.00800000e+03],\n",
       "         [4.80000000e+01, 1.36666660e+01, 9.00000000e+01, 1.14440915e-07,\n",
       "          1.01266669e+03],\n",
       "         [4.89999924e+01, 1.55999994e+01, 7.84000015e+01, 1.22200003e+01,\n",
       "          1.01620001e+03]],\n",
       " \n",
       "        [[3.60000000e+01, 1.66250000e+01, 9.23750000e+01, 9.72500038e+00,\n",
       "          1.01637500e+03],\n",
       "         [3.70000000e+01, 1.66666660e+01, 7.13333359e+01, 8.63333321e+00,\n",
       "          1.01866669e+03],\n",
       "         [3.80000000e+01, 1.55999994e+01, 5.94000015e+01, 1.07400007e+01,\n",
       "          1.01859998e+03],\n",
       "         ...,\n",
       "         [6.09999924e+01, 1.90000000e+01, 5.40000000e+01, 1.57249994e+01,\n",
       "          1.01625000e+03],\n",
       "         [6.20000000e+01, 1.93333340e+01, 6.28333321e+01, 8.63333321e+00,\n",
       "          1.01616669e+03],\n",
       "         [6.30000076e+01, 1.76000004e+01, 7.10000000e+01, 5.55999994e+00,\n",
       "          1.01579999e+03]],\n",
       " \n",
       "        ...,\n",
       " \n",
       "        [[5.90000000e+01, 2.33333340e+01, 5.16666679e+01, 3.91111088e+00,\n",
       "          1.01311108e+03],\n",
       "         [6.00000000e+01, 2.44615383e+01, 4.79230766e+01, 6.41538477e+00,\n",
       "          1.01292310e+03],\n",
       "         [6.09999924e+01, 2.37500000e+01, 5.42500000e+01, 5.92999983e+00,\n",
       "          1.01215002e+03],\n",
       "         ...,\n",
       "         [8.40000000e+01, 2.65000000e+01, 3.93750000e+01, 1.04250002e+01,\n",
       "          1.00987500e+03],\n",
       "         [8.50000000e+01, 2.91000004e+01, 3.70999985e+01, 1.75900002e+01,\n",
       "          1.01020001e+03],\n",
       "         [8.60000000e+01, 2.95000000e+01, 3.86250000e+01, 1.36500006e+01,\n",
       "          1.00950000e+03]],\n",
       " \n",
       "        [[7.30000000e+01, 1.80000000e+01, 5.63333321e+01, 4.52222204e+00,\n",
       "          1.01655554e+03],\n",
       "         [7.39999924e+01, 1.98750000e+01, 5.47500000e+01, 7.17499971e+00,\n",
       "          1.01412500e+03],\n",
       "         [7.50000000e+01, 2.40000000e+01, 4.92000008e+01, 5.55999994e+00,\n",
       "          1.01109998e+03],\n",
       "         ...,\n",
       "         [9.79999924e+01, 2.56250000e+01, 2.93750000e+01, 8.33749962e+00,\n",
       "          1.01037500e+03],\n",
       "         [9.90000000e+01, 2.71250000e+01, 2.11249981e+01, 1.41250000e+01,\n",
       "          1.01062500e+03],\n",
       "         [1.00000000e+02, 2.78571434e+01, 1.94285717e+01, 1.93142853e+01,\n",
       "          1.00857141e+03]],\n",
       " \n",
       "        [[8.70000000e+01, 2.98888893e+01, 4.06666679e+01, 8.84444427e+00,\n",
       "          1.00900000e+03],\n",
       "         [8.79999924e+01, 3.10000000e+01, 3.45000000e+01, 1.32000008e+01,\n",
       "          1.00712500e+03],\n",
       "         [8.90000000e+01, 2.92857132e+01, 3.68571434e+01, 1.05857143e+01,\n",
       "          1.00714288e+03],\n",
       "         ...,\n",
       "         [1.12000000e+02, 3.29000015e+01, 4.09000015e+01, 8.89000034e+00,\n",
       "          1.00159998e+03],\n",
       "         [1.13000000e+02, 3.28750000e+01, 2.74999981e+01, 9.96249962e+00,\n",
       "          1.00212500e+03],\n",
       "         [1.14000000e+02, 3.20000000e+01, 2.71428547e+01, 1.21571426e+01,\n",
       "          1.00414288e+03]]], dtype=float32)}"
      ]
     },
     "execution_count": 85,
     "metadata": {},
     "output_type": "execute_result"
    }
   ],
   "source": [
    "prediction.predictions"
   ]
  },
  {
   "cell_type": "markdown",
   "id": "2ffc9268-b241-4c86-9bb1-4e3cac119b7b",
   "metadata": {
    "tags": []
   },
   "source": [
    "---"
   ]
  },
  {
   "cell_type": "code",
   "execution_count": 86,
   "id": "5d25b985-d427-40de-afdf-29c4b6a09144",
   "metadata": {
    "tags": []
   },
   "outputs": [
    {
     "name": "stdout",
     "output_type": "stream",
     "text": [
      "\n",
      "└── 👟 Success - Fit FunctionTransformer(func=<function div255 at 0x106f034d0>,\n",
      "                    inverse_func=<function mult255 at 0x14d9bc5f0>) on 50 columns.\n",
      "\n",
      "\n",
      "└── ✅ Success - All columns now have encoders associated with them.\n",
      "\n",
      "\n",
      "└── 🔂 Success - created Queue consisting of 1 runs.\n",
      "\n"
     ]
    }
   ],
   "source": [
    "tf_fore_img = tests.tf_fore_img.make_queue()"
   ]
  },
  {
   "cell_type": "code",
   "execution_count": 87,
   "id": "0521150c-ef0c-4d86-b846-16756a8c3283",
   "metadata": {
    "tags": []
   },
   "outputs": [
    {
     "name": "stderr",
     "output_type": "stream",
     "text": [
      "└── 📦 Caching Splits:: 100%|█████████████████████████| 3/3 [00:00<00:00, 325.41it/s]\n",
      "└── 🔮 Queue #216:: 100%|██████████████████████████████| 1/1 [00:02<00:00,  2.46s/it]\n"
     ]
    }
   ],
   "source": [
    "tf_fore_img.run_jobs()"
   ]
  },
  {
   "cell_type": "code",
   "execution_count": 88,
   "id": "692429cc-74f7-4b6e-ac4d-4a32ad3d12fe",
   "metadata": {
    "tags": []
   },
   "outputs": [],
   "source": [
    "prediction = tests.infer(tf_fore_img, include_label=False)"
   ]
  },
  {
   "cell_type": "code",
   "execution_count": 89,
   "id": "9a980841-a962-4607-a19c-3f3d4827ddf3",
   "metadata": {
    "tags": []
   },
   "outputs": [
    {
     "data": {
      "text/plain": [
       "{'infer_0': array([[[ 710.49805 ,  654.1924  ,  608.0002  , ...,  234.85121 ,\n",
       "          1266.6934  ,  964.65985 ],\n",
       "         [1334.2096  , 1225.0159  , 1106.3784  , ...,  129.0903  ,\n",
       "          1546.6442  , 1499.1863  ],\n",
       "         [1416.9258  , 1265.9688  , 1134.4349  , ...,  132.69438 ,\n",
       "          1596.3914  , 1546.3724  ],\n",
       "         ...,\n",
       "         [2833.563   , 2655.7832  , 2397.2275  , ...,  386.31482 ,\n",
       "          3327.8499  , 2844.642   ],\n",
       "         [2841.5127  , 2692.5173  , 2372.043   , ...,  361.3456  ,\n",
       "          3272.6409  , 2865.9163  ],\n",
       "         [2245.4058  , 1459.8601  , 1985.0254  , ...,   87.54323 ,\n",
       "          1373.2578  , 1316.3033  ]],\n",
       " \n",
       "        [[ 739.69165 ,  675.7815  ,  589.1978  , ...,  244.58795 ,\n",
       "          1231.1157  ,  948.9164  ],\n",
       "         [1352.0144  , 1179.3951  , 1100.1971  , ...,  114.3786  ,\n",
       "          1505.3606  , 1425.4366  ],\n",
       "         [1429.3418  , 1212.3201  , 1100.4126  , ...,  111.773766,\n",
       "          1542.4037  , 1477.9539  ],\n",
       "         ...,\n",
       "         [2889.4382  , 2737.815   , 2470.7854  , ...,  407.1895  ,\n",
       "          3431.737   , 2917.1172  ],\n",
       "         [2901.367   , 2777.4382  , 2438.482   , ...,  379.81985 ,\n",
       "          3371.3167  , 2939.568   ],\n",
       "         [2289.5771  , 1502.0525  , 2039.0975  , ...,   95.02078 ,\n",
       "          1415.963   , 1351.3568  ]],\n",
       " \n",
       "        [[ 737.238   ,  675.66565 ,  582.76404 , ...,  238.70624 ,\n",
       "          1213.9844  ,  940.8906  ],\n",
       "         [1323.232   , 1162.4056  , 1079.9075  , ...,  124.53183 ,\n",
       "          1522.1257  , 1411.4504  ],\n",
       "         [1401.8501  , 1189.8359  , 1104.0332  , ...,  134.46318 ,\n",
       "          1573.8812  , 1459.469   ],\n",
       "         ...,\n",
       "         [2927.256   , 2772.6724  , 2501.2507  , ...,  412.32162 ,\n",
       "          3475.8254  , 2955.8083  ],\n",
       "         [2939.507   , 2813.1514  , 2469.1191  , ...,  384.41458 ,\n",
       "          3415.5078  , 2978.8152  ],\n",
       "         [2319.8818  , 1522.0847  , 2065.6353  , ...,   95.87523 ,\n",
       "          1434.7115  , 1370.0309  ]],\n",
       " \n",
       "        ...,\n",
       " \n",
       "        [[ 430.77753 ,  389.56503 ,  349.34277 , ...,  136.72757 ,\n",
       "           720.1959  ,  549.6201  ],\n",
       "         [ 774.68713 ,  688.2754  ,  638.27576 , ...,   72.151794,\n",
       "           913.123   ,  839.2764  ],\n",
       "         [ 822.2094  ,  708.9865  ,  665.5965  , ...,   78.94228 ,\n",
       "           956.10077 ,  867.35657 ],\n",
       "         ...,\n",
       "         [2872.8413  , 2713.6836  , 2448.1892  , ...,  402.38528 ,\n",
       "          3403.4001  , 2896.4448  ],\n",
       "         [2884.2568  , 2753.665   , 2418.7505  , ...,  376.2052  ,\n",
       "          3346.0427  , 2918.586   ],\n",
       "         [2277.7153  , 1490.7157  , 2024.318   , ...,   93.68954 ,\n",
       "          1405.0743  , 1342.1636  ]],\n",
       " \n",
       "        [[ 416.1174  ,  374.72998 ,  335.46085 , ...,  131.66345 ,\n",
       "           692.1959  ,  529.6597  ],\n",
       "         [ 742.55426 ,  661.0448  ,  611.7202  , ...,   71.94037 ,\n",
       "           867.2279  ,  806.1867  ],\n",
       "         [ 786.6161  ,  680.33417 ,  632.1101  , ...,   77.538635,\n",
       "           901.85016 ,  830.00415 ],\n",
       "         ...,\n",
       "         [2888.338   , 2713.329   , 2450.0208  , ...,  397.94977 ,\n",
       "          3399.1045  , 2903.3193  ],\n",
       "         [2899.3235  , 2753.3086  , 2425.1597  , ...,  374.8692  ,\n",
       "          3346.147   , 2926.3066  ],\n",
       "         [2297.0862  , 1494.227   , 2030.1207  , ...,   91.98151 ,\n",
       "          1404.6688  , 1343.9502  ]],\n",
       " \n",
       "        [[ 415.00018 ,  373.0536  ,  333.30106 , ...,  130.72603 ,\n",
       "           688.0911  ,  526.95557 ],\n",
       "         [ 740.1951  ,  656.52264 ,  608.4175  , ...,   71.24387 ,\n",
       "           862.75824 ,  802.15015 ],\n",
       "         [ 784.04663 ,  675.45874 ,  629.082   , ...,   76.939674,\n",
       "           897.3544  ,  826.09143 ],\n",
       "         ...,\n",
       "         [2882.1177  , 2721.8752  , 2456.4106  , ...,  396.505   ,\n",
       "          3402.9243  , 2902.1792  ],\n",
       "         [2884.8157  , 2754.9233  , 2422.437   , ...,  369.3711  ,\n",
       "          3341.418   , 2920.1858  ],\n",
       "         [2267.599   , 1488.6536  , 2022.5441  , ...,   88.94342 ,\n",
       "          1404.3693  , 1340.3287  ]]], dtype=float32)}"
      ]
     },
     "execution_count": 89,
     "metadata": {},
     "output_type": "execute_result"
    }
   ],
   "source": [
    "prediction.predictions"
   ]
  },
  {
   "cell_type": "markdown",
   "id": "0426ffe7-95b6-47b5-a2da-98ba31161bde",
   "metadata": {
    "tags": []
   },
   "source": [
    "---"
   ]
  },
  {
   "cell_type": "code",
   "execution_count": 90,
   "id": "2f922591-1b4d-4790-ae1c-7ea7bb68a8b7",
   "metadata": {
    "tags": []
   },
   "outputs": [
    {
     "name": "stdout",
     "output_type": "stream",
     "text": [
      "\n",
      "└── 👟 Success - Fit FunctionTransformer(func=<function div255 at 0x106f034d0>,\n",
      "                    inverse_func=<function mult255 at 0x14d9bc5f0>) on 50 columns.\n",
      "\n",
      "\n",
      "└── ✅ Success - All columns now have encoders associated with them.\n",
      "\n",
      "Warning - The number of samples <4> in your training Split\n",
      "is not evenly divisible by the `fold_count` <3> you specified.\n",
      "This can result in misleading performance metrics for the last Fold.\n",
      "\n",
      "\n",
      "└── 🔂 Success - created Queue consisting of 3 runs.\n",
      "\n"
     ]
    }
   ],
   "source": [
    "tf_fore_img_fold = tests.tf_fore_img.make_queue(fold_count=3)"
   ]
  },
  {
   "cell_type": "code",
   "execution_count": 91,
   "id": "74de53c4-d8d9-4b55-8fcb-00c33b7b6043",
   "metadata": {
    "tags": []
   },
   "outputs": [
    {
     "name": "stderr",
     "output_type": "stream",
     "text": [
      "└── 📦 Caching - Fold #1:: 100%|██████████████████████| 4/4 [00:00<00:00, 336.20it/s]\n",
      "└── 📦 Caching - Fold #2:: 100%|██████████████████████| 4/4 [00:00<00:00, 341.76it/s]\n",
      "└── 📦 Caching - Fold #3:: 100%|██████████████████████| 4/4 [00:00<00:00, 223.99it/s]\n",
      "└── 🔮 Queue 217 // Fold #1::   0%|                            | 0/1 [00:00<?, ?it/s]"
     ]
    },
    {
     "name": "stdout",
     "output_type": "stream",
     "text": [
      "WARNING:tensorflow:5 out of the last 29 calls to <function Model.make_predict_function.<locals>.predict_function at 0x1891ea5f0> triggered tf.function retracing. Tracing is expensive and the excessive number of tracings could be due to (1) creating @tf.function repeatedly in a loop, (2) passing tensors with different shapes, (3) passing Python objects instead of tensors. For (1), please define your @tf.function outside of the loop. For (2), @tf.function has experimental_relax_shapes=True option that relaxes argument shapes that can avoid unnecessary retracing. For (3), please refer to https://www.tensorflow.org/guide/function#controlling_retracing and https://www.tensorflow.org/api_docs/python/tf/function for  more details.\n"
     ]
    },
    {
     "name": "stderr",
     "output_type": "stream",
     "text": [
      "└── 🔮 Queue 217 // Fold #1:: 100%|████████████████████| 1/1 [00:02<00:00,  2.79s/it]\n",
      "└── 🔮 Queue 217 // Fold #2::   0%|                            | 0/1 [00:00<?, ?it/s]"
     ]
    },
    {
     "name": "stdout",
     "output_type": "stream",
     "text": [
      "WARNING:tensorflow:5 out of the last 13 calls to <function Model.make_predict_function.<locals>.predict_function at 0x18b52f8c0> triggered tf.function retracing. Tracing is expensive and the excessive number of tracings could be due to (1) creating @tf.function repeatedly in a loop, (2) passing tensors with different shapes, (3) passing Python objects instead of tensors. For (1), please define your @tf.function outside of the loop. For (2), @tf.function has experimental_relax_shapes=True option that relaxes argument shapes that can avoid unnecessary retracing. For (3), please refer to https://www.tensorflow.org/guide/function#controlling_retracing and https://www.tensorflow.org/api_docs/python/tf/function for  more details.\n"
     ]
    },
    {
     "name": "stderr",
     "output_type": "stream",
     "text": [
      "└── 🔮 Queue 217 // Fold #2:: 100%|████████████████████| 1/1 [00:02<00:00,  2.42s/it]\n",
      "└── 🔮 Queue 217 // Fold #3:: 100%|████████████████████| 1/1 [00:02<00:00,  2.45s/it]\n"
     ]
    }
   ],
   "source": [
    "tf_fore_img_fold.run_jobs()"
   ]
  },
  {
   "cell_type": "code",
   "execution_count": 92,
   "id": "0a8522a2-d3c1-4dba-a700-69f270dbc22d",
   "metadata": {
    "tags": []
   },
   "outputs": [],
   "source": [
    "prediction = tests.infer(tf_fore_img_fold, include_label=False)"
   ]
  },
  {
   "cell_type": "code",
   "execution_count": 93,
   "id": "4be59ade-fbed-4e8a-a0d3-2bee617d5c1b",
   "metadata": {
    "tags": []
   },
   "outputs": [
    {
     "data": {
      "text/plain": [
       "{'infer_0': array([[[ 341.87872 ,  270.13623 ,  150.09795 , ...,    0.      ,\n",
       "           682.14294 ,  505.99707 ],\n",
       "         [ 388.59152 ,  625.9602  ,  115.32529 , ...,    0.      ,\n",
       "          1073.0256  ,  506.22668 ],\n",
       "         [ 391.94608 ,  688.6082  ,   98.577034, ...,    0.      ,\n",
       "          1150.9624  ,  496.68286 ],\n",
       "         ...,\n",
       "         [ 865.41907 , 1333.1091  ,    0.      , ...,    0.      ,\n",
       "          2857.089   ,  951.7304  ],\n",
       "         [ 638.1151  , 1148.9883  ,    0.      , ...,    0.      ,\n",
       "          2510.0828  ,  963.62427 ],\n",
       "         [ 656.07056 ,  938.5399  ,  266.39124 , ...,    0.      ,\n",
       "          1565.7341  ,  349.89557 ]],\n",
       " \n",
       "        [[ 354.81323 ,  263.686   ,  151.85793 , ...,    0.      ,\n",
       "           702.26953 ,  515.9747  ],\n",
       "         [ 396.65897 ,  615.2078  ,   60.722218, ...,    0.      ,\n",
       "          1117.6285  ,  517.42096 ],\n",
       "         [ 398.7954  ,  690.2211  ,   47.621006, ...,    0.      ,\n",
       "          1182.151   ,  517.89606 ],\n",
       "         ...,\n",
       "         [ 838.64166 , 1312.7391  ,    0.      , ...,    0.      ,\n",
       "          2806.6177  ,  941.4046  ],\n",
       "         [ 631.5251  , 1133.5376  ,    0.      , ...,    0.      ,\n",
       "          2478.717   ,  942.05963 ],\n",
       "         [ 620.2912  ,  907.4252  ,  244.52109 , ...,    0.      ,\n",
       "          1533.1959  ,  327.76556 ]],\n",
       " \n",
       "        [[ 310.44424 ,  263.86618 ,  143.16829 , ...,    0.      ,\n",
       "           555.4633  ,  465.5176  ],\n",
       "         [ 353.79144 ,  511.1614  ,   76.328575, ...,    0.      ,\n",
       "           960.4524  ,  486.5566  ],\n",
       "         [ 382.1061  ,  593.2949  ,  115.22587 , ...,    0.      ,\n",
       "          1003.07965 ,  460.8317  ],\n",
       "         ...,\n",
       "         [ 838.2948  , 1308.843   ,    0.      , ...,    0.      ,\n",
       "          2791.6748  ,  943.32825 ],\n",
       "         [ 635.8597  , 1131.57    ,    0.      , ...,    0.      ,\n",
       "          2469.0334  ,  941.9559  ],\n",
       "         [ 622.1789  ,  904.15625 ,  244.16284 , ...,    0.      ,\n",
       "          1531.0824  ,  325.8962  ]],\n",
       " \n",
       "        ...,\n",
       " \n",
       "        [[ 235.53586 ,  156.52739 ,  152.21669 , ...,    0.      ,\n",
       "           406.9815  ,  357.57022 ],\n",
       "         [ 251.9627  ,  371.16553 ,  139.24998 , ...,    0.      ,\n",
       "           661.95264 ,  402.32153 ],\n",
       "         [ 273.7177  ,  407.3817  ,  159.97546 , ...,    0.      ,\n",
       "           697.9735  ,  399.80997 ],\n",
       "         ...,\n",
       "         [ 858.6819  , 1333.8391  ,    0.      , ...,    0.      ,\n",
       "          2861.538   ,  952.2397  ],\n",
       "         [ 639.7894  , 1146.6165  ,    0.      , ...,    0.      ,\n",
       "          2522.796   ,  959.77216 ],\n",
       "         [ 644.14386 ,  933.0266  ,  256.22473 , ...,    0.      ,\n",
       "          1564.9056  ,  341.2804  ]],\n",
       " \n",
       "        [[ 233.96405 ,  156.62933 ,  143.72998 , ...,    0.      ,\n",
       "           401.6118  ,  350.33218 ],\n",
       "         [ 248.96796 ,  363.21887 ,  126.30603 , ...,    0.      ,\n",
       "           653.37836 ,  391.57584 ],\n",
       "         [ 266.90274 ,  403.3548  ,  142.7217  , ...,    0.      ,\n",
       "           688.2191  ,  386.13455 ],\n",
       "         ...,\n",
       "         [ 873.1464  , 1337.962   ,    0.      , ...,    0.      ,\n",
       "          2871.3567  ,  957.08685 ],\n",
       "         [ 643.9892  , 1153.7628  ,    0.      , ...,    0.      ,\n",
       "          2526.0396  ,  968.9243  ],\n",
       "         [ 662.22546 ,  945.078   ,  263.01395 , ...,    0.      ,\n",
       "          1574.0886  ,  350.71756 ]],\n",
       " \n",
       "        [[ 231.01904 ,  154.45784 ,  143.55354 , ...,    0.      ,\n",
       "           397.7067  ,  346.27875 ],\n",
       "         [ 245.86316 ,  359.5494  ,  125.60428 , ...,    0.      ,\n",
       "           646.81964 ,  388.6262  ],\n",
       "         [ 265.18762 ,  399.1367  ,  142.5011  , ...,    0.      ,\n",
       "           680.5862  ,  383.08514 ],\n",
       "         ...,\n",
       "         [ 863.47534 , 1335.5944  ,    0.      , ...,    0.      ,\n",
       "          2881.4014  ,  952.13885 ],\n",
       "         [ 642.6718  , 1145.2255  ,    0.      , ...,    0.      ,\n",
       "          2534.8416  ,  961.38446 ],\n",
       "         [ 647.8696  ,  933.3002  ,  261.2792  , ...,    0.      ,\n",
       "          1570.6836  ,  336.26843 ]]], dtype=float32)}"
      ]
     },
     "execution_count": 93,
     "metadata": {},
     "output_type": "execute_result"
    }
   ],
   "source": [
    "prediction.predictions"
   ]
  },
  {
   "cell_type": "markdown",
   "id": "76964846-eeb4-4d3f-afc7-c17907c409f2",
   "metadata": {
    "tags": []
   },
   "source": [
    "---"
   ]
  },
  {
   "cell_type": "markdown",
   "id": "03a218ac-eb18-4946-befe-7f6fa780de34",
   "metadata": {
    "tags": []
   },
   "source": [
    "# PyTorch"
   ]
  },
  {
   "cell_type": "code",
   "execution_count": 94,
   "id": "238f1fca-6005-47c8-b232-b218dd3e346e",
   "metadata": {
    "tags": []
   },
   "outputs": [
    {
     "name": "stdout",
     "output_type": "stream",
     "text": [
      "\n",
      "└── 👟 Success - Fit StandardScaler(copy=False) on the following columns:\n",
      "['sepal_length', 'sepal_width', 'petal_length', 'petal_width']\n",
      "\n",
      "\n",
      "└── ✅ Success - All columns now have encoders associated with them.\n",
      "\n",
      "\n",
      "└── 🔂 Success - created Queue consisting of 1 runs.\n",
      "\n"
     ]
    }
   ],
   "source": [
    "torch_multi_tab = tests.torch_multi_tab.make_queue()"
   ]
  },
  {
   "cell_type": "code",
   "execution_count": 95,
   "id": "8e20f321-4acc-4271-be1e-7cb2254b394c",
   "metadata": {
    "tags": []
   },
   "outputs": [
    {
     "name": "stderr",
     "output_type": "stream",
     "text": [
      "└── 📦 Caching Splits:: 100%|█████████████████████████| 3/3 [00:00<00:00, 456.42it/s]\n",
      "└── 🔮 Queue #218:: 100%|██████████████████████████████| 1/1 [00:03<00:00,  3.47s/it]\n"
     ]
    }
   ],
   "source": [
    "torch_multi_tab.run_jobs()"
   ]
  },
  {
   "cell_type": "code",
   "execution_count": 96,
   "id": "48822315-dac0-4471-b8a7-c3c0e8419188",
   "metadata": {
    "tags": []
   },
   "outputs": [],
   "source": [
    "prediction = tests.infer(torch_multi_tab)"
   ]
  },
  {
   "cell_type": "code",
   "execution_count": 97,
   "id": "79550ecf-c81b-4a6c-8e47-4b5d46637ab8",
   "metadata": {
    "tags": []
   },
   "outputs": [
    {
     "data": {
      "text/plain": [
       "{'infer_0': {'accuracy': 0.187,\n",
       "  'f1': 0.153,\n",
       "  'loss': 1.167,\n",
       "  'precision': 0.129,\n",
       "  'recall': 0.187,\n",
       "  'roc_auc': 0.201}}"
      ]
     },
     "execution_count": 97,
     "metadata": {},
     "output_type": "execute_result"
    }
   ],
   "source": [
    "prediction.metrics"
   ]
  },
  {
   "cell_type": "code",
   "execution_count": 98,
   "id": "10001141-c4a4-4a89-98fa-677135894b38",
   "metadata": {
    "tags": []
   },
   "outputs": [
    {
     "data": {
      "text/plain": [
       "{'infer_0': array(['virginica', 'virginica', 'virginica', 'virginica', 'virginica',\n",
       "        'versicolor', 'virginica', 'virginica', 'virginica', 'virginica',\n",
       "        'virginica', 'virginica', 'virginica', 'virginica', 'versicolor',\n",
       "        'versicolor', 'virginica', 'virginica', 'versicolor', 'virginica',\n",
       "        'virginica', 'virginica', 'virginica', 'virginica', 'virginica',\n",
       "        'virginica', 'virginica', 'virginica', 'virginica', 'virginica',\n",
       "        'virginica', 'virginica', 'versicolor', 'versicolor', 'virginica',\n",
       "        'virginica', 'virginica', 'virginica', 'virginica', 'virginica',\n",
       "        'virginica', 'virginica', 'virginica', 'virginica', 'virginica',\n",
       "        'virginica', 'virginica', 'virginica', 'virginica', 'virginica',\n",
       "        'versicolor', 'versicolor', 'versicolor', 'virginica',\n",
       "        'versicolor', 'virginica', 'versicolor', 'virginica', 'versicolor',\n",
       "        'virginica', 'virginica', 'versicolor', 'virginica', 'versicolor',\n",
       "        'virginica', 'versicolor', 'versicolor', 'virginica', 'virginica',\n",
       "        'virginica', 'versicolor', 'virginica', 'virginica', 'versicolor',\n",
       "        'versicolor', 'versicolor', 'versicolor', 'versicolor',\n",
       "        'versicolor', 'virginica', 'virginica', 'virginica', 'virginica',\n",
       "        'virginica', 'virginica', 'versicolor', 'versicolor', 'virginica',\n",
       "        'virginica', 'virginica', 'virginica', 'versicolor', 'virginica',\n",
       "        'virginica', 'virginica', 'virginica', 'virginica', 'versicolor',\n",
       "        'virginica', 'virginica', 'versicolor', 'virginica', 'versicolor',\n",
       "        'versicolor', 'versicolor', 'versicolor', 'virginica',\n",
       "        'versicolor', 'versicolor', 'versicolor', 'versicolor',\n",
       "        'versicolor', 'versicolor', 'virginica', 'versicolor',\n",
       "        'versicolor', 'versicolor', 'versicolor', 'versicolor',\n",
       "        'virginica', 'versicolor', 'virginica', 'versicolor', 'versicolor',\n",
       "        'versicolor', 'versicolor', 'versicolor', 'versicolor',\n",
       "        'versicolor', 'versicolor', 'versicolor', 'versicolor',\n",
       "        'versicolor', 'versicolor', 'versicolor', 'versicolor',\n",
       "        'versicolor', 'versicolor', 'versicolor', 'versicolor',\n",
       "        'versicolor', 'versicolor', 'virginica', 'versicolor',\n",
       "        'versicolor', 'versicolor', 'virginica', 'versicolor',\n",
       "        'versicolor', 'versicolor'], dtype=object)}"
      ]
     },
     "execution_count": 98,
     "metadata": {},
     "output_type": "execute_result"
    }
   ],
   "source": [
    "prediction.predictions"
   ]
  },
  {
   "cell_type": "code",
   "execution_count": 99,
   "id": "84def0ae-fb52-4196-87d2-d49c5bcd1b4f",
   "metadata": {
    "tags": []
   },
   "outputs": [],
   "source": [
    "prediction = tests.infer(torch_multi_tab, include_label=False)"
   ]
  },
  {
   "cell_type": "code",
   "execution_count": 100,
   "id": "4cd60eaf-d112-4e30-88d5-72b342e94bab",
   "metadata": {
    "tags": []
   },
   "outputs": [
    {
     "data": {
      "text/plain": [
       "{'infer_1': array(['virginica', 'virginica', 'virginica', 'virginica', 'virginica',\n",
       "        'versicolor', 'virginica', 'virginica', 'virginica', 'virginica',\n",
       "        'virginica', 'virginica', 'virginica', 'virginica', 'versicolor',\n",
       "        'versicolor', 'virginica', 'virginica', 'versicolor', 'virginica',\n",
       "        'virginica', 'virginica', 'virginica', 'virginica', 'virginica',\n",
       "        'virginica', 'virginica', 'virginica', 'virginica', 'virginica',\n",
       "        'virginica', 'virginica', 'versicolor', 'versicolor', 'virginica',\n",
       "        'virginica', 'virginica', 'virginica', 'virginica', 'virginica',\n",
       "        'virginica', 'virginica', 'virginica', 'virginica', 'virginica',\n",
       "        'virginica', 'virginica', 'virginica', 'virginica', 'virginica',\n",
       "        'versicolor', 'versicolor', 'versicolor', 'virginica',\n",
       "        'versicolor', 'virginica', 'versicolor', 'virginica', 'versicolor',\n",
       "        'virginica', 'virginica', 'versicolor', 'virginica', 'versicolor',\n",
       "        'virginica', 'versicolor', 'versicolor', 'virginica', 'virginica',\n",
       "        'virginica', 'versicolor', 'virginica', 'virginica', 'versicolor',\n",
       "        'versicolor', 'versicolor', 'versicolor', 'versicolor',\n",
       "        'versicolor', 'virginica', 'virginica', 'virginica', 'virginica',\n",
       "        'virginica', 'virginica', 'versicolor', 'versicolor', 'virginica',\n",
       "        'virginica', 'virginica', 'virginica', 'versicolor', 'virginica',\n",
       "        'virginica', 'virginica', 'virginica', 'virginica', 'versicolor',\n",
       "        'virginica', 'virginica', 'versicolor', 'virginica', 'versicolor',\n",
       "        'versicolor', 'versicolor', 'versicolor', 'virginica',\n",
       "        'versicolor', 'versicolor', 'versicolor', 'versicolor',\n",
       "        'versicolor', 'versicolor', 'virginica', 'versicolor',\n",
       "        'versicolor', 'versicolor', 'versicolor', 'versicolor',\n",
       "        'virginica', 'versicolor', 'virginica', 'versicolor', 'versicolor',\n",
       "        'versicolor', 'versicolor', 'versicolor', 'versicolor',\n",
       "        'versicolor', 'versicolor', 'versicolor', 'versicolor',\n",
       "        'versicolor', 'versicolor', 'versicolor', 'versicolor',\n",
       "        'versicolor', 'versicolor', 'versicolor', 'versicolor',\n",
       "        'versicolor', 'versicolor', 'virginica', 'versicolor',\n",
       "        'versicolor', 'versicolor', 'virginica', 'versicolor',\n",
       "        'versicolor', 'versicolor'], dtype=object)}"
      ]
     },
     "execution_count": 100,
     "metadata": {},
     "output_type": "execute_result"
    }
   ],
   "source": [
    "prediction.predictions"
   ]
  },
  {
   "cell_type": "markdown",
   "id": "b6f120e5-c643-47a7-b61b-90a7ab8d038b",
   "metadata": {
    "tags": []
   },
   "source": [
    "---"
   ]
  },
  {
   "cell_type": "code",
   "execution_count": 101,
   "id": "2c21dae4-a2f3-49fa-8266-94d1fa23f277",
   "metadata": {
    "tags": []
   },
   "outputs": [
    {
     "name": "stdout",
     "output_type": "stream",
     "text": [
      "\n",
      "└── 👟 Success - Fit StandardScaler(copy=False) on the following columns:\n",
      "['sepal_length', 'sepal_width', 'petal_length', 'petal_width']\n",
      "\n",
      "\n",
      "└── ✅ Success - All columns now have encoders associated with them.\n",
      "\n",
      "\n",
      "└── 🔂 Success - created Queue consisting of 3 runs.\n",
      "\n"
     ]
    }
   ],
   "source": [
    "torch_multi_tab_fold = tests.torch_multi_tab.make_queue(fold_count=3)"
   ]
  },
  {
   "cell_type": "code",
   "execution_count": 102,
   "id": "aa770cb6-20c5-49c0-a195-b1deba2a1407",
   "metadata": {
    "tags": []
   },
   "outputs": [
    {
     "name": "stderr",
     "output_type": "stream",
     "text": [
      "└── 📦 Caching - Fold #1:: 100%|██████████████████████| 4/4 [00:00<00:00, 389.21it/s]\n",
      "└── 📦 Caching - Fold #2:: 100%|██████████████████████| 4/4 [00:00<00:00, 406.92it/s]\n",
      "└── 📦 Caching - Fold #3:: 100%|██████████████████████| 4/4 [00:00<00:00, 412.16it/s]\n",
      "└── 🔮 Queue 219 // Fold #1:: 100%|████████████████████| 1/1 [00:21<00:00, 21.07s/it]\n",
      "└── 🔮 Queue 219 // Fold #2:: 100%|████████████████████| 1/1 [00:19<00:00, 19.79s/it]\n",
      "└── 🔮 Queue 219 // Fold #3:: 100%|████████████████████| 1/1 [00:19<00:00, 19.97s/it]\n"
     ]
    }
   ],
   "source": [
    "torch_multi_tab_fold.run_jobs()"
   ]
  },
  {
   "cell_type": "code",
   "execution_count": 103,
   "id": "136cd376-88c9-48bb-b202-606349451ac9",
   "metadata": {
    "tags": []
   },
   "outputs": [],
   "source": [
    "prediction = tests.infer(torch_multi_tab_fold)"
   ]
  },
  {
   "cell_type": "code",
   "execution_count": 104,
   "id": "8a1a8d77-91c0-4ca4-ae41-91c6c14f7d75",
   "metadata": {
    "tags": []
   },
   "outputs": [
    {
     "data": {
      "text/plain": [
       "{'infer_0': {'accuracy': 0.287,\n",
       "  'f1': 0.212,\n",
       "  'loss': 1.09,\n",
       "  'precision': 0.169,\n",
       "  'recall': 0.287,\n",
       "  'roc_auc': 0.483}}"
      ]
     },
     "execution_count": 104,
     "metadata": {},
     "output_type": "execute_result"
    }
   ],
   "source": [
    "prediction.metrics"
   ]
  },
  {
   "cell_type": "code",
   "execution_count": 105,
   "id": "e43dee9a-8e82-45eb-bc0e-c0167aa8ec7c",
   "metadata": {
    "tags": []
   },
   "outputs": [
    {
     "data": {
      "text/plain": [
       "{'infer_0': array([2, 1, 1, ..., 2, 2, 2])}"
      ]
     },
     "execution_count": 105,
     "metadata": {},
     "output_type": "execute_result"
    }
   ],
   "source": [
    "prediction.predictions"
   ]
  },
  {
   "cell_type": "code",
   "execution_count": 106,
   "id": "115e4c8d-edb0-48c2-86be-968149b2a5a9",
   "metadata": {
    "tags": []
   },
   "outputs": [],
   "source": [
    "prediction = tests.infer(torch_multi_tab_fold, include_label=False)"
   ]
  },
  {
   "cell_type": "code",
   "execution_count": 107,
   "id": "9b911fbb-4820-4752-9985-4e46652e7a01",
   "metadata": {
    "tags": []
   },
   "outputs": [
    {
     "data": {
      "text/plain": [
       "{'infer_1': array([2, 1, 1, ..., 2, 2, 2])}"
      ]
     },
     "execution_count": 107,
     "metadata": {},
     "output_type": "execute_result"
    }
   ],
   "source": [
    "prediction.predictions"
   ]
  },
  {
   "cell_type": "markdown",
   "id": "bf77842a-0466-406e-af04-6874f612f4da",
   "metadata": {
    "tags": []
   },
   "source": [
    "---"
   ]
  },
  {
   "cell_type": "code",
   "execution_count": 108,
   "id": "da7a5661-f54e-41a5-8a2e-81086b88ff57",
   "metadata": {
    "tags": []
   },
   "outputs": [
    {
     "name": "stdout",
     "output_type": "stream",
     "text": [
      "\n",
      "└── 👟 Success - Fit MinMaxScaler(copy=False) on the following columns:\n",
      "['crim', 'zn', 'indus', 'nox', 'rm', 'age', 'dis', 'ptratio', 'lstat']\n",
      "\n",
      "\n",
      "└── ⬇️ Info - The following columns have not yet been encoded:\n",
      "['rad', 'chas', 'tax']\n",
      "\n",
      "\n",
      "└── 👟 Success - Fit OrdinalEncoder() on the following columns:\n",
      "['rad', 'chas', 'tax']\n",
      "\n",
      "\n",
      "└── ✅ Success - All columns now have encoders associated with them.\n",
      "\n",
      "\n",
      "└── 🔂 Success - created Queue consisting of 2 runs.\n",
      "\n"
     ]
    }
   ],
   "source": [
    "torch_reg_tab = tests.torch_reg_tab.make_queue()"
   ]
  },
  {
   "cell_type": "code",
   "execution_count": 109,
   "id": "c9ce5e6d-3af0-4103-9a16-15bf19dc673a",
   "metadata": {
    "tags": []
   },
   "outputs": [
    {
     "name": "stderr",
     "output_type": "stream",
     "text": [
      "└── 📦 Caching Splits:: 100%|█████████████████████████| 3/3 [00:00<00:00, 352.24it/s]\n",
      "└── 🔮 Queue #220:: 100%|██████████████████████████████| 2/2 [00:02<00:00,  1.37s/it]\n"
     ]
    }
   ],
   "source": [
    "torch_reg_tab.run_jobs()"
   ]
  },
  {
   "cell_type": "code",
   "execution_count": 110,
   "id": "d965a347-2dd5-41f4-b28b-a251f356a0ff",
   "metadata": {
    "tags": []
   },
   "outputs": [],
   "source": [
    "prediction = tests.infer(torch_reg_tab)"
   ]
  },
  {
   "cell_type": "code",
   "execution_count": 111,
   "id": "62ac6e5c-347a-445f-9509-d3ba62dbd3d9",
   "metadata": {
    "tags": []
   },
   "outputs": [
    {
     "data": {
      "text/plain": [
       "{'infer_0': {'explained_variance': 0.049,\n",
       "  'loss': 0.724,\n",
       "  'mse': 0.968,\n",
       "  'r2': 0.049}}"
      ]
     },
     "execution_count": 111,
     "metadata": {},
     "output_type": "execute_result"
    }
   ],
   "source": [
    "prediction.metrics"
   ]
  },
  {
   "cell_type": "code",
   "execution_count": 112,
   "id": "cac46c92-6a74-4393-af6e-6be41d97f907",
   "metadata": {
    "tags": []
   },
   "outputs": [
    {
     "data": {
      "text/plain": [
       "{'infer_0': array([21.518719, 21.3067  , 21.303734, 21.308487, 21.307909, 21.311682,\n",
       "        21.55404 , 21.562525, 21.567007, 21.559256, 21.56242 , 21.55777 ,\n",
       "        21.543917, 21.587624, 21.592651, 21.586271, 21.580963, 21.591766,\n",
       "        21.581467, 21.588528, 21.594767, 21.593252, 21.593836, 21.595606,\n",
       "        21.594624, 21.592562, 21.593933, 21.593527, 21.595093, 21.593412,\n",
       "        21.594305, 21.595829, 21.5918  , 21.594173, 21.594767, 21.541769,\n",
       "        21.544075, 21.54517 , 21.5467  , 21.384542, 21.3829  , 21.342524,\n",
       "        21.346354, 21.3471  , 21.344837, 21.348845, 21.350676, 21.344759,\n",
       "        21.35464 , 21.348696, 21.406183, 21.400076, 21.403002, 21.40736 ,\n",
       "        20.623993, 21.396633, 21.562243, 21.468536, 21.608072, 21.607372,\n",
       "        21.606886, 21.605167, 21.60561 , 21.60654 , 21.296234, 21.194056,\n",
       "        21.20251 , 21.164959, 21.173481, 21.169006, 21.59928 , 21.60012 ,\n",
       "        21.5999  , 21.59937 , 20.859621, 20.874014, 20.887579, 20.876371,\n",
       "        20.878513, 20.871363, 21.512815, 21.509516, 21.516247, 21.515524,\n",
       "        21.389652, 21.385305, 21.394201, 21.389318, 21.399101, 21.402678,\n",
       "        21.405304, 21.403757, 21.479706, 21.483408, 21.478941, 21.427649,\n",
       "        21.42777 , 21.420702, 21.427464, 21.424852, 20.962786, 20.958355,\n",
       "        20.965652, 20.968485, 20.969212, 20.975378, 20.975197, 20.969643,\n",
       "        20.971577, 20.971785, 20.956896, 20.639383, 20.648567, 20.649427,\n",
       "        20.6416  , 20.646486, 20.638096, 20.639946, 20.641514, 20.63715 ,\n",
       "        21.252684, 21.24987 , 21.251268, 21.256056, 21.251234, 21.249853,\n",
       "        21.25906 , 20.673899, 20.672977, 20.673702, 20.670177, 20.668932,\n",
       "        20.668215, 20.670399, 20.673122, 20.673233, 20.672337, 20.67214 ,\n",
       "        20.677895, 20.675402, 20.67856 , 20.688715, 20.864515, 20.852114,\n",
       "        20.85428 , 20.853577, 20.845469, 20.853697, 20.852028, 20.847145,\n",
       "        20.842625, 20.843157, 20.850368, 20.844128, 20.854359, 20.849354,\n",
       "        20.842728, 20.825647, 20.828215, 20.838259, 20.83673 , 20.821114,\n",
       "        20.83477 , 20.83417 , 20.82771 , 20.826746, 20.823698, 20.824306,\n",
       "        20.82923 , 20.82867 , 20.830956, 20.829735, 21.596687, 21.590925,\n",
       "        21.597908, 21.600405, 21.601963, 21.593607, 21.590094, 21.285616,\n",
       "        21.2789  , 21.293243, 21.279922, 21.283691, 21.295595, 21.294258,\n",
       "        21.280315, 20.870865, 20.863224, 20.867147, 20.856447, 20.85933 ,\n",
       "        20.856258, 21.377   , 21.37594 , 21.424183, 21.50081 , 21.507637,\n",
       "        21.50626 , 20.871225, 20.870588, 21.196514, 21.185587, 21.336687,\n",
       "        21.335163, 21.510653, 21.50395 , 21.508024, 21.505537, 21.508783,\n",
       "        21.503208, 21.510433, 21.508696, 21.505688, 21.524569, 21.505554,\n",
       "        21.533548, 21.524118, 21.530422, 21.524242, 21.536037, 21.54305 ,\n",
       "        21.53051 , 21.526768, 21.527916, 21.532188, 21.529549, 21.526821,\n",
       "        21.49238 , 21.490953, 21.521313, 21.523546, 21.521101, 21.521515,\n",
       "        21.523386, 21.517614, 21.527916, 21.518816, 21.613474, 21.613005,\n",
       "        21.612305, 21.612827, 21.613102, 21.613987, 21.254658, 21.255968,\n",
       "        21.238546, 21.253984, 21.244282, 21.232061, 21.231468, 21.228745,\n",
       "        21.223633, 21.223284, 21.549181, 21.54752 , 21.34817 , 21.474773,\n",
       "        21.482544, 21.485003, 21.48651 , 21.482447, 21.476183, 21.484985,\n",
       "        21.484535, 21.499416, 21.489895, 21.480614, 21.485207, 21.318432,\n",
       "        21.326525, 21.323599, 21.317135, 21.30418 , 21.431913, 21.435389,\n",
       "        21.42777 , 21.432503, 21.441721, 21.385515, 21.37392 , 21.383005,\n",
       "        21.370394, 21.187922, 21.480024, 21.540956, 21.26647 , 21.612589,\n",
       "        21.61195 , 21.612482, 21.409784, 21.40852 , 21.412527, 21.553343,\n",
       "        21.550842, 21.54843 , 21.546247, 21.551886, 20.987158, 20.983648,\n",
       "        20.997316, 21.292875, 21.284033, 21.281786, 21.45936 , 21.463287,\n",
       "        21.455301, 21.459871, 21.590986, 21.592075, 21.602928, 21.596704,\n",
       "        21.588703, 21.590872, 21.589571, 21.593641, 21.591766, 21.594013,\n",
       "        21.593058, 21.59636 , 21.57165 , 21.571508, 21.575169, 21.57508 ,\n",
       "        21.574188, 21.579458, 21.577593, 21.57768 , 20.714464, 20.70959 ,\n",
       "        20.714115, 21.558655, 21.558558, 21.418873, 21.419516, 21.422804,\n",
       "        21.423832, 21.422144, 21.423304, 21.423445, 21.421537, 21.463182,\n",
       "        20.85459 , 20.97531 , 20.962086, 21.103537, 21.10647 , 21.085915,\n",
       "        21.499073, 21.371902, 21.376413, 20.76924 , 20.76589 , 21.3417  ,\n",
       "        21.27682 , 21.274546, 20.438057, 20.433813, 20.428284, 20.422665,\n",
       "        20.421928, 20.428318, 20.426527, 20.434202, 20.426544, 20.416386,\n",
       "        20.42482 , 20.41838 , 20.415937, 20.42394 , 20.42399 , 20.421   ,\n",
       "        20.425293, 20.439123, 20.43783 , 20.422638, 20.428724, 20.431547,\n",
       "        20.426662, 20.428623, 20.397047, 20.42869 , 20.43339 , 20.434599,\n",
       "        20.42984 , 20.435116, 20.430264, 20.429993, 20.435774, 20.430838,\n",
       "        20.427845, 20.424093, 20.431852, 20.424633, 20.424185, 20.428953,\n",
       "        20.430567, 20.430618, 20.427557, 20.429451, 20.43016 , 20.429857,\n",
       "        20.431522, 20.422436, 20.418253, 20.411537, 20.425613, 20.42236 ,\n",
       "        20.430397, 20.425207, 20.40321 , 20.426027, 20.431168, 20.417654,\n",
       "        20.428133, 20.433813, 20.431007, 20.423721, 20.406672, 20.425022,\n",
       "        20.427998, 20.427574, 20.415634, 20.424135, 20.412146, 20.428522,\n",
       "        20.406612, 20.40728 , 20.423197, 20.43132 , 20.418736, 20.422909,\n",
       "        20.411411, 20.42514 , 20.423923, 20.432951, 20.42739 , 20.435656,\n",
       "        20.436993, 20.432224, 20.42661 , 20.431513, 20.431776, 20.432291,\n",
       "        20.432867, 20.433754, 20.431082, 20.42847 , 20.429113, 20.430956,\n",
       "        20.427862, 20.430532, 20.42732 , 20.430025, 20.428015, 20.426222,\n",
       "        20.426426, 20.420238, 20.421684, 20.420992, 20.426239, 20.42433 ,\n",
       "        20.420273, 20.420662, 20.409594, 20.405676, 20.420492, 20.424406,\n",
       "        20.408953, 20.40261 , 20.41625 , 20.414087, 20.412786, 20.410675,\n",
       "        20.420366, 20.427574, 20.424261, 20.425343, 20.42286 , 20.414883,\n",
       "        20.402636, 20.404604, 20.404966, 20.393585, 20.399351, 20.40006 ,\n",
       "        20.412373, 20.401876, 20.556387, 20.562428, 20.566381, 20.557713,\n",
       "        20.549242, 20.894346, 20.89166 , 20.889267, 20.906906, 20.90041 ,\n",
       "        20.89879 , 20.903408, 20.904615, 21.402035, 21.401808, 21.396713,\n",
       "        21.397678, 21.401228], dtype=float32)}"
      ]
     },
     "execution_count": 112,
     "metadata": {},
     "output_type": "execute_result"
    }
   ],
   "source": [
    "prediction.predictions"
   ]
  },
  {
   "cell_type": "code",
   "execution_count": 113,
   "id": "4b99e996-4d5f-432e-a46f-b2b0ca21aeba",
   "metadata": {
    "tags": []
   },
   "outputs": [],
   "source": [
    "prediction = tests.infer(torch_reg_tab, include_label=False)"
   ]
  },
  {
   "cell_type": "code",
   "execution_count": 114,
   "id": "fed4503f-08b4-4931-8c75-232f0c18f289",
   "metadata": {
    "tags": []
   },
   "outputs": [
    {
     "data": {
      "text/plain": [
       "{'infer_1': array([21.518719, 21.3067  , 21.303734, 21.308487, 21.307909, 21.311682,\n",
       "        21.55404 , 21.562525, 21.567007, 21.559256, 21.56242 , 21.55777 ,\n",
       "        21.543917, 21.587624, 21.592651, 21.586271, 21.580963, 21.591766,\n",
       "        21.581467, 21.588528, 21.594767, 21.593252, 21.593836, 21.595606,\n",
       "        21.594624, 21.592562, 21.593933, 21.593527, 21.595093, 21.593412,\n",
       "        21.594305, 21.595829, 21.5918  , 21.594173, 21.594767, 21.541769,\n",
       "        21.544075, 21.54517 , 21.5467  , 21.384542, 21.3829  , 21.342524,\n",
       "        21.346354, 21.3471  , 21.344837, 21.348845, 21.350676, 21.344759,\n",
       "        21.35464 , 21.348696, 21.406183, 21.400076, 21.403002, 21.40736 ,\n",
       "        20.623993, 21.396633, 21.562243, 21.468536, 21.608072, 21.607372,\n",
       "        21.606886, 21.605167, 21.60561 , 21.60654 , 21.296234, 21.194056,\n",
       "        21.20251 , 21.164959, 21.173481, 21.169006, 21.59928 , 21.60012 ,\n",
       "        21.5999  , 21.59937 , 20.859621, 20.874014, 20.887579, 20.876371,\n",
       "        20.878513, 20.871363, 21.512815, 21.509516, 21.516247, 21.515524,\n",
       "        21.389652, 21.385305, 21.394201, 21.389318, 21.399101, 21.402678,\n",
       "        21.405304, 21.403757, 21.479706, 21.483408, 21.478941, 21.427649,\n",
       "        21.42777 , 21.420702, 21.427464, 21.424852, 20.962786, 20.958355,\n",
       "        20.965652, 20.968485, 20.969212, 20.975378, 20.975197, 20.969643,\n",
       "        20.971577, 20.971785, 20.956896, 20.639383, 20.648567, 20.649427,\n",
       "        20.6416  , 20.646486, 20.638096, 20.639946, 20.641514, 20.63715 ,\n",
       "        21.252684, 21.24987 , 21.251268, 21.256056, 21.251234, 21.249853,\n",
       "        21.25906 , 20.673899, 20.672977, 20.673702, 20.670177, 20.668932,\n",
       "        20.668215, 20.670399, 20.673122, 20.673233, 20.672337, 20.67214 ,\n",
       "        20.677895, 20.675402, 20.67856 , 20.688715, 20.864515, 20.852114,\n",
       "        20.85428 , 20.853577, 20.845469, 20.853697, 20.852028, 20.847145,\n",
       "        20.842625, 20.843157, 20.850368, 20.844128, 20.854359, 20.849354,\n",
       "        20.842728, 20.825647, 20.828215, 20.838259, 20.83673 , 20.821114,\n",
       "        20.83477 , 20.83417 , 20.82771 , 20.826746, 20.823698, 20.824306,\n",
       "        20.82923 , 20.82867 , 20.830956, 20.829735, 21.596687, 21.590925,\n",
       "        21.597908, 21.600405, 21.601963, 21.593607, 21.590094, 21.285616,\n",
       "        21.2789  , 21.293243, 21.279922, 21.283691, 21.295595, 21.294258,\n",
       "        21.280315, 20.870865, 20.863224, 20.867147, 20.856447, 20.85933 ,\n",
       "        20.856258, 21.377   , 21.37594 , 21.424183, 21.50081 , 21.507637,\n",
       "        21.50626 , 20.871225, 20.870588, 21.196514, 21.185587, 21.336687,\n",
       "        21.335163, 21.510653, 21.50395 , 21.508024, 21.505537, 21.508783,\n",
       "        21.503208, 21.510433, 21.508696, 21.505688, 21.524569, 21.505554,\n",
       "        21.533548, 21.524118, 21.530422, 21.524242, 21.536037, 21.54305 ,\n",
       "        21.53051 , 21.526768, 21.527916, 21.532188, 21.529549, 21.526821,\n",
       "        21.49238 , 21.490953, 21.521313, 21.523546, 21.521101, 21.521515,\n",
       "        21.523386, 21.517614, 21.527916, 21.518816, 21.613474, 21.613005,\n",
       "        21.612305, 21.612827, 21.613102, 21.613987, 21.254658, 21.255968,\n",
       "        21.238546, 21.253984, 21.244282, 21.232061, 21.231468, 21.228745,\n",
       "        21.223633, 21.223284, 21.549181, 21.54752 , 21.34817 , 21.474773,\n",
       "        21.482544, 21.485003, 21.48651 , 21.482447, 21.476183, 21.484985,\n",
       "        21.484535, 21.499416, 21.489895, 21.480614, 21.485207, 21.318432,\n",
       "        21.326525, 21.323599, 21.317135, 21.30418 , 21.431913, 21.435389,\n",
       "        21.42777 , 21.432503, 21.441721, 21.385515, 21.37392 , 21.383005,\n",
       "        21.370394, 21.187922, 21.480024, 21.540956, 21.26647 , 21.612589,\n",
       "        21.61195 , 21.612482, 21.409784, 21.40852 , 21.412527, 21.553343,\n",
       "        21.550842, 21.54843 , 21.546247, 21.551886, 20.987158, 20.983648,\n",
       "        20.997316, 21.292875, 21.284033, 21.281786, 21.45936 , 21.463287,\n",
       "        21.455301, 21.459871, 21.590986, 21.592075, 21.602928, 21.596704,\n",
       "        21.588703, 21.590872, 21.589571, 21.593641, 21.591766, 21.594013,\n",
       "        21.593058, 21.59636 , 21.57165 , 21.571508, 21.575169, 21.57508 ,\n",
       "        21.574188, 21.579458, 21.577593, 21.57768 , 20.714464, 20.70959 ,\n",
       "        20.714115, 21.558655, 21.558558, 21.418873, 21.419516, 21.422804,\n",
       "        21.423832, 21.422144, 21.423304, 21.423445, 21.421537, 21.463182,\n",
       "        20.85459 , 20.97531 , 20.962086, 21.103537, 21.10647 , 21.085915,\n",
       "        21.499073, 21.371902, 21.376413, 20.76924 , 20.76589 , 21.3417  ,\n",
       "        21.27682 , 21.274546, 20.438057, 20.433813, 20.428284, 20.422665,\n",
       "        20.421928, 20.428318, 20.426527, 20.434202, 20.426544, 20.416386,\n",
       "        20.42482 , 20.41838 , 20.415937, 20.42394 , 20.42399 , 20.421   ,\n",
       "        20.425293, 20.439123, 20.43783 , 20.422638, 20.428724, 20.431547,\n",
       "        20.426662, 20.428623, 20.397047, 20.42869 , 20.43339 , 20.434599,\n",
       "        20.42984 , 20.435116, 20.430264, 20.429993, 20.435774, 20.430838,\n",
       "        20.427845, 20.424093, 20.431852, 20.424633, 20.424185, 20.428953,\n",
       "        20.430567, 20.430618, 20.427557, 20.429451, 20.43016 , 20.429857,\n",
       "        20.431522, 20.422436, 20.418253, 20.411537, 20.425613, 20.42236 ,\n",
       "        20.430397, 20.425207, 20.40321 , 20.426027, 20.431168, 20.417654,\n",
       "        20.428133, 20.433813, 20.431007, 20.423721, 20.406672, 20.425022,\n",
       "        20.427998, 20.427574, 20.415634, 20.424135, 20.412146, 20.428522,\n",
       "        20.406612, 20.40728 , 20.423197, 20.43132 , 20.418736, 20.422909,\n",
       "        20.411411, 20.42514 , 20.423923, 20.432951, 20.42739 , 20.435656,\n",
       "        20.436993, 20.432224, 20.42661 , 20.431513, 20.431776, 20.432291,\n",
       "        20.432867, 20.433754, 20.431082, 20.42847 , 20.429113, 20.430956,\n",
       "        20.427862, 20.430532, 20.42732 , 20.430025, 20.428015, 20.426222,\n",
       "        20.426426, 20.420238, 20.421684, 20.420992, 20.426239, 20.42433 ,\n",
       "        20.420273, 20.420662, 20.409594, 20.405676, 20.420492, 20.424406,\n",
       "        20.408953, 20.40261 , 20.41625 , 20.414087, 20.412786, 20.410675,\n",
       "        20.420366, 20.427574, 20.424261, 20.425343, 20.42286 , 20.414883,\n",
       "        20.402636, 20.404604, 20.404966, 20.393585, 20.399351, 20.40006 ,\n",
       "        20.412373, 20.401876, 20.556387, 20.562428, 20.566381, 20.557713,\n",
       "        20.549242, 20.894346, 20.89166 , 20.889267, 20.906906, 20.90041 ,\n",
       "        20.89879 , 20.903408, 20.904615, 21.402035, 21.401808, 21.396713,\n",
       "        21.397678, 21.401228], dtype=float32)}"
      ]
     },
     "execution_count": 114,
     "metadata": {},
     "output_type": "execute_result"
    }
   ],
   "source": [
    "prediction.predictions"
   ]
  },
  {
   "cell_type": "markdown",
   "id": "c1c17335-21ef-44f4-b2d1-0e845ef4efdb",
   "metadata": {
    "tags": []
   },
   "source": [
    "---"
   ]
  },
  {
   "cell_type": "code",
   "execution_count": 115,
   "id": "2542f216-b99e-4fb2-a4a8-08cca285a5e0",
   "metadata": {
    "tags": []
   },
   "outputs": [
    {
     "name": "stdout",
     "output_type": "stream",
     "text": [
      "\n",
      "└── 👟 Success - Fit MinMaxScaler(copy=False) on the following columns:\n",
      "['crim', 'zn', 'indus', 'nox', 'rm', 'age', 'dis', 'ptratio', 'lstat']\n",
      "\n",
      "\n",
      "└── ⬇️ Info - The following columns have not yet been encoded:\n",
      "['rad', 'chas', 'tax']\n",
      "\n",
      "\n",
      "└── 👟 Success - Fit OrdinalEncoder() on the following columns:\n",
      "['rad', 'chas', 'tax']\n",
      "\n",
      "\n",
      "└── ✅ Success - All columns now have encoders associated with them.\n",
      "\n",
      "Warning - The number of samples <343> in your training Split\n",
      "is not evenly divisible by the `fold_count` <3> you specified.\n",
      "This can result in misleading performance metrics for the last Fold.\n",
      "\n",
      "\n",
      "└── 🔂 Success - created Queue consisting of 6 runs.\n",
      "\n"
     ]
    }
   ],
   "source": [
    "torch_reg_tab_fold = tests.torch_reg_tab.make_queue(fold_count=3)"
   ]
  },
  {
   "cell_type": "code",
   "execution_count": 116,
   "id": "bd730076-aee5-4747-963b-4580d11a0f7d",
   "metadata": {
    "tags": []
   },
   "outputs": [
    {
     "name": "stderr",
     "output_type": "stream",
     "text": [
      "└── 📦 Caching - Fold #1:: 100%|██████████████████████| 4/4 [00:00<00:00, 349.26it/s]\n",
      "└── 📦 Caching - Fold #2:: 100%|██████████████████████| 4/4 [00:00<00:00, 370.75it/s]\n",
      "└── 📦 Caching - Fold #3:: 100%|██████████████████████| 4/4 [00:00<00:00, 449.79it/s]\n",
      "└── 🔮 Queue 221 // Fold #1:: 100%|████████████████████| 2/2 [00:01<00:00,  1.03it/s]\n",
      "└── 🔮 Queue 221 // Fold #2:: 100%|████████████████████| 2/2 [00:01<00:00,  1.05it/s]\n",
      "└── 🔮 Queue 221 // Fold #3:: 100%|████████████████████| 2/2 [00:01<00:00,  1.04it/s]\n"
     ]
    }
   ],
   "source": [
    "torch_reg_tab_fold.run_jobs()"
   ]
  },
  {
   "cell_type": "code",
   "execution_count": 117,
   "id": "d88139ce-8b3f-4c91-a311-e42509576eb2",
   "metadata": {
    "tags": []
   },
   "outputs": [],
   "source": [
    "prediction = tests.infer(torch_reg_tab_fold)"
   ]
  },
  {
   "cell_type": "code",
   "execution_count": 118,
   "id": "84ce8381-2e3b-451c-976f-71782b38503d",
   "metadata": {
    "tags": []
   },
   "outputs": [
    {
     "data": {
      "text/plain": [
       "{'infer_0': {'explained_variance': -0.07,\n",
       "  'loss': 0.829,\n",
       "  'mse': 1.241,\n",
       "  'r2': -0.082}}"
      ]
     },
     "execution_count": 118,
     "metadata": {},
     "output_type": "execute_result"
    }
   ],
   "source": [
    "prediction.metrics"
   ]
  },
  {
   "cell_type": "code",
   "execution_count": 119,
   "id": "088990ba-b5d3-4096-aee5-5b10e05b7754",
   "metadata": {
    "tags": []
   },
   "outputs": [
    {
     "data": {
      "text/plain": [
       "{'infer_0': array([20.298357, 20.054384, 20.049585, 19.973574, 19.97499 , 19.976162,\n",
       "        20.266956, 20.27125 , 20.277864, 20.271593, 20.272303, 20.268908,\n",
       "        20.268198, 20.269266, 20.270037, 20.269123, 20.26827 , 20.271383,\n",
       "        20.269503, 20.269678, 20.273504, 20.270992, 20.272688, 20.273344,\n",
       "        20.272255, 20.272297, 20.271927, 20.272554, 20.271002, 20.270416,\n",
       "        20.274345, 20.270998, 20.275734, 20.272503, 20.273155, 20.133802,\n",
       "        20.13494 , 20.134571, 20.13498 , 20.094145, 20.09186 , 20.010769,\n",
       "        20.012423, 20.01338 , 20.01558 , 20.015299, 20.017605, 20.022278,\n",
       "        20.031504, 20.021666, 20.032454, 20.029942, 20.025885, 20.028753,\n",
       "        21.32776 , 19.984383, 20.364067, 20.094002, 20.121058, 20.121569,\n",
       "        20.125984, 20.12645 , 20.120285, 20.122824, 19.97813 , 20.527891,\n",
       "        20.53767 , 20.548016, 20.559399, 20.553354, 20.261553, 20.26408 ,\n",
       "        20.261538, 20.262241, 20.89358 , 20.921535, 20.943743, 20.923449,\n",
       "        20.932089, 20.916899, 20.180809, 20.18209 , 20.182243, 20.1829  ,\n",
       "        20.072271, 20.069422, 20.074213, 20.070126, 20.155542, 20.155098,\n",
       "        20.157566, 20.15735 , 20.115978, 20.114649, 20.118177, 20.177341,\n",
       "        20.181286, 20.17379 , 20.173042, 20.17585 , 20.827501, 20.8198  ,\n",
       "        20.832932, 20.838121, 20.83795 , 20.847536, 20.847433, 20.836834,\n",
       "        20.84201 , 20.842943, 20.816486, 21.203047, 21.218317, 21.221422,\n",
       "        21.20489 , 21.214706, 21.19998 , 21.204489, 21.204435, 21.197586,\n",
       "        19.943045, 19.942728, 19.945   , 19.949669, 19.944817, 19.942657,\n",
       "        19.95091 , 21.295086, 21.293903, 21.296267, 21.290138, 21.289412,\n",
       "        21.287678, 21.29188 , 21.297157, 21.295992, 21.293129, 21.292555,\n",
       "        21.302088, 21.29786 , 21.303143, 21.322504, 21.067902, 21.056551,\n",
       "        21.057825, 21.05727 , 21.044712, 21.056734, 21.054293, 21.04771 ,\n",
       "        21.039358, 21.040522, 21.037865, 21.042763, 21.046139, 21.03832 ,\n",
       "        21.040945, 21.047197, 21.051723, 21.032537, 21.051987, 21.039232,\n",
       "        21.049854, 21.048151, 21.054407, 21.0528  , 21.04511 , 21.046787,\n",
       "        21.055708, 21.055624, 21.05879 , 21.05828 , 20.21544 , 20.211113,\n",
       "        20.212376, 20.209288, 20.21358 , 20.211092, 20.20981 , 19.938503,\n",
       "        19.93837 , 19.942759, 19.938137, 19.94052 , 19.94777 , 19.946522,\n",
       "        19.936956, 20.923176, 20.914026, 20.920513, 20.911575, 20.917253,\n",
       "        20.911497, 20.185646, 20.185728, 20.092478, 20.431702, 20.433348,\n",
       "        20.433115, 20.977676, 20.97652 , 20.653637, 20.640793, 19.987028,\n",
       "        19.986122, 20.143528, 20.144224, 20.15004 , 20.140865, 20.147484,\n",
       "        20.142586, 20.147331, 20.140917, 20.14195 , 20.155375, 20.142513,\n",
       "        20.104237, 20.10817 , 20.10667 , 20.10238 , 20.201965, 20.211514,\n",
       "        20.201925, 20.202961, 20.198305, 20.198542, 20.199192, 20.201515,\n",
       "        20.194256, 20.195683, 20.205801, 20.20113 , 20.198353, 20.198788,\n",
       "        20.20054 , 20.20454 , 20.203362, 20.201197, 20.212774, 20.213512,\n",
       "        20.215553, 20.217554, 20.217615, 20.213703, 20.31601 , 20.321188,\n",
       "        20.293598, 20.314487, 20.29901 , 20.28442 , 20.282211, 20.279781,\n",
       "        20.28181 , 20.281487, 20.425308, 20.424107, 20.068548, 20.065958,\n",
       "        20.06962 , 20.07007 , 20.0712  , 20.069529, 20.067827, 20.071903,\n",
       "        20.070024, 20.073753, 20.074396, 20.070984, 20.070688, 19.98343 ,\n",
       "        19.989893, 19.984745, 19.984785, 19.976805, 20.064455, 20.070646,\n",
       "        20.066917, 20.066202, 20.073458, 19.920563, 19.91948 , 19.92301 ,\n",
       "        19.915714, 20.00823 , 20.288572, 20.327438, 20.095596, 20.201218,\n",
       "        20.201536, 20.20168 , 20.052225, 20.051903, 20.05338 , 20.21383 ,\n",
       "        20.21537 , 20.212868, 20.213907, 20.220263, 20.728664, 20.72105 ,\n",
       "        20.746092, 20.270145, 20.264305, 20.26143 , 19.892307, 19.893082,\n",
       "        19.889578, 19.891485, 20.245197, 20.248484, 20.249756, 20.244963,\n",
       "        20.249027, 20.247374, 20.248302, 20.251265, 20.25456 , 20.253422,\n",
       "        20.248648, 20.250994, 20.183039, 20.18293 , 20.184263, 20.187052,\n",
       "        20.182817, 20.183474, 20.184406, 20.188435, 21.149452, 21.140417,\n",
       "        21.15209 , 20.32648 , 20.323992, 19.950346, 19.951048, 19.951294,\n",
       "        19.95144 , 19.952877, 19.949318, 19.950367, 19.950346, 20.26147 ,\n",
       "        21.148096, 20.784306, 20.763657, 20.701948, 20.705818, 20.652359,\n",
       "        20.188332, 20.539703, 20.54338 , 21.066181, 21.059471, 19.913282,\n",
       "        20.442602, 20.43865 , 21.346817, 21.334269, 21.32782 , 21.318695,\n",
       "        21.315657, 21.326727, 21.324732, 21.33495 , 21.317423, 21.32023 ,\n",
       "        21.33107 , 21.347357, 21.327148, 21.333124, 21.332241, 21.336819,\n",
       "        21.334991, 21.37199 , 21.380222, 21.341887, 21.351881, 21.350346,\n",
       "        21.358389, 21.355911, 21.37448 , 21.353418, 21.353275, 21.354025,\n",
       "        21.36256 , 21.365292, 21.366934, 21.364008, 21.365814, 21.348614,\n",
       "        21.34158 , 21.333551, 21.355885, 21.33638 , 21.341896, 21.342985,\n",
       "        21.343243, 21.34722 , 21.376148, 21.347599, 21.364775, 21.350794,\n",
       "        21.348814, 21.352932, 21.363327, 21.378157, 21.361616, 21.340609,\n",
       "        21.362724, 21.356628, 21.359524, 21.3589  , 21.381153, 21.365202,\n",
       "        21.389282, 21.366032, 21.351818, 21.359354, 21.378786, 21.335236,\n",
       "        21.340076, 21.33667 , 21.339712, 21.348782, 21.334074, 21.356033,\n",
       "        21.325846, 21.340197, 21.33646 , 21.3526  , 21.34406 , 21.3527  ,\n",
       "        21.32755 , 21.3325  , 21.339373, 21.346891, 21.340122, 21.356756,\n",
       "        21.358473, 21.345428, 21.348776, 21.3429  , 21.338793, 21.343723,\n",
       "        21.349943, 21.347715, 21.338455, 21.338455, 21.344257, 21.3446  ,\n",
       "        21.337568, 21.341253, 21.336622, 21.341084, 21.34194 , 21.334137,\n",
       "        21.336977, 21.330854, 21.33153 , 21.329433, 21.333946, 21.330084,\n",
       "        21.32717 , 21.325703, 21.319792, 21.308207, 21.336618, 21.354296,\n",
       "        21.339981, 21.324615, 21.340725, 21.34349 , 21.331139, 21.319134,\n",
       "        21.352215, 21.360518, 21.346897, 21.363522, 21.35045 , 21.338888,\n",
       "        21.324541, 21.32603 , 21.326103, 21.308239, 21.308989, 21.3119  ,\n",
       "        21.337172, 21.31381 , 21.448685, 21.460432, 21.468508, 21.452126,\n",
       "        21.436277, 20.853783, 20.848293, 20.844883, 20.878435, 20.867561,\n",
       "        20.861809, 20.870358, 20.872883, 20.182425, 20.182592, 20.179058,\n",
       "        20.180286, 20.18248 ], dtype=float32)}"
      ]
     },
     "execution_count": 119,
     "metadata": {},
     "output_type": "execute_result"
    }
   ],
   "source": [
    "prediction.predictions"
   ]
  },
  {
   "cell_type": "code",
   "execution_count": 120,
   "id": "06db154c-b749-4ec7-b983-14a31a5b5695",
   "metadata": {
    "tags": []
   },
   "outputs": [],
   "source": [
    "prediction = tests.infer(torch_reg_tab_fold, include_label=False)"
   ]
  },
  {
   "cell_type": "code",
   "execution_count": 121,
   "id": "6987ae1e-ef04-4ffa-a5bd-86a536d1829e",
   "metadata": {
    "tags": []
   },
   "outputs": [
    {
     "data": {
      "text/plain": [
       "{'infer_1': array([20.298357, 20.054384, 20.049585, 19.973574, 19.97499 , 19.976162,\n",
       "        20.266956, 20.27125 , 20.277864, 20.271593, 20.272303, 20.268908,\n",
       "        20.268198, 20.269266, 20.270037, 20.269123, 20.26827 , 20.271383,\n",
       "        20.269503, 20.269678, 20.273504, 20.270992, 20.272688, 20.273344,\n",
       "        20.272255, 20.272297, 20.271927, 20.272554, 20.271002, 20.270416,\n",
       "        20.274345, 20.270998, 20.275734, 20.272503, 20.273155, 20.133802,\n",
       "        20.13494 , 20.134571, 20.13498 , 20.094145, 20.09186 , 20.010769,\n",
       "        20.012423, 20.01338 , 20.01558 , 20.015299, 20.017605, 20.022278,\n",
       "        20.031504, 20.021666, 20.032454, 20.029942, 20.025885, 20.028753,\n",
       "        21.32776 , 19.984383, 20.364067, 20.094002, 20.121058, 20.121569,\n",
       "        20.125984, 20.12645 , 20.120285, 20.122824, 19.97813 , 20.527891,\n",
       "        20.53767 , 20.548016, 20.559399, 20.553354, 20.261553, 20.26408 ,\n",
       "        20.261538, 20.262241, 20.89358 , 20.921535, 20.943743, 20.923449,\n",
       "        20.932089, 20.916899, 20.180809, 20.18209 , 20.182243, 20.1829  ,\n",
       "        20.072271, 20.069422, 20.074213, 20.070126, 20.155542, 20.155098,\n",
       "        20.157566, 20.15735 , 20.115978, 20.114649, 20.118177, 20.177341,\n",
       "        20.181286, 20.17379 , 20.173042, 20.17585 , 20.827501, 20.8198  ,\n",
       "        20.832932, 20.838121, 20.83795 , 20.847536, 20.847433, 20.836834,\n",
       "        20.84201 , 20.842943, 20.816486, 21.203047, 21.218317, 21.221422,\n",
       "        21.20489 , 21.214706, 21.19998 , 21.204489, 21.204435, 21.197586,\n",
       "        19.943045, 19.942728, 19.945   , 19.949669, 19.944817, 19.942657,\n",
       "        19.95091 , 21.295086, 21.293903, 21.296267, 21.290138, 21.289412,\n",
       "        21.287678, 21.29188 , 21.297157, 21.295992, 21.293129, 21.292555,\n",
       "        21.302088, 21.29786 , 21.303143, 21.322504, 21.067902, 21.056551,\n",
       "        21.057825, 21.05727 , 21.044712, 21.056734, 21.054293, 21.04771 ,\n",
       "        21.039358, 21.040522, 21.037865, 21.042763, 21.046139, 21.03832 ,\n",
       "        21.040945, 21.047197, 21.051723, 21.032537, 21.051987, 21.039232,\n",
       "        21.049854, 21.048151, 21.054407, 21.0528  , 21.04511 , 21.046787,\n",
       "        21.055708, 21.055624, 21.05879 , 21.05828 , 20.21544 , 20.211113,\n",
       "        20.212376, 20.209288, 20.21358 , 20.211092, 20.20981 , 19.938503,\n",
       "        19.93837 , 19.942759, 19.938137, 19.94052 , 19.94777 , 19.946522,\n",
       "        19.936956, 20.923176, 20.914026, 20.920513, 20.911575, 20.917253,\n",
       "        20.911497, 20.185646, 20.185728, 20.092478, 20.431702, 20.433348,\n",
       "        20.433115, 20.977676, 20.97652 , 20.653637, 20.640793, 19.987028,\n",
       "        19.986122, 20.143528, 20.144224, 20.15004 , 20.140865, 20.147484,\n",
       "        20.142586, 20.147331, 20.140917, 20.14195 , 20.155375, 20.142513,\n",
       "        20.104237, 20.10817 , 20.10667 , 20.10238 , 20.201965, 20.211514,\n",
       "        20.201925, 20.202961, 20.198305, 20.198542, 20.199192, 20.201515,\n",
       "        20.194256, 20.195683, 20.205801, 20.20113 , 20.198353, 20.198788,\n",
       "        20.20054 , 20.20454 , 20.203362, 20.201197, 20.212774, 20.213512,\n",
       "        20.215553, 20.217554, 20.217615, 20.213703, 20.31601 , 20.321188,\n",
       "        20.293598, 20.314487, 20.29901 , 20.28442 , 20.282211, 20.279781,\n",
       "        20.28181 , 20.281487, 20.425308, 20.424107, 20.068548, 20.065958,\n",
       "        20.06962 , 20.07007 , 20.0712  , 20.069529, 20.067827, 20.071903,\n",
       "        20.070024, 20.073753, 20.074396, 20.070984, 20.070688, 19.98343 ,\n",
       "        19.989893, 19.984745, 19.984785, 19.976805, 20.064455, 20.070646,\n",
       "        20.066917, 20.066202, 20.073458, 19.920563, 19.91948 , 19.92301 ,\n",
       "        19.915714, 20.00823 , 20.288572, 20.327438, 20.095596, 20.201218,\n",
       "        20.201536, 20.20168 , 20.052225, 20.051903, 20.05338 , 20.21383 ,\n",
       "        20.21537 , 20.212868, 20.213907, 20.220263, 20.728664, 20.72105 ,\n",
       "        20.746092, 20.270145, 20.264305, 20.26143 , 19.892307, 19.893082,\n",
       "        19.889578, 19.891485, 20.245197, 20.248484, 20.249756, 20.244963,\n",
       "        20.249027, 20.247374, 20.248302, 20.251265, 20.25456 , 20.253422,\n",
       "        20.248648, 20.250994, 20.183039, 20.18293 , 20.184263, 20.187052,\n",
       "        20.182817, 20.183474, 20.184406, 20.188435, 21.149452, 21.140417,\n",
       "        21.15209 , 20.32648 , 20.323992, 19.950346, 19.951048, 19.951294,\n",
       "        19.95144 , 19.952877, 19.949318, 19.950367, 19.950346, 20.26147 ,\n",
       "        21.148096, 20.784306, 20.763657, 20.701948, 20.705818, 20.652359,\n",
       "        20.188332, 20.539703, 20.54338 , 21.066181, 21.059471, 19.913282,\n",
       "        20.442602, 20.43865 , 21.346817, 21.334269, 21.32782 , 21.318695,\n",
       "        21.315657, 21.326727, 21.324732, 21.33495 , 21.317423, 21.32023 ,\n",
       "        21.33107 , 21.347357, 21.327148, 21.333124, 21.332241, 21.336819,\n",
       "        21.334991, 21.37199 , 21.380222, 21.341887, 21.351881, 21.350346,\n",
       "        21.358389, 21.355911, 21.37448 , 21.353418, 21.353275, 21.354025,\n",
       "        21.36256 , 21.365292, 21.366934, 21.364008, 21.365814, 21.348614,\n",
       "        21.34158 , 21.333551, 21.355885, 21.33638 , 21.341896, 21.342985,\n",
       "        21.343243, 21.34722 , 21.376148, 21.347599, 21.364775, 21.350794,\n",
       "        21.348814, 21.352932, 21.363327, 21.378157, 21.361616, 21.340609,\n",
       "        21.362724, 21.356628, 21.359524, 21.3589  , 21.381153, 21.365202,\n",
       "        21.389282, 21.366032, 21.351818, 21.359354, 21.378786, 21.335236,\n",
       "        21.340076, 21.33667 , 21.339712, 21.348782, 21.334074, 21.356033,\n",
       "        21.325846, 21.340197, 21.33646 , 21.3526  , 21.34406 , 21.3527  ,\n",
       "        21.32755 , 21.3325  , 21.339373, 21.346891, 21.340122, 21.356756,\n",
       "        21.358473, 21.345428, 21.348776, 21.3429  , 21.338793, 21.343723,\n",
       "        21.349943, 21.347715, 21.338455, 21.338455, 21.344257, 21.3446  ,\n",
       "        21.337568, 21.341253, 21.336622, 21.341084, 21.34194 , 21.334137,\n",
       "        21.336977, 21.330854, 21.33153 , 21.329433, 21.333946, 21.330084,\n",
       "        21.32717 , 21.325703, 21.319792, 21.308207, 21.336618, 21.354296,\n",
       "        21.339981, 21.324615, 21.340725, 21.34349 , 21.331139, 21.319134,\n",
       "        21.352215, 21.360518, 21.346897, 21.363522, 21.35045 , 21.338888,\n",
       "        21.324541, 21.32603 , 21.326103, 21.308239, 21.308989, 21.3119  ,\n",
       "        21.337172, 21.31381 , 21.448685, 21.460432, 21.468508, 21.452126,\n",
       "        21.436277, 20.853783, 20.848293, 20.844883, 20.878435, 20.867561,\n",
       "        20.861809, 20.870358, 20.872883, 20.182425, 20.182592, 20.179058,\n",
       "        20.180286, 20.18248 ], dtype=float32)}"
      ]
     },
     "execution_count": 121,
     "metadata": {},
     "output_type": "execute_result"
    }
   ],
   "source": [
    "prediction.predictions"
   ]
  },
  {
   "cell_type": "markdown",
   "id": "3e4b2b0e-1085-464c-9153-ae4e41d2138d",
   "metadata": {
    "tags": []
   },
   "source": [
    "---"
   ]
  },
  {
   "cell_type": "code",
   "execution_count": 122,
   "id": "923f15da-ba0e-41c3-8bf2-b57b03c2f5df",
   "metadata": {
    "tags": []
   },
   "outputs": [
    {
     "name": "stdout",
     "output_type": "stream",
     "text": [
      "\n",
      "└── 👟 Success - Fit PowerTransformer(copy=False) on 60 columns.\n",
      "\n",
      "\n",
      "└── ✅ Success - All columns now have encoders associated with them.\n",
      "\n",
      "\n",
      "└── 🔂 Success - created Queue consisting of 1 runs.\n",
      "\n"
     ]
    }
   ],
   "source": [
    "torch_bin_tab = tests.torch_bin_tab.make_queue()"
   ]
  },
  {
   "cell_type": "code",
   "execution_count": 123,
   "id": "9798db53-a1ab-4781-ab30-19bf845310e5",
   "metadata": {
    "tags": []
   },
   "outputs": [
    {
     "name": "stderr",
     "output_type": "stream",
     "text": [
      "└── 📦 Caching Splits:: 100%|█████████████████████████| 3/3 [00:00<00:00, 388.71it/s]\n",
      "└── 🔮 Queue #222:: 100%|██████████████████████████████| 1/1 [00:00<00:00,  1.47it/s]\n"
     ]
    }
   ],
   "source": [
    "torch_bin_tab.run_jobs()"
   ]
  },
  {
   "cell_type": "code",
   "execution_count": 124,
   "id": "1800b5ac-8863-4eb2-91af-e02a5c455a51",
   "metadata": {
    "tags": []
   },
   "outputs": [],
   "source": [
    "prediction = tests.infer(torch_bin_tab)"
   ]
  },
  {
   "cell_type": "code",
   "execution_count": 125,
   "id": "02dcbc6b-185b-4b08-87c7-b3004b127d36",
   "metadata": {
    "tags": []
   },
   "outputs": [
    {
     "data": {
      "text/plain": [
       "{'infer_0': {'accuracy': 0.587,\n",
       "  'f1': 0.533,\n",
       "  'loss': 0.686,\n",
       "  'precision': 0.563,\n",
       "  'recall': 0.505,\n",
       "  'roc_auc': 0.624}}"
      ]
     },
     "execution_count": 125,
     "metadata": {},
     "output_type": "execute_result"
    }
   ],
   "source": [
    "prediction.metrics"
   ]
  },
  {
   "cell_type": "code",
   "execution_count": 126,
   "id": "126f13a9-d0cb-4f24-8925-ff8e891a4b24",
   "metadata": {
    "tags": []
   },
   "outputs": [
    {
     "data": {
      "text/plain": [
       "{'infer_0': array(['R', 'R', 'M', 'M', 'R', 'M', 'M', 'M', 'R', 'M', 'R', 'R', 'R',\n",
       "        'R', 'R', 'M', 'M', 'M', 'R', 'R', 'M', 'M', 'M', 'M', 'R', 'M',\n",
       "        'M', 'M', 'R', 'R', 'M', 'R', 'R', 'M', 'R', 'M', 'R', 'R', 'R',\n",
       "        'R', 'R', 'R', 'M', 'R', 'M', 'R', 'R', 'M', 'M', 'M', 'M', 'R',\n",
       "        'R', 'R', 'R', 'M', 'R', 'M', 'R', 'R', 'R', 'R', 'R', 'R', 'M',\n",
       "        'R', 'R', 'R', 'M', 'R', 'M', 'M', 'R', 'M', 'R', 'R', 'M', 'M',\n",
       "        'M', 'M', 'R', 'M', 'M', 'M', 'M', 'M', 'M', 'M', 'R', 'M', 'M',\n",
       "        'M', 'M', 'R', 'M', 'R', 'R', 'M', 'M', 'M', 'R', 'R', 'R', 'R',\n",
       "        'R', 'R', 'M', 'M', 'R', 'M', 'M', 'M', 'R', 'M', 'R', 'R', 'M',\n",
       "        'M', 'M', 'R', 'R', 'R', 'R', 'R', 'M', 'M', 'R', 'R', 'R', 'R',\n",
       "        'R', 'M', 'M', 'M', 'M', 'M', 'M', 'R', 'M', 'M', 'M', 'M', 'M',\n",
       "        'M', 'M', 'M', 'M', 'M', 'R', 'M', 'R', 'R', 'M', 'M', 'M', 'M',\n",
       "        'M', 'M', 'M', 'M', 'M', 'M', 'M', 'M', 'M', 'M', 'M', 'R', 'M',\n",
       "        'M', 'M', 'R', 'R', 'M', 'R', 'M', 'R', 'R', 'R', 'R', 'M', 'M',\n",
       "        'M', 'M', 'M', 'M', 'M', 'M', 'M', 'M', 'M', 'M', 'M', 'M', 'R',\n",
       "        'M', 'M', 'M', 'M', 'R', 'M', 'M', 'R', 'R', 'R', 'R', 'M', 'M'],\n",
       "       dtype='<U1')}"
      ]
     },
     "execution_count": 126,
     "metadata": {},
     "output_type": "execute_result"
    }
   ],
   "source": [
    "prediction.predictions"
   ]
  },
  {
   "cell_type": "code",
   "execution_count": 127,
   "id": "0c8bfc21-a7d2-47d0-8b2e-d35a22fb282e",
   "metadata": {
    "tags": []
   },
   "outputs": [],
   "source": [
    "prediction = tests.infer(torch_bin_tab, include_label=False)"
   ]
  },
  {
   "cell_type": "code",
   "execution_count": 128,
   "id": "b0eb1dbc-f248-46f5-8d3d-17d39da1be3c",
   "metadata": {
    "tags": []
   },
   "outputs": [
    {
     "data": {
      "text/plain": [
       "{'infer_1': array(['R', 'R', 'M', 'M', 'R', 'M', 'M', 'M', 'R', 'M', 'R', 'R', 'R',\n",
       "        'R', 'R', 'M', 'M', 'M', 'R', 'R', 'M', 'M', 'M', 'M', 'R', 'M',\n",
       "        'M', 'M', 'R', 'R', 'M', 'R', 'R', 'M', 'R', 'M', 'R', 'R', 'R',\n",
       "        'R', 'R', 'R', 'M', 'R', 'M', 'R', 'R', 'M', 'M', 'M', 'M', 'R',\n",
       "        'R', 'R', 'R', 'M', 'R', 'M', 'R', 'R', 'R', 'R', 'R', 'R', 'M',\n",
       "        'R', 'R', 'R', 'M', 'R', 'M', 'M', 'R', 'M', 'R', 'R', 'M', 'M',\n",
       "        'M', 'M', 'R', 'M', 'M', 'M', 'M', 'M', 'M', 'M', 'R', 'M', 'M',\n",
       "        'M', 'M', 'R', 'M', 'R', 'R', 'M', 'M', 'M', 'R', 'R', 'R', 'R',\n",
       "        'R', 'R', 'M', 'M', 'R', 'M', 'M', 'M', 'R', 'M', 'R', 'R', 'M',\n",
       "        'M', 'M', 'R', 'R', 'R', 'R', 'R', 'M', 'M', 'R', 'R', 'R', 'R',\n",
       "        'R', 'M', 'M', 'M', 'M', 'M', 'M', 'R', 'M', 'M', 'M', 'M', 'M',\n",
       "        'M', 'M', 'M', 'M', 'M', 'R', 'M', 'R', 'R', 'M', 'M', 'M', 'M',\n",
       "        'M', 'M', 'M', 'M', 'M', 'M', 'M', 'M', 'M', 'M', 'M', 'R', 'M',\n",
       "        'M', 'M', 'R', 'R', 'M', 'R', 'M', 'R', 'R', 'R', 'R', 'M', 'M',\n",
       "        'M', 'M', 'M', 'M', 'M', 'M', 'M', 'M', 'M', 'M', 'M', 'M', 'R',\n",
       "        'M', 'M', 'M', 'M', 'R', 'M', 'M', 'R', 'R', 'R', 'R', 'M', 'M'],\n",
       "       dtype='<U1')}"
      ]
     },
     "execution_count": 128,
     "metadata": {},
     "output_type": "execute_result"
    }
   ],
   "source": [
    "prediction.predictions"
   ]
  },
  {
   "cell_type": "markdown",
   "id": "2ff87335-ac8c-48f8-b8f6-e1c56f92249f",
   "metadata": {
    "tags": []
   },
   "source": [
    "---"
   ]
  },
  {
   "cell_type": "code",
   "execution_count": 129,
   "id": "478bd1ad-2f20-403f-9730-54d04507e444",
   "metadata": {
    "tags": []
   },
   "outputs": [
    {
     "name": "stdout",
     "output_type": "stream",
     "text": [
      "\n",
      "└── 👟 Success - Fit PowerTransformer(copy=False) on 60 columns.\n",
      "\n",
      "\n",
      "└── ✅ Success - All columns now have encoders associated with them.\n",
      "\n",
      "\n",
      "└── 🔂 Success - created Queue consisting of 3 runs.\n",
      "\n"
     ]
    }
   ],
   "source": [
    "torch_bin_tab_fold = tests.torch_bin_tab.make_queue(fold_count=3)"
   ]
  },
  {
   "cell_type": "code",
   "execution_count": 130,
   "id": "2d493c37-fc52-4596-b232-b7c0421216b1",
   "metadata": {
    "tags": []
   },
   "outputs": [
    {
     "name": "stderr",
     "output_type": "stream",
     "text": [
      "└── 📦 Caching - Fold #1:: 100%|██████████████████████| 4/4 [00:00<00:00, 413.99it/s]\n",
      "└── 📦 Caching - Fold #2:: 100%|██████████████████████| 4/4 [00:00<00:00, 422.12it/s]\n",
      "└── 📦 Caching - Fold #3:: 100%|██████████████████████| 4/4 [00:00<00:00, 391.70it/s]\n",
      "└── 🔮 Queue 223 // Fold #1:: 100%|████████████████████| 1/1 [00:00<00:00,  1.73it/s]\n",
      "└── 🔮 Queue 223 // Fold #2:: 100%|████████████████████| 1/1 [00:00<00:00,  1.77it/s]\n",
      "└── 🔮 Queue 223 // Fold #3:: 100%|████████████████████| 1/1 [00:00<00:00,  1.64it/s]\n"
     ]
    }
   ],
   "source": [
    "torch_bin_tab_fold.run_jobs()"
   ]
  },
  {
   "cell_type": "code",
   "execution_count": 131,
   "id": "87a8f14b-d1c4-4baf-8e2a-9303dc5a654a",
   "metadata": {
    "tags": []
   },
   "outputs": [],
   "source": [
    "prediction = tests.infer(torch_bin_tab_fold)"
   ]
  },
  {
   "cell_type": "code",
   "execution_count": 132,
   "id": "91f7f2c5-6f84-489b-ab81-1ad9aa11c520",
   "metadata": {
    "tags": []
   },
   "outputs": [
    {
     "data": {
      "text/plain": [
       "{'infer_0': {'accuracy': 0.553,\n",
       "  'f1': 0.422,\n",
       "  'loss': 0.691,\n",
       "  'precision': 0.531,\n",
       "  'recall': 0.351,\n",
       "  'roc_auc': 0.575}}"
      ]
     },
     "execution_count": 132,
     "metadata": {},
     "output_type": "execute_result"
    }
   ],
   "source": [
    "prediction.metrics"
   ]
  },
  {
   "cell_type": "code",
   "execution_count": 133,
   "id": "87383854-7d8e-42ae-ab6c-36e1d91aa721",
   "metadata": {
    "tags": []
   },
   "outputs": [
    {
     "data": {
      "text/plain": [
       "{'infer_0': array(['M', 'R', 'M', 'R', 'R', 'R', 'M', 'M', 'M', 'M', 'R', 'M', 'M',\n",
       "        'R', 'M', 'M', 'M', 'M', 'M', 'R', 'M', 'M', 'M', 'M', 'M', 'R',\n",
       "        'M', 'M', 'M', 'R', 'R', 'M', 'M', 'M', 'M', 'M', 'M', 'M', 'R',\n",
       "        'M', 'M', 'R', 'R', 'M', 'M', 'M', 'M', 'R', 'M', 'M', 'M', 'R',\n",
       "        'M', 'R', 'R', 'M', 'R', 'M', 'M', 'M', 'M', 'M', 'M', 'R', 'R',\n",
       "        'R', 'R', 'M', 'R', 'R', 'R', 'M', 'R', 'M', 'M', 'M', 'M', 'M',\n",
       "        'M', 'M', 'M', 'R', 'M', 'R', 'M', 'R', 'R', 'R', 'M', 'R', 'M',\n",
       "        'M', 'R', 'M', 'M', 'M', 'R', 'M', 'M', 'M', 'M', 'M', 'M', 'M',\n",
       "        'M', 'M', 'M', 'M', 'M', 'M', 'M', 'M', 'M', 'M', 'M', 'M', 'M',\n",
       "        'M', 'M', 'M', 'R', 'M', 'R', 'M', 'M', 'R', 'M', 'M', 'M', 'M',\n",
       "        'M', 'M', 'M', 'M', 'M', 'M', 'M', 'M', 'M', 'M', 'M', 'M', 'M',\n",
       "        'M', 'M', 'M', 'M', 'M', 'M', 'M', 'M', 'M', 'M', 'M', 'M', 'M',\n",
       "        'R', 'R', 'M', 'R', 'R', 'R', 'M', 'M', 'M', 'M', 'R', 'R', 'M',\n",
       "        'R', 'M', 'M', 'M', 'R', 'R', 'R', 'R', 'M', 'R', 'M', 'R', 'R',\n",
       "        'R', 'R', 'R', 'R', 'R', 'R', 'R', 'R', 'R', 'R', 'R', 'R', 'M',\n",
       "        'M', 'M', 'M', 'M', 'M', 'M', 'M', 'M', 'M', 'M', 'M', 'M', 'M'],\n",
       "       dtype='<U1')}"
      ]
     },
     "execution_count": 133,
     "metadata": {},
     "output_type": "execute_result"
    }
   ],
   "source": [
    "prediction.predictions"
   ]
  },
  {
   "cell_type": "code",
   "execution_count": 134,
   "id": "e90136f7-5d4d-40c4-a948-d6cbb39bea30",
   "metadata": {
    "tags": []
   },
   "outputs": [],
   "source": [
    "prediction = tests.infer(torch_bin_tab_fold, include_label=False)"
   ]
  },
  {
   "cell_type": "code",
   "execution_count": 135,
   "id": "24fa755e-f2e8-43cd-be45-bf94f6385a96",
   "metadata": {
    "tags": []
   },
   "outputs": [
    {
     "data": {
      "text/plain": [
       "{'infer_1': array(['M', 'R', 'M', 'R', 'R', 'R', 'M', 'M', 'M', 'M', 'R', 'M', 'M',\n",
       "        'R', 'M', 'M', 'M', 'M', 'M', 'R', 'M', 'M', 'M', 'M', 'M', 'R',\n",
       "        'M', 'M', 'M', 'R', 'R', 'M', 'M', 'M', 'M', 'M', 'M', 'M', 'R',\n",
       "        'M', 'M', 'R', 'R', 'M', 'M', 'M', 'M', 'R', 'M', 'M', 'M', 'R',\n",
       "        'M', 'R', 'R', 'M', 'R', 'M', 'M', 'M', 'M', 'M', 'M', 'R', 'R',\n",
       "        'R', 'R', 'M', 'R', 'R', 'R', 'M', 'R', 'M', 'M', 'M', 'M', 'M',\n",
       "        'M', 'M', 'M', 'R', 'M', 'R', 'M', 'R', 'R', 'R', 'M', 'R', 'M',\n",
       "        'M', 'R', 'M', 'M', 'M', 'R', 'M', 'M', 'M', 'M', 'M', 'M', 'M',\n",
       "        'M', 'M', 'M', 'M', 'M', 'M', 'M', 'M', 'M', 'M', 'M', 'M', 'M',\n",
       "        'M', 'M', 'M', 'R', 'M', 'R', 'M', 'M', 'R', 'M', 'M', 'M', 'M',\n",
       "        'M', 'M', 'M', 'M', 'M', 'M', 'M', 'M', 'M', 'M', 'M', 'M', 'M',\n",
       "        'M', 'M', 'M', 'M', 'M', 'M', 'M', 'M', 'M', 'M', 'M', 'M', 'M',\n",
       "        'R', 'R', 'M', 'R', 'R', 'R', 'M', 'M', 'M', 'M', 'R', 'R', 'M',\n",
       "        'R', 'M', 'M', 'M', 'R', 'R', 'R', 'R', 'M', 'R', 'M', 'R', 'R',\n",
       "        'R', 'R', 'R', 'R', 'R', 'R', 'R', 'R', 'R', 'R', 'R', 'R', 'M',\n",
       "        'M', 'M', 'M', 'M', 'M', 'M', 'M', 'M', 'M', 'M', 'M', 'M', 'M'],\n",
       "       dtype='<U1')}"
      ]
     },
     "execution_count": 135,
     "metadata": {},
     "output_type": "execute_result"
    }
   ],
   "source": [
    "prediction.predictions"
   ]
  },
  {
   "cell_type": "markdown",
   "id": "46a76cfc-958d-49ad-baa4-ce31a4c696dd",
   "metadata": {
    "tags": []
   },
   "source": [
    "---"
   ]
  },
  {
   "cell_type": "code",
   "execution_count": 136,
   "id": "514c7929-be1e-4980-8ac9-b1c42361ed95",
   "metadata": {
    "tags": []
   },
   "outputs": [
    {
     "name": "stdout",
     "output_type": "stream",
     "text": [
      "\n",
      "└── 👟 Success - Fit StandardScaler(copy=False) on the following columns:\n",
      "['0']\n",
      "\n",
      "\n",
      "└── ✅ Success - All columns now have encoders associated with them.\n",
      "\n",
      "\n",
      "Info - Featureset only contains 1 non-OHE column. System overriding to `permute_count=0`.\n",
      "\n",
      "\n",
      "└── 🔂 Success - created Queue consisting of 1 runs.\n",
      "\n"
     ]
    }
   ],
   "source": [
    "torch_bin_seq = tests.torch_bin_seq.make_queue()"
   ]
  },
  {
   "cell_type": "code",
   "execution_count": 137,
   "id": "4c1d131b-641c-4235-acf6-137df19a2ce8",
   "metadata": {
    "tags": []
   },
   "outputs": [
    {
     "name": "stderr",
     "output_type": "stream",
     "text": [
      "└── 📦 Caching Splits:: 100%|█████████████████████████| 3/3 [00:00<00:00, 234.63it/s]\n",
      "└── 🔮 Queue #224:: 100%|██████████████████████████████| 1/1 [00:15<00:00, 15.07s/it]\n"
     ]
    }
   ],
   "source": [
    "torch_bin_seq.run_jobs()"
   ]
  },
  {
   "cell_type": "code",
   "execution_count": 138,
   "id": "03bcf0f0-fe7b-4cb4-ae66-8834c4898e81",
   "metadata": {
    "tags": []
   },
   "outputs": [],
   "source": [
    "prediction = tests.infer(torch_bin_seq)"
   ]
  },
  {
   "cell_type": "code",
   "execution_count": 139,
   "id": "dfe75db0-b0be-49f0-a511-7b202345a304",
   "metadata": {
    "tags": []
   },
   "outputs": [
    {
     "data": {
      "text/plain": [
       "{'infer_0': {'accuracy': 0.448,\n",
       "  'f1': 0.396,\n",
       "  'loss': 0.706,\n",
       "  'precision': 0.437,\n",
       "  'recall': 0.362,\n",
       "  'roc_auc': 0.328}}"
      ]
     },
     "execution_count": 139,
     "metadata": {},
     "output_type": "execute_result"
    }
   ],
   "source": [
    "prediction.metrics"
   ]
  },
  {
   "cell_type": "code",
   "execution_count": 140,
   "id": "117076dd-bf1e-4edc-a578-90c481fcbe6e",
   "metadata": {
    "tags": []
   },
   "outputs": [
    {
     "data": {
      "text/plain": [
       "{'infer_0': array([0, 0, 1, 0, 0, 1, 1, 0, 0, 0, 0, 1, 1, 1, 0, 1, 1, 1, 0, 0, 1, 1,\n",
       "        0, 1, 0, 0, 1, 0, 1, 0, 1, 0, 0, 0, 0, 0, 0, 0, 0, 1, 1, 0, 0, 0,\n",
       "        1, 0, 0, 1, 0, 0, 0, 1, 0, 0, 0, 0, 0, 0, 1, 0, 1, 0, 0, 1, 0, 0,\n",
       "        0, 1, 1, 1, 1, 1, 1, 1, 0, 0, 0, 1, 0, 0, 1, 0, 1, 0, 0, 1, 0, 1,\n",
       "        0, 0, 1, 0, 0, 0, 0, 1, 1, 0, 0, 1, 0, 0, 1, 0, 1, 1, 0, 0, 0, 0,\n",
       "        0, 1, 1, 0, 0, 0, 0, 1, 0, 0, 0, 0, 1, 1, 0, 0, 1, 0, 0, 0, 1, 1,\n",
       "        0, 1, 0, 0, 1, 0, 0, 1, 1, 0, 1, 1, 0, 0, 0, 0, 0, 1, 0, 0, 0, 1,\n",
       "        1, 0, 1, 1, 0, 0, 1, 0, 0, 0, 0, 0, 0, 0, 0, 1, 1, 1, 0, 1, 1, 1,\n",
       "        0, 1, 0, 0, 0, 0, 1, 1, 0, 0, 0, 0, 0, 0, 0, 0, 0, 0, 0, 0, 1, 0,\n",
       "        1, 0, 0, 1, 0, 0, 1, 0, 0, 1, 1, 1, 0, 0, 0, 0, 0, 1, 0, 0, 0, 0,\n",
       "        0, 0, 0, 0, 1, 1, 0, 0, 1, 1, 1, 0, 0, 1, 0, 1, 0, 0, 0, 0, 0, 1,\n",
       "        1, 1, 1, 0, 0, 1, 0, 1, 0, 0, 1, 1, 0, 1, 1, 1, 1, 0, 0, 1, 0, 0,\n",
       "        0, 0, 1, 0, 1, 1, 0, 1, 1, 0, 0, 0, 0, 0, 0, 1, 0, 1, 0, 0, 0, 1,\n",
       "        0, 0, 0, 1, 1, 0, 0, 0, 0, 0, 1, 0, 1, 0, 1, 1, 0, 0, 0, 0, 1, 1,\n",
       "        1, 1, 0, 0, 0, 1, 0, 0, 0, 1, 0, 0, 0, 1, 1, 0, 0, 0, 0, 0, 0, 0,\n",
       "        0, 0, 0, 1, 0, 1, 0, 0, 1, 0, 0, 0, 0, 1, 1, 0, 0, 0, 1, 0, 0, 1,\n",
       "        0, 1, 0, 1, 0, 1, 1, 1, 0, 0, 1, 1, 0, 1, 0, 0, 0, 0, 0, 0, 0, 0,\n",
       "        0, 0, 1, 1, 0, 0, 1, 0, 1, 0, 0, 0, 0, 0, 0, 0, 1, 1, 0, 0, 0, 0,\n",
       "        0, 1, 0, 0, 0, 0, 1, 1, 0, 0, 0, 0, 1, 1, 1, 0, 0, 1, 1, 0, 0, 0,\n",
       "        1, 1, 0, 0, 1, 0, 0, 0, 1, 0, 0, 0, 1, 1, 1, 0, 0, 0, 0, 1, 0, 0,\n",
       "        0, 0, 0, 0, 0, 0, 0, 0, 0, 1, 1, 1, 0, 0, 1, 1, 0, 0, 0, 1, 0, 1,\n",
       "        0, 1, 0, 1, 1, 0, 1, 0, 0, 0, 1, 0, 1, 1, 0, 1, 1, 0, 1, 0, 0, 0,\n",
       "        0, 0, 1, 1, 0, 1, 0, 0, 0, 0, 0, 0, 0, 1, 1, 1, 1, 1, 1, 1, 1, 1,\n",
       "        1, 1, 0, 1, 0, 1, 1, 1, 0, 1, 0, 0, 0, 0, 0, 0, 1, 1, 1, 0, 0, 1,\n",
       "        0, 1, 0, 0, 0, 1, 1, 0, 1, 0, 1, 1, 1, 0, 0, 1, 1, 0, 1, 0, 1, 1,\n",
       "        0, 1, 1, 0, 1, 0, 0, 0, 1, 1, 0, 0, 0, 0, 0, 1, 0, 1, 0, 1, 0, 0,\n",
       "        1, 1, 1, 0, 0, 1, 0, 0, 1, 0, 0, 0, 1, 0, 1, 1, 1, 0, 0, 1, 0, 1,\n",
       "        1, 0, 1, 0, 0, 1, 1, 0, 1, 0, 0, 1, 1, 1, 0, 0, 0, 1, 0, 0, 1, 0,\n",
       "        0, 0, 0, 0, 1, 0, 0, 1, 0, 0, 1, 0, 1, 0, 1, 0, 1, 1, 1, 0, 0, 0,\n",
       "        1, 1, 0, 1, 1, 1, 1, 1, 0, 1, 0, 0, 1, 1, 0, 0, 0, 1, 1, 0, 0, 0,\n",
       "        1, 0, 1, 1, 0, 0, 1, 0, 1, 0, 0, 0, 0, 0, 1, 0, 1, 1, 1, 0, 0, 1,\n",
       "        0, 0, 0, 1, 1, 0, 1, 1, 1, 0, 1, 0, 0, 1, 0, 0, 1, 1, 0, 1, 0, 1,\n",
       "        0, 0, 1, 1, 0, 0, 0, 0, 1, 1, 0, 0, 1, 0, 1, 0, 0, 0, 0, 1, 0, 1,\n",
       "        0, 0, 1, 1, 0, 0, 1, 0, 1, 1, 0, 0, 0, 1, 0, 1, 1, 1, 1, 1, 0, 1,\n",
       "        1, 0, 1, 0, 1, 1, 0, 1, 1, 1, 0, 0, 0, 0, 0, 0, 0, 1, 1, 1, 1, 1,\n",
       "        1, 1, 1, 0, 1, 0, 0, 0, 0, 0, 1, 0, 0, 0, 0, 1, 1, 0, 0, 1, 0, 0,\n",
       "        1, 0, 1, 0, 0, 1, 1, 1, 0, 1, 1, 1, 0, 0, 0, 0, 1, 1, 1, 1, 0, 0,\n",
       "        1, 0, 0, 1, 0, 1, 1, 1, 1, 1, 1, 0, 0, 0, 0, 0, 1, 1, 0, 0, 0, 1,\n",
       "        1, 1, 1, 0, 1, 0, 0, 1, 0, 0, 1, 0, 0, 0, 1, 1, 0, 1, 1, 1, 0, 0,\n",
       "        1, 1, 0, 0, 1, 1, 1, 1, 1, 0, 0, 0, 0, 1, 1, 0, 1, 1, 0, 0, 0, 1,\n",
       "        1, 0, 1, 0, 1, 1, 1, 0, 1, 0, 1, 0, 0, 0, 1, 0, 1, 0, 0, 1, 1, 1,\n",
       "        0, 1, 0, 1, 0, 1, 1, 1, 1, 0, 0, 1, 0, 0, 1, 1, 1, 0, 1, 1, 0, 0,\n",
       "        0, 0, 0, 1, 1, 1, 0, 0, 0, 0, 0, 1, 0, 0, 0, 1, 0, 0, 0, 0, 0, 0,\n",
       "        1, 0, 1, 0, 1, 1, 0, 1, 1, 0, 0, 0, 0, 1, 1, 0, 0, 0, 1, 0, 1, 0,\n",
       "        0, 0, 0, 0, 0, 0, 0, 1, 1, 0, 0, 0, 0, 0, 1, 0, 1, 0, 1, 0, 0, 0,\n",
       "        0, 0, 1, 0, 1, 1, 0, 1, 0, 0], dtype=int32)}"
      ]
     },
     "execution_count": 140,
     "metadata": {},
     "output_type": "execute_result"
    }
   ],
   "source": [
    "prediction.predictions"
   ]
  },
  {
   "cell_type": "code",
   "execution_count": 141,
   "id": "88bd403a-463b-4187-b0de-ca1682e466d5",
   "metadata": {
    "tags": []
   },
   "outputs": [],
   "source": [
    "prediction = tests.infer(torch_bin_seq, include_label=False)"
   ]
  },
  {
   "cell_type": "code",
   "execution_count": 142,
   "id": "fdd973fc-f3d3-491e-b20a-84ec66b73f88",
   "metadata": {
    "tags": []
   },
   "outputs": [
    {
     "data": {
      "text/plain": [
       "{'infer_1': array([0, 0, 1, 0, 0, 1, 1, 0, 0, 0, 0, 1, 1, 1, 0, 1, 1, 1, 0, 0, 1, 1,\n",
       "        0, 1, 0, 0, 1, 0, 1, 0, 1, 0, 0, 0, 0, 0, 0, 0, 0, 1, 1, 0, 0, 0,\n",
       "        1, 0, 0, 1, 0, 0, 0, 1, 0, 0, 0, 0, 0, 0, 1, 0, 1, 0, 0, 1, 0, 0,\n",
       "        0, 1, 1, 1, 1, 1, 1, 1, 0, 0, 0, 1, 0, 0, 1, 0, 1, 0, 0, 1, 0, 1,\n",
       "        0, 0, 1, 0, 0, 0, 0, 1, 1, 0, 0, 1, 0, 0, 1, 0, 1, 1, 0, 0, 0, 0,\n",
       "        0, 1, 1, 0, 0, 0, 0, 1, 0, 0, 0, 0, 1, 1, 0, 0, 1, 0, 0, 0, 1, 1,\n",
       "        0, 1, 0, 0, 1, 0, 0, 1, 1, 0, 1, 1, 0, 0, 0, 0, 0, 1, 0, 0, 0, 1,\n",
       "        1, 0, 1, 1, 0, 0, 1, 0, 0, 0, 0, 0, 0, 0, 0, 1, 1, 1, 0, 1, 1, 1,\n",
       "        0, 1, 0, 0, 0, 0, 1, 1, 0, 0, 0, 0, 0, 0, 0, 0, 0, 0, 0, 0, 1, 0,\n",
       "        1, 0, 0, 1, 0, 0, 1, 0, 0, 1, 1, 1, 0, 0, 0, 0, 0, 1, 0, 0, 0, 0,\n",
       "        0, 0, 0, 0, 1, 1, 0, 0, 1, 1, 1, 0, 0, 1, 0, 1, 0, 0, 0, 0, 0, 1,\n",
       "        1, 1, 1, 0, 0, 1, 0, 1, 0, 0, 1, 1, 0, 1, 1, 1, 1, 0, 0, 1, 0, 0,\n",
       "        0, 0, 1, 0, 1, 1, 0, 1, 1, 0, 0, 0, 0, 0, 0, 1, 0, 1, 0, 0, 0, 1,\n",
       "        0, 0, 0, 1, 1, 0, 0, 0, 0, 0, 1, 0, 1, 0, 1, 1, 0, 0, 0, 0, 1, 1,\n",
       "        1, 1, 0, 0, 0, 1, 0, 0, 0, 1, 0, 0, 0, 1, 1, 0, 0, 0, 0, 0, 0, 0,\n",
       "        0, 0, 0, 1, 0, 1, 0, 0, 1, 0, 0, 0, 0, 1, 1, 0, 0, 0, 1, 0, 0, 1,\n",
       "        0, 1, 0, 1, 0, 1, 1, 1, 0, 0, 1, 1, 0, 1, 0, 0, 0, 0, 0, 0, 0, 0,\n",
       "        0, 0, 1, 1, 0, 0, 1, 0, 1, 0, 0, 0, 0, 0, 0, 0, 1, 1, 0, 0, 0, 0,\n",
       "        0, 1, 0, 0, 0, 0, 1, 1, 0, 0, 0, 0, 1, 1, 1, 0, 0, 1, 1, 0, 0, 0,\n",
       "        1, 1, 0, 0, 1, 0, 0, 0, 1, 0, 0, 0, 1, 1, 1, 0, 0, 0, 0, 1, 0, 0,\n",
       "        0, 0, 0, 0, 0, 0, 0, 0, 0, 1, 1, 1, 0, 0, 1, 1, 0, 0, 0, 1, 0, 1,\n",
       "        0, 1, 0, 1, 1, 0, 1, 0, 0, 0, 1, 0, 1, 1, 0, 1, 1, 0, 1, 0, 0, 0,\n",
       "        0, 0, 1, 1, 0, 1, 0, 0, 0, 0, 0, 0, 0, 1, 1, 1, 1, 1, 1, 1, 1, 1,\n",
       "        1, 1, 0, 1, 0, 1, 1, 1, 0, 1, 0, 0, 0, 0, 0, 0, 1, 1, 1, 0, 0, 1,\n",
       "        0, 1, 0, 0, 0, 1, 1, 0, 1, 0, 1, 1, 1, 0, 0, 1, 1, 0, 1, 0, 1, 1,\n",
       "        0, 1, 1, 0, 1, 0, 0, 0, 1, 1, 0, 0, 0, 0, 0, 1, 0, 1, 0, 1, 0, 0,\n",
       "        1, 1, 1, 0, 0, 1, 0, 0, 1, 0, 0, 0, 1, 0, 1, 1, 1, 0, 0, 1, 0, 1,\n",
       "        1, 0, 1, 0, 0, 1, 1, 0, 1, 0, 0, 1, 1, 1, 0, 0, 0, 1, 0, 0, 1, 0,\n",
       "        0, 0, 0, 0, 1, 0, 0, 1, 0, 0, 1, 0, 1, 0, 1, 0, 1, 1, 1, 0, 0, 0,\n",
       "        1, 1, 0, 1, 1, 1, 1, 1, 0, 1, 0, 0, 1, 1, 0, 0, 0, 1, 1, 0, 0, 0,\n",
       "        1, 0, 1, 1, 0, 0, 1, 0, 1, 0, 0, 0, 0, 0, 1, 0, 1, 1, 1, 0, 0, 1,\n",
       "        0, 0, 0, 1, 1, 0, 1, 1, 1, 0, 1, 0, 0, 1, 0, 0, 1, 1, 0, 1, 0, 1,\n",
       "        0, 0, 1, 1, 0, 0, 0, 0, 1, 1, 0, 0, 1, 0, 1, 0, 0, 0, 0, 1, 0, 1,\n",
       "        0, 0, 1, 1, 0, 0, 1, 0, 1, 1, 0, 0, 0, 1, 0, 1, 1, 1, 1, 1, 0, 1,\n",
       "        1, 0, 1, 0, 1, 1, 0, 1, 1, 1, 0, 0, 0, 0, 0, 0, 0, 1, 1, 1, 1, 1,\n",
       "        1, 1, 1, 0, 1, 0, 0, 0, 0, 0, 1, 0, 0, 0, 0, 1, 1, 0, 0, 1, 0, 0,\n",
       "        1, 0, 1, 0, 0, 1, 1, 1, 0, 1, 1, 1, 0, 0, 0, 0, 1, 1, 1, 1, 0, 0,\n",
       "        1, 0, 0, 1, 0, 1, 1, 1, 1, 1, 1, 0, 0, 0, 0, 0, 1, 1, 0, 0, 0, 1,\n",
       "        1, 1, 1, 0, 1, 0, 0, 1, 0, 0, 1, 0, 0, 0, 1, 1, 0, 1, 1, 1, 0, 0,\n",
       "        1, 1, 0, 0, 1, 1, 1, 1, 1, 0, 0, 0, 0, 1, 1, 0, 1, 1, 0, 0, 0, 1,\n",
       "        1, 0, 1, 0, 1, 1, 1, 0, 1, 0, 1, 0, 0, 0, 1, 0, 1, 0, 0, 1, 1, 1,\n",
       "        0, 1, 0, 1, 0, 1, 1, 1, 1, 0, 0, 1, 0, 0, 1, 1, 1, 0, 1, 1, 0, 0,\n",
       "        0, 0, 0, 1, 1, 1, 0, 0, 0, 0, 0, 1, 0, 0, 0, 1, 0, 0, 0, 0, 0, 0,\n",
       "        1, 0, 1, 0, 1, 1, 0, 1, 1, 0, 0, 0, 0, 1, 1, 0, 0, 0, 1, 0, 1, 0,\n",
       "        0, 0, 0, 0, 0, 0, 0, 1, 1, 0, 0, 0, 0, 0, 1, 0, 1, 0, 1, 0, 0, 0,\n",
       "        0, 0, 1, 0, 1, 1, 0, 1, 0, 0], dtype=int32)}"
      ]
     },
     "execution_count": 142,
     "metadata": {},
     "output_type": "execute_result"
    }
   ],
   "source": [
    "prediction.predictions"
   ]
  },
  {
   "cell_type": "markdown",
   "id": "39249c52-ddb3-4464-afe1-6a6f3cc6445d",
   "metadata": {
    "tags": []
   },
   "source": [
    "---"
   ]
  },
  {
   "cell_type": "code",
   "execution_count": 143,
   "id": "a161a005-0af4-45b5-bfdb-02e0a93c9762",
   "metadata": {
    "tags": []
   },
   "outputs": [
    {
     "name": "stdout",
     "output_type": "stream",
     "text": [
      "\n",
      "└── 👟 Success - Fit StandardScaler(copy=False) on the following columns:\n",
      "['0']\n",
      "\n",
      "\n",
      "└── ✅ Success - All columns now have encoders associated with them.\n",
      "\n",
      "\n",
      "Info - Featureset only contains 1 non-OHE column. System overriding to `permute_count=0`.\n",
      "\n",
      "\n",
      "└── 🔂 Success - created Queue consisting of 3 runs.\n",
      "\n"
     ]
    }
   ],
   "source": [
    "torch_bin_seq_fold = tests.torch_bin_seq.make_queue(fold_count=3)"
   ]
  },
  {
   "cell_type": "code",
   "execution_count": 144,
   "id": "01044198-e06a-4e11-9d10-97579514cd8f",
   "metadata": {
    "tags": []
   },
   "outputs": [
    {
     "name": "stderr",
     "output_type": "stream",
     "text": [
      "└── 📦 Caching - Fold #1:: 100%|██████████████████████| 4/4 [00:00<00:00, 279.27it/s]\n",
      "└── 📦 Caching - Fold #2:: 100%|██████████████████████| 4/4 [00:00<00:00, 280.62it/s]\n",
      "└── 📦 Caching - Fold #3:: 100%|██████████████████████| 4/4 [00:00<00:00, 278.12it/s]\n",
      "└── 🔮 Queue 225 // Fold #1:: 100%|████████████████████| 1/1 [00:10<00:00, 10.13s/it]\n",
      "└── 🔮 Queue 225 // Fold #2:: 100%|████████████████████| 1/1 [00:10<00:00, 10.25s/it]\n",
      "└── 🔮 Queue 225 // Fold #3:: 100%|████████████████████| 1/1 [00:10<00:00, 10.14s/it]\n"
     ]
    }
   ],
   "source": [
    "torch_bin_seq_fold.run_jobs()"
   ]
  },
  {
   "cell_type": "code",
   "execution_count": 145,
   "id": "5653b0ca-6b62-4d8a-8240-e30dd05497fb",
   "metadata": {
    "tags": []
   },
   "outputs": [],
   "source": [
    "prediction = tests.infer(torch_bin_seq_fold)"
   ]
  },
  {
   "cell_type": "code",
   "execution_count": 146,
   "id": "a1763710-ba4b-4619-8150-cd71fb87f042",
   "metadata": {
    "tags": []
   },
   "outputs": [
    {
     "data": {
      "text/plain": [
       "{'infer_0': {'accuracy': 0.548,\n",
       "  'f1': 0.522,\n",
       "  'loss': 0.694,\n",
       "  'precision': 0.554,\n",
       "  'recall': 0.494,\n",
       "  'roc_auc': 0.545}}"
      ]
     },
     "execution_count": 146,
     "metadata": {},
     "output_type": "execute_result"
    }
   ],
   "source": [
    "prediction.metrics"
   ]
  },
  {
   "cell_type": "code",
   "execution_count": 147,
   "id": "e0f5fc99-f50c-40e9-b163-f8e5f569fb5c",
   "metadata": {
    "tags": []
   },
   "outputs": [
    {
     "data": {
      "text/plain": [
       "{'infer_0': array([0, 0, 0, 1, 1, 0, 0, 1, 0, 0, 0, 1, 0, 1, 1, 1, 1, 1, 0, 0, 1, 1,\n",
       "        0, 1, 0, 0, 1, 1, 1, 0, 1, 0, 0, 1, 0, 0, 0, 1, 0, 1, 1, 0, 1, 0,\n",
       "        1, 1, 0, 0, 0, 1, 0, 1, 0, 0, 0, 0, 0, 0, 1, 1, 1, 1, 0, 0, 0, 0,\n",
       "        0, 1, 1, 1, 1, 1, 1, 1, 1, 1, 0, 1, 1, 0, 1, 1, 1, 0, 0, 1, 0, 1,\n",
       "        1, 1, 0, 1, 1, 0, 1, 0, 0, 0, 1, 0, 0, 0, 1, 0, 0, 1, 0, 0, 0, 1,\n",
       "        1, 1, 1, 0, 1, 0, 0, 1, 0, 0, 1, 0, 1, 1, 0, 0, 1, 0, 0, 0, 0, 1,\n",
       "        0, 1, 1, 0, 1, 1, 0, 1, 1, 1, 0, 1, 0, 1, 0, 0, 0, 1, 0, 1, 0, 1,\n",
       "        1, 0, 0, 0, 1, 0, 0, 0, 1, 0, 1, 0, 0, 0, 1, 1, 1, 0, 0, 1, 1, 1,\n",
       "        0, 1, 0, 1, 1, 0, 0, 1, 1, 0, 0, 0, 1, 0, 0, 0, 1, 1, 0, 0, 1, 1,\n",
       "        1, 0, 0, 1, 0, 0, 1, 0, 0, 0, 1, 1, 0, 0, 0, 0, 0, 1, 1, 1, 0, 1,\n",
       "        0, 0, 0, 0, 1, 1, 0, 0, 1, 1, 1, 0, 0, 1, 1, 1, 1, 0, 1, 0, 0, 1,\n",
       "        1, 1, 1, 0, 0, 1, 0, 1, 0, 0, 1, 1, 1, 1, 1, 1, 1, 0, 0, 1, 1, 1,\n",
       "        0, 0, 1, 1, 1, 1, 0, 1, 1, 0, 1, 0, 0, 1, 1, 1, 1, 1, 0, 0, 0, 1,\n",
       "        0, 1, 1, 1, 1, 1, 1, 1, 0, 1, 0, 0, 1, 0, 1, 1, 0, 0, 0, 0, 1, 0,\n",
       "        1, 1, 0, 0, 0, 1, 1, 0, 0, 1, 1, 0, 0, 0, 1, 0, 1, 1, 0, 1, 0, 0,\n",
       "        0, 1, 0, 1, 0, 1, 1, 0, 0, 0, 0, 1, 0, 0, 1, 1, 1, 0, 1, 0, 0, 0,\n",
       "        0, 1, 0, 1, 0, 1, 1, 1, 0, 0, 1, 1, 1, 1, 0, 0, 0, 0, 1, 0, 0, 0,\n",
       "        0, 1, 1, 1, 1, 1, 1, 0, 1, 1, 0, 1, 0, 1, 0, 1, 0, 1, 1, 0, 0, 0,\n",
       "        0, 1, 0, 0, 0, 1, 1, 1, 0, 0, 0, 1, 0, 1, 1, 0, 0, 0, 1, 1, 0, 0,\n",
       "        1, 1, 0, 1, 0, 0, 0, 0, 1, 0, 0, 0, 1, 1, 1, 1, 0, 1, 0, 1, 1, 1,\n",
       "        0, 0, 0, 0, 0, 0, 0, 1, 0, 1, 1, 1, 0, 1, 1, 1, 0, 0, 1, 1, 0, 1,\n",
       "        0, 1, 1, 0, 1, 0, 1, 0, 0, 0, 1, 0, 1, 1, 0, 0, 1, 1, 1, 1, 0, 1,\n",
       "        0, 0, 1, 0, 0, 1, 0, 0, 0, 0, 0, 1, 0, 1, 1, 1, 0, 1, 0, 1, 0, 0,\n",
       "        1, 0, 1, 0, 0, 0, 1, 0, 1, 0, 1, 0, 1, 1, 0, 0, 0, 0, 0, 1, 1, 0,\n",
       "        1, 0, 1, 1, 1, 1, 0, 1, 1, 1, 1, 0, 0, 0, 0, 0, 1, 0, 1, 0, 1, 0,\n",
       "        1, 1, 0, 0, 0, 0, 0, 1, 0, 0, 0, 1, 0, 0, 0, 0, 0, 0, 0, 1, 0, 1,\n",
       "        1, 1, 0, 0, 1, 1, 0, 0, 0, 0, 0, 1, 0, 0, 0, 1, 0, 1, 1, 0, 1, 1,\n",
       "        0, 1, 0, 0, 0, 0, 0, 0, 1, 1, 1, 0, 1, 0, 1, 1, 1, 0, 0, 1, 1, 1,\n",
       "        0, 0, 1, 0, 0, 0, 1, 1, 1, 0, 0, 1, 0, 1, 0, 1, 0, 0, 0, 1, 1, 0,\n",
       "        0, 0, 0, 1, 0, 0, 1, 1, 0, 1, 0, 0, 1, 1, 1, 1, 0, 1, 0, 1, 0, 1,\n",
       "        1, 1, 0, 0, 1, 0, 1, 1, 1, 0, 0, 0, 0, 1, 1, 1, 1, 1, 1, 1, 1, 0,\n",
       "        0, 1, 0, 0, 1, 0, 1, 0, 0, 1, 0, 0, 1, 1, 0, 1, 0, 0, 0, 1, 1, 0,\n",
       "        0, 1, 1, 0, 1, 0, 1, 1, 1, 1, 0, 0, 0, 0, 0, 0, 1, 1, 0, 1, 1, 0,\n",
       "        0, 1, 0, 0, 0, 0, 1, 0, 0, 0, 0, 1, 0, 0, 0, 0, 1, 0, 1, 0, 1, 0,\n",
       "        1, 0, 1, 0, 0, 0, 1, 1, 1, 0, 0, 1, 1, 0, 0, 0, 0, 1, 1, 1, 1, 1,\n",
       "        0, 0, 1, 0, 0, 0, 1, 1, 0, 0, 0, 1, 0, 0, 0, 1, 0, 0, 1, 0, 0, 0,\n",
       "        1, 0, 1, 0, 0, 1, 1, 1, 1, 0, 1, 0, 0, 0, 1, 1, 0, 1, 1, 0, 0, 0,\n",
       "        0, 0, 1, 1, 0, 0, 1, 1, 1, 1, 1, 1, 1, 1, 1, 1, 0, 1, 0, 1, 1, 0,\n",
       "        0, 0, 0, 0, 1, 0, 1, 0, 0, 0, 0, 1, 0, 0, 0, 0, 0, 0, 0, 1, 1, 1,\n",
       "        1, 0, 0, 1, 0, 0, 1, 0, 1, 0, 1, 0, 1, 0, 0, 1, 0, 0, 0, 1, 0, 0,\n",
       "        1, 1, 0, 0, 1, 0, 1, 1, 0, 1, 1, 1, 0, 0, 0, 0, 1, 0, 0, 0, 1, 1,\n",
       "        0, 0, 0, 1, 0, 0, 0, 0, 0, 0, 1, 0, 0, 0, 1, 0, 0, 1, 0, 0, 0, 0,\n",
       "        0, 0, 0, 0, 1, 0, 1, 0, 0, 0, 0, 0, 0, 0, 0, 0, 0, 0, 1, 0, 1, 0,\n",
       "        0, 0, 0, 0, 0, 0, 1, 1, 0, 0, 0, 0, 1, 0, 0, 0, 0, 0, 1, 0, 0, 0,\n",
       "        1, 0, 0, 0, 0, 0, 1, 1, 0, 1, 0, 0, 0, 0, 1, 0, 0, 0, 0, 0, 0, 0,\n",
       "        0, 0, 1, 0, 0, 1, 0, 1, 0, 0], dtype=int32)}"
      ]
     },
     "execution_count": 147,
     "metadata": {},
     "output_type": "execute_result"
    }
   ],
   "source": [
    "prediction.predictions"
   ]
  },
  {
   "cell_type": "code",
   "execution_count": 148,
   "id": "d7ea58e7-d628-40ad-a00d-de4c01190221",
   "metadata": {
    "tags": []
   },
   "outputs": [],
   "source": [
    "prediction = tests.infer(torch_bin_seq_fold, include_label=False)"
   ]
  },
  {
   "cell_type": "code",
   "execution_count": 149,
   "id": "57dbd82e-a6d2-4759-b9c5-848a973196e1",
   "metadata": {
    "tags": []
   },
   "outputs": [
    {
     "data": {
      "text/plain": [
       "{'infer_1': array([0, 0, 0, 1, 1, 0, 0, 1, 0, 0, 0, 1, 0, 1, 1, 1, 1, 1, 0, 0, 1, 1,\n",
       "        0, 1, 0, 0, 1, 1, 1, 0, 1, 0, 0, 1, 0, 0, 0, 1, 0, 1, 1, 0, 1, 0,\n",
       "        1, 1, 0, 0, 0, 1, 0, 1, 0, 0, 0, 0, 0, 0, 1, 1, 1, 1, 0, 0, 0, 0,\n",
       "        0, 1, 1, 1, 1, 1, 1, 1, 1, 1, 0, 1, 1, 0, 1, 1, 1, 0, 0, 1, 0, 1,\n",
       "        1, 1, 0, 1, 1, 0, 1, 0, 0, 0, 1, 0, 0, 0, 1, 0, 0, 1, 0, 0, 0, 1,\n",
       "        1, 1, 1, 0, 1, 0, 0, 1, 0, 0, 1, 0, 1, 1, 0, 0, 1, 0, 0, 0, 0, 1,\n",
       "        0, 1, 1, 0, 1, 1, 0, 1, 1, 1, 0, 1, 0, 1, 0, 0, 0, 1, 0, 1, 0, 1,\n",
       "        1, 0, 0, 0, 1, 0, 0, 0, 1, 0, 1, 0, 0, 0, 1, 1, 1, 0, 0, 1, 1, 1,\n",
       "        0, 1, 0, 1, 1, 0, 0, 1, 1, 0, 0, 0, 1, 0, 0, 0, 1, 1, 0, 0, 1, 1,\n",
       "        1, 0, 0, 1, 0, 0, 1, 0, 0, 0, 1, 1, 0, 0, 0, 0, 0, 1, 1, 1, 0, 1,\n",
       "        0, 0, 0, 0, 1, 1, 0, 0, 1, 1, 1, 0, 0, 1, 1, 1, 1, 0, 1, 0, 0, 1,\n",
       "        1, 1, 1, 0, 0, 1, 0, 1, 0, 0, 1, 1, 1, 1, 1, 1, 1, 0, 0, 1, 1, 1,\n",
       "        0, 0, 1, 1, 1, 1, 0, 1, 1, 0, 1, 0, 0, 1, 1, 1, 1, 1, 0, 0, 0, 1,\n",
       "        0, 1, 1, 1, 1, 1, 1, 1, 0, 1, 0, 0, 1, 0, 1, 1, 0, 0, 0, 0, 1, 0,\n",
       "        1, 1, 0, 0, 0, 1, 1, 0, 0, 1, 1, 0, 0, 0, 1, 0, 1, 1, 0, 1, 0, 0,\n",
       "        0, 1, 0, 1, 0, 1, 1, 0, 0, 0, 0, 1, 0, 0, 1, 1, 1, 0, 1, 0, 0, 0,\n",
       "        0, 1, 0, 1, 0, 1, 1, 1, 0, 0, 1, 1, 1, 1, 0, 0, 0, 0, 1, 0, 0, 0,\n",
       "        0, 1, 1, 1, 1, 1, 1, 0, 1, 1, 0, 1, 0, 1, 0, 1, 0, 1, 1, 0, 0, 0,\n",
       "        0, 1, 0, 0, 0, 1, 1, 1, 0, 0, 0, 1, 0, 1, 1, 0, 0, 0, 1, 1, 0, 0,\n",
       "        1, 1, 0, 1, 0, 0, 0, 0, 1, 0, 0, 0, 1, 1, 1, 1, 0, 1, 0, 1, 1, 1,\n",
       "        0, 0, 0, 0, 0, 0, 0, 1, 0, 1, 1, 1, 0, 1, 1, 1, 0, 0, 1, 1, 0, 1,\n",
       "        0, 1, 1, 0, 1, 0, 1, 0, 0, 0, 1, 0, 1, 1, 0, 0, 1, 1, 1, 1, 0, 1,\n",
       "        0, 0, 1, 0, 0, 1, 0, 0, 0, 0, 0, 1, 0, 1, 1, 1, 0, 1, 0, 1, 0, 0,\n",
       "        1, 0, 1, 0, 0, 0, 1, 0, 1, 0, 1, 0, 1, 1, 0, 0, 0, 0, 0, 1, 1, 0,\n",
       "        1, 0, 1, 1, 1, 1, 0, 1, 1, 1, 1, 0, 0, 0, 0, 0, 1, 0, 1, 0, 1, 0,\n",
       "        1, 1, 0, 0, 0, 0, 0, 1, 0, 0, 0, 1, 0, 0, 0, 0, 0, 0, 0, 1, 0, 1,\n",
       "        1, 1, 0, 0, 1, 1, 0, 0, 0, 0, 0, 1, 0, 0, 0, 1, 0, 1, 1, 0, 1, 1,\n",
       "        0, 1, 0, 0, 0, 0, 0, 0, 1, 1, 1, 0, 1, 0, 1, 1, 1, 0, 0, 1, 1, 1,\n",
       "        0, 0, 1, 0, 0, 0, 1, 1, 1, 0, 0, 1, 0, 1, 0, 1, 0, 0, 0, 1, 1, 0,\n",
       "        0, 0, 0, 1, 0, 0, 1, 1, 0, 1, 0, 0, 1, 1, 1, 1, 0, 1, 0, 1, 0, 1,\n",
       "        1, 1, 0, 0, 1, 0, 1, 1, 1, 0, 0, 0, 0, 1, 1, 1, 1, 1, 1, 1, 1, 0,\n",
       "        0, 1, 0, 0, 1, 0, 1, 0, 0, 1, 0, 0, 1, 1, 0, 1, 0, 0, 0, 1, 1, 0,\n",
       "        0, 1, 1, 0, 1, 0, 1, 1, 1, 1, 0, 0, 0, 0, 0, 0, 1, 1, 0, 1, 1, 0,\n",
       "        0, 1, 0, 0, 0, 0, 1, 0, 0, 0, 0, 1, 0, 0, 0, 0, 1, 0, 1, 0, 1, 0,\n",
       "        1, 0, 1, 0, 0, 0, 1, 1, 1, 0, 0, 1, 1, 0, 0, 0, 0, 1, 1, 1, 1, 1,\n",
       "        0, 0, 1, 0, 0, 0, 1, 1, 0, 0, 0, 1, 0, 0, 0, 1, 0, 0, 1, 0, 0, 0,\n",
       "        1, 0, 1, 0, 0, 1, 1, 1, 1, 0, 1, 0, 0, 0, 1, 1, 0, 1, 1, 0, 0, 0,\n",
       "        0, 0, 1, 1, 0, 0, 1, 1, 1, 1, 1, 1, 1, 1, 1, 1, 0, 1, 0, 1, 1, 0,\n",
       "        0, 0, 0, 0, 1, 0, 1, 0, 0, 0, 0, 1, 0, 0, 0, 0, 0, 0, 0, 1, 1, 1,\n",
       "        1, 0, 0, 1, 0, 0, 1, 0, 1, 0, 1, 0, 1, 0, 0, 1, 0, 0, 0, 1, 0, 0,\n",
       "        1, 1, 0, 0, 1, 0, 1, 1, 0, 1, 1, 1, 0, 0, 0, 0, 1, 0, 0, 0, 1, 1,\n",
       "        0, 0, 0, 1, 0, 0, 0, 0, 0, 0, 1, 0, 0, 0, 1, 0, 0, 1, 0, 0, 0, 0,\n",
       "        0, 0, 0, 0, 1, 0, 1, 0, 0, 0, 0, 0, 0, 0, 0, 0, 0, 0, 1, 0, 1, 0,\n",
       "        0, 0, 0, 0, 0, 0, 1, 1, 0, 0, 0, 0, 1, 0, 0, 0, 0, 0, 1, 0, 0, 0,\n",
       "        1, 0, 0, 0, 0, 0, 1, 1, 0, 1, 0, 0, 0, 0, 1, 0, 0, 0, 0, 0, 0, 0,\n",
       "        0, 0, 1, 0, 0, 1, 0, 1, 0, 0], dtype=int32)}"
      ]
     },
     "execution_count": 149,
     "metadata": {},
     "output_type": "execute_result"
    }
   ],
   "source": [
    "prediction.predictions"
   ]
  },
  {
   "cell_type": "markdown",
   "id": "c7475b00-0c2e-48c9-bab9-28a33569a458",
   "metadata": {
    "tags": []
   },
   "source": [
    "---"
   ]
  },
  {
   "cell_type": "code",
   "execution_count": 150,
   "id": "9522390b-6802-4bc4-a5b7-9123a4474bf9",
   "metadata": {
    "tags": []
   },
   "outputs": [
    {
     "name": "stdout",
     "output_type": "stream",
     "text": [
      "\n",
      "└── 👟 Success - Fit FunctionTransformer(func=<function div255 at 0x106f034d0>,\n",
      "                    inverse_func=<function mult255 at 0x14d9bc5f0>) on 120 columns.\n",
      "\n",
      "\n",
      "└── ✅ Success - All columns now have encoders associated with them.\n",
      "\n",
      "\n",
      "Info - Featureset only contains image features. System overriding to `permute_count=0`.\n",
      "\n",
      "\n",
      "└── 🔂 Success - created Queue consisting of 1 runs.\n",
      "\n"
     ]
    }
   ],
   "source": [
    "torch_bin_img = tests.torch_bin_img.make_queue()"
   ]
  },
  {
   "cell_type": "code",
   "execution_count": 151,
   "id": "2085d802-3afa-4549-b503-58ce1b867acc",
   "metadata": {
    "tags": []
   },
   "outputs": [
    {
     "name": "stderr",
     "output_type": "stream",
     "text": [
      "└── 📦 Caching Splits:: 100%|██████████████████████████| 3/3 [00:00<00:00, 18.17it/s]\n",
      "└── 🔮 Queue #226:: 100%|██████████████████████████████| 1/1 [00:19<00:00, 19.68s/it]\n"
     ]
    }
   ],
   "source": [
    "torch_bin_img.run_jobs()"
   ]
  },
  {
   "cell_type": "code",
   "execution_count": 152,
   "id": "eef615b0-12f7-4c5f-8cc1-1f91692710a4",
   "metadata": {
    "tags": []
   },
   "outputs": [],
   "source": [
    "prediction = tests.infer(torch_bin_img)"
   ]
  },
  {
   "cell_type": "code",
   "execution_count": 153,
   "id": "5ae855ed-edbe-43ab-9499-a0c71b6f71f2",
   "metadata": {
    "tags": []
   },
   "outputs": [
    {
     "data": {
      "text/plain": [
       "{'infer_0': {'accuracy': 0.538,\n",
       "  'f1': 0.684,\n",
       "  'loss': 1.111,\n",
       "  'precision': 0.519,\n",
       "  'recall': 1.0,\n",
       "  'roc_auc': 0.621}}"
      ]
     },
     "execution_count": 153,
     "metadata": {},
     "output_type": "execute_result"
    }
   ],
   "source": [
    "prediction.metrics"
   ]
  },
  {
   "cell_type": "code",
   "execution_count": 154,
   "id": "2ada642f-0127-41ab-837c-b8b98ab2d108",
   "metadata": {
    "tags": []
   },
   "outputs": [
    {
     "data": {
      "text/plain": [
       "{'infer_0': array([1, 1, 1, 1, 0, 0, 0, 1, 1, 1, 1, 1, 1, 1, 1, 1, 1, 1, 1, 1, 1, 1,\n",
       "        1, 1, 1, 1, 1, 1, 1, 1, 1, 1, 1, 1, 1, 1, 1, 1, 1, 1, 1, 1, 1, 1,\n",
       "        1, 1, 1, 1, 1, 1, 1, 1, 1, 1, 1, 1, 1, 1, 1, 1, 1, 1, 1, 1, 1, 1,\n",
       "        1, 1, 1, 1, 1, 1, 1, 1, 1, 1, 1, 1, 1, 1], dtype=int32)}"
      ]
     },
     "execution_count": 154,
     "metadata": {},
     "output_type": "execute_result"
    }
   ],
   "source": [
    "prediction.predictions"
   ]
  },
  {
   "cell_type": "code",
   "execution_count": 155,
   "id": "edee2178-ade3-41e4-8229-33528c1a35d3",
   "metadata": {
    "tags": []
   },
   "outputs": [],
   "source": [
    "prediction = tests.infer(torch_bin_img, include_label=False)"
   ]
  },
  {
   "cell_type": "code",
   "execution_count": 156,
   "id": "edcb5f2b-4676-4694-b74e-97da0d8cb60f",
   "metadata": {
    "tags": []
   },
   "outputs": [
    {
     "data": {
      "text/plain": [
       "{'infer_1': array([1, 1, 1, 1, 0, 0, 0, 1, 1, 1, 1, 1, 1, 1, 1, 1, 1, 1, 1, 1, 1, 1,\n",
       "        1, 1, 1, 1, 1, 1, 1, 1, 1, 1, 1, 1, 1, 1, 1, 1, 1, 1, 1, 1, 1, 1,\n",
       "        1, 1, 1, 1, 1, 1, 1, 1, 1, 1, 1, 1, 1, 1, 1, 1, 1, 1, 1, 1, 1, 1,\n",
       "        1, 1, 1, 1, 1, 1, 1, 1, 1, 1, 1, 1, 1, 1], dtype=int32)}"
      ]
     },
     "execution_count": 156,
     "metadata": {},
     "output_type": "execute_result"
    }
   ],
   "source": [
    "prediction.predictions"
   ]
  },
  {
   "cell_type": "markdown",
   "id": "e309392f-21e1-4f2d-a000-ad28b79f4f0b",
   "metadata": {
    "tags": []
   },
   "source": [
    "---"
   ]
  },
  {
   "cell_type": "code",
   "execution_count": 157,
   "id": "cb722fd7-5e88-4ec3-af62-ef4d244112dc",
   "metadata": {
    "tags": []
   },
   "outputs": [
    {
     "name": "stdout",
     "output_type": "stream",
     "text": [
      "\n",
      "└── 👟 Success - Fit FunctionTransformer(func=<function div255 at 0x106f034d0>,\n",
      "                    inverse_func=<function mult255 at 0x14d9bc5f0>) on 120 columns.\n",
      "\n",
      "\n",
      "└── ✅ Success - All columns now have encoders associated with them.\n",
      "\n",
      "\n",
      "Info - Featureset only contains image features. System overriding to `permute_count=0`.\n",
      "\n",
      "\n",
      "└── 🔂 Success - created Queue consisting of 3 runs.\n",
      "\n"
     ]
    }
   ],
   "source": [
    "torch_bin_img_fold = tests.torch_bin_img.make_queue(fold_count=3)"
   ]
  },
  {
   "cell_type": "code",
   "execution_count": 158,
   "id": "63d3069f-6730-4076-bb02-a8ea917dc516",
   "metadata": {
    "tags": []
   },
   "outputs": [
    {
     "name": "stderr",
     "output_type": "stream",
     "text": [
      "└── 📦 Caching - Fold #1:: 100%|███████████████████████| 4/4 [00:00<00:00, 23.64it/s]\n",
      "└── 📦 Caching - Fold #2:: 100%|███████████████████████| 4/4 [00:00<00:00, 23.38it/s]\n",
      "└── 📦 Caching - Fold #3:: 100%|███████████████████████| 4/4 [00:00<00:00, 24.35it/s]\n",
      "└── 🔮 Queue 227 // Fold #1:: 100%|████████████████████| 1/1 [00:14<00:00, 14.23s/it]\n",
      "└── 🔮 Queue 227 // Fold #2:: 100%|████████████████████| 1/1 [00:14<00:00, 14.46s/it]\n",
      "└── 🔮 Queue 227 // Fold #3:: 100%|████████████████████| 1/1 [00:14<00:00, 14.37s/it]\n"
     ]
    }
   ],
   "source": [
    "torch_bin_img_fold.run_jobs()"
   ]
  },
  {
   "cell_type": "code",
   "execution_count": 159,
   "id": "80dbbe17-7d14-4942-ba2c-a8622f45c13e",
   "metadata": {
    "tags": []
   },
   "outputs": [],
   "source": [
    "prediction = tests.infer(torch_bin_img_fold)"
   ]
  },
  {
   "cell_type": "code",
   "execution_count": 160,
   "id": "a477d0eb-f150-4c60-8e70-6df5c70c1f34",
   "metadata": {
    "tags": []
   },
   "outputs": [
    {
     "data": {
      "text/plain": [
       "{'infer_0': {'accuracy': 0.438,\n",
       "  'f1': 0.262,\n",
       "  'loss': 2.517,\n",
       "  'precision': 0.381,\n",
       "  'recall': 0.2,\n",
       "  'roc_auc': 0.381}}"
      ]
     },
     "execution_count": 160,
     "metadata": {},
     "output_type": "execute_result"
    }
   ],
   "source": [
    "prediction.metrics"
   ]
  },
  {
   "cell_type": "code",
   "execution_count": 161,
   "id": "345b01a4-2023-4bb5-b6e6-4b3afc9429d5",
   "metadata": {
    "tags": []
   },
   "outputs": [
    {
     "data": {
      "text/plain": [
       "{'infer_0': array([1, 1, 1, 1, 0, 0, 0, 0, 0, 0, 0, 0, 0, 1, 1, 0, 0, 0, 0, 0, 0, 0,\n",
       "        0, 0, 1, 0, 1, 1, 1, 1, 1, 1, 0, 0, 0, 0, 0, 0, 0, 0, 0, 0, 1, 1,\n",
       "        0, 1, 0, 1, 1, 0, 0, 0, 0, 0, 0, 0, 0, 0, 0, 0, 0, 0, 0, 1, 0, 0,\n",
       "        0, 0, 0, 0, 0, 0, 0, 0, 0, 0, 1, 0, 0, 1], dtype=int32)}"
      ]
     },
     "execution_count": 161,
     "metadata": {},
     "output_type": "execute_result"
    }
   ],
   "source": [
    "prediction.predictions"
   ]
  },
  {
   "cell_type": "code",
   "execution_count": 162,
   "id": "6b4a2225-2e2f-49cf-a017-b2b6dbecdd7f",
   "metadata": {
    "tags": []
   },
   "outputs": [],
   "source": [
    "prediction = tests.infer(torch_bin_img_fold, include_label=False)"
   ]
  },
  {
   "cell_type": "code",
   "execution_count": 163,
   "id": "410f4914-2563-4cd3-9f22-570dd4836762",
   "metadata": {
    "tags": []
   },
   "outputs": [
    {
     "data": {
      "text/plain": [
       "{'infer_1': array([1, 1, 1, 1, 0, 0, 0, 0, 0, 0, 0, 0, 0, 1, 1, 0, 0, 0, 0, 0, 0, 0,\n",
       "        0, 0, 1, 0, 1, 1, 1, 1, 1, 1, 0, 0, 0, 0, 0, 0, 0, 0, 0, 0, 1, 1,\n",
       "        0, 1, 0, 1, 1, 0, 0, 0, 0, 0, 0, 0, 0, 0, 0, 0, 0, 0, 0, 1, 0, 0,\n",
       "        0, 0, 0, 0, 0, 0, 0, 0, 0, 0, 1, 0, 0, 1], dtype=int32)}"
      ]
     },
     "execution_count": 163,
     "metadata": {},
     "output_type": "execute_result"
    }
   ],
   "source": [
    "prediction.predictions"
   ]
  },
  {
   "cell_type": "markdown",
   "id": "f125b5ac-6fee-4819-9938-ecbd64d280b6",
   "metadata": {
    "tags": []
   },
   "source": [
    "---"
   ]
  }
 ],
 "metadata": {
  "kernelspec": {
   "display_name": "Python 3",
   "language": "python",
   "name": "python3"
  },
  "language_info": {
   "codemirror_mode": {
    "name": "ipython",
    "version": 3
   },
   "file_extension": ".py",
   "mimetype": "text/x-python",
   "name": "python",
   "nbconvert_exporter": "python",
   "pygments_lexer": "ipython3",
   "version": "3.7.12"
  },
  "toc-autonumbering": false
 },
 "nbformat": 4,
 "nbformat_minor": 5
}
