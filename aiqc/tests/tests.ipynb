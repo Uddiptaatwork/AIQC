{
 "cells": [
  {
   "cell_type": "markdown",
   "id": "08ec3e9b-5d17-4544-a9bf-0a30851d67cf",
   "metadata": {
    "tags": []
   },
   "source": [
    "# Tests\n",
    "\n",
    "Be sure to make a copy of this file so that you don't overwrite the template for running tests.\n",
    "\n",
    "The tests are located in `AIQC/aiqc/tests`\n",
    "\n",
    "`fold_count` triggers other binary cases like `ingest:bool`"
   ]
  },
  {
   "cell_type": "markdown",
   "id": "88f9c475-3286-4322-9274-3fc1e68814b6",
   "metadata": {},
   "source": [
    "---"
   ]
  },
  {
   "cell_type": "markdown",
   "id": "e42882f4-bfb3-4e78-b4c2-28eee2ead860",
   "metadata": {},
   "source": [
    "Use the location where you cloned the repo:"
   ]
  },
  {
   "cell_type": "code",
   "execution_count": 1,
   "id": "e092b41a-74a0-4b62-82e3-5b546d60e70a",
   "metadata": {},
   "outputs": [
    {
     "name": "stdout",
     "output_type": "stream",
     "text": [
      "/Users/layne/Desktop/AIQC\n"
     ]
    }
   ],
   "source": [
    "cd '~/Desktop/AIQC'"
   ]
  },
  {
   "cell_type": "code",
   "execution_count": 2,
   "id": "5ffd0a24-3528-4182-87be-c077813d0458",
   "metadata": {
    "tags": []
   },
   "outputs": [],
   "source": [
    "from aiqc import orm, datum, tests"
   ]
  },
  {
   "cell_type": "markdown",
   "id": "f3cf2fde-0288-417d-bfed-d47f50e0a8bf",
   "metadata": {},
   "source": [
    "---"
   ]
  },
  {
   "cell_type": "markdown",
   "id": "1c490e18-3959-46d7-a675-cc70e9cb7e88",
   "metadata": {},
   "source": [
    "Makes sure local tests are running, not an installed pypi module"
   ]
  },
  {
   "cell_type": "code",
   "execution_count": 3,
   "id": "f6120333-7d4d-443e-acde-007c5cc6c669",
   "metadata": {
    "tags": []
   },
   "outputs": [
    {
     "name": "stdout",
     "output_type": "stream",
     "text": [
      "\n",
      "└── 🗑️ Success - deleted database file at path:\n",
      "/Users/layne/Library/Application Support/aiqc/aiqc.sqlite3\n",
      "\n",
      "\n",
      "└── 📁 Success - created database file at path:\n",
      "/Users/layne/Library/Application Support/aiqc/aiqc.sqlite3\n",
      "\n",
      "\n",
      "└── 💾 Success - created database tables\n",
      "\n"
     ]
    }
   ],
   "source": [
    "orm.destroy_db(confirm=True, rebuild=True)"
   ]
  },
  {
   "cell_type": "code",
   "execution_count": 4,
   "id": "62ef429b-f196-4263-b692-ca44dc4844d7",
   "metadata": {
    "tags": []
   },
   "outputs": [],
   "source": [
    "orm.clear_cache_all()"
   ]
  },
  {
   "cell_type": "markdown",
   "id": "70a972f3-6d0e-49ba-83eb-0135b469bd8c",
   "metadata": {
    "tags": []
   },
   "source": [
    "---"
   ]
  },
  {
   "cell_type": "markdown",
   "id": "fd804be5-86db-4713-bdd9-07a5ae224185",
   "metadata": {
    "tags": []
   },
   "source": [
    "# TensorFlow"
   ]
  },
  {
   "cell_type": "code",
   "execution_count": 5,
   "id": "e8d67434-a361-4e15-bfac-785058009b36",
   "metadata": {
    "tags": []
   },
   "outputs": [
    {
     "name": "stdout",
     "output_type": "stream",
     "text": [
      "\n",
      "└── Info - System overriding user input to set `sklearn_preprocess.copy=False`.\n",
      "This saves memory when concatenating the output of many encoders.\n",
      "\n",
      "\n",
      "└── Success - Fit PowerTransformer(copy=False) on 60 columns.\n",
      "\n",
      "\n",
      "└── Success - All columns now have encoders associated with them.\n",
      "\n"
     ]
    }
   ],
   "source": [
    "tf_bin_tab = tests.tf_bin_tab.make_queue()"
   ]
  },
  {
   "cell_type": "code",
   "execution_count": 6,
   "id": "fa3da512-a9aa-43ea-9484-44d5f9eef244",
   "metadata": {
    "tags": []
   },
   "outputs": [
    {
     "name": "stderr",
     "output_type": "stream",
     "text": [
      "📦 Caching Splits 📦: 100%|███████████████████████████| 3/3 [00:00<00:00, 364.61it/s]\n",
      "🔮 Training Models 🔮: 100%|███████████████████████████| 1/1 [00:07<00:00,  7.56s/it]\n"
     ]
    }
   ],
   "source": [
    "tf_bin_tab.run_jobs()"
   ]
  },
  {
   "cell_type": "code",
   "execution_count": 7,
   "id": "b860f76c-a06b-4082-b081-111745c7a411",
   "metadata": {
    "tags": []
   },
   "outputs": [],
   "source": [
    "prediction = tests.infer(tf_bin_tab)"
   ]
  },
  {
   "cell_type": "code",
   "execution_count": 8,
   "id": "94a65b6d-2349-44ec-bf0c-fc335233b0d8",
   "metadata": {
    "tags": []
   },
   "outputs": [
    {
     "data": {
      "text/plain": [
       "{'infer_0': {'accuracy': 0.933,\n",
       "  'f1': 0.927,\n",
       "  'loss': 0.201,\n",
       "  'precision': 0.937,\n",
       "  'recall': 0.918,\n",
       "  'roc_auc': 0.973}}"
      ]
     },
     "execution_count": 8,
     "metadata": {},
     "output_type": "execute_result"
    }
   ],
   "source": [
    "prediction.metrics"
   ]
  },
  {
   "cell_type": "code",
   "execution_count": 9,
   "id": "1bc56292-a5c9-4f0d-b418-fd01068d6b36",
   "metadata": {
    "tags": []
   },
   "outputs": [
    {
     "data": {
      "text/plain": [
       "{'infer_0': array(['R', 'R', 'R', 'R', 'R', 'R', 'M', 'M', 'M', 'R', 'R', 'R', 'R',\n",
       "        'R', 'R', 'R', 'M', 'R', 'R', 'R', 'M', 'R', 'R', 'R', 'R', 'R',\n",
       "        'R', 'R', 'R', 'R', 'R', 'R', 'R', 'R', 'R', 'R', 'R', 'R', 'R',\n",
       "        'R', 'R', 'R', 'R', 'R', 'R', 'R', 'M', 'R', 'R', 'R', 'R', 'R',\n",
       "        'R', 'R', 'R', 'R', 'R', 'R', 'R', 'R', 'R', 'R', 'R', 'R', 'R',\n",
       "        'R', 'R', 'R', 'R', 'R', 'R', 'R', 'R', 'R', 'R', 'R', 'R', 'R',\n",
       "        'R', 'R', 'R', 'R', 'R', 'R', 'R', 'R', 'R', 'R', 'R', 'R', 'R',\n",
       "        'M', 'R', 'M', 'R', 'R', 'R', 'M', 'M', 'M', 'M', 'M', 'M', 'M',\n",
       "        'M', 'M', 'M', 'M', 'M', 'M', 'M', 'M', 'M', 'M', 'M', 'R', 'M',\n",
       "        'M', 'M', 'M', 'M', 'M', 'M', 'M', 'M', 'M', 'M', 'M', 'M', 'M',\n",
       "        'M', 'M', 'M', 'M', 'M', 'M', 'M', 'M', 'M', 'M', 'M', 'M', 'M',\n",
       "        'M', 'M', 'M', 'M', 'M', 'M', 'M', 'M', 'M', 'M', 'M', 'M', 'R',\n",
       "        'M', 'M', 'M', 'M', 'M', 'M', 'M', 'M', 'M', 'M', 'M', 'R', 'R',\n",
       "        'R', 'R', 'M', 'M', 'M', 'M', 'M', 'M', 'M', 'M', 'M', 'M', 'M',\n",
       "        'M', 'M', 'M', 'M', 'M', 'M', 'M', 'M', 'M', 'M', 'M', 'M', 'M',\n",
       "        'M', 'M', 'M', 'M', 'M', 'M', 'M', 'M', 'M', 'M', 'M', 'M', 'M'],\n",
       "       dtype='<U1')}"
      ]
     },
     "execution_count": 9,
     "metadata": {},
     "output_type": "execute_result"
    }
   ],
   "source": [
    "prediction.predictions"
   ]
  },
  {
   "cell_type": "code",
   "execution_count": 10,
   "id": "7683cb00-9a06-4257-aee6-0b672d6dee45",
   "metadata": {
    "tags": []
   },
   "outputs": [],
   "source": [
    "prediction = tests.infer(tf_bin_tab, include_label=False)"
   ]
  },
  {
   "cell_type": "code",
   "execution_count": 11,
   "id": "17b83f04-943e-4b26-ba34-addf97d837f6",
   "metadata": {
    "tags": []
   },
   "outputs": [
    {
     "data": {
      "text/plain": [
       "{'infer_1': array(['R', 'R', 'R', 'R', 'R', 'R', 'M', 'M', 'M', 'R', 'R', 'R', 'R',\n",
       "        'R', 'R', 'R', 'M', 'R', 'R', 'R', 'M', 'R', 'R', 'R', 'R', 'R',\n",
       "        'R', 'R', 'R', 'R', 'R', 'R', 'R', 'R', 'R', 'R', 'R', 'R', 'R',\n",
       "        'R', 'R', 'R', 'R', 'R', 'R', 'R', 'M', 'R', 'R', 'R', 'R', 'R',\n",
       "        'R', 'R', 'R', 'R', 'R', 'R', 'R', 'R', 'R', 'R', 'R', 'R', 'R',\n",
       "        'R', 'R', 'R', 'R', 'R', 'R', 'R', 'R', 'R', 'R', 'R', 'R', 'R',\n",
       "        'R', 'R', 'R', 'R', 'R', 'R', 'R', 'R', 'R', 'R', 'R', 'R', 'R',\n",
       "        'M', 'R', 'M', 'R', 'R', 'R', 'M', 'M', 'M', 'M', 'M', 'M', 'M',\n",
       "        'M', 'M', 'M', 'M', 'M', 'M', 'M', 'M', 'M', 'M', 'M', 'R', 'M',\n",
       "        'M', 'M', 'M', 'M', 'M', 'M', 'M', 'M', 'M', 'M', 'M', 'M', 'M',\n",
       "        'M', 'M', 'M', 'M', 'M', 'M', 'M', 'M', 'M', 'M', 'M', 'M', 'M',\n",
       "        'M', 'M', 'M', 'M', 'M', 'M', 'M', 'M', 'M', 'M', 'M', 'M', 'R',\n",
       "        'M', 'M', 'M', 'M', 'M', 'M', 'M', 'M', 'M', 'M', 'M', 'R', 'R',\n",
       "        'R', 'R', 'M', 'M', 'M', 'M', 'M', 'M', 'M', 'M', 'M', 'M', 'M',\n",
       "        'M', 'M', 'M', 'M', 'M', 'M', 'M', 'M', 'M', 'M', 'M', 'M', 'M',\n",
       "        'M', 'M', 'M', 'M', 'M', 'M', 'M', 'M', 'M', 'M', 'M', 'M', 'M'],\n",
       "       dtype='<U1')}"
      ]
     },
     "execution_count": 11,
     "metadata": {},
     "output_type": "execute_result"
    }
   ],
   "source": [
    "prediction.predictions"
   ]
  },
  {
   "cell_type": "markdown",
   "id": "a55d7588-10cd-45e0-ac93-629dae844a76",
   "metadata": {
    "tags": []
   },
   "source": [
    "---"
   ]
  },
  {
   "cell_type": "code",
   "execution_count": 12,
   "id": "97fa4d68-ee28-4bc4-9dd5-ee74454fa557",
   "metadata": {
    "tags": []
   },
   "outputs": [
    {
     "name": "stdout",
     "output_type": "stream",
     "text": [
      "\n",
      "└── Info - System overriding user input to set `sklearn_preprocess.copy=False`.\n",
      "This saves memory when concatenating the output of many encoders.\n",
      "\n",
      "\n",
      "└── Success - Fit PowerTransformer(copy=False) on 60 columns.\n",
      "\n",
      "\n",
      "└── Success - All columns now have encoders associated with them.\n",
      "\n"
     ]
    }
   ],
   "source": [
    "tf_bin_tab_fold = tests.tf_bin_tab.make_queue(fold_count=3)"
   ]
  },
  {
   "cell_type": "code",
   "execution_count": 13,
   "id": "7b079976-951b-4fa8-bd9d-fa272eb67ee9",
   "metadata": {
    "tags": []
   },
   "outputs": [
    {
     "name": "stderr",
     "output_type": "stream",
     "text": [
      "📦 Caching Splits - Fold #1 📦: 100%|█████████████████| 4/4 [00:00<00:00, 304.21it/s]\n",
      "📦 Caching Splits - Fold #2 📦: 100%|█████████████████| 4/4 [00:00<00:00, 389.71it/s]\n",
      "📦 Caching Splits - Fold #3 📦: 100%|█████████████████| 4/4 [00:00<00:00, 375.30it/s]\n",
      "🔮 Training Models - Fold #1 🔮: 100%|█████████████████| 1/1 [00:07<00:00,  7.10s/it]\n",
      "🔮 Training Models - Fold #2 🔮: 100%|█████████████████| 1/1 [00:07<00:00,  7.27s/it]\n",
      "🔮 Training Models - Fold #3 🔮: 100%|█████████████████| 1/1 [00:06<00:00,  7.00s/it]\n"
     ]
    }
   ],
   "source": [
    "tf_bin_tab_fold.run_jobs()"
   ]
  },
  {
   "cell_type": "code",
   "execution_count": 14,
   "id": "4948d128-4839-4730-907f-074ed9f2e94b",
   "metadata": {
    "tags": []
   },
   "outputs": [],
   "source": [
    "prediction = tests.infer(tf_bin_tab_fold)"
   ]
  },
  {
   "cell_type": "code",
   "execution_count": 15,
   "id": "b393b361-9c8a-446d-a79f-79c1e73f5b83",
   "metadata": {
    "tags": []
   },
   "outputs": [
    {
     "data": {
      "text/plain": [
       "{'infer_0': {'accuracy': 0.909,\n",
       "  'f1': 0.902,\n",
       "  'loss': 0.309,\n",
       "  'precision': 0.906,\n",
       "  'recall': 0.897,\n",
       "  'roc_auc': 0.943}}"
      ]
     },
     "execution_count": 15,
     "metadata": {},
     "output_type": "execute_result"
    }
   ],
   "source": [
    "prediction.metrics"
   ]
  },
  {
   "cell_type": "code",
   "execution_count": 16,
   "id": "19262d83-9413-4cb2-86ef-706cba045815",
   "metadata": {
    "tags": []
   },
   "outputs": [
    {
     "data": {
      "text/plain": [
       "{'infer_0': array(['M', 'R', 'M', 'R', 'R', 'R', 'R', 'M', 'M', 'R', 'R', 'R', 'R',\n",
       "        'R', 'R', 'R', 'M', 'R', 'R', 'R', 'R', 'R', 'R', 'R', 'R', 'R',\n",
       "        'R', 'R', 'R', 'R', 'R', 'R', 'R', 'R', 'R', 'M', 'R', 'R', 'R',\n",
       "        'R', 'R', 'R', 'R', 'R', 'R', 'R', 'M', 'R', 'R', 'R', 'R', 'R',\n",
       "        'R', 'R', 'R', 'R', 'R', 'R', 'R', 'R', 'R', 'R', 'R', 'R', 'R',\n",
       "        'R', 'R', 'R', 'R', 'R', 'R', 'R', 'R', 'R', 'R', 'R', 'R', 'R',\n",
       "        'R', 'R', 'R', 'R', 'R', 'R', 'R', 'M', 'R', 'R', 'R', 'R', 'R',\n",
       "        'M', 'R', 'M', 'R', 'R', 'R', 'M', 'M', 'R', 'M', 'M', 'M', 'R',\n",
       "        'M', 'M', 'M', 'M', 'M', 'M', 'M', 'M', 'M', 'M', 'M', 'M', 'M',\n",
       "        'M', 'M', 'M', 'M', 'M', 'M', 'M', 'M', 'M', 'M', 'M', 'M', 'M',\n",
       "        'M', 'M', 'M', 'M', 'M', 'M', 'M', 'M', 'M', 'M', 'M', 'M', 'M',\n",
       "        'M', 'M', 'M', 'M', 'M', 'M', 'M', 'R', 'R', 'M', 'M', 'R', 'R',\n",
       "        'M', 'M', 'M', 'M', 'M', 'M', 'M', 'R', 'M', 'R', 'M', 'M', 'M',\n",
       "        'M', 'M', 'M', 'M', 'M', 'M', 'M', 'M', 'M', 'M', 'M', 'M', 'M',\n",
       "        'M', 'M', 'M', 'M', 'M', 'M', 'M', 'M', 'M', 'M', 'M', 'M', 'M',\n",
       "        'M', 'M', 'M', 'M', 'M', 'M', 'M', 'M', 'M', 'M', 'M', 'M', 'R'],\n",
       "       dtype='<U1')}"
      ]
     },
     "execution_count": 16,
     "metadata": {},
     "output_type": "execute_result"
    }
   ],
   "source": [
    "prediction.predictions"
   ]
  },
  {
   "cell_type": "code",
   "execution_count": 17,
   "id": "cfa781da-22af-46bb-9733-6534716c841a",
   "metadata": {
    "tags": []
   },
   "outputs": [],
   "source": [
    "prediction = tests.infer(tf_bin_tab_fold, include_label=False)"
   ]
  },
  {
   "cell_type": "code",
   "execution_count": 18,
   "id": "771e5d96-c085-4aad-b24b-af3d64d709d9",
   "metadata": {
    "tags": []
   },
   "outputs": [
    {
     "data": {
      "text/plain": [
       "{'infer_1': array(['M', 'R', 'M', 'R', 'R', 'R', 'R', 'M', 'M', 'R', 'R', 'R', 'R',\n",
       "        'R', 'R', 'R', 'M', 'R', 'R', 'R', 'R', 'R', 'R', 'R', 'R', 'R',\n",
       "        'R', 'R', 'R', 'R', 'R', 'R', 'R', 'R', 'R', 'M', 'R', 'R', 'R',\n",
       "        'R', 'R', 'R', 'R', 'R', 'R', 'R', 'M', 'R', 'R', 'R', 'R', 'R',\n",
       "        'R', 'R', 'R', 'R', 'R', 'R', 'R', 'R', 'R', 'R', 'R', 'R', 'R',\n",
       "        'R', 'R', 'R', 'R', 'R', 'R', 'R', 'R', 'R', 'R', 'R', 'R', 'R',\n",
       "        'R', 'R', 'R', 'R', 'R', 'R', 'R', 'M', 'R', 'R', 'R', 'R', 'R',\n",
       "        'M', 'R', 'M', 'R', 'R', 'R', 'M', 'M', 'R', 'M', 'M', 'M', 'R',\n",
       "        'M', 'M', 'M', 'M', 'M', 'M', 'M', 'M', 'M', 'M', 'M', 'M', 'M',\n",
       "        'M', 'M', 'M', 'M', 'M', 'M', 'M', 'M', 'M', 'M', 'M', 'M', 'M',\n",
       "        'M', 'M', 'M', 'M', 'M', 'M', 'M', 'M', 'M', 'M', 'M', 'M', 'M',\n",
       "        'M', 'M', 'M', 'M', 'M', 'M', 'M', 'R', 'R', 'M', 'M', 'R', 'R',\n",
       "        'M', 'M', 'M', 'M', 'M', 'M', 'M', 'R', 'M', 'R', 'M', 'M', 'M',\n",
       "        'M', 'M', 'M', 'M', 'M', 'M', 'M', 'M', 'M', 'M', 'M', 'M', 'M',\n",
       "        'M', 'M', 'M', 'M', 'M', 'M', 'M', 'M', 'M', 'M', 'M', 'M', 'M',\n",
       "        'M', 'M', 'M', 'M', 'M', 'M', 'M', 'M', 'M', 'M', 'M', 'M', 'R'],\n",
       "       dtype='<U1')}"
      ]
     },
     "execution_count": 18,
     "metadata": {},
     "output_type": "execute_result"
    }
   ],
   "source": [
    "prediction.predictions"
   ]
  },
  {
   "cell_type": "markdown",
   "id": "48cb8ded-154b-4443-8292-e8a5c4092b2d",
   "metadata": {
    "tags": []
   },
   "source": [
    "---"
   ]
  },
  {
   "cell_type": "code",
   "execution_count": 19,
   "id": "90949696-bd14-4bac-a4df-018561e97d69",
   "metadata": {
    "tags": []
   },
   "outputs": [
    {
     "name": "stdout",
     "output_type": "stream",
     "text": [
      "\n",
      "└── Success - Fit StandardScaler(copy=False) on the following columns:\n",
      "['petal_width']\n",
      "\n",
      "\n",
      "└── Info - The following columns have not yet been encoded:\n",
      "['sepal_width', 'sepal_length', 'petal_length']\n",
      "\n",
      "\n",
      "└── Success - Fit RobustScaler(copy=False) on the following columns:\n",
      "['sepal_length', 'sepal_width', 'petal_length']\n",
      "\n",
      "\n",
      "└── Success - All columns now have encoders associated with them.\n",
      "\n"
     ]
    }
   ],
   "source": [
    "tf_multi_tab = tests.tf_multi_tab.make_queue()"
   ]
  },
  {
   "cell_type": "code",
   "execution_count": 20,
   "id": "e34e3285-bbfd-450c-a247-333b86a16b72",
   "metadata": {
    "tags": []
   },
   "outputs": [
    {
     "name": "stderr",
     "output_type": "stream",
     "text": [
      "📦 Caching Splits 📦: 100%|███████████████████████████| 3/3 [00:00<00:00, 381.29it/s]\n",
      "🔮 Training Models 🔮: 100%|███████████████████████████| 1/1 [00:01<00:00,  1.82s/it]\n"
     ]
    }
   ],
   "source": [
    "tf_multi_tab.run_jobs()"
   ]
  },
  {
   "cell_type": "code",
   "execution_count": 21,
   "id": "4a2cfd0f-8123-4c89-97b7-1bb804d07c81",
   "metadata": {
    "tags": []
   },
   "outputs": [],
   "source": [
    "prediction = tests.infer(tf_multi_tab)"
   ]
  },
  {
   "cell_type": "code",
   "execution_count": 22,
   "id": "50cff6a0-0cbf-4daf-98d4-2b35df348cd8",
   "metadata": {
    "tags": []
   },
   "outputs": [
    {
     "data": {
      "text/plain": [
       "{'infer_0': {'accuracy': 0.94,\n",
       "  'f1': 0.94,\n",
       "  'loss': 0.316,\n",
       "  'precision': 0.945,\n",
       "  'recall': 0.94,\n",
       "  'roc_auc': 0.995}}"
      ]
     },
     "execution_count": 22,
     "metadata": {},
     "output_type": "execute_result"
    }
   ],
   "source": [
    "prediction.metrics"
   ]
  },
  {
   "cell_type": "code",
   "execution_count": 23,
   "id": "d243812f-a45d-4ba7-9b61-fec35ed67f52",
   "metadata": {
    "tags": []
   },
   "outputs": [
    {
     "data": {
      "text/plain": [
       "{'infer_0': array(['setosa', 'setosa', 'setosa', 'setosa', 'setosa', 'setosa',\n",
       "        'setosa', 'setosa', 'setosa', 'setosa', 'setosa', 'setosa',\n",
       "        'setosa', 'setosa', 'setosa', 'setosa', 'setosa', 'setosa',\n",
       "        'setosa', 'setosa', 'setosa', 'setosa', 'setosa', 'setosa',\n",
       "        'setosa', 'setosa', 'setosa', 'setosa', 'setosa', 'setosa',\n",
       "        'setosa', 'setosa', 'setosa', 'setosa', 'setosa', 'setosa',\n",
       "        'setosa', 'setosa', 'setosa', 'setosa', 'setosa', 'setosa',\n",
       "        'setosa', 'setosa', 'setosa', 'setosa', 'setosa', 'setosa',\n",
       "        'setosa', 'setosa', 'versicolor', 'versicolor', 'virginica',\n",
       "        'versicolor', 'virginica', 'versicolor', 'versicolor',\n",
       "        'versicolor', 'versicolor', 'versicolor', 'versicolor',\n",
       "        'versicolor', 'versicolor', 'versicolor', 'versicolor',\n",
       "        'versicolor', 'versicolor', 'versicolor', 'virginica',\n",
       "        'versicolor', 'virginica', 'versicolor', 'virginica', 'versicolor',\n",
       "        'versicolor', 'versicolor', 'virginica', 'virginica', 'versicolor',\n",
       "        'versicolor', 'versicolor', 'versicolor', 'versicolor',\n",
       "        'virginica', 'versicolor', 'versicolor', 'versicolor',\n",
       "        'versicolor', 'versicolor', 'versicolor', 'versicolor',\n",
       "        'versicolor', 'versicolor', 'versicolor', 'versicolor',\n",
       "        'versicolor', 'versicolor', 'versicolor', 'versicolor',\n",
       "        'versicolor', 'virginica', 'virginica', 'virginica', 'virginica',\n",
       "        'virginica', 'virginica', 'versicolor', 'virginica', 'virginica',\n",
       "        'virginica', 'virginica', 'virginica', 'virginica', 'virginica',\n",
       "        'virginica', 'virginica', 'virginica', 'virginica', 'virginica',\n",
       "        'virginica', 'virginica', 'virginica', 'virginica', 'virginica',\n",
       "        'virginica', 'virginica', 'virginica', 'virginica', 'virginica',\n",
       "        'virginica', 'virginica', 'virginica', 'virginica', 'virginica',\n",
       "        'virginica', 'virginica', 'virginica', 'virginica', 'virginica',\n",
       "        'virginica', 'virginica', 'virginica', 'virginica', 'virginica',\n",
       "        'virginica', 'virginica', 'virginica', 'virginica', 'virginica',\n",
       "        'virginica'], dtype=object)}"
      ]
     },
     "execution_count": 23,
     "metadata": {},
     "output_type": "execute_result"
    }
   ],
   "source": [
    "prediction.predictions"
   ]
  },
  {
   "cell_type": "code",
   "execution_count": 24,
   "id": "282d311d-e50a-47fa-bdcb-46e8d271d7bf",
   "metadata": {
    "tags": []
   },
   "outputs": [],
   "source": [
    "prediction = tests.infer(tf_multi_tab, include_label=False)"
   ]
  },
  {
   "cell_type": "code",
   "execution_count": 25,
   "id": "28f238f7-5312-44de-9b53-bcb4069e49f7",
   "metadata": {
    "tags": []
   },
   "outputs": [
    {
     "data": {
      "text/plain": [
       "{'infer_1': array(['setosa', 'setosa', 'setosa', 'setosa', 'setosa', 'setosa',\n",
       "        'setosa', 'setosa', 'setosa', 'setosa', 'setosa', 'setosa',\n",
       "        'setosa', 'setosa', 'setosa', 'setosa', 'setosa', 'setosa',\n",
       "        'setosa', 'setosa', 'setosa', 'setosa', 'setosa', 'setosa',\n",
       "        'setosa', 'setosa', 'setosa', 'setosa', 'setosa', 'setosa',\n",
       "        'setosa', 'setosa', 'setosa', 'setosa', 'setosa', 'setosa',\n",
       "        'setosa', 'setosa', 'setosa', 'setosa', 'setosa', 'setosa',\n",
       "        'setosa', 'setosa', 'setosa', 'setosa', 'setosa', 'setosa',\n",
       "        'setosa', 'setosa', 'versicolor', 'versicolor', 'virginica',\n",
       "        'versicolor', 'virginica', 'versicolor', 'versicolor',\n",
       "        'versicolor', 'versicolor', 'versicolor', 'versicolor',\n",
       "        'versicolor', 'versicolor', 'versicolor', 'versicolor',\n",
       "        'versicolor', 'versicolor', 'versicolor', 'virginica',\n",
       "        'versicolor', 'virginica', 'versicolor', 'virginica', 'versicolor',\n",
       "        'versicolor', 'versicolor', 'virginica', 'virginica', 'versicolor',\n",
       "        'versicolor', 'versicolor', 'versicolor', 'versicolor',\n",
       "        'virginica', 'versicolor', 'versicolor', 'versicolor',\n",
       "        'versicolor', 'versicolor', 'versicolor', 'versicolor',\n",
       "        'versicolor', 'versicolor', 'versicolor', 'versicolor',\n",
       "        'versicolor', 'versicolor', 'versicolor', 'versicolor',\n",
       "        'versicolor', 'virginica', 'virginica', 'virginica', 'virginica',\n",
       "        'virginica', 'virginica', 'versicolor', 'virginica', 'virginica',\n",
       "        'virginica', 'virginica', 'virginica', 'virginica', 'virginica',\n",
       "        'virginica', 'virginica', 'virginica', 'virginica', 'virginica',\n",
       "        'virginica', 'virginica', 'virginica', 'virginica', 'virginica',\n",
       "        'virginica', 'virginica', 'virginica', 'virginica', 'virginica',\n",
       "        'virginica', 'virginica', 'virginica', 'virginica', 'virginica',\n",
       "        'virginica', 'virginica', 'virginica', 'virginica', 'virginica',\n",
       "        'virginica', 'virginica', 'virginica', 'virginica', 'virginica',\n",
       "        'virginica', 'virginica', 'virginica', 'virginica', 'virginica',\n",
       "        'virginica'], dtype=object)}"
      ]
     },
     "execution_count": 25,
     "metadata": {},
     "output_type": "execute_result"
    }
   ],
   "source": [
    "prediction.predictions"
   ]
  },
  {
   "cell_type": "markdown",
   "id": "7e06f112-bdf3-4494-b891-bc73276223f2",
   "metadata": {
    "tags": []
   },
   "source": [
    "---"
   ]
  },
  {
   "cell_type": "code",
   "execution_count": 26,
   "id": "a6e5278b-b122-45dd-86d9-1aac7a78eb2e",
   "metadata": {
    "tags": []
   },
   "outputs": [
    {
     "name": "stdout",
     "output_type": "stream",
     "text": [
      "\n",
      "└── Success - Fit StandardScaler(copy=False) on the following columns:\n",
      "['petal_width']\n",
      "\n",
      "\n",
      "└── Info - The following columns have not yet been encoded:\n",
      "['sepal_width', 'sepal_length', 'petal_length']\n",
      "\n",
      "\n",
      "└── Success - Fit RobustScaler(copy=False) on the following columns:\n",
      "['sepal_length', 'sepal_width', 'petal_length']\n",
      "\n",
      "\n",
      "└── Success - All columns now have encoders associated with them.\n",
      "\n"
     ]
    }
   ],
   "source": [
    "tf_multi_tab_fold = tests.tf_multi_tab.make_queue(fold_count=3)"
   ]
  },
  {
   "cell_type": "code",
   "execution_count": 27,
   "id": "d143cf4b-5f4e-4303-8323-6b1837f78825",
   "metadata": {
    "tags": []
   },
   "outputs": [
    {
     "name": "stderr",
     "output_type": "stream",
     "text": [
      "📦 Caching Splits - Fold #1 📦: 100%|█████████████████| 4/4 [00:00<00:00, 358.27it/s]\n",
      "📦 Caching Splits - Fold #2 📦: 100%|█████████████████| 4/4 [00:00<00:00, 384.17it/s]\n",
      "📦 Caching Splits - Fold #3 📦: 100%|█████████████████| 4/4 [00:00<00:00, 393.00it/s]\n",
      "🔮 Training Models - Fold #1 🔮: 100%|█████████████████| 1/1 [00:04<00:00,  4.33s/it]\n",
      "🔮 Training Models - Fold #2 🔮: 100%|█████████████████| 1/1 [00:04<00:00,  4.30s/it]\n",
      "🔮 Training Models - Fold #3 🔮: 100%|█████████████████| 1/1 [00:04<00:00,  4.76s/it]\n"
     ]
    }
   ],
   "source": [
    "tf_multi_tab_fold.run_jobs()"
   ]
  },
  {
   "cell_type": "code",
   "execution_count": 28,
   "id": "8f38e55d-f949-401e-a52a-555500e6cd45",
   "metadata": {
    "tags": []
   },
   "outputs": [],
   "source": [
    "prediction = tests.infer(tf_multi_tab_fold)"
   ]
  },
  {
   "cell_type": "code",
   "execution_count": 29,
   "id": "c4b30629-d4ff-4a10-a3fa-a5c74c89b7e6",
   "metadata": {
    "tags": []
   },
   "outputs": [
    {
     "data": {
      "text/plain": [
       "{'infer_0': {'accuracy': 0.967,\n",
       "  'f1': 0.967,\n",
       "  'loss': 0.081,\n",
       "  'precision': 0.967,\n",
       "  'recall': 0.967,\n",
       "  'roc_auc': 0.999}}"
      ]
     },
     "execution_count": 29,
     "metadata": {},
     "output_type": "execute_result"
    }
   ],
   "source": [
    "prediction.metrics"
   ]
  },
  {
   "cell_type": "code",
   "execution_count": 30,
   "id": "e3584530-fd51-413e-bfc3-9e1cbdf79ecf",
   "metadata": {
    "tags": []
   },
   "outputs": [
    {
     "data": {
      "text/plain": [
       "{'infer_0': array([0, 0, 0, ..., 2, 2, 2])}"
      ]
     },
     "execution_count": 30,
     "metadata": {},
     "output_type": "execute_result"
    }
   ],
   "source": [
    "prediction.predictions"
   ]
  },
  {
   "cell_type": "code",
   "execution_count": 31,
   "id": "e4d92ea2-abc1-4bcb-8d77-88321c51950e",
   "metadata": {
    "tags": []
   },
   "outputs": [],
   "source": [
    "prediction = tests.infer(tf_multi_tab_fold, include_label=False)"
   ]
  },
  {
   "cell_type": "code",
   "execution_count": 32,
   "id": "bb65181d-3d29-4549-860b-5d6ee6531461",
   "metadata": {
    "tags": []
   },
   "outputs": [
    {
     "data": {
      "text/plain": [
       "{'infer_1': array([0, 0, 0, ..., 2, 2, 2])}"
      ]
     },
     "execution_count": 32,
     "metadata": {},
     "output_type": "execute_result"
    }
   ],
   "source": [
    "prediction.predictions"
   ]
  },
  {
   "cell_type": "markdown",
   "id": "48901cf5-875a-4933-b428-68a69b692ef5",
   "metadata": {
    "tags": []
   },
   "source": [
    "---"
   ]
  },
  {
   "cell_type": "code",
   "execution_count": 33,
   "id": "bb3b1a92-70d6-401d-b0d8-2f2b4175c185",
   "metadata": {
    "tags": []
   },
   "outputs": [
    {
     "name": "stdout",
     "output_type": "stream",
     "text": [
      "\n",
      "└── Success - Fit MinMaxScaler(copy=False) on the following columns:\n",
      "['crim', 'zn', 'indus', 'nox', 'rm', 'age', 'dis', 'ptratio', 'lstat']\n",
      "\n",
      "\n",
      "└── Info - The following columns have not yet been encoded:\n",
      "['rad', 'chas', 'tax']\n",
      "\n",
      "\n",
      "└── Success - Fit OrdinalEncoder() on the following columns:\n",
      "['rad', 'chas', 'tax']\n",
      "\n",
      "\n",
      "└── Success - All columns now have encoders associated with them.\n",
      "\n"
     ]
    }
   ],
   "source": [
    "tf_reg_tab = tests.tf_reg_tab.make_queue()"
   ]
  },
  {
   "cell_type": "code",
   "execution_count": 34,
   "id": "d665067d-811d-4e63-aea4-3be2fb653bce",
   "metadata": {
    "tags": []
   },
   "outputs": [
    {
     "name": "stderr",
     "output_type": "stream",
     "text": [
      "📦 Caching Splits 📦: 100%|███████████████████████████| 3/3 [00:00<00:00, 366.47it/s]\n",
      "🔮 Training Models 🔮: 100%|███████████████████████████| 1/1 [00:03<00:00,  3.51s/it]\n"
     ]
    }
   ],
   "source": [
    "tf_reg_tab.run_jobs()"
   ]
  },
  {
   "cell_type": "code",
   "execution_count": 35,
   "id": "9156d0b9-b0df-4102-8d7c-6b3bbf55e959",
   "metadata": {
    "tags": []
   },
   "outputs": [],
   "source": [
    "prediction = tests.infer(tf_reg_tab)"
   ]
  },
  {
   "cell_type": "code",
   "execution_count": 36,
   "id": "46fb8d2c-0573-4788-870c-dfc7c9c234d7",
   "metadata": {
    "tags": []
   },
   "outputs": [
    {
     "data": {
      "text/plain": [
       "{'infer_0': {'explained_variance': -0.055,\n",
       "  'loss': 0.748,\n",
       "  'mse': 0.992,\n",
       "  'r2': -0.056}}"
      ]
     },
     "execution_count": 36,
     "metadata": {},
     "output_type": "execute_result"
    }
   ],
   "source": [
    "prediction.metrics"
   ]
  },
  {
   "cell_type": "code",
   "execution_count": 37,
   "id": "ff0e3d6e-ad79-40a6-8f3b-22ffaa0313c5",
   "metadata": {
    "tags": []
   },
   "outputs": [
    {
     "data": {
      "text/plain": [
       "{'infer_0': array([20.265854, 20.256207, 20.066072, 21.954807, 22.141249, 22.158377,\n",
       "        20.421719, 20.415897, 20.423317, 20.415598, 20.412209, 20.416798,\n",
       "        20.427708, 20.362547, 20.359697, 20.365538, 20.367523, 20.363228,\n",
       "        20.376377, 20.36941 , 20.369793, 20.36361 , 20.362696, 20.364998,\n",
       "        20.362131, 20.366701, 20.362164, 20.361433, 20.35457 , 20.354362,\n",
       "        20.366867, 20.36041 , 20.367998, 20.368114, 20.364159, 20.0084  ,\n",
       "        20.010546, 20.009678, 20.010464, 19.70939 , 19.705362, 19.959814,\n",
       "        19.938671, 19.969679, 20.321144, 20.160442, 20.250433, 21.145655,\n",
       "        21.495682, 20.724236, 19.685186, 19.710733, 19.654875, 19.662994,\n",
       "        21.108145, 19.649654, 20.408587, 19.80312 , 20.068306, 20.07319 ,\n",
       "        20.072485, 20.068848, 20.062855, 20.059391, 22.434896, 20.613338,\n",
       "        20.618704, 20.625118, 20.62762 , 20.6238  , 20.331009, 20.33559 ,\n",
       "        20.334627, 20.33325 , 20.894777, 20.88904 , 20.888285, 20.89291 ,\n",
       "        20.886833, 20.89492 , 20.048578, 20.045773, 20.053827, 20.05378 ,\n",
       "        19.715458, 19.712318, 19.722528, 19.719826, 19.885172, 19.882303,\n",
       "        19.891512, 19.890583, 19.914587, 19.91971 , 19.926043, 19.938826,\n",
       "        19.943571, 19.919922, 19.927267, 19.929258, 20.813948, 20.813608,\n",
       "        20.81762 , 20.821089, 20.821547, 20.826803, 20.827564, 20.824425,\n",
       "        20.817028, 20.820852, 20.82405 , 21.085934, 21.096867, 21.093744,\n",
       "        21.09317 , 21.09667 , 21.09358 , 21.093693, 21.099049, 21.099947,\n",
       "        24.304928, 24.512669, 24.718946, 24.956717, 24.729073, 24.563398,\n",
       "        24.933113, 21.155165, 21.145638, 21.155653, 21.143213, 21.144575,\n",
       "        21.143145, 21.149967, 21.151812, 21.14587 , 21.151648, 21.145073,\n",
       "        21.154444, 21.15055 , 21.152197, 21.168837, 21.117554, 21.075365,\n",
       "        21.082497, 21.066895, 21.069775, 21.08176 , 21.078323, 21.072092,\n",
       "        21.062983, 21.070938, 21.117836, 21.068306, 21.103815, 21.10639 ,\n",
       "        21.07369 , 21.013174, 21.024185, 21.05578 , 21.063751, 21.00665 ,\n",
       "        21.04413 , 21.038103, 21.026104, 21.023706, 21.001186, 21.027256,\n",
       "        21.021584, 21.020065, 21.025524, 21.025406, 20.265896, 20.255371,\n",
       "        20.263437, 20.256985, 20.260284, 20.254055, 20.249771, 22.55338 ,\n",
       "        23.014708, 22.613897, 22.986956, 23.002243, 23.063478, 22.853289,\n",
       "        22.591162, 20.895557, 20.895498, 20.887087, 20.882692, 20.883915,\n",
       "        20.87896 , 19.866066, 19.866814, 19.769705, 20.498255, 20.500578,\n",
       "        20.498262, 20.902145, 20.900414, 20.686813, 20.673399, 19.583649,\n",
       "        19.582024, 19.996996, 19.986643, 20.003225, 20.029636, 20.039753,\n",
       "        20.02908 , 20.038269, 20.036219, 19.99004 , 20.009531, 19.991045,\n",
       "        20.035023, 19.993256, 20.031391, 20.023727, 20.403526, 20.413841,\n",
       "        20.403917, 20.365862, 20.347828, 20.342232, 20.347712, 20.35924 ,\n",
       "        20.359581, 20.372053, 20.373217, 20.354387, 20.343344, 20.345793,\n",
       "        20.404741, 20.373034, 20.40262 , 20.353724, 20.271557, 20.267477,\n",
       "        20.262867, 20.270903, 20.265839, 20.269653, 20.492908, 20.494797,\n",
       "        20.490961, 20.484324, 20.48656 , 20.486536, 20.491613, 20.492224,\n",
       "        20.479263, 20.464273, 20.45288 , 20.457684, 19.640047, 19.86172 ,\n",
       "        19.878605, 19.880268, 19.876944, 19.872221, 19.865414, 19.882124,\n",
       "        19.876276, 19.898504, 19.885971, 19.856558, 19.864046, 20.565634,\n",
       "        21.223799, 20.772903, 21.390953, 20.615143, 19.789255, 19.74387 ,\n",
       "        19.779243, 19.785782, 19.75073 , 20.72921 , 21.367233, 20.940926,\n",
       "        20.357462, 19.856144, 20.132498, 20.275589, 19.710684, 20.210854,\n",
       "        20.208021, 20.208326, 19.664503, 19.661686, 19.66771 , 20.212126,\n",
       "        20.210962, 20.201723, 20.200972, 20.208881, 20.76085 , 20.753963,\n",
       "        20.7516  , 20.488298, 20.49194 , 20.485626, 20.764448, 20.82947 ,\n",
       "        21.056019, 20.96456 , 20.318432, 20.328794, 20.349472, 20.331556,\n",
       "        20.328138, 20.32346 , 20.318216, 20.328022, 20.326189, 20.328386,\n",
       "        20.32335 , 20.325766, 20.147757, 20.14802 , 20.151768, 20.153406,\n",
       "        20.148382, 20.147707, 20.147623, 20.1498  , 21.039726, 21.034775,\n",
       "        21.032282, 20.319569, 20.315496, 21.2033  , 21.235617, 21.107546,\n",
       "        21.201805, 21.45745 , 21.030918, 21.161648, 21.330425, 20.08634 ,\n",
       "        21.007008, 20.788002, 20.785366, 20.704718, 20.706066, 20.688263,\n",
       "        20.025219, 20.53624 , 20.54023 , 20.935263, 20.946054, 21.960043,\n",
       "        20.50371 , 20.500376, 21.264854, 21.25781 , 21.261238, 21.220911,\n",
       "        21.215727, 21.219166, 21.22902 , 21.268524, 21.224375, 21.24638 ,\n",
       "        21.229708, 21.236073, 21.216845, 21.238937, 21.235987, 21.206694,\n",
       "        21.258232, 21.23387 , 21.247938, 21.205431, 21.213457, 21.207527,\n",
       "        21.220816, 21.218563, 21.249117, 21.21296 , 21.225338, 21.225304,\n",
       "        21.248549, 21.235212, 21.245829, 21.242594, 21.237448, 21.225304,\n",
       "        21.219269, 21.215357, 21.232485, 21.214352, 21.220627, 21.211067,\n",
       "        21.21136 , 21.22011 , 21.243523, 21.225613, 21.228485, 21.216948,\n",
       "        21.21332 , 21.234318, 21.244926, 21.255882, 21.24452 , 21.219269,\n",
       "        21.21062 , 21.198162, 21.229603, 21.200258, 21.22964 , 21.22557 ,\n",
       "        21.259275, 21.216707, 21.209084, 21.236193, 21.25144 , 21.215786,\n",
       "        21.215296, 21.218494, 21.21136 , 21.20519 , 21.208645, 21.221022,\n",
       "        21.208714, 21.229673, 21.214214, 21.2113  , 21.197424, 21.191816,\n",
       "        21.194857, 21.21081 , 21.217463, 21.217   , 21.220411, 21.225906,\n",
       "        21.231289, 21.229362, 21.233921, 21.21798 , 21.21724 , 21.217102,\n",
       "        21.228056, 21.219534, 21.216526, 21.218676, 21.215176, 21.212116,\n",
       "        21.207373, 21.206978, 21.21166 , 21.198988, 21.208422, 21.209297,\n",
       "        21.215055, 21.217016, 21.211859, 21.213827, 21.205654, 21.208834,\n",
       "        21.210896, 21.2061  , 21.205723, 21.210312, 21.20538 , 21.196617,\n",
       "        21.20361 , 21.20622 , 21.191893, 21.18243 , 21.189644, 21.190657,\n",
       "        21.205164, 21.197699, 21.196016, 21.217497, 21.202646, 21.20549 ,\n",
       "        21.184492, 21.176937, 21.172476, 21.1882  , 21.195982, 21.18832 ,\n",
       "        21.191412, 21.197905, 21.271109, 21.272512, 21.277294, 21.263813,\n",
       "        21.263529, 20.882727, 20.88198 , 20.885492, 20.884102, 20.877687,\n",
       "        20.877789, 20.882498, 20.87577 , 19.967   , 19.972624, 19.967194,\n",
       "        19.968985, 19.97277 ], dtype=float32)}"
      ]
     },
     "execution_count": 37,
     "metadata": {},
     "output_type": "execute_result"
    }
   ],
   "source": [
    "prediction.predictions"
   ]
  },
  {
   "cell_type": "code",
   "execution_count": 38,
   "id": "5d2f6b2b-e385-4abd-adf4-b8b0c186af81",
   "metadata": {
    "tags": []
   },
   "outputs": [],
   "source": [
    "prediction = tests.infer(tf_reg_tab, include_label=False)"
   ]
  },
  {
   "cell_type": "code",
   "execution_count": 39,
   "id": "3845741b-2851-4f05-90a5-1442fa070787",
   "metadata": {
    "tags": []
   },
   "outputs": [
    {
     "data": {
      "text/plain": [
       "{'infer_1': array([20.265854, 20.256207, 20.066072, 21.954807, 22.141249, 22.158377,\n",
       "        20.421719, 20.415897, 20.423317, 20.415598, 20.412209, 20.416798,\n",
       "        20.427708, 20.362547, 20.359697, 20.365538, 20.367523, 20.363228,\n",
       "        20.376377, 20.36941 , 20.369793, 20.36361 , 20.362696, 20.364998,\n",
       "        20.362131, 20.366701, 20.362164, 20.361433, 20.35457 , 20.354362,\n",
       "        20.366867, 20.36041 , 20.367998, 20.368114, 20.364159, 20.0084  ,\n",
       "        20.010546, 20.009678, 20.010464, 19.70939 , 19.705362, 19.959814,\n",
       "        19.938671, 19.969679, 20.321144, 20.160442, 20.250433, 21.145655,\n",
       "        21.495682, 20.724236, 19.685186, 19.710733, 19.654875, 19.662994,\n",
       "        21.108145, 19.649654, 20.408587, 19.80312 , 20.068306, 20.07319 ,\n",
       "        20.072485, 20.068848, 20.062855, 20.059391, 22.434896, 20.613338,\n",
       "        20.618704, 20.625118, 20.62762 , 20.6238  , 20.331009, 20.33559 ,\n",
       "        20.334627, 20.33325 , 20.894777, 20.88904 , 20.888285, 20.89291 ,\n",
       "        20.886833, 20.89492 , 20.048578, 20.045773, 20.053827, 20.05378 ,\n",
       "        19.715458, 19.712318, 19.722528, 19.719826, 19.885172, 19.882303,\n",
       "        19.891512, 19.890583, 19.914587, 19.91971 , 19.926043, 19.938826,\n",
       "        19.943571, 19.919922, 19.927267, 19.929258, 20.813948, 20.813608,\n",
       "        20.81762 , 20.821089, 20.821547, 20.826803, 20.827564, 20.824425,\n",
       "        20.817028, 20.820852, 20.82405 , 21.085934, 21.096867, 21.093744,\n",
       "        21.09317 , 21.09667 , 21.09358 , 21.093693, 21.099049, 21.099947,\n",
       "        24.304928, 24.512669, 24.718946, 24.956717, 24.729073, 24.563398,\n",
       "        24.933113, 21.155165, 21.145638, 21.155653, 21.143213, 21.144575,\n",
       "        21.143145, 21.149967, 21.151812, 21.14587 , 21.151648, 21.145073,\n",
       "        21.154444, 21.15055 , 21.152197, 21.168837, 21.117554, 21.075365,\n",
       "        21.082497, 21.066895, 21.069775, 21.08176 , 21.078323, 21.072092,\n",
       "        21.062983, 21.070938, 21.117836, 21.068306, 21.103815, 21.10639 ,\n",
       "        21.07369 , 21.013174, 21.024185, 21.05578 , 21.063751, 21.00665 ,\n",
       "        21.04413 , 21.038103, 21.026104, 21.023706, 21.001186, 21.027256,\n",
       "        21.021584, 21.020065, 21.025524, 21.025406, 20.265896, 20.255371,\n",
       "        20.263437, 20.256985, 20.260284, 20.254055, 20.249771, 22.55338 ,\n",
       "        23.014708, 22.613897, 22.986956, 23.002243, 23.063478, 22.853289,\n",
       "        22.591162, 20.895557, 20.895498, 20.887087, 20.882692, 20.883915,\n",
       "        20.87896 , 19.866066, 19.866814, 19.769705, 20.498255, 20.500578,\n",
       "        20.498262, 20.902145, 20.900414, 20.686813, 20.673399, 19.583649,\n",
       "        19.582024, 19.996996, 19.986643, 20.003225, 20.029636, 20.039753,\n",
       "        20.02908 , 20.038269, 20.036219, 19.99004 , 20.009531, 19.991045,\n",
       "        20.035023, 19.993256, 20.031391, 20.023727, 20.403526, 20.413841,\n",
       "        20.403917, 20.365862, 20.347828, 20.342232, 20.347712, 20.35924 ,\n",
       "        20.359581, 20.372053, 20.373217, 20.354387, 20.343344, 20.345793,\n",
       "        20.404741, 20.373034, 20.40262 , 20.353724, 20.271557, 20.267477,\n",
       "        20.262867, 20.270903, 20.265839, 20.269653, 20.492908, 20.494797,\n",
       "        20.490961, 20.484324, 20.48656 , 20.486536, 20.491613, 20.492224,\n",
       "        20.479263, 20.464273, 20.45288 , 20.457684, 19.640047, 19.86172 ,\n",
       "        19.878605, 19.880268, 19.876944, 19.872221, 19.865414, 19.882124,\n",
       "        19.876276, 19.898504, 19.885971, 19.856558, 19.864046, 20.565634,\n",
       "        21.223799, 20.772903, 21.390953, 20.615143, 19.789255, 19.74387 ,\n",
       "        19.779243, 19.785782, 19.75073 , 20.72921 , 21.367233, 20.940926,\n",
       "        20.357462, 19.856144, 20.132498, 20.275589, 19.710684, 20.210854,\n",
       "        20.208021, 20.208326, 19.664503, 19.661686, 19.66771 , 20.212126,\n",
       "        20.210962, 20.201723, 20.200972, 20.208881, 20.76085 , 20.753963,\n",
       "        20.7516  , 20.488298, 20.49194 , 20.485626, 20.764448, 20.82947 ,\n",
       "        21.056019, 20.96456 , 20.318432, 20.328794, 20.349472, 20.331556,\n",
       "        20.328138, 20.32346 , 20.318216, 20.328022, 20.326189, 20.328386,\n",
       "        20.32335 , 20.325766, 20.147757, 20.14802 , 20.151768, 20.153406,\n",
       "        20.148382, 20.147707, 20.147623, 20.1498  , 21.039726, 21.034775,\n",
       "        21.032282, 20.319569, 20.315496, 21.2033  , 21.235617, 21.107546,\n",
       "        21.201805, 21.45745 , 21.030918, 21.161648, 21.330425, 20.08634 ,\n",
       "        21.007008, 20.788002, 20.785366, 20.704718, 20.706066, 20.688263,\n",
       "        20.025219, 20.53624 , 20.54023 , 20.935263, 20.946054, 21.960043,\n",
       "        20.50371 , 20.500376, 21.264854, 21.25781 , 21.261238, 21.220911,\n",
       "        21.215727, 21.219166, 21.22902 , 21.268524, 21.224375, 21.24638 ,\n",
       "        21.229708, 21.236073, 21.216845, 21.238937, 21.235987, 21.206694,\n",
       "        21.258232, 21.23387 , 21.247938, 21.205431, 21.213457, 21.207527,\n",
       "        21.220816, 21.218563, 21.249117, 21.21296 , 21.225338, 21.225304,\n",
       "        21.248549, 21.235212, 21.245829, 21.242594, 21.237448, 21.225304,\n",
       "        21.219269, 21.215357, 21.232485, 21.214352, 21.220627, 21.211067,\n",
       "        21.21136 , 21.22011 , 21.243523, 21.225613, 21.228485, 21.216948,\n",
       "        21.21332 , 21.234318, 21.244926, 21.255882, 21.24452 , 21.219269,\n",
       "        21.21062 , 21.198162, 21.229603, 21.200258, 21.22964 , 21.22557 ,\n",
       "        21.259275, 21.216707, 21.209084, 21.236193, 21.25144 , 21.215786,\n",
       "        21.215296, 21.218494, 21.21136 , 21.20519 , 21.208645, 21.221022,\n",
       "        21.208714, 21.229673, 21.214214, 21.2113  , 21.197424, 21.191816,\n",
       "        21.194857, 21.21081 , 21.217463, 21.217   , 21.220411, 21.225906,\n",
       "        21.231289, 21.229362, 21.233921, 21.21798 , 21.21724 , 21.217102,\n",
       "        21.228056, 21.219534, 21.216526, 21.218676, 21.215176, 21.212116,\n",
       "        21.207373, 21.206978, 21.21166 , 21.198988, 21.208422, 21.209297,\n",
       "        21.215055, 21.217016, 21.211859, 21.213827, 21.205654, 21.208834,\n",
       "        21.210896, 21.2061  , 21.205723, 21.210312, 21.20538 , 21.196617,\n",
       "        21.20361 , 21.20622 , 21.191893, 21.18243 , 21.189644, 21.190657,\n",
       "        21.205164, 21.197699, 21.196016, 21.217497, 21.202646, 21.20549 ,\n",
       "        21.184492, 21.176937, 21.172476, 21.1882  , 21.195982, 21.18832 ,\n",
       "        21.191412, 21.197905, 21.271109, 21.272512, 21.277294, 21.263813,\n",
       "        21.263529, 20.882727, 20.88198 , 20.885492, 20.884102, 20.877687,\n",
       "        20.877789, 20.882498, 20.87577 , 19.967   , 19.972624, 19.967194,\n",
       "        19.968985, 19.97277 ], dtype=float32)}"
      ]
     },
     "execution_count": 39,
     "metadata": {},
     "output_type": "execute_result"
    }
   ],
   "source": [
    "prediction.predictions"
   ]
  },
  {
   "cell_type": "markdown",
   "id": "7ac15966-94c5-491a-ab46-518dbf0b81a9",
   "metadata": {},
   "source": [
    "---"
   ]
  },
  {
   "cell_type": "code",
   "execution_count": 40,
   "id": "0b19cd9c-8f58-42eb-b8f2-7f968f1e7626",
   "metadata": {
    "tags": []
   },
   "outputs": [
    {
     "name": "stdout",
     "output_type": "stream",
     "text": [
      "\n",
      "└── Success - Fit MinMaxScaler(copy=False) on the following columns:\n",
      "['crim', 'zn', 'indus', 'nox', 'rm', 'age', 'dis', 'ptratio', 'lstat']\n",
      "\n",
      "\n",
      "└── Info - The following columns have not yet been encoded:\n",
      "['rad', 'chas', 'tax']\n",
      "\n",
      "\n",
      "└── Success - Fit OrdinalEncoder() on the following columns:\n",
      "['rad', 'chas', 'tax']\n",
      "\n",
      "\n",
      "└── Success - All columns now have encoders associated with them.\n",
      "\n",
      "Warning - The number of samples <343> in your training Split\n",
      "is not evenly divisible by the `fold_count` <3> you specified.\n",
      "This can result in misleading performance metrics for the last Fold.\n",
      "\n"
     ]
    }
   ],
   "source": [
    "tf_reg_tab_fold = tests.tf_reg_tab.make_queue(fold_count=3)"
   ]
  },
  {
   "cell_type": "code",
   "execution_count": 41,
   "id": "71d80f89-9c9a-4d24-9b1e-64db57049b5f",
   "metadata": {
    "tags": []
   },
   "outputs": [
    {
     "name": "stderr",
     "output_type": "stream",
     "text": [
      "📦 Caching Splits - Fold #1 📦: 100%|█████████████████| 4/4 [00:00<00:00, 431.46it/s]\n",
      "📦 Caching Splits - Fold #2 📦: 100%|█████████████████| 4/4 [00:00<00:00, 407.50it/s]\n",
      "📦 Caching Splits - Fold #3 📦: 100%|█████████████████| 4/4 [00:00<00:00, 401.84it/s]\n",
      "🔮 Training Models - Fold #1 🔮: 100%|█████████████████| 1/1 [00:03<00:00,  3.13s/it]\n",
      "🔮 Training Models - Fold #2 🔮: 100%|█████████████████| 1/1 [00:03<00:00,  3.17s/it]\n",
      "🔮 Training Models - Fold #3 🔮: 100%|█████████████████| 1/1 [00:03<00:00,  3.20s/it]\n"
     ]
    }
   ],
   "source": [
    "tf_reg_tab_fold.run_jobs()"
   ]
  },
  {
   "cell_type": "code",
   "execution_count": 42,
   "id": "38f9f10d-944f-4c20-afbc-b7801e651e2e",
   "metadata": {
    "tags": []
   },
   "outputs": [],
   "source": [
    "prediction = tests.infer(tf_reg_tab_fold)"
   ]
  },
  {
   "cell_type": "code",
   "execution_count": 43,
   "id": "23b6e6e2-8142-43a8-91e8-ec1a343b7c48",
   "metadata": {
    "tags": []
   },
   "outputs": [
    {
     "data": {
      "text/plain": [
       "{'infer_0': {'explained_variance': -0.077,\n",
       "  'loss': 0.776,\n",
       "  'mse': 1.083,\n",
       "  'r2': -0.077}}"
      ]
     },
     "execution_count": 43,
     "metadata": {},
     "output_type": "execute_result"
    }
   ],
   "source": [
    "prediction.metrics"
   ]
  },
  {
   "cell_type": "code",
   "execution_count": 44,
   "id": "58340b7c-de53-4c56-917f-43b98413eab8",
   "metadata": {
    "tags": []
   },
   "outputs": [
    {
     "data": {
      "text/plain": [
       "{'infer_0': array([20.775715, 20.683395, 20.683395, 20.64883 , 20.644655, 20.651625,\n",
       "        20.99638 , 20.991217, 21.007315, 20.984581, 20.979422, 20.988789,\n",
       "        20.99844 , 20.995968, 20.998928, 21.001738, 20.994947, 21.005556,\n",
       "        21.021132, 21.01743 , 21.028112, 21.010853, 21.007727, 21.016626,\n",
       "        21.007294, 21.014683, 21.005362, 21.002497, 20.989504, 20.986599,\n",
       "        21.017168, 21.006815, 21.0135  , 21.023563, 21.01348 , 20.78344 ,\n",
       "        20.784536, 20.776768, 20.774574, 20.662336, 20.660965, 20.683395,\n",
       "        20.683395, 20.683395, 20.683395, 20.683395, 20.683395, 20.683395,\n",
       "        20.683395, 20.683395, 20.683395, 20.683395, 20.683395, 20.683395,\n",
       "        21.23823 , 20.47111 , 20.713346, 20.653456, 20.77891 , 20.79373 ,\n",
       "        20.797928, 20.801546, 20.782515, 20.76755 , 20.582783, 20.888523,\n",
       "        20.905704, 21.095268, 21.106495, 21.096804, 20.943773, 20.958878,\n",
       "        20.953745, 20.948818, 21.438892, 21.440083, 21.45563 , 21.455143,\n",
       "        21.43411 , 21.455122, 20.711178, 20.716888, 20.719067, 20.723028,\n",
       "        20.683395, 20.683395, 20.683395, 20.683395, 20.683395, 20.683395,\n",
       "        20.683395, 20.683395, 20.685347, 20.68703 , 20.69193 , 20.683395,\n",
       "        20.688156, 20.683395, 20.683395, 20.683395, 21.399088, 21.39329 ,\n",
       "        21.414501, 21.426462, 21.431398, 21.453115, 21.451605, 21.439157,\n",
       "        21.420107, 21.427807, 21.41743 , 21.659826, 21.702808, 21.692307,\n",
       "        21.68768 , 21.69898 , 21.679497, 21.686268, 21.698336, 21.696089,\n",
       "        20.683395, 20.683395, 20.683395, 20.683395, 20.683395, 20.683395,\n",
       "        20.683395, 21.775946, 21.745699, 21.774641, 21.737076, 21.739214,\n",
       "        21.735472, 21.755417, 21.762306, 21.743816, 21.761705, 21.743626,\n",
       "        21.773838, 21.76108 , 21.76273 , 21.818245, 21.675806, 21.739504,\n",
       "        21.76359 , 21.712557, 21.726204, 21.759787, 21.747126, 21.728544,\n",
       "        21.702675, 21.731962, 21.676718, 21.720137, 21.63179 , 21.629826,\n",
       "        21.734758, 21.608814, 21.647453, 21.68182 , 21.569963, 21.583122,\n",
       "        21.50306 , 21.477486, 21.642946, 21.635885, 21.56591 , 21.639925,\n",
       "        21.631746, 21.62501 , 21.643023, 21.643679, 20.960827, 20.934301,\n",
       "        20.9474  , 20.915695, 20.92714 , 20.925106, 20.915869, 20.539793,\n",
       "        20.520391, 20.558151, 20.52054 , 20.528118, 20.559689, 20.553392,\n",
       "        20.53216 , 21.218487, 21.211128, 21.194496, 21.169739, 21.177021,\n",
       "        21.163431, 20.669815, 20.670511, 20.658148, 20.752077, 20.756184,\n",
       "        20.753023, 20.989613, 20.98482 , 20.880173, 20.836609, 20.52958 ,\n",
       "        20.527767, 20.759453, 20.750338, 20.76314 , 20.725134, 20.746908,\n",
       "        20.734005, 20.746855, 20.735239, 20.751272, 20.772896, 20.75582 ,\n",
       "        20.756979, 20.774584, 20.762098, 20.74867 , 21.047947, 21.079609,\n",
       "        21.040777, 21.117039, 21.05811 , 21.041222, 21.061209, 21.095629,\n",
       "        21.061142, 21.106125, 21.132566, 21.075596, 21.035084, 21.042427,\n",
       "        21.036345, 21.128021, 21.031923, 21.067406, 20.841343, 20.841171,\n",
       "        20.833117, 20.857557, 20.83771 , 20.829515, 21.063316, 21.063263,\n",
       "        21.04081 , 21.04358 , 21.036898, 21.0239  , 21.036257, 21.036692,\n",
       "        20.998701, 20.961813, 20.731577, 20.73495 , 20.651678, 20.683395,\n",
       "        20.683395, 20.683395, 20.683395, 20.683395, 20.683395, 20.683395,\n",
       "        20.683395, 20.696135, 20.683395, 20.683395, 20.683395, 20.666782,\n",
       "        20.677713, 20.67484 , 20.671776, 20.659552, 20.683395, 20.683395,\n",
       "        20.683395, 20.683395, 20.683395, 20.386335, 20.341408, 20.369875,\n",
       "        20.331556, 20.650265, 20.672611, 20.69222 , 20.652643, 20.763496,\n",
       "        20.762936, 20.75641 , 20.65952 , 20.658459, 20.660301, 20.867098,\n",
       "        20.874008, 20.84584 , 20.852367, 20.871136, 21.014738, 20.99342 ,\n",
       "        21.003593, 21.019382, 21.018991, 21.004232, 20.22211 , 20.237873,\n",
       "        20.212181, 20.227121, 20.968042, 20.990425, 21.023813, 20.989265,\n",
       "        20.995176, 20.980007, 20.967197, 20.985752, 20.981037, 20.982273,\n",
       "        20.971033, 20.97099 , 20.85486 , 20.856499, 20.862932, 20.876436,\n",
       "        20.850674, 20.836124, 20.841656, 20.851408, 21.454151, 21.433405,\n",
       "        21.430056, 20.77226 , 20.765205, 20.595272, 20.596287, 20.609156,\n",
       "        20.618074, 20.608856, 20.61983 , 20.619637, 20.614374, 20.683395,\n",
       "        21.277727, 21.115927, 21.095367, 21.133274, 21.137548, 20.913101,\n",
       "        20.683395, 20.82904 , 20.841948, 21.107737, 21.125755, 20.116116,\n",
       "        20.810701, 20.80512 , 21.94203 , 21.921234, 21.926146, 21.99956 ,\n",
       "        21.987171, 22.00048 , 22.039703, 21.958303, 21.823496, 22.110758,\n",
       "        22.053802, 22.09233 , 22.043205, 21.905048, 21.89521 , 22.000954,\n",
       "        21.951815, 22.07172 , 22.108534, 21.96777 , 21.994804, 21.98607 ,\n",
       "        22.009579, 22.01292 , 22.014563, 21.995659, 22.03859 , 22.040018,\n",
       "        22.095581, 22.058647, 22.086163, 22.069815, 22.070187, 22.039568,\n",
       "        22.01994 , 21.99857 , 22.056236, 22.00146 , 22.017149, 21.993422,\n",
       "        21.996141, 22.025206, 22.059752, 22.025385, 22.02793 , 22.006014,\n",
       "        21.99984 , 22.047812, 22.052069, 22.063673, 22.101345, 22.030901,\n",
       "        22.017532, 21.96877 , 22.02865 , 21.975666, 22.064463, 22.04181 ,\n",
       "        22.10007 , 21.999256, 21.979195, 22.050154, 22.043612, 21.982756,\n",
       "        21.998491, 22.011974, 22.004923, 21.98569 , 21.99677 , 22.015732,\n",
       "        21.98661 , 22.008759, 21.995062, 21.9916  , 21.96794 , 21.950514,\n",
       "        21.956688, 21.982475, 21.99857 , 21.990667, 21.99947 , 22.018522,\n",
       "        22.029505, 22.036573, 22.033579, 21.999199, 22.00535 , 21.998188,\n",
       "        22.028198, 22.000515, 21.999178, 22.001427, 21.998098, 21.98987 ,\n",
       "        21.971476, 21.97497 , 21.987745, 21.944342, 21.970747, 21.976408,\n",
       "        21.995974, 21.993073, 21.978317, 21.987644, 21.965782, 21.978048,\n",
       "        21.977194, 21.96713 , 21.962683, 21.97388 , 21.977598, 21.97214 ,\n",
       "        21.96713 , 21.972689, 21.950537, 21.936802, 21.940022, 21.930946,\n",
       "        21.99848 , 21.975397, 21.96276 , 22.022797, 21.980621, 21.982306,\n",
       "        21.925226, 21.9072  , 21.893082, 21.924599, 21.939404, 21.91712 ,\n",
       "        21.941793, 21.95258 , 21.902851, 21.909039, 21.922659, 21.881536,\n",
       "        21.872122, 21.531078, 21.521227, 21.52188 , 21.541363, 21.52031 ,\n",
       "        21.520275, 21.540422, 21.520884, 20.700329, 20.711542, 20.697863,\n",
       "        20.699032, 20.711338], dtype=float32)}"
      ]
     },
     "execution_count": 44,
     "metadata": {},
     "output_type": "execute_result"
    }
   ],
   "source": [
    "prediction.predictions"
   ]
  },
  {
   "cell_type": "code",
   "execution_count": 45,
   "id": "ae11d039-4605-4ac4-925e-a9c87f436951",
   "metadata": {
    "tags": []
   },
   "outputs": [],
   "source": [
    "prediction = tests.infer(tf_reg_tab_fold, include_label=False)"
   ]
  },
  {
   "cell_type": "code",
   "execution_count": 46,
   "id": "cfb7b6a3-5bbd-4b74-bdde-cc0a3c9e80fb",
   "metadata": {
    "tags": []
   },
   "outputs": [
    {
     "data": {
      "text/plain": [
       "{'infer_1': array([20.775715, 20.683395, 20.683395, 20.64883 , 20.644655, 20.651625,\n",
       "        20.99638 , 20.991217, 21.007315, 20.984581, 20.979422, 20.988789,\n",
       "        20.99844 , 20.995968, 20.998928, 21.001738, 20.994947, 21.005556,\n",
       "        21.021132, 21.01743 , 21.028112, 21.010853, 21.007727, 21.016626,\n",
       "        21.007294, 21.014683, 21.005362, 21.002497, 20.989504, 20.986599,\n",
       "        21.017168, 21.006815, 21.0135  , 21.023563, 21.01348 , 20.78344 ,\n",
       "        20.784536, 20.776768, 20.774574, 20.662336, 20.660965, 20.683395,\n",
       "        20.683395, 20.683395, 20.683395, 20.683395, 20.683395, 20.683395,\n",
       "        20.683395, 20.683395, 20.683395, 20.683395, 20.683395, 20.683395,\n",
       "        21.23823 , 20.47111 , 20.713346, 20.653456, 20.77891 , 20.79373 ,\n",
       "        20.797928, 20.801546, 20.782515, 20.76755 , 20.582783, 20.888523,\n",
       "        20.905704, 21.095268, 21.106495, 21.096804, 20.943773, 20.958878,\n",
       "        20.953745, 20.948818, 21.438892, 21.440083, 21.45563 , 21.455143,\n",
       "        21.43411 , 21.455122, 20.711178, 20.716888, 20.719067, 20.723028,\n",
       "        20.683395, 20.683395, 20.683395, 20.683395, 20.683395, 20.683395,\n",
       "        20.683395, 20.683395, 20.685347, 20.68703 , 20.69193 , 20.683395,\n",
       "        20.688156, 20.683395, 20.683395, 20.683395, 21.399088, 21.39329 ,\n",
       "        21.414501, 21.426462, 21.431398, 21.453115, 21.451605, 21.439157,\n",
       "        21.420107, 21.427807, 21.41743 , 21.659826, 21.702808, 21.692307,\n",
       "        21.68768 , 21.69898 , 21.679497, 21.686268, 21.698336, 21.696089,\n",
       "        20.683395, 20.683395, 20.683395, 20.683395, 20.683395, 20.683395,\n",
       "        20.683395, 21.775946, 21.745699, 21.774641, 21.737076, 21.739214,\n",
       "        21.735472, 21.755417, 21.762306, 21.743816, 21.761705, 21.743626,\n",
       "        21.773838, 21.76108 , 21.76273 , 21.818245, 21.675806, 21.739504,\n",
       "        21.76359 , 21.712557, 21.726204, 21.759787, 21.747126, 21.728544,\n",
       "        21.702675, 21.731962, 21.676718, 21.720137, 21.63179 , 21.629826,\n",
       "        21.734758, 21.608814, 21.647453, 21.68182 , 21.569963, 21.583122,\n",
       "        21.50306 , 21.477486, 21.642946, 21.635885, 21.56591 , 21.639925,\n",
       "        21.631746, 21.62501 , 21.643023, 21.643679, 20.960827, 20.934301,\n",
       "        20.9474  , 20.915695, 20.92714 , 20.925106, 20.915869, 20.539793,\n",
       "        20.520391, 20.558151, 20.52054 , 20.528118, 20.559689, 20.553392,\n",
       "        20.53216 , 21.218487, 21.211128, 21.194496, 21.169739, 21.177021,\n",
       "        21.163431, 20.669815, 20.670511, 20.658148, 20.752077, 20.756184,\n",
       "        20.753023, 20.989613, 20.98482 , 20.880173, 20.836609, 20.52958 ,\n",
       "        20.527767, 20.759453, 20.750338, 20.76314 , 20.725134, 20.746908,\n",
       "        20.734005, 20.746855, 20.735239, 20.751272, 20.772896, 20.75582 ,\n",
       "        20.756979, 20.774584, 20.762098, 20.74867 , 21.047947, 21.079609,\n",
       "        21.040777, 21.117039, 21.05811 , 21.041222, 21.061209, 21.095629,\n",
       "        21.061142, 21.106125, 21.132566, 21.075596, 21.035084, 21.042427,\n",
       "        21.036345, 21.128021, 21.031923, 21.067406, 20.841343, 20.841171,\n",
       "        20.833117, 20.857557, 20.83771 , 20.829515, 21.063316, 21.063263,\n",
       "        21.04081 , 21.04358 , 21.036898, 21.0239  , 21.036257, 21.036692,\n",
       "        20.998701, 20.961813, 20.731577, 20.73495 , 20.651678, 20.683395,\n",
       "        20.683395, 20.683395, 20.683395, 20.683395, 20.683395, 20.683395,\n",
       "        20.683395, 20.696135, 20.683395, 20.683395, 20.683395, 20.666782,\n",
       "        20.677713, 20.67484 , 20.671776, 20.659552, 20.683395, 20.683395,\n",
       "        20.683395, 20.683395, 20.683395, 20.386335, 20.341408, 20.369875,\n",
       "        20.331556, 20.650265, 20.672611, 20.69222 , 20.652643, 20.763496,\n",
       "        20.762936, 20.75641 , 20.65952 , 20.658459, 20.660301, 20.867098,\n",
       "        20.874008, 20.84584 , 20.852367, 20.871136, 21.014738, 20.99342 ,\n",
       "        21.003593, 21.019382, 21.018991, 21.004232, 20.22211 , 20.237873,\n",
       "        20.212181, 20.227121, 20.968042, 20.990425, 21.023813, 20.989265,\n",
       "        20.995176, 20.980007, 20.967197, 20.985752, 20.981037, 20.982273,\n",
       "        20.971033, 20.97099 , 20.85486 , 20.856499, 20.862932, 20.876436,\n",
       "        20.850674, 20.836124, 20.841656, 20.851408, 21.454151, 21.433405,\n",
       "        21.430056, 20.77226 , 20.765205, 20.595272, 20.596287, 20.609156,\n",
       "        20.618074, 20.608856, 20.61983 , 20.619637, 20.614374, 20.683395,\n",
       "        21.277727, 21.115927, 21.095367, 21.133274, 21.137548, 20.913101,\n",
       "        20.683395, 20.82904 , 20.841948, 21.107737, 21.125755, 20.116116,\n",
       "        20.810701, 20.80512 , 21.94203 , 21.921234, 21.926146, 21.99956 ,\n",
       "        21.987171, 22.00048 , 22.039703, 21.958303, 21.823496, 22.110758,\n",
       "        22.053802, 22.09233 , 22.043205, 21.905048, 21.89521 , 22.000954,\n",
       "        21.951815, 22.07172 , 22.108534, 21.96777 , 21.994804, 21.98607 ,\n",
       "        22.009579, 22.01292 , 22.014563, 21.995659, 22.03859 , 22.040018,\n",
       "        22.095581, 22.058647, 22.086163, 22.069815, 22.070187, 22.039568,\n",
       "        22.01994 , 21.99857 , 22.056236, 22.00146 , 22.017149, 21.993422,\n",
       "        21.996141, 22.025206, 22.059752, 22.025385, 22.02793 , 22.006014,\n",
       "        21.99984 , 22.047812, 22.052069, 22.063673, 22.101345, 22.030901,\n",
       "        22.017532, 21.96877 , 22.02865 , 21.975666, 22.064463, 22.04181 ,\n",
       "        22.10007 , 21.999256, 21.979195, 22.050154, 22.043612, 21.982756,\n",
       "        21.998491, 22.011974, 22.004923, 21.98569 , 21.99677 , 22.015732,\n",
       "        21.98661 , 22.008759, 21.995062, 21.9916  , 21.96794 , 21.950514,\n",
       "        21.956688, 21.982475, 21.99857 , 21.990667, 21.99947 , 22.018522,\n",
       "        22.029505, 22.036573, 22.033579, 21.999199, 22.00535 , 21.998188,\n",
       "        22.028198, 22.000515, 21.999178, 22.001427, 21.998098, 21.98987 ,\n",
       "        21.971476, 21.97497 , 21.987745, 21.944342, 21.970747, 21.976408,\n",
       "        21.995974, 21.993073, 21.978317, 21.987644, 21.965782, 21.978048,\n",
       "        21.977194, 21.96713 , 21.962683, 21.97388 , 21.977598, 21.97214 ,\n",
       "        21.96713 , 21.972689, 21.950537, 21.936802, 21.940022, 21.930946,\n",
       "        21.99848 , 21.975397, 21.96276 , 22.022797, 21.980621, 21.982306,\n",
       "        21.925226, 21.9072  , 21.893082, 21.924599, 21.939404, 21.91712 ,\n",
       "        21.941793, 21.95258 , 21.902851, 21.909039, 21.922659, 21.881536,\n",
       "        21.872122, 21.531078, 21.521227, 21.52188 , 21.541363, 21.52031 ,\n",
       "        21.520275, 21.540422, 21.520884, 20.700329, 20.711542, 20.697863,\n",
       "        20.699032, 20.711338], dtype=float32)}"
      ]
     },
     "execution_count": 46,
     "metadata": {},
     "output_type": "execute_result"
    }
   ],
   "source": [
    "prediction.predictions"
   ]
  },
  {
   "cell_type": "markdown",
   "id": "fc993f88-54cb-4846-a73a-76af63f267e9",
   "metadata": {},
   "source": [
    "---"
   ]
  },
  {
   "cell_type": "code",
   "execution_count": 47,
   "id": "82119cb6-fb6e-4aa7-9553-db1c05acf6eb",
   "metadata": {
    "tags": []
   },
   "outputs": [
    {
     "name": "stdout",
     "output_type": "stream",
     "text": [
      "\n",
      "└── Info - System overriding user input to set `sklearn_preprocess.copy=False`.\n",
      "This saves memory when concatenating the output of many encoders.\n",
      "\n",
      "\n",
      "└── Success - Fit StandardScaler(copy=False) on the following columns:\n",
      "['0']\n",
      "\n",
      "\n",
      "└── Success - All columns now have encoders associated with them.\n",
      "\n",
      "\n",
      "Info - Featureset only contains 1 non-OHE column. System overriding to `permute_count=0`.\n",
      "\n"
     ]
    }
   ],
   "source": [
    "tf_bin_seq = tests.tf_bin_seq.make_queue()"
   ]
  },
  {
   "cell_type": "code",
   "execution_count": 48,
   "id": "54bbca6c-b806-47b4-8d16-15f76ddc5d43",
   "metadata": {
    "tags": []
   },
   "outputs": [
    {
     "name": "stderr",
     "output_type": "stream",
     "text": [
      "📦 Caching Splits 📦: 100%|███████████████████████████| 3/3 [00:00<00:00, 198.28it/s]\n",
      "🔮 Training Models 🔮: 100%|███████████████████████████| 1/1 [00:20<00:00, 20.64s/it]\n"
     ]
    }
   ],
   "source": [
    "tf_bin_seq.run_jobs()"
   ]
  },
  {
   "cell_type": "code",
   "execution_count": 49,
   "id": "77ed8b77-1056-4b08-8bd0-99dc1dfac792",
   "metadata": {
    "tags": []
   },
   "outputs": [],
   "source": [
    "prediction = tests.infer(tf_bin_seq)"
   ]
  },
  {
   "cell_type": "code",
   "execution_count": 50,
   "id": "581d4c6f-19bb-4d36-b62d-5e6e446258e4",
   "metadata": {
    "tags": []
   },
   "outputs": [
    {
     "data": {
      "text/plain": [
       "{'infer_0': {'accuracy': 0.969,\n",
       "  'f1': 0.968,\n",
       "  'loss': 0.113,\n",
       "  'precision': 0.986,\n",
       "  'recall': 0.952,\n",
       "  'roc_auc': 0.988}}"
      ]
     },
     "execution_count": 50,
     "metadata": {},
     "output_type": "execute_result"
    }
   ],
   "source": [
    "prediction.metrics"
   ]
  },
  {
   "cell_type": "code",
   "execution_count": 51,
   "id": "48a115a7-f31b-4bbe-beda-16a1bb9b10b3",
   "metadata": {
    "tags": []
   },
   "outputs": [
    {
     "data": {
      "text/plain": [
       "{'infer_0': array([1, 1, 1, 1, 1, 1, 1, 1, 1, 1, 1, 1, 1, 1, 1, 1, 1, 1, 1, 1, 1, 1,\n",
       "        1, 1, 1, 1, 1, 1, 1, 1, 1, 1, 1, 1, 1, 1, 1, 1, 1, 0, 1, 1, 1, 1,\n",
       "        1, 1, 1, 1, 1, 1, 1, 1, 1, 1, 1, 1, 1, 1, 1, 1, 1, 1, 1, 1, 1, 1,\n",
       "        1, 1, 1, 1, 1, 1, 1, 1, 1, 0, 1, 1, 1, 1, 1, 1, 1, 1, 1, 1, 1, 1,\n",
       "        1, 1, 1, 1, 1, 1, 1, 0, 1, 1, 1, 1, 1, 1, 1, 1, 1, 1, 1, 1, 1, 1,\n",
       "        1, 1, 1, 1, 1, 1, 1, 1, 1, 0, 1, 1, 1, 1, 1, 1, 1, 1, 1, 1, 0, 1,\n",
       "        0, 1, 1, 1, 1, 1, 1, 1, 1, 1, 1, 1, 1, 1, 1, 1, 1, 1, 1, 1, 1, 1,\n",
       "        1, 1, 1, 1, 1, 1, 0, 1, 1, 1, 1, 1, 1, 0, 1, 1, 1, 1, 1, 1, 1, 1,\n",
       "        1, 1, 1, 1, 0, 1, 1, 1, 1, 1, 1, 1, 1, 1, 1, 1, 1, 1, 1, 1, 1, 1,\n",
       "        1, 1, 1, 0, 1, 1, 1, 1, 1, 1, 1, 1, 1, 1, 1, 1, 1, 1, 0, 1, 1, 1,\n",
       "        1, 1, 1, 1, 1, 1, 1, 1, 1, 1, 1, 1, 1, 1, 1, 1, 1, 1, 1, 1, 1, 1,\n",
       "        1, 1, 1, 0, 1, 1, 1, 1, 1, 1, 1, 1, 0, 1, 1, 1, 1, 1, 1, 1, 1, 1,\n",
       "        1, 1, 1, 1, 1, 1, 1, 1, 1, 1, 1, 1, 1, 1, 1, 1, 1, 1, 1, 1, 1, 1,\n",
       "        1, 1, 1, 1, 1, 1, 1, 1, 1, 1, 1, 1, 1, 1, 1, 1, 1, 1, 1, 1, 1, 1,\n",
       "        1, 1, 1, 1, 1, 1, 1, 1, 1, 1, 0, 1, 1, 0, 1, 1, 1, 1, 1, 1, 1, 1,\n",
       "        1, 1, 1, 1, 1, 1, 1, 1, 1, 0, 1, 1, 1, 1, 1, 1, 1, 1, 1, 1, 1, 1,\n",
       "        1, 1, 1, 1, 1, 1, 1, 1, 1, 1, 1, 1, 1, 1, 1, 1, 1, 1, 1, 1, 1, 1,\n",
       "        1, 1, 1, 1, 1, 1, 1, 1, 1, 1, 1, 1, 1, 1, 1, 1, 1, 1, 1, 1, 1, 1,\n",
       "        0, 0, 1, 1, 1, 1, 1, 1, 1, 1, 1, 1, 1, 1, 1, 1, 1, 1, 1, 0, 1, 1,\n",
       "        1, 1, 1, 1, 1, 1, 1, 1, 1, 1, 1, 1, 1, 1, 1, 1, 1, 1, 1, 1, 1, 1,\n",
       "        1, 1, 1, 1, 1, 0, 0, 1, 1, 1, 1, 1, 1, 1, 1, 1, 1, 1, 0, 1, 1, 1,\n",
       "        1, 1, 1, 0, 1, 1, 1, 1, 1, 1, 1, 1, 1, 1, 1, 1, 1, 1, 1, 1, 1, 1,\n",
       "        1, 1, 1, 1, 1, 0, 1, 1, 1, 1, 1, 1, 1, 1, 1, 1, 0, 0, 0, 0, 0, 0,\n",
       "        0, 0, 0, 0, 0, 0, 0, 0, 1, 0, 0, 0, 0, 0, 0, 0, 0, 0, 0, 0, 0, 0,\n",
       "        0, 0, 0, 1, 0, 0, 0, 0, 0, 0, 0, 0, 0, 0, 0, 0, 0, 0, 0, 0, 0, 0,\n",
       "        0, 0, 0, 0, 0, 0, 0, 0, 0, 0, 0, 0, 0, 0, 0, 0, 0, 0, 0, 0, 0, 1,\n",
       "        0, 0, 0, 0, 0, 0, 0, 0, 0, 0, 0, 0, 0, 0, 0, 0, 0, 1, 0, 0, 0, 0,\n",
       "        0, 0, 0, 0, 0, 0, 0, 0, 0, 0, 0, 0, 0, 0, 0, 0, 0, 0, 0, 0, 0, 0,\n",
       "        0, 0, 0, 0, 0, 0, 0, 0, 0, 0, 0, 0, 0, 0, 0, 0, 0, 0, 0, 0, 0, 0,\n",
       "        0, 0, 0, 0, 0, 0, 0, 0, 0, 0, 0, 0, 0, 0, 0, 0, 0, 0, 0, 0, 0, 0,\n",
       "        0, 0, 0, 0, 0, 0, 0, 0, 0, 0, 0, 0, 0, 0, 0, 0, 0, 0, 0, 0, 0, 0,\n",
       "        0, 0, 0, 0, 0, 0, 0, 0, 0, 0, 0, 0, 0, 0, 0, 0, 0, 0, 0, 0, 0, 0,\n",
       "        0, 0, 0, 0, 0, 0, 0, 0, 0, 0, 0, 0, 0, 0, 0, 0, 0, 0, 0, 0, 1, 0,\n",
       "        0, 0, 0, 0, 0, 0, 0, 0, 0, 0, 0, 0, 0, 0, 0, 0, 0, 0, 0, 0, 0, 0,\n",
       "        0, 0, 0, 0, 0, 0, 1, 0, 0, 0, 0, 0, 1, 0, 0, 0, 0, 0, 0, 0, 0, 0,\n",
       "        0, 0, 0, 0, 0, 0, 0, 0, 0, 0, 0, 0, 0, 0, 0, 0, 0, 0, 0, 0, 0, 0,\n",
       "        0, 0, 0, 0, 0, 0, 0, 0, 0, 0, 0, 0, 0, 0, 0, 0, 0, 0, 0, 0, 0, 0,\n",
       "        0, 0, 0, 0, 0, 0, 0, 0, 0, 0, 0, 0, 0, 0, 0, 0, 0, 0, 0, 0, 0, 0,\n",
       "        0, 0, 0, 0, 0, 0, 0, 0, 0, 0, 0, 0, 0, 0, 0, 0, 0, 0, 0, 0, 0, 0,\n",
       "        0, 0, 0, 0, 0, 0, 0, 0, 0, 0, 0, 0, 0, 0, 0, 0, 0, 0, 0, 0, 0, 0,\n",
       "        0, 0, 0, 0, 0, 0, 0, 0, 0, 0, 0, 0, 0, 0, 0, 0, 0, 0, 0, 0, 0, 0,\n",
       "        0, 0, 0, 0, 0, 0, 0, 0, 0, 0, 0, 0, 0, 0, 0, 0, 0, 0, 0, 0, 0, 0,\n",
       "        0, 0, 0, 0, 0, 0, 0, 0, 0, 0, 0, 0, 0, 0, 0, 0, 0, 0, 0, 0, 0, 0,\n",
       "        0, 0, 0, 0, 0, 0, 0, 0, 0, 0, 0, 0, 0, 0, 0, 0, 0, 0, 0, 0, 0, 0,\n",
       "        0, 0, 0, 0, 0, 0, 0, 0, 0, 0, 0, 0, 0, 0, 0, 0, 0, 0, 0, 0, 0, 0,\n",
       "        0, 0, 0, 0, 0, 0, 0, 0, 0, 0], dtype=int32)}"
      ]
     },
     "execution_count": 51,
     "metadata": {},
     "output_type": "execute_result"
    }
   ],
   "source": [
    "prediction.predictions"
   ]
  },
  {
   "cell_type": "code",
   "execution_count": 52,
   "id": "c75125b9-67f8-419c-afd2-fda0631c2f9d",
   "metadata": {
    "tags": []
   },
   "outputs": [],
   "source": [
    "prediction = tests.infer(tf_bin_seq, include_label=False)"
   ]
  },
  {
   "cell_type": "code",
   "execution_count": 53,
   "id": "4a4009c8-f132-4a67-b0c8-c27bf4f83000",
   "metadata": {
    "tags": []
   },
   "outputs": [
    {
     "data": {
      "text/plain": [
       "{'infer_1': array([1, 1, 1, 1, 1, 1, 1, 1, 1, 1, 1, 1, 1, 1, 1, 1, 1, 1, 1, 1, 1, 1,\n",
       "        1, 1, 1, 1, 1, 1, 1, 1, 1, 1, 1, 1, 1, 1, 1, 1, 1, 0, 1, 1, 1, 1,\n",
       "        1, 1, 1, 1, 1, 1, 1, 1, 1, 1, 1, 1, 1, 1, 1, 1, 1, 1, 1, 1, 1, 1,\n",
       "        1, 1, 1, 1, 1, 1, 1, 1, 1, 0, 1, 1, 1, 1, 1, 1, 1, 1, 1, 1, 1, 1,\n",
       "        1, 1, 1, 1, 1, 1, 1, 0, 1, 1, 1, 1, 1, 1, 1, 1, 1, 1, 1, 1, 1, 1,\n",
       "        1, 1, 1, 1, 1, 1, 1, 1, 1, 0, 1, 1, 1, 1, 1, 1, 1, 1, 1, 1, 0, 1,\n",
       "        0, 1, 1, 1, 1, 1, 1, 1, 1, 1, 1, 1, 1, 1, 1, 1, 1, 1, 1, 1, 1, 1,\n",
       "        1, 1, 1, 1, 1, 1, 0, 1, 1, 1, 1, 1, 1, 0, 1, 1, 1, 1, 1, 1, 1, 1,\n",
       "        1, 1, 1, 1, 0, 1, 1, 1, 1, 1, 1, 1, 1, 1, 1, 1, 1, 1, 1, 1, 1, 1,\n",
       "        1, 1, 1, 0, 1, 1, 1, 1, 1, 1, 1, 1, 1, 1, 1, 1, 1, 1, 0, 1, 1, 1,\n",
       "        1, 1, 1, 1, 1, 1, 1, 1, 1, 1, 1, 1, 1, 1, 1, 1, 1, 1, 1, 1, 1, 1,\n",
       "        1, 1, 1, 0, 1, 1, 1, 1, 1, 1, 1, 1, 0, 1, 1, 1, 1, 1, 1, 1, 1, 1,\n",
       "        1, 1, 1, 1, 1, 1, 1, 1, 1, 1, 1, 1, 1, 1, 1, 1, 1, 1, 1, 1, 1, 1,\n",
       "        1, 1, 1, 1, 1, 1, 1, 1, 1, 1, 1, 1, 1, 1, 1, 1, 1, 1, 1, 1, 1, 1,\n",
       "        1, 1, 1, 1, 1, 1, 1, 1, 1, 1, 0, 1, 1, 0, 1, 1, 1, 1, 1, 1, 1, 1,\n",
       "        1, 1, 1, 1, 1, 1, 1, 1, 1, 0, 1, 1, 1, 1, 1, 1, 1, 1, 1, 1, 1, 1,\n",
       "        1, 1, 1, 1, 1, 1, 1, 1, 1, 1, 1, 1, 1, 1, 1, 1, 1, 1, 1, 1, 1, 1,\n",
       "        1, 1, 1, 1, 1, 1, 1, 1, 1, 1, 1, 1, 1, 1, 1, 1, 1, 1, 1, 1, 1, 1,\n",
       "        0, 0, 1, 1, 1, 1, 1, 1, 1, 1, 1, 1, 1, 1, 1, 1, 1, 1, 1, 0, 1, 1,\n",
       "        1, 1, 1, 1, 1, 1, 1, 1, 1, 1, 1, 1, 1, 1, 1, 1, 1, 1, 1, 1, 1, 1,\n",
       "        1, 1, 1, 1, 1, 0, 0, 1, 1, 1, 1, 1, 1, 1, 1, 1, 1, 1, 0, 1, 1, 1,\n",
       "        1, 1, 1, 0, 1, 1, 1, 1, 1, 1, 1, 1, 1, 1, 1, 1, 1, 1, 1, 1, 1, 1,\n",
       "        1, 1, 1, 1, 1, 0, 1, 1, 1, 1, 1, 1, 1, 1, 1, 1, 0, 0, 0, 0, 0, 0,\n",
       "        0, 0, 0, 0, 0, 0, 0, 0, 1, 0, 0, 0, 0, 0, 0, 0, 0, 0, 0, 0, 0, 0,\n",
       "        0, 0, 0, 1, 0, 0, 0, 0, 0, 0, 0, 0, 0, 0, 0, 0, 0, 0, 0, 0, 0, 0,\n",
       "        0, 0, 0, 0, 0, 0, 0, 0, 0, 0, 0, 0, 0, 0, 0, 0, 0, 0, 0, 0, 0, 1,\n",
       "        0, 0, 0, 0, 0, 0, 0, 0, 0, 0, 0, 0, 0, 0, 0, 0, 0, 1, 0, 0, 0, 0,\n",
       "        0, 0, 0, 0, 0, 0, 0, 0, 0, 0, 0, 0, 0, 0, 0, 0, 0, 0, 0, 0, 0, 0,\n",
       "        0, 0, 0, 0, 0, 0, 0, 0, 0, 0, 0, 0, 0, 0, 0, 0, 0, 0, 0, 0, 0, 0,\n",
       "        0, 0, 0, 0, 0, 0, 0, 0, 0, 0, 0, 0, 0, 0, 0, 0, 0, 0, 0, 0, 0, 0,\n",
       "        0, 0, 0, 0, 0, 0, 0, 0, 0, 0, 0, 0, 0, 0, 0, 0, 0, 0, 0, 0, 0, 0,\n",
       "        0, 0, 0, 0, 0, 0, 0, 0, 0, 0, 0, 0, 0, 0, 0, 0, 0, 0, 0, 0, 0, 0,\n",
       "        0, 0, 0, 0, 0, 0, 0, 0, 0, 0, 0, 0, 0, 0, 0, 0, 0, 0, 0, 0, 1, 0,\n",
       "        0, 0, 0, 0, 0, 0, 0, 0, 0, 0, 0, 0, 0, 0, 0, 0, 0, 0, 0, 0, 0, 0,\n",
       "        0, 0, 0, 0, 0, 0, 1, 0, 0, 0, 0, 0, 1, 0, 0, 0, 0, 0, 0, 0, 0, 0,\n",
       "        0, 0, 0, 0, 0, 0, 0, 0, 0, 0, 0, 0, 0, 0, 0, 0, 0, 0, 0, 0, 0, 0,\n",
       "        0, 0, 0, 0, 0, 0, 0, 0, 0, 0, 0, 0, 0, 0, 0, 0, 0, 0, 0, 0, 0, 0,\n",
       "        0, 0, 0, 0, 0, 0, 0, 0, 0, 0, 0, 0, 0, 0, 0, 0, 0, 0, 0, 0, 0, 0,\n",
       "        0, 0, 0, 0, 0, 0, 0, 0, 0, 0, 0, 0, 0, 0, 0, 0, 0, 0, 0, 0, 0, 0,\n",
       "        0, 0, 0, 0, 0, 0, 0, 0, 0, 0, 0, 0, 0, 0, 0, 0, 0, 0, 0, 0, 0, 0,\n",
       "        0, 0, 0, 0, 0, 0, 0, 0, 0, 0, 0, 0, 0, 0, 0, 0, 0, 0, 0, 0, 0, 0,\n",
       "        0, 0, 0, 0, 0, 0, 0, 0, 0, 0, 0, 0, 0, 0, 0, 0, 0, 0, 0, 0, 0, 0,\n",
       "        0, 0, 0, 0, 0, 0, 0, 0, 0, 0, 0, 0, 0, 0, 0, 0, 0, 0, 0, 0, 0, 0,\n",
       "        0, 0, 0, 0, 0, 0, 0, 0, 0, 0, 0, 0, 0, 0, 0, 0, 0, 0, 0, 0, 0, 0,\n",
       "        0, 0, 0, 0, 0, 0, 0, 0, 0, 0, 0, 0, 0, 0, 0, 0, 0, 0, 0, 0, 0, 0,\n",
       "        0, 0, 0, 0, 0, 0, 0, 0, 0, 0], dtype=int32)}"
      ]
     },
     "execution_count": 53,
     "metadata": {},
     "output_type": "execute_result"
    }
   ],
   "source": [
    "prediction.predictions"
   ]
  },
  {
   "cell_type": "markdown",
   "id": "77c0e502-5678-4208-aa54-f4a2a51bf256",
   "metadata": {
    "tags": []
   },
   "source": [
    "---"
   ]
  },
  {
   "cell_type": "code",
   "execution_count": 54,
   "id": "17f0b181-4451-4288-a0fb-bf8d37a7c198",
   "metadata": {
    "tags": []
   },
   "outputs": [
    {
     "name": "stdout",
     "output_type": "stream",
     "text": [
      "\n",
      "└── Info - System overriding user input to set `sklearn_preprocess.copy=False`.\n",
      "This saves memory when concatenating the output of many encoders.\n",
      "\n",
      "\n",
      "└── Success - Fit StandardScaler(copy=False) on the following columns:\n",
      "['0']\n",
      "\n",
      "\n",
      "└── Success - All columns now have encoders associated with them.\n",
      "\n",
      "\n",
      "Info - Featureset only contains 1 non-OHE column. System overriding to `permute_count=0`.\n",
      "\n"
     ]
    }
   ],
   "source": [
    "tf_bin_seq_fold = tests.tf_bin_seq.make_queue(fold_count=3)"
   ]
  },
  {
   "cell_type": "code",
   "execution_count": 55,
   "id": "8d92a522-2eab-4005-9116-4e82231f5c5b",
   "metadata": {
    "tags": []
   },
   "outputs": [
    {
     "name": "stderr",
     "output_type": "stream",
     "text": [
      "📦 Caching Splits - Fold #1 📦: 100%|█████████████████| 4/4 [00:00<00:00, 276.80it/s]\n",
      "📦 Caching Splits - Fold #2 📦: 100%|█████████████████| 4/4 [00:00<00:00, 265.62it/s]\n",
      "📦 Caching Splits - Fold #3 📦: 100%|█████████████████| 4/4 [00:00<00:00, 263.12it/s]\n",
      "🔮 Training Models - Fold #1 🔮: 100%|█████████████████| 1/1 [00:11<00:00, 11.93s/it]\n",
      "🔮 Training Models - Fold #2 🔮: 100%|█████████████████| 1/1 [00:12<00:00, 12.10s/it]\n",
      "🔮 Training Models - Fold #3 🔮: 100%|█████████████████| 1/1 [00:11<00:00, 11.75s/it]\n"
     ]
    }
   ],
   "source": [
    "tf_bin_seq_fold.run_jobs()"
   ]
  },
  {
   "cell_type": "code",
   "execution_count": 56,
   "id": "9bed6d82-e3fe-48a1-9b3c-6ef8a63a9a20",
   "metadata": {
    "tags": []
   },
   "outputs": [],
   "source": [
    "prediction = tests.infer(tf_bin_seq_fold)"
   ]
  },
  {
   "cell_type": "code",
   "execution_count": 57,
   "id": "6d058fc4-1986-449f-927c-b1261cde5adb",
   "metadata": {
    "tags": []
   },
   "outputs": [
    {
     "data": {
      "text/plain": [
       "{'infer_0': {'accuracy': 0.977,\n",
       "  'f1': 0.977,\n",
       "  'loss': 0.112,\n",
       "  'precision': 0.988,\n",
       "  'recall': 0.966,\n",
       "  'roc_auc': 0.987}}"
      ]
     },
     "execution_count": 57,
     "metadata": {},
     "output_type": "execute_result"
    }
   ],
   "source": [
    "prediction.metrics"
   ]
  },
  {
   "cell_type": "code",
   "execution_count": 58,
   "id": "81e4c756-2ee0-4434-a61f-84bfaa6a6b9d",
   "metadata": {
    "tags": []
   },
   "outputs": [
    {
     "data": {
      "text/plain": [
       "{'infer_0': array([1, 1, 1, 1, 1, 1, 1, 1, 1, 1, 1, 1, 1, 1, 1, 1, 1, 1, 1, 1, 1, 1,\n",
       "        1, 1, 1, 0, 1, 1, 1, 1, 1, 1, 1, 1, 1, 1, 1, 1, 1, 0, 1, 1, 1, 1,\n",
       "        1, 1, 1, 1, 1, 1, 1, 1, 1, 1, 1, 1, 1, 1, 1, 1, 1, 1, 1, 1, 1, 1,\n",
       "        1, 1, 1, 1, 1, 1, 1, 1, 1, 1, 1, 1, 1, 1, 1, 1, 1, 1, 1, 1, 1, 1,\n",
       "        1, 1, 1, 1, 1, 1, 1, 1, 1, 1, 1, 1, 1, 1, 1, 1, 1, 1, 1, 1, 1, 1,\n",
       "        1, 1, 1, 1, 1, 1, 1, 1, 1, 1, 1, 1, 1, 1, 1, 1, 1, 1, 1, 1, 1, 1,\n",
       "        1, 1, 1, 1, 1, 1, 1, 1, 1, 1, 1, 1, 1, 1, 1, 1, 1, 1, 1, 1, 1, 1,\n",
       "        1, 1, 1, 1, 1, 1, 0, 1, 1, 1, 1, 1, 1, 1, 1, 1, 1, 1, 1, 1, 1, 1,\n",
       "        1, 1, 1, 1, 1, 1, 1, 1, 1, 1, 1, 1, 1, 1, 1, 1, 1, 1, 1, 1, 1, 1,\n",
       "        1, 1, 1, 0, 1, 1, 1, 1, 1, 1, 1, 1, 1, 1, 1, 1, 1, 1, 0, 1, 1, 1,\n",
       "        1, 1, 1, 1, 1, 1, 1, 1, 1, 1, 1, 1, 1, 1, 1, 1, 1, 1, 1, 1, 1, 1,\n",
       "        1, 1, 1, 0, 1, 1, 1, 1, 1, 1, 1, 1, 0, 1, 1, 1, 1, 1, 1, 1, 1, 1,\n",
       "        1, 1, 1, 1, 1, 1, 1, 1, 1, 1, 1, 1, 1, 1, 1, 1, 1, 1, 1, 1, 1, 1,\n",
       "        1, 1, 1, 1, 1, 1, 1, 1, 1, 1, 1, 1, 1, 1, 1, 1, 1, 1, 1, 1, 1, 1,\n",
       "        1, 1, 1, 1, 1, 1, 1, 1, 1, 1, 1, 1, 1, 1, 1, 1, 1, 1, 1, 1, 1, 1,\n",
       "        1, 1, 1, 1, 1, 1, 1, 1, 1, 0, 1, 1, 1, 1, 1, 1, 1, 1, 1, 1, 1, 1,\n",
       "        1, 1, 1, 1, 1, 1, 1, 1, 0, 1, 1, 1, 1, 1, 1, 1, 1, 1, 1, 1, 1, 1,\n",
       "        1, 1, 1, 1, 1, 1, 1, 1, 1, 1, 1, 1, 1, 1, 1, 1, 1, 1, 1, 1, 1, 1,\n",
       "        0, 0, 1, 1, 1, 1, 1, 1, 1, 1, 1, 1, 1, 1, 1, 1, 1, 0, 1, 0, 1, 1,\n",
       "        1, 1, 1, 1, 1, 1, 1, 1, 1, 1, 1, 1, 1, 1, 1, 1, 1, 0, 1, 1, 1, 1,\n",
       "        1, 1, 1, 1, 1, 0, 0, 1, 1, 1, 1, 1, 1, 1, 1, 1, 1, 1, 1, 1, 1, 1,\n",
       "        1, 1, 1, 1, 1, 1, 1, 1, 1, 1, 1, 1, 1, 1, 1, 1, 1, 1, 1, 1, 1, 1,\n",
       "        1, 1, 1, 1, 1, 0, 1, 1, 1, 1, 1, 1, 1, 1, 1, 1, 0, 0, 0, 0, 0, 0,\n",
       "        0, 0, 0, 0, 0, 1, 0, 0, 0, 0, 0, 0, 0, 0, 0, 0, 0, 0, 0, 0, 0, 1,\n",
       "        0, 0, 0, 0, 0, 0, 0, 0, 0, 0, 0, 0, 0, 0, 0, 0, 0, 0, 0, 0, 0, 0,\n",
       "        0, 0, 0, 0, 0, 0, 0, 0, 0, 0, 0, 0, 0, 0, 0, 0, 0, 0, 0, 0, 0, 0,\n",
       "        0, 0, 0, 0, 0, 0, 0, 0, 1, 0, 0, 0, 0, 0, 0, 0, 0, 0, 0, 0, 0, 0,\n",
       "        0, 0, 0, 0, 0, 0, 0, 0, 0, 0, 0, 0, 0, 0, 0, 0, 0, 0, 0, 0, 0, 0,\n",
       "        0, 0, 0, 0, 0, 0, 0, 0, 0, 0, 0, 0, 0, 0, 0, 1, 0, 0, 0, 0, 0, 0,\n",
       "        0, 0, 0, 0, 0, 0, 0, 0, 0, 0, 0, 0, 0, 0, 0, 0, 0, 0, 0, 0, 0, 0,\n",
       "        0, 0, 0, 0, 0, 0, 0, 0, 0, 0, 0, 0, 0, 0, 0, 0, 0, 0, 0, 0, 0, 0,\n",
       "        0, 0, 0, 0, 0, 0, 0, 0, 0, 0, 0, 0, 0, 0, 0, 0, 0, 0, 0, 0, 0, 0,\n",
       "        0, 0, 0, 0, 0, 0, 0, 0, 0, 0, 0, 0, 0, 0, 0, 0, 0, 0, 0, 0, 0, 0,\n",
       "        0, 0, 0, 0, 0, 0, 0, 0, 0, 0, 0, 0, 0, 0, 0, 0, 0, 0, 0, 0, 1, 0,\n",
       "        0, 0, 0, 0, 0, 0, 0, 0, 0, 0, 0, 0, 0, 0, 0, 0, 0, 0, 0, 0, 0, 0,\n",
       "        0, 0, 0, 0, 0, 0, 0, 0, 0, 0, 0, 0, 0, 0, 0, 0, 0, 0, 0, 0, 0, 0,\n",
       "        0, 0, 0, 0, 0, 0, 0, 0, 0, 0, 0, 0, 0, 0, 0, 0, 0, 0, 0, 0, 0, 0,\n",
       "        0, 0, 0, 0, 0, 0, 0, 0, 0, 0, 0, 0, 0, 0, 0, 0, 0, 0, 0, 0, 0, 0,\n",
       "        0, 0, 0, 0, 0, 0, 0, 0, 0, 0, 0, 0, 0, 0, 0, 0, 0, 0, 0, 0, 0, 0,\n",
       "        0, 0, 0, 0, 0, 0, 0, 0, 0, 0, 0, 0, 0, 0, 0, 0, 0, 0, 0, 0, 0, 0,\n",
       "        0, 0, 0, 0, 0, 0, 0, 0, 0, 0, 0, 0, 0, 0, 0, 0, 1, 0, 0, 0, 0, 0,\n",
       "        0, 0, 0, 0, 0, 0, 0, 0, 0, 0, 0, 0, 0, 0, 0, 0, 0, 0, 0, 0, 0, 0,\n",
       "        0, 0, 0, 0, 0, 0, 0, 0, 0, 0, 0, 0, 0, 0, 0, 0, 0, 0, 0, 0, 0, 0,\n",
       "        0, 0, 0, 0, 0, 0, 0, 0, 0, 0, 0, 0, 0, 0, 0, 0, 0, 0, 0, 0, 0, 0,\n",
       "        0, 0, 0, 0, 0, 0, 0, 0, 0, 0, 0, 0, 0, 0, 0, 0, 0, 0, 0, 0, 0, 0,\n",
       "        0, 0, 0, 0, 0, 0, 0, 0, 0, 0], dtype=int32)}"
      ]
     },
     "execution_count": 58,
     "metadata": {},
     "output_type": "execute_result"
    }
   ],
   "source": [
    "prediction.predictions"
   ]
  },
  {
   "cell_type": "code",
   "execution_count": 59,
   "id": "0f21299f-1921-48cb-89ef-0438fbae07e4",
   "metadata": {
    "tags": []
   },
   "outputs": [],
   "source": [
    "prediction = tests.infer(tf_bin_seq_fold, include_label=False)"
   ]
  },
  {
   "cell_type": "code",
   "execution_count": 60,
   "id": "5d23a822-bb79-43c3-acc6-f7a23ba28a15",
   "metadata": {
    "tags": []
   },
   "outputs": [
    {
     "data": {
      "text/plain": [
       "{'infer_1': array([1, 1, 1, 1, 1, 1, 1, 1, 1, 1, 1, 1, 1, 1, 1, 1, 1, 1, 1, 1, 1, 1,\n",
       "        1, 1, 1, 0, 1, 1, 1, 1, 1, 1, 1, 1, 1, 1, 1, 1, 1, 0, 1, 1, 1, 1,\n",
       "        1, 1, 1, 1, 1, 1, 1, 1, 1, 1, 1, 1, 1, 1, 1, 1, 1, 1, 1, 1, 1, 1,\n",
       "        1, 1, 1, 1, 1, 1, 1, 1, 1, 1, 1, 1, 1, 1, 1, 1, 1, 1, 1, 1, 1, 1,\n",
       "        1, 1, 1, 1, 1, 1, 1, 1, 1, 1, 1, 1, 1, 1, 1, 1, 1, 1, 1, 1, 1, 1,\n",
       "        1, 1, 1, 1, 1, 1, 1, 1, 1, 1, 1, 1, 1, 1, 1, 1, 1, 1, 1, 1, 1, 1,\n",
       "        1, 1, 1, 1, 1, 1, 1, 1, 1, 1, 1, 1, 1, 1, 1, 1, 1, 1, 1, 1, 1, 1,\n",
       "        1, 1, 1, 1, 1, 1, 0, 1, 1, 1, 1, 1, 1, 1, 1, 1, 1, 1, 1, 1, 1, 1,\n",
       "        1, 1, 1, 1, 1, 1, 1, 1, 1, 1, 1, 1, 1, 1, 1, 1, 1, 1, 1, 1, 1, 1,\n",
       "        1, 1, 1, 0, 1, 1, 1, 1, 1, 1, 1, 1, 1, 1, 1, 1, 1, 1, 0, 1, 1, 1,\n",
       "        1, 1, 1, 1, 1, 1, 1, 1, 1, 1, 1, 1, 1, 1, 1, 1, 1, 1, 1, 1, 1, 1,\n",
       "        1, 1, 1, 0, 1, 1, 1, 1, 1, 1, 1, 1, 0, 1, 1, 1, 1, 1, 1, 1, 1, 1,\n",
       "        1, 1, 1, 1, 1, 1, 1, 1, 1, 1, 1, 1, 1, 1, 1, 1, 1, 1, 1, 1, 1, 1,\n",
       "        1, 1, 1, 1, 1, 1, 1, 1, 1, 1, 1, 1, 1, 1, 1, 1, 1, 1, 1, 1, 1, 1,\n",
       "        1, 1, 1, 1, 1, 1, 1, 1, 1, 1, 1, 1, 1, 1, 1, 1, 1, 1, 1, 1, 1, 1,\n",
       "        1, 1, 1, 1, 1, 1, 1, 1, 1, 0, 1, 1, 1, 1, 1, 1, 1, 1, 1, 1, 1, 1,\n",
       "        1, 1, 1, 1, 1, 1, 1, 1, 0, 1, 1, 1, 1, 1, 1, 1, 1, 1, 1, 1, 1, 1,\n",
       "        1, 1, 1, 1, 1, 1, 1, 1, 1, 1, 1, 1, 1, 1, 1, 1, 1, 1, 1, 1, 1, 1,\n",
       "        0, 0, 1, 1, 1, 1, 1, 1, 1, 1, 1, 1, 1, 1, 1, 1, 1, 0, 1, 0, 1, 1,\n",
       "        1, 1, 1, 1, 1, 1, 1, 1, 1, 1, 1, 1, 1, 1, 1, 1, 1, 0, 1, 1, 1, 1,\n",
       "        1, 1, 1, 1, 1, 0, 0, 1, 1, 1, 1, 1, 1, 1, 1, 1, 1, 1, 1, 1, 1, 1,\n",
       "        1, 1, 1, 1, 1, 1, 1, 1, 1, 1, 1, 1, 1, 1, 1, 1, 1, 1, 1, 1, 1, 1,\n",
       "        1, 1, 1, 1, 1, 0, 1, 1, 1, 1, 1, 1, 1, 1, 1, 1, 0, 0, 0, 0, 0, 0,\n",
       "        0, 0, 0, 0, 0, 1, 0, 0, 0, 0, 0, 0, 0, 0, 0, 0, 0, 0, 0, 0, 0, 1,\n",
       "        0, 0, 0, 0, 0, 0, 0, 0, 0, 0, 0, 0, 0, 0, 0, 0, 0, 0, 0, 0, 0, 0,\n",
       "        0, 0, 0, 0, 0, 0, 0, 0, 0, 0, 0, 0, 0, 0, 0, 0, 0, 0, 0, 0, 0, 0,\n",
       "        0, 0, 0, 0, 0, 0, 0, 0, 1, 0, 0, 0, 0, 0, 0, 0, 0, 0, 0, 0, 0, 0,\n",
       "        0, 0, 0, 0, 0, 0, 0, 0, 0, 0, 0, 0, 0, 0, 0, 0, 0, 0, 0, 0, 0, 0,\n",
       "        0, 0, 0, 0, 0, 0, 0, 0, 0, 0, 0, 0, 0, 0, 0, 1, 0, 0, 0, 0, 0, 0,\n",
       "        0, 0, 0, 0, 0, 0, 0, 0, 0, 0, 0, 0, 0, 0, 0, 0, 0, 0, 0, 0, 0, 0,\n",
       "        0, 0, 0, 0, 0, 0, 0, 0, 0, 0, 0, 0, 0, 0, 0, 0, 0, 0, 0, 0, 0, 0,\n",
       "        0, 0, 0, 0, 0, 0, 0, 0, 0, 0, 0, 0, 0, 0, 0, 0, 0, 0, 0, 0, 0, 0,\n",
       "        0, 0, 0, 0, 0, 0, 0, 0, 0, 0, 0, 0, 0, 0, 0, 0, 0, 0, 0, 0, 0, 0,\n",
       "        0, 0, 0, 0, 0, 0, 0, 0, 0, 0, 0, 0, 0, 0, 0, 0, 0, 0, 0, 0, 1, 0,\n",
       "        0, 0, 0, 0, 0, 0, 0, 0, 0, 0, 0, 0, 0, 0, 0, 0, 0, 0, 0, 0, 0, 0,\n",
       "        0, 0, 0, 0, 0, 0, 0, 0, 0, 0, 0, 0, 0, 0, 0, 0, 0, 0, 0, 0, 0, 0,\n",
       "        0, 0, 0, 0, 0, 0, 0, 0, 0, 0, 0, 0, 0, 0, 0, 0, 0, 0, 0, 0, 0, 0,\n",
       "        0, 0, 0, 0, 0, 0, 0, 0, 0, 0, 0, 0, 0, 0, 0, 0, 0, 0, 0, 0, 0, 0,\n",
       "        0, 0, 0, 0, 0, 0, 0, 0, 0, 0, 0, 0, 0, 0, 0, 0, 0, 0, 0, 0, 0, 0,\n",
       "        0, 0, 0, 0, 0, 0, 0, 0, 0, 0, 0, 0, 0, 0, 0, 0, 0, 0, 0, 0, 0, 0,\n",
       "        0, 0, 0, 0, 0, 0, 0, 0, 0, 0, 0, 0, 0, 0, 0, 0, 1, 0, 0, 0, 0, 0,\n",
       "        0, 0, 0, 0, 0, 0, 0, 0, 0, 0, 0, 0, 0, 0, 0, 0, 0, 0, 0, 0, 0, 0,\n",
       "        0, 0, 0, 0, 0, 0, 0, 0, 0, 0, 0, 0, 0, 0, 0, 0, 0, 0, 0, 0, 0, 0,\n",
       "        0, 0, 0, 0, 0, 0, 0, 0, 0, 0, 0, 0, 0, 0, 0, 0, 0, 0, 0, 0, 0, 0,\n",
       "        0, 0, 0, 0, 0, 0, 0, 0, 0, 0, 0, 0, 0, 0, 0, 0, 0, 0, 0, 0, 0, 0,\n",
       "        0, 0, 0, 0, 0, 0, 0, 0, 0, 0], dtype=int32)}"
      ]
     },
     "execution_count": 60,
     "metadata": {},
     "output_type": "execute_result"
    }
   ],
   "source": [
    "prediction.predictions"
   ]
  },
  {
   "cell_type": "markdown",
   "id": "9b343ca8-62d5-4a8e-9796-b55c4c92e231",
   "metadata": {
    "tags": []
   },
   "source": [
    "---"
   ]
  },
  {
   "cell_type": "code",
   "execution_count": 61,
   "id": "7652ebbb-edc3-4470-a5e9-c79ced212591",
   "metadata": {
    "tags": []
   },
   "outputs": [],
   "source": [
    "tf_bin_img = tests.tf_bin_img.make_queue()"
   ]
  },
  {
   "cell_type": "code",
   "execution_count": 62,
   "id": "7b21eeae-923d-4207-9767-b61e1c5defbe",
   "metadata": {
    "tags": []
   },
   "outputs": [
    {
     "name": "stderr",
     "output_type": "stream",
     "text": [
      "📦 Caching Splits 📦: 100%|████████████████████████████| 3/3 [00:00<00:00, 28.94it/s]\n",
      "🔮 Training Models 🔮: 100%|███████████████████████████| 1/1 [00:02<00:00,  2.78s/it]\n"
     ]
    }
   ],
   "source": [
    "tf_bin_img.run_jobs()"
   ]
  },
  {
   "cell_type": "code",
   "execution_count": 63,
   "id": "44a0f45c-7a4b-4cc6-bbe9-353dbb86fd2f",
   "metadata": {
    "tags": []
   },
   "outputs": [],
   "source": [
    "prediction = tests.infer(tf_bin_img)"
   ]
  },
  {
   "cell_type": "code",
   "execution_count": 64,
   "id": "cfcb8273-bee8-48e5-97a7-c8288c5c736e",
   "metadata": {
    "tags": []
   },
   "outputs": [
    {
     "data": {
      "text/plain": [
       "{'infer_0': {'accuracy': 0.5,\n",
       "  'f1': 0.667,\n",
       "  'loss': 0.693,\n",
       "  'precision': 0.5,\n",
       "  'recall': 1.0,\n",
       "  'roc_auc': 0.5}}"
      ]
     },
     "execution_count": 64,
     "metadata": {},
     "output_type": "execute_result"
    }
   ],
   "source": [
    "prediction.metrics"
   ]
  },
  {
   "cell_type": "code",
   "execution_count": 65,
   "id": "5fbd8fe7-fe96-46da-ad3b-f4acfd77c0df",
   "metadata": {
    "tags": []
   },
   "outputs": [
    {
     "data": {
      "text/plain": [
       "{'infer_0': array([1, 1, 1, 1, 1, 1, 1, 1, 1, 1, 1, 1, 1, 1, 1, 1, 1, 1, 1, 1, 1, 1,\n",
       "        1, 1, 1, 1, 1, 1, 1, 1, 1, 1, 1, 1, 1, 1, 1, 1, 1, 1, 1, 1, 1, 1,\n",
       "        1, 1, 1, 1, 1, 1, 1, 1, 1, 1, 1, 1, 1, 1, 1, 1, 1, 1, 1, 1, 1, 1,\n",
       "        1, 1, 1, 1, 1, 1, 1, 1, 1, 1, 1, 1, 1, 1], dtype=int32)}"
      ]
     },
     "execution_count": 65,
     "metadata": {},
     "output_type": "execute_result"
    }
   ],
   "source": [
    "prediction.predictions"
   ]
  },
  {
   "cell_type": "code",
   "execution_count": 66,
   "id": "2b0c9879-6d09-4be6-a7f0-8f15a912ef03",
   "metadata": {
    "tags": []
   },
   "outputs": [],
   "source": [
    "prediction = tests.infer(tf_bin_img, include_label=False)"
   ]
  },
  {
   "cell_type": "code",
   "execution_count": 67,
   "id": "27b7196b-3d1f-4023-9f7f-d894de8bccf8",
   "metadata": {
    "tags": []
   },
   "outputs": [
    {
     "data": {
      "text/plain": [
       "{'infer_1': array([1, 1, 1, 1, 1, 1, 1, 1, 1, 1, 1, 1, 1, 1, 1, 1, 1, 1, 1, 1, 1, 1,\n",
       "        1, 1, 1, 1, 1, 1, 1, 1, 1, 1, 1, 1, 1, 1, 1, 1, 1, 1, 1, 1, 1, 1,\n",
       "        1, 1, 1, 1, 1, 1, 1, 1, 1, 1, 1, 1, 1, 1, 1, 1, 1, 1, 1, 1, 1, 1,\n",
       "        1, 1, 1, 1, 1, 1, 1, 1, 1, 1, 1, 1, 1, 1], dtype=int32)}"
      ]
     },
     "execution_count": 67,
     "metadata": {},
     "output_type": "execute_result"
    }
   ],
   "source": [
    "prediction.predictions"
   ]
  },
  {
   "cell_type": "markdown",
   "id": "4a66572f-f709-4f11-9465-a40c718a9fe2",
   "metadata": {
    "tags": []
   },
   "source": [
    "---"
   ]
  },
  {
   "cell_type": "code",
   "execution_count": 68,
   "id": "172833a6-2fe0-4566-b24d-9da8ac5cf6ae",
   "metadata": {
    "tags": []
   },
   "outputs": [],
   "source": [
    "tf_bin_img_fold = tests.tf_bin_img.make_queue(fold_count=3)"
   ]
  },
  {
   "cell_type": "code",
   "execution_count": 69,
   "id": "ab6b269b-f52b-4fa7-9ee4-fc5d37969fc5",
   "metadata": {
    "tags": []
   },
   "outputs": [
    {
     "name": "stderr",
     "output_type": "stream",
     "text": [
      "📦 Caching Splits - Fold #1 📦: 100%|██████████████████| 4/4 [00:00<00:00, 37.66it/s]\n",
      "📦 Caching Splits - Fold #2 📦: 100%|██████████████████| 4/4 [00:00<00:00, 37.54it/s]\n",
      "📦 Caching Splits - Fold #3 📦: 100%|██████████████████| 4/4 [00:00<00:00, 37.31it/s]\n",
      "🔮 Training Models - Fold #1 🔮: 100%|█████████████████| 1/1 [00:02<00:00,  2.20s/it]\n",
      "🔮 Training Models - Fold #2 🔮: 100%|█████████████████| 1/1 [00:02<00:00,  2.40s/it]\n",
      "🔮 Training Models - Fold #3 🔮: 100%|█████████████████| 1/1 [00:02<00:00,  2.35s/it]\n"
     ]
    }
   ],
   "source": [
    "tf_bin_img_fold.run_jobs()"
   ]
  },
  {
   "cell_type": "code",
   "execution_count": 70,
   "id": "64360842-8598-4737-8311-6eae11853be6",
   "metadata": {
    "tags": []
   },
   "outputs": [],
   "source": [
    "prediction = tests.infer(tf_bin_img_fold)"
   ]
  },
  {
   "cell_type": "code",
   "execution_count": 71,
   "id": "1f002b0d-0c5a-4e0a-bb8a-c82156212329",
   "metadata": {
    "tags": []
   },
   "outputs": [
    {
     "data": {
      "text/plain": [
       "{'infer_0': {'accuracy': 0.688,\n",
       "  'f1': 0.706,\n",
       "  'loss': 0.685,\n",
       "  'precision': 0.667,\n",
       "  'recall': 0.75,\n",
       "  'roc_auc': 0.705}}"
      ]
     },
     "execution_count": 71,
     "metadata": {},
     "output_type": "execute_result"
    }
   ],
   "source": [
    "prediction.metrics"
   ]
  },
  {
   "cell_type": "code",
   "execution_count": 72,
   "id": "5b207a0f-5884-4b19-8071-c4199b4399d2",
   "metadata": {
    "tags": []
   },
   "outputs": [
    {
     "data": {
      "text/plain": [
       "{'infer_0': array([0, 1, 1, 1, 0, 0, 0, 0, 0, 0, 0, 0, 0, 0, 1, 0, 0, 1, 0, 1, 0, 1,\n",
       "        1, 1, 0, 0, 0, 1, 1, 1, 1, 0, 0, 1, 1, 0, 0, 0, 0, 0, 0, 0, 1, 1,\n",
       "        1, 1, 1, 1, 1, 1, 1, 1, 1, 1, 1, 1, 0, 0, 0, 1, 1, 1, 1, 1, 1, 1,\n",
       "        0, 0, 1, 1, 0, 0, 1, 0, 1, 1, 1, 1, 1, 1], dtype=int32)}"
      ]
     },
     "execution_count": 72,
     "metadata": {},
     "output_type": "execute_result"
    }
   ],
   "source": [
    "prediction.predictions"
   ]
  },
  {
   "cell_type": "code",
   "execution_count": 73,
   "id": "8cef926b-2e0a-45e2-8c61-2cddcb530bef",
   "metadata": {
    "tags": []
   },
   "outputs": [],
   "source": [
    "prediction = tests.infer(tf_bin_img_fold, include_label=False)"
   ]
  },
  {
   "cell_type": "code",
   "execution_count": 74,
   "id": "aec255d4-cd4d-4590-99d3-a696f87dc893",
   "metadata": {
    "tags": []
   },
   "outputs": [
    {
     "data": {
      "text/plain": [
       "{'infer_1': array([0, 1, 1, 1, 0, 0, 0, 0, 0, 0, 0, 0, 0, 0, 1, 0, 0, 1, 0, 1, 0, 1,\n",
       "        1, 1, 0, 0, 0, 1, 1, 1, 1, 0, 0, 1, 1, 0, 0, 0, 0, 0, 0, 0, 1, 1,\n",
       "        1, 1, 1, 1, 1, 1, 1, 1, 1, 1, 1, 1, 0, 0, 0, 1, 1, 1, 1, 1, 1, 1,\n",
       "        0, 0, 1, 1, 0, 0, 1, 0, 1, 1, 1, 1, 1, 1], dtype=int32)}"
      ]
     },
     "execution_count": 74,
     "metadata": {},
     "output_type": "execute_result"
    }
   ],
   "source": [
    "prediction.predictions"
   ]
  },
  {
   "cell_type": "markdown",
   "id": "0484e1f8-65b2-4ca1-9d2c-64fb712e4fcc",
   "metadata": {
    "tags": []
   },
   "source": [
    "---"
   ]
  },
  {
   "cell_type": "code",
   "execution_count": 75,
   "id": "0e0f527e-d5b8-4998-97e1-9963f3caa063",
   "metadata": {
    "tags": []
   },
   "outputs": [
    {
     "name": "stdout",
     "output_type": "stream",
     "text": [
      "\n",
      "└── Info - System overriding user input to set `sklearn_preprocess.copy=False`.\n",
      "This saves memory when concatenating the output of many encoders.\n",
      "\n",
      "\n",
      "└── Success - Fit RobustScaler(copy=False) on the following columns:\n",
      "['wind', 'pressure']\n",
      "\n",
      "\n",
      "└── Info - The following columns have not yet been encoded:\n",
      "['temperature', 'day_of_year', 'humidity']\n",
      "\n",
      "\n",
      "└── Info - System overriding user input to set `sklearn_preprocess.copy=False`.\n",
      "This saves memory when concatenating the output of many encoders.\n",
      "\n",
      "\n",
      "└── Success - Fit StandardScaler(copy=False) on the following columns:\n",
      "['temperature', 'humidity', 'day_of_year']\n",
      "\n",
      "\n",
      "└── Success - All columns now have encoders associated with them.\n",
      "\n"
     ]
    }
   ],
   "source": [
    "tf_fore_tab = tests.tf_fore_tab.make_queue()"
   ]
  },
  {
   "cell_type": "code",
   "execution_count": 76,
   "id": "0b9d4593-51f4-460c-8551-7b3147af34c0",
   "metadata": {
    "tags": []
   },
   "outputs": [
    {
     "name": "stderr",
     "output_type": "stream",
     "text": [
      "📦 Caching Splits 📦: 100%|███████████████████████████| 3/3 [00:00<00:00, 307.46it/s]\n",
      "🔮 Training Models 🔮:   0%|                                   | 0/1 [00:00<?, ?it/s]"
     ]
    },
    {
     "name": "stdout",
     "output_type": "stream",
     "text": [
      "WARNING:tensorflow:Layers in a Sequential model should only have a single input tensor. Received: inputs=<keras.layers.recurrent_v2.GRU object at 0x18ee87650>. Consider rewriting this model with the Functional API.\n",
      "WARNING:tensorflow:Layers in a Sequential model should only have a single input tensor. Received: inputs=<keras.layers.core.dense.Dense object at 0x18ee87910>. Consider rewriting this model with the Functional API.\n",
      "WARNING:tensorflow:Layers in a Sequential model should only have a single input tensor. Received: inputs=<keras.layers.core.dropout.Dropout object at 0x18ee87910>. Consider rewriting this model with the Functional API.\n",
      "WARNING:tensorflow:Layers in a Sequential model should only have a single input tensor. Received: inputs=<keras.layers.core.dense.Dense object at 0x18ee87910>. Consider rewriting this model with the Functional API.\n",
      "WARNING:tensorflow:Layers in a Sequential model should only have a single input tensor. Received: inputs=<keras.layers.core.dropout.Dropout object at 0x18ee87910>. Consider rewriting this model with the Functional API.\n",
      "WARNING:tensorflow:Layers in a Sequential model should only have a single input tensor. Received: inputs=<keras.layers.core.reshape.Reshape object at 0x18ee87910>. Consider rewriting this model with the Functional API.\n"
     ]
    },
    {
     "name": "stderr",
     "output_type": "stream",
     "text": [
      "🔮 Training Models 🔮: 100%|███████████████████████████| 1/1 [00:01<00:00,  1.31s/it]\n"
     ]
    }
   ],
   "source": [
    "tf_fore_tab.run_jobs()"
   ]
  },
  {
   "cell_type": "code",
   "execution_count": 77,
   "id": "989217fa-d9f5-455e-a1c6-e40a62e244a3",
   "metadata": {
    "tags": []
   },
   "outputs": [],
   "source": [
    "prediction = tests.infer(tf_fore_tab, include_label=False)"
   ]
  },
  {
   "cell_type": "code",
   "execution_count": 78,
   "id": "a4fd09e1-2839-4a0c-83aa-56608aa0d841",
   "metadata": {
    "tags": []
   },
   "outputs": [],
   "source": [
    "prediction.metrics"
   ]
  },
  {
   "cell_type": "code",
   "execution_count": 79,
   "id": "0ef4d9a8-c519-4af2-9e47-396a1c854ec0",
   "metadata": {
    "tags": []
   },
   "outputs": [
    {
     "data": {
      "text/plain": [
       "{'infer_0': array([[[8.00000191e+00, 8.85714245e+00, 6.37142868e+01, 7.14285707e+00,\n",
       "          1.01871429e+03],\n",
       "         [8.99998665e+00, 1.40000000e+01, 5.12500000e+01, 1.25000000e+01,\n",
       "          1.01700000e+03],\n",
       "         [1.00000019e+01, 1.09999990e+01, 6.20000000e+01, 7.40000010e+00,\n",
       "          1.01566669e+03],\n",
       "         ...,\n",
       "         [3.30000000e+01, 1.62857151e+01, 7.75714264e+01, 1.32857144e+00,\n",
       "          1.01714288e+03],\n",
       "         [3.40000000e+01, 1.80000000e+01, 6.55714264e+01, 1.85714304e+00,\n",
       "          1.01528571e+03],\n",
       "         [3.50000000e+01, 1.74285717e+01, 7.42857132e+01, 1.11142855e+01,\n",
       "          1.01457141e+03]],\n",
       " \n",
       "        [[2.20000019e+01, 9.49999905e+00, 7.96666641e+01, 3.08333302e+00,\n",
       "          1.02179999e+03],\n",
       "         [2.30000019e+01, 1.40000000e+01, 6.01666679e+01, 4.01666641e+00,\n",
       "          1.02050000e+03],\n",
       "         [2.40000019e+01, 1.38333330e+01, 6.06666679e+01, 6.16666651e+00,\n",
       "          1.02050000e+03],\n",
       "         ...,\n",
       "         [4.70000000e+01, 1.44285717e+01, 9.27142868e+01, 8.48571396e+00,\n",
       "          1.00800000e+03],\n",
       "         [4.80000000e+01, 1.36666660e+01, 9.00000000e+01, 1.14440915e-07,\n",
       "          1.01266669e+03],\n",
       "         [4.89999924e+01, 1.55999994e+01, 7.84000015e+01, 1.22200003e+01,\n",
       "          1.01620001e+03]],\n",
       " \n",
       "        [[3.60000000e+01, 1.66250000e+01, 9.23750000e+01, 9.72500038e+00,\n",
       "          1.01637500e+03],\n",
       "         [3.70000000e+01, 1.66666660e+01, 7.13333359e+01, 8.63333321e+00,\n",
       "          1.01866669e+03],\n",
       "         [3.80000000e+01, 1.55999994e+01, 5.94000015e+01, 1.07400007e+01,\n",
       "          1.01859998e+03],\n",
       "         ...,\n",
       "         [6.09999924e+01, 1.90000000e+01, 5.40000000e+01, 1.57249994e+01,\n",
       "          1.01625000e+03],\n",
       "         [6.20000000e+01, 1.93333340e+01, 6.28333321e+01, 8.63333321e+00,\n",
       "          1.01616669e+03],\n",
       "         [6.30000076e+01, 1.76000004e+01, 7.10000000e+01, 5.55999994e+00,\n",
       "          1.01579999e+03]],\n",
       " \n",
       "        ...,\n",
       " \n",
       "        [[5.90000000e+01, 2.33333340e+01, 5.16666679e+01, 3.91111088e+00,\n",
       "          1.01311108e+03],\n",
       "         [6.00000000e+01, 2.44615383e+01, 4.79230766e+01, 6.41538477e+00,\n",
       "          1.01292310e+03],\n",
       "         [6.09999924e+01, 2.37500000e+01, 5.42500000e+01, 5.92999983e+00,\n",
       "          1.01215002e+03],\n",
       "         ...,\n",
       "         [8.40000000e+01, 2.65000000e+01, 3.93750000e+01, 1.04250002e+01,\n",
       "          1.00987500e+03],\n",
       "         [8.50000000e+01, 2.91000004e+01, 3.70999985e+01, 1.75900002e+01,\n",
       "          1.01020001e+03],\n",
       "         [8.60000000e+01, 2.95000000e+01, 3.86250000e+01, 1.36500006e+01,\n",
       "          1.00950000e+03]],\n",
       " \n",
       "        [[7.30000000e+01, 1.80000000e+01, 5.63333321e+01, 4.52222204e+00,\n",
       "          1.01655554e+03],\n",
       "         [7.39999924e+01, 1.98750000e+01, 5.47500000e+01, 7.17499971e+00,\n",
       "          1.01412500e+03],\n",
       "         [7.50000000e+01, 2.40000000e+01, 4.92000008e+01, 5.55999994e+00,\n",
       "          1.01109998e+03],\n",
       "         ...,\n",
       "         [9.79999924e+01, 2.56250000e+01, 2.93750000e+01, 8.33749962e+00,\n",
       "          1.01037500e+03],\n",
       "         [9.90000000e+01, 2.71250000e+01, 2.11249981e+01, 1.41250000e+01,\n",
       "          1.01062500e+03],\n",
       "         [1.00000000e+02, 2.78571434e+01, 1.94285717e+01, 1.93142853e+01,\n",
       "          1.00857141e+03]],\n",
       " \n",
       "        [[8.70000000e+01, 2.98888893e+01, 4.06666679e+01, 8.84444427e+00,\n",
       "          1.00900000e+03],\n",
       "         [8.79999924e+01, 3.10000000e+01, 3.45000000e+01, 1.32000008e+01,\n",
       "          1.00712500e+03],\n",
       "         [8.90000000e+01, 2.92857132e+01, 3.68571434e+01, 1.05857143e+01,\n",
       "          1.00714288e+03],\n",
       "         ...,\n",
       "         [1.12000000e+02, 3.29000015e+01, 4.09000015e+01, 8.89000034e+00,\n",
       "          1.00159998e+03],\n",
       "         [1.13000000e+02, 3.28750000e+01, 2.74999981e+01, 9.96249962e+00,\n",
       "          1.00212500e+03],\n",
       "         [1.14000000e+02, 3.20000000e+01, 2.71428547e+01, 1.21571426e+01,\n",
       "          1.00414288e+03]]], dtype=float32)}"
      ]
     },
     "execution_count": 79,
     "metadata": {},
     "output_type": "execute_result"
    }
   ],
   "source": [
    "prediction.predictions"
   ]
  },
  {
   "cell_type": "code",
   "execution_count": 80,
   "id": "f8d471f1-7a34-47ab-ad4d-8e95a5d10267",
   "metadata": {
    "tags": []
   },
   "outputs": [],
   "source": [
    "prediction = tests.infer(tf_fore_tab, include_label=False)"
   ]
  },
  {
   "cell_type": "code",
   "execution_count": 81,
   "id": "0528e31b-1551-465c-9c34-ce551364cf88",
   "metadata": {
    "tags": []
   },
   "outputs": [
    {
     "data": {
      "text/plain": [
       "{'infer_1': array([[[8.00000191e+00, 8.85714245e+00, 6.37142868e+01, 7.14285707e+00,\n",
       "          1.01871429e+03],\n",
       "         [8.99998665e+00, 1.40000000e+01, 5.12500000e+01, 1.25000000e+01,\n",
       "          1.01700000e+03],\n",
       "         [1.00000019e+01, 1.09999990e+01, 6.20000000e+01, 7.40000010e+00,\n",
       "          1.01566669e+03],\n",
       "         ...,\n",
       "         [3.30000000e+01, 1.62857151e+01, 7.75714264e+01, 1.32857144e+00,\n",
       "          1.01714288e+03],\n",
       "         [3.40000000e+01, 1.80000000e+01, 6.55714264e+01, 1.85714304e+00,\n",
       "          1.01528571e+03],\n",
       "         [3.50000000e+01, 1.74285717e+01, 7.42857132e+01, 1.11142855e+01,\n",
       "          1.01457141e+03]],\n",
       " \n",
       "        [[2.20000019e+01, 9.49999905e+00, 7.96666641e+01, 3.08333302e+00,\n",
       "          1.02179999e+03],\n",
       "         [2.30000019e+01, 1.40000000e+01, 6.01666679e+01, 4.01666641e+00,\n",
       "          1.02050000e+03],\n",
       "         [2.40000019e+01, 1.38333330e+01, 6.06666679e+01, 6.16666651e+00,\n",
       "          1.02050000e+03],\n",
       "         ...,\n",
       "         [4.70000000e+01, 1.44285717e+01, 9.27142868e+01, 8.48571396e+00,\n",
       "          1.00800000e+03],\n",
       "         [4.80000000e+01, 1.36666660e+01, 9.00000000e+01, 1.14440915e-07,\n",
       "          1.01266669e+03],\n",
       "         [4.89999924e+01, 1.55999994e+01, 7.84000015e+01, 1.22200003e+01,\n",
       "          1.01620001e+03]],\n",
       " \n",
       "        [[3.60000000e+01, 1.66250000e+01, 9.23750000e+01, 9.72500038e+00,\n",
       "          1.01637500e+03],\n",
       "         [3.70000000e+01, 1.66666660e+01, 7.13333359e+01, 8.63333321e+00,\n",
       "          1.01866669e+03],\n",
       "         [3.80000000e+01, 1.55999994e+01, 5.94000015e+01, 1.07400007e+01,\n",
       "          1.01859998e+03],\n",
       "         ...,\n",
       "         [6.09999924e+01, 1.90000000e+01, 5.40000000e+01, 1.57249994e+01,\n",
       "          1.01625000e+03],\n",
       "         [6.20000000e+01, 1.93333340e+01, 6.28333321e+01, 8.63333321e+00,\n",
       "          1.01616669e+03],\n",
       "         [6.30000076e+01, 1.76000004e+01, 7.10000000e+01, 5.55999994e+00,\n",
       "          1.01579999e+03]],\n",
       " \n",
       "        ...,\n",
       " \n",
       "        [[5.90000000e+01, 2.33333340e+01, 5.16666679e+01, 3.91111088e+00,\n",
       "          1.01311108e+03],\n",
       "         [6.00000000e+01, 2.44615383e+01, 4.79230766e+01, 6.41538477e+00,\n",
       "          1.01292310e+03],\n",
       "         [6.09999924e+01, 2.37500000e+01, 5.42500000e+01, 5.92999983e+00,\n",
       "          1.01215002e+03],\n",
       "         ...,\n",
       "         [8.40000000e+01, 2.65000000e+01, 3.93750000e+01, 1.04250002e+01,\n",
       "          1.00987500e+03],\n",
       "         [8.50000000e+01, 2.91000004e+01, 3.70999985e+01, 1.75900002e+01,\n",
       "          1.01020001e+03],\n",
       "         [8.60000000e+01, 2.95000000e+01, 3.86250000e+01, 1.36500006e+01,\n",
       "          1.00950000e+03]],\n",
       " \n",
       "        [[7.30000000e+01, 1.80000000e+01, 5.63333321e+01, 4.52222204e+00,\n",
       "          1.01655554e+03],\n",
       "         [7.39999924e+01, 1.98750000e+01, 5.47500000e+01, 7.17499971e+00,\n",
       "          1.01412500e+03],\n",
       "         [7.50000000e+01, 2.40000000e+01, 4.92000008e+01, 5.55999994e+00,\n",
       "          1.01109998e+03],\n",
       "         ...,\n",
       "         [9.79999924e+01, 2.56250000e+01, 2.93750000e+01, 8.33749962e+00,\n",
       "          1.01037500e+03],\n",
       "         [9.90000000e+01, 2.71250000e+01, 2.11249981e+01, 1.41250000e+01,\n",
       "          1.01062500e+03],\n",
       "         [1.00000000e+02, 2.78571434e+01, 1.94285717e+01, 1.93142853e+01,\n",
       "          1.00857141e+03]],\n",
       " \n",
       "        [[8.70000000e+01, 2.98888893e+01, 4.06666679e+01, 8.84444427e+00,\n",
       "          1.00900000e+03],\n",
       "         [8.79999924e+01, 3.10000000e+01, 3.45000000e+01, 1.32000008e+01,\n",
       "          1.00712500e+03],\n",
       "         [8.90000000e+01, 2.92857132e+01, 3.68571434e+01, 1.05857143e+01,\n",
       "          1.00714288e+03],\n",
       "         ...,\n",
       "         [1.12000000e+02, 3.29000015e+01, 4.09000015e+01, 8.89000034e+00,\n",
       "          1.00159998e+03],\n",
       "         [1.13000000e+02, 3.28750000e+01, 2.74999981e+01, 9.96249962e+00,\n",
       "          1.00212500e+03],\n",
       "         [1.14000000e+02, 3.20000000e+01, 2.71428547e+01, 1.21571426e+01,\n",
       "          1.00414288e+03]]], dtype=float32)}"
      ]
     },
     "execution_count": 81,
     "metadata": {},
     "output_type": "execute_result"
    }
   ],
   "source": [
    "prediction.predictions"
   ]
  },
  {
   "cell_type": "markdown",
   "id": "753a0f5b-0718-4d7f-9d80-d1982e07d061",
   "metadata": {
    "tags": []
   },
   "source": [
    "---"
   ]
  },
  {
   "cell_type": "code",
   "execution_count": 82,
   "id": "bca086ea-4ab0-4b69-839d-e01558b92999",
   "metadata": {
    "tags": []
   },
   "outputs": [
    {
     "name": "stdout",
     "output_type": "stream",
     "text": [
      "\n",
      "└── Info - System overriding user input to set `sklearn_preprocess.copy=False`.\n",
      "This saves memory when concatenating the output of many encoders.\n",
      "\n",
      "\n",
      "└── Success - Fit RobustScaler(copy=False) on the following columns:\n",
      "['wind', 'pressure']\n",
      "\n",
      "\n",
      "└── Info - The following columns have not yet been encoded:\n",
      "['temperature', 'day_of_year', 'humidity']\n",
      "\n",
      "\n",
      "└── Info - System overriding user input to set `sklearn_preprocess.copy=False`.\n",
      "This saves memory when concatenating the output of many encoders.\n",
      "\n",
      "\n",
      "└── Success - Fit StandardScaler(copy=False) on the following columns:\n",
      "['temperature', 'humidity', 'day_of_year']\n",
      "\n",
      "\n",
      "└── Success - All columns now have encoders associated with them.\n",
      "\n",
      "Warning - The number of samples <74> in your training Split\n",
      "is not evenly divisible by the `fold_count` <3> you specified.\n",
      "This can result in misleading performance metrics for the last Fold.\n",
      "\n"
     ]
    }
   ],
   "source": [
    "tf_fore_tab_fold = tests.tf_fore_tab.make_queue(fold_count=3)"
   ]
  },
  {
   "cell_type": "code",
   "execution_count": 83,
   "id": "892a8068-f8a0-4f40-9874-ba7c81bd19ad",
   "metadata": {
    "tags": []
   },
   "outputs": [
    {
     "name": "stderr",
     "output_type": "stream",
     "text": [
      "📦 Caching Splits - Fold #1 📦: 100%|█████████████████| 4/4 [00:00<00:00, 338.54it/s]\n",
      "📦 Caching Splits - Fold #2 📦: 100%|█████████████████| 4/4 [00:00<00:00, 344.73it/s]\n",
      "📦 Caching Splits - Fold #3 📦: 100%|█████████████████| 4/4 [00:00<00:00, 322.24it/s]\n",
      "🔮 Training Models - Fold #1 🔮:   0%|                         | 0/1 [00:00<?, ?it/s]"
     ]
    },
    {
     "name": "stdout",
     "output_type": "stream",
     "text": [
      "WARNING:tensorflow:Layers in a Sequential model should only have a single input tensor. Received: inputs=<keras.layers.recurrent_v2.GRU object at 0x18ec47090>. Consider rewriting this model with the Functional API.\n",
      "WARNING:tensorflow:Layers in a Sequential model should only have a single input tensor. Received: inputs=<keras.layers.core.dense.Dense object at 0x18eef2bd0>. Consider rewriting this model with the Functional API.\n",
      "WARNING:tensorflow:Layers in a Sequential model should only have a single input tensor. Received: inputs=<keras.layers.core.dropout.Dropout object at 0x18eef2bd0>. Consider rewriting this model with the Functional API.\n",
      "WARNING:tensorflow:Layers in a Sequential model should only have a single input tensor. Received: inputs=<keras.layers.core.dense.Dense object at 0x18eef2bd0>. Consider rewriting this model with the Functional API.\n",
      "WARNING:tensorflow:Layers in a Sequential model should only have a single input tensor. Received: inputs=<keras.layers.core.dropout.Dropout object at 0x18eef2bd0>. Consider rewriting this model with the Functional API.\n",
      "WARNING:tensorflow:Layers in a Sequential model should only have a single input tensor. Received: inputs=<keras.layers.core.reshape.Reshape object at 0x18eef2bd0>. Consider rewriting this model with the Functional API.\n"
     ]
    },
    {
     "name": "stderr",
     "output_type": "stream",
     "text": [
      "🔮 Training Models - Fold #1 🔮: 100%|█████████████████| 1/1 [00:01<00:00,  1.33s/it]\n",
      "🔮 Training Models - Fold #2 🔮:   0%|                         | 0/1 [00:00<?, ?it/s]"
     ]
    },
    {
     "name": "stdout",
     "output_type": "stream",
     "text": [
      "WARNING:tensorflow:Layers in a Sequential model should only have a single input tensor. Received: inputs=<keras.layers.recurrent_v2.GRU object at 0x18eb8c290>. Consider rewriting this model with the Functional API.\n",
      "WARNING:tensorflow:Layers in a Sequential model should only have a single input tensor. Received: inputs=<keras.layers.core.dense.Dense object at 0x18efbf8d0>. Consider rewriting this model with the Functional API.\n",
      "WARNING:tensorflow:Layers in a Sequential model should only have a single input tensor. Received: inputs=<keras.layers.core.dropout.Dropout object at 0x18eef2a10>. Consider rewriting this model with the Functional API.\n",
      "WARNING:tensorflow:Layers in a Sequential model should only have a single input tensor. Received: inputs=<keras.layers.core.dense.Dense object at 0x18f1fd690>. Consider rewriting this model with the Functional API.\n",
      "WARNING:tensorflow:Layers in a Sequential model should only have a single input tensor. Received: inputs=<keras.layers.core.dropout.Dropout object at 0x18f1fd690>. Consider rewriting this model with the Functional API.\n",
      "WARNING:tensorflow:Layers in a Sequential model should only have a single input tensor. Received: inputs=<keras.layers.core.reshape.Reshape object at 0x18f1fd690>. Consider rewriting this model with the Functional API.\n"
     ]
    },
    {
     "name": "stderr",
     "output_type": "stream",
     "text": [
      "🔮 Training Models - Fold #2 🔮: 100%|█████████████████| 1/1 [00:01<00:00,  1.68s/it]\n",
      "🔮 Training Models - Fold #3 🔮:   0%|                         | 0/1 [00:00<?, ?it/s]"
     ]
    },
    {
     "name": "stdout",
     "output_type": "stream",
     "text": [
      "WARNING:tensorflow:Layers in a Sequential model should only have a single input tensor. Received: inputs=<keras.layers.recurrent_v2.GRU object at 0x18f2a67d0>. Consider rewriting this model with the Functional API.\n",
      "WARNING:tensorflow:Layers in a Sequential model should only have a single input tensor. Received: inputs=<keras.layers.core.dense.Dense object at 0x18f3e0b90>. Consider rewriting this model with the Functional API.\n",
      "WARNING:tensorflow:Layers in a Sequential model should only have a single input tensor. Received: inputs=<keras.layers.core.dropout.Dropout object at 0x18f3e0b90>. Consider rewriting this model with the Functional API.\n",
      "WARNING:tensorflow:Layers in a Sequential model should only have a single input tensor. Received: inputs=<keras.layers.core.dense.Dense object at 0x18f3e0b90>. Consider rewriting this model with the Functional API.\n",
      "WARNING:tensorflow:Layers in a Sequential model should only have a single input tensor. Received: inputs=<keras.layers.core.dropout.Dropout object at 0x18f3e0b90>. Consider rewriting this model with the Functional API.\n",
      "WARNING:tensorflow:Layers in a Sequential model should only have a single input tensor. Received: inputs=<keras.layers.core.reshape.Reshape object at 0x18f3e0b90>. Consider rewriting this model with the Functional API.\n"
     ]
    },
    {
     "name": "stderr",
     "output_type": "stream",
     "text": [
      "🔮 Training Models - Fold #3 🔮: 100%|█████████████████| 1/1 [00:01<00:00,  1.31s/it]\n"
     ]
    }
   ],
   "source": [
    "tf_fore_tab_fold.run_jobs()"
   ]
  },
  {
   "cell_type": "code",
   "execution_count": 84,
   "id": "dcf2764f-77ff-4be8-a7d2-08f3770391da",
   "metadata": {
    "tags": []
   },
   "outputs": [],
   "source": [
    "prediction = tests.infer(tf_fore_tab_fold, include_label=False)"
   ]
  },
  {
   "cell_type": "code",
   "execution_count": 85,
   "id": "63f1889a-8a4b-419e-9510-f97226e0230e",
   "metadata": {
    "tags": []
   },
   "outputs": [
    {
     "data": {
      "text/plain": [
       "{'infer_0': array([[[8.00000191e+00, 8.85714245e+00, 6.37142868e+01, 7.14285707e+00,\n",
       "          1.01871429e+03],\n",
       "         [8.99998665e+00, 1.40000000e+01, 5.12500000e+01, 1.25000000e+01,\n",
       "          1.01700000e+03],\n",
       "         [1.00000019e+01, 1.09999990e+01, 6.20000000e+01, 7.40000010e+00,\n",
       "          1.01566669e+03],\n",
       "         ...,\n",
       "         [3.30000000e+01, 1.62857151e+01, 7.75714264e+01, 1.32857144e+00,\n",
       "          1.01714288e+03],\n",
       "         [3.40000000e+01, 1.80000000e+01, 6.55714264e+01, 1.85714304e+00,\n",
       "          1.01528571e+03],\n",
       "         [3.50000000e+01, 1.74285717e+01, 7.42857132e+01, 1.11142855e+01,\n",
       "          1.01457141e+03]],\n",
       " \n",
       "        [[2.20000019e+01, 9.49999905e+00, 7.96666641e+01, 3.08333302e+00,\n",
       "          1.02179999e+03],\n",
       "         [2.30000019e+01, 1.40000000e+01, 6.01666679e+01, 4.01666641e+00,\n",
       "          1.02050000e+03],\n",
       "         [2.40000019e+01, 1.38333330e+01, 6.06666679e+01, 6.16666651e+00,\n",
       "          1.02050000e+03],\n",
       "         ...,\n",
       "         [4.70000000e+01, 1.44285717e+01, 9.27142868e+01, 8.48571396e+00,\n",
       "          1.00800000e+03],\n",
       "         [4.80000000e+01, 1.36666660e+01, 9.00000000e+01, 1.14440915e-07,\n",
       "          1.01266669e+03],\n",
       "         [4.89999924e+01, 1.55999994e+01, 7.84000015e+01, 1.22200003e+01,\n",
       "          1.01620001e+03]],\n",
       " \n",
       "        [[3.60000000e+01, 1.66250000e+01, 9.23750000e+01, 9.72500038e+00,\n",
       "          1.01637500e+03],\n",
       "         [3.70000000e+01, 1.66666660e+01, 7.13333359e+01, 8.63333321e+00,\n",
       "          1.01866669e+03],\n",
       "         [3.80000000e+01, 1.55999994e+01, 5.94000015e+01, 1.07400007e+01,\n",
       "          1.01859998e+03],\n",
       "         ...,\n",
       "         [6.09999924e+01, 1.90000000e+01, 5.40000000e+01, 1.57249994e+01,\n",
       "          1.01625000e+03],\n",
       "         [6.20000000e+01, 1.93333340e+01, 6.28333321e+01, 8.63333321e+00,\n",
       "          1.01616669e+03],\n",
       "         [6.30000076e+01, 1.76000004e+01, 7.10000000e+01, 5.55999994e+00,\n",
       "          1.01579999e+03]],\n",
       " \n",
       "        ...,\n",
       " \n",
       "        [[5.90000000e+01, 2.33333340e+01, 5.16666679e+01, 3.91111088e+00,\n",
       "          1.01311108e+03],\n",
       "         [6.00000000e+01, 2.44615383e+01, 4.79230766e+01, 6.41538477e+00,\n",
       "          1.01292310e+03],\n",
       "         [6.09999924e+01, 2.37500000e+01, 5.42500000e+01, 5.92999983e+00,\n",
       "          1.01215002e+03],\n",
       "         ...,\n",
       "         [8.40000000e+01, 2.65000000e+01, 3.93750000e+01, 1.04250002e+01,\n",
       "          1.00987500e+03],\n",
       "         [8.50000000e+01, 2.91000004e+01, 3.70999985e+01, 1.75900002e+01,\n",
       "          1.01020001e+03],\n",
       "         [8.60000000e+01, 2.95000000e+01, 3.86250000e+01, 1.36500006e+01,\n",
       "          1.00950000e+03]],\n",
       " \n",
       "        [[7.30000000e+01, 1.80000000e+01, 5.63333321e+01, 4.52222204e+00,\n",
       "          1.01655554e+03],\n",
       "         [7.39999924e+01, 1.98750000e+01, 5.47500000e+01, 7.17499971e+00,\n",
       "          1.01412500e+03],\n",
       "         [7.50000000e+01, 2.40000000e+01, 4.92000008e+01, 5.55999994e+00,\n",
       "          1.01109998e+03],\n",
       "         ...,\n",
       "         [9.79999924e+01, 2.56250000e+01, 2.93750000e+01, 8.33749962e+00,\n",
       "          1.01037500e+03],\n",
       "         [9.90000000e+01, 2.71250000e+01, 2.11249981e+01, 1.41250000e+01,\n",
       "          1.01062500e+03],\n",
       "         [1.00000000e+02, 2.78571434e+01, 1.94285717e+01, 1.93142853e+01,\n",
       "          1.00857141e+03]],\n",
       " \n",
       "        [[8.70000000e+01, 2.98888893e+01, 4.06666679e+01, 8.84444427e+00,\n",
       "          1.00900000e+03],\n",
       "         [8.79999924e+01, 3.10000000e+01, 3.45000000e+01, 1.32000008e+01,\n",
       "          1.00712500e+03],\n",
       "         [8.90000000e+01, 2.92857132e+01, 3.68571434e+01, 1.05857143e+01,\n",
       "          1.00714288e+03],\n",
       "         ...,\n",
       "         [1.12000000e+02, 3.29000015e+01, 4.09000015e+01, 8.89000034e+00,\n",
       "          1.00159998e+03],\n",
       "         [1.13000000e+02, 3.28750000e+01, 2.74999981e+01, 9.96249962e+00,\n",
       "          1.00212500e+03],\n",
       "         [1.14000000e+02, 3.20000000e+01, 2.71428547e+01, 1.21571426e+01,\n",
       "          1.00414288e+03]]], dtype=float32)}"
      ]
     },
     "execution_count": 85,
     "metadata": {},
     "output_type": "execute_result"
    }
   ],
   "source": [
    "prediction.predictions"
   ]
  },
  {
   "cell_type": "markdown",
   "id": "2ffc9268-b241-4c86-9bb1-4e3cac119b7b",
   "metadata": {
    "tags": []
   },
   "source": [
    "---"
   ]
  },
  {
   "cell_type": "code",
   "execution_count": 86,
   "id": "5d25b985-d427-40de-afdf-29c4b6a09144",
   "metadata": {
    "tags": []
   },
   "outputs": [
    {
     "name": "stdout",
     "output_type": "stream",
     "text": [
      "\n",
      "└── Success - Fit FunctionTransformer(func=<function div255 at 0x111ab7710>,\n",
      "                    inverse_func=<function mult255 at 0x153aeff80>) on 50 columns.\n",
      "\n",
      "\n",
      "└── Success - All columns now have encoders associated with them.\n",
      "\n"
     ]
    }
   ],
   "source": [
    "tf_fore_img = tests.tf_fore_img.make_queue()"
   ]
  },
  {
   "cell_type": "code",
   "execution_count": 87,
   "id": "0521150c-ef0c-4d86-b846-16756a8c3283",
   "metadata": {
    "tags": []
   },
   "outputs": [
    {
     "name": "stderr",
     "output_type": "stream",
     "text": [
      "📦 Caching Splits 📦: 100%|███████████████████████████| 3/3 [00:00<00:00, 309.86it/s]\n",
      "🔮 Training Models 🔮: 100%|███████████████████████████| 1/1 [00:02<00:00,  2.15s/it]\n"
     ]
    }
   ],
   "source": [
    "tf_fore_img.run_jobs()"
   ]
  },
  {
   "cell_type": "code",
   "execution_count": 88,
   "id": "692429cc-74f7-4b6e-ac4d-4a32ad3d12fe",
   "metadata": {
    "tags": []
   },
   "outputs": [],
   "source": [
    "prediction = tests.infer(tf_fore_img, include_label=False)"
   ]
  },
  {
   "cell_type": "code",
   "execution_count": 89,
   "id": "9a980841-a962-4607-a19c-3f3d4827ddf3",
   "metadata": {
    "tags": []
   },
   "outputs": [
    {
     "data": {
      "text/plain": [
       "{'infer_0': array([[[ 958.83594,  415.445  ,  478.5216 , ...,    0.     ,\n",
       "           841.45984,  918.7173 ],\n",
       "         [1237.2549 , 1177.0543 , 1233.5789 , ...,    0.     ,\n",
       "          1146.1508 , 1178.7183 ],\n",
       "         [1326.6538 , 1260.8904 , 1172.1785 , ...,    0.     ,\n",
       "          1127.915  , 1206.8995 ],\n",
       "         ...,\n",
       "         [3131.5251 , 3088.4233 , 2739.9465 , ...,    0.     ,\n",
       "          2496.511  , 2499.503  ],\n",
       "         [3067.1177 , 3166.5022 , 2758.78   , ...,    0.     ,\n",
       "          2533.4978 , 2510.0903 ],\n",
       "         [1188.4147 , 3210.8472 , 2162.027  , ...,    0.     ,\n",
       "          1510.5474 , 1251.5765 ]],\n",
       " \n",
       "        [[1032.3469 ,  476.91394,  506.83878, ...,    0.     ,\n",
       "           834.5398 ,  946.66547],\n",
       "         [1303.6952 , 1279.1947 , 1294.3679 , ...,    0.     ,\n",
       "          1159.8486 , 1189.1028 ],\n",
       "         [1378.0981 , 1350.7986 , 1247.3073 , ...,    0.     ,\n",
       "          1156.3456 , 1213.3385 ],\n",
       "         ...,\n",
       "         [3138.251  , 3082.6611 , 2733.231  , ...,    0.     ,\n",
       "          2497.4614 , 2489.7405 ],\n",
       "         [3077.2239 , 3167.657  , 2753.2932 , ...,    0.     ,\n",
       "          2541.6135 , 2508.8867 ],\n",
       "         [1195.7285 , 3223.6646 , 2160.1802 , ...,    0.     ,\n",
       "          1518.9626 , 1254.4894 ]],\n",
       " \n",
       "        [[ 987.8976 ,  478.154  ,  470.17426, ...,    0.     ,\n",
       "           775.8998 ,  911.8777 ],\n",
       "         [1227.8031 , 1231.5575 , 1202.0876 , ...,    0.     ,\n",
       "          1080.3398 , 1125.1216 ],\n",
       "         [1280.0314 , 1286.6901 , 1174.6671 , ...,    0.     ,\n",
       "          1075.347  , 1134.4502 ],\n",
       "         ...,\n",
       "         [3130.3481 , 3069.7634 , 2715.9336 , ...,    0.     ,\n",
       "          2489.173  , 2470.4565 ],\n",
       "         [3070.206  , 3155.6912 , 2734.1575 , ...,    0.     ,\n",
       "          2537.5103 , 2494.6018 ],\n",
       "         [1194.69   , 3215.2173 , 2148.2734 , ...,    0.     ,\n",
       "          1515.3362 , 1247.6998 ]],\n",
       " \n",
       "        ...,\n",
       " \n",
       "        [[ 822.4653 ,  411.0272 ,  411.42667, ...,    0.     ,\n",
       "           649.0016 ,  750.21893],\n",
       "         [1053.4238 , 1042.2456 , 1036.0223 , ...,    0.     ,\n",
       "           924.0538 ,  936.48676],\n",
       "         [1115.9055 , 1094.6237 , 1010.98596, ...,    0.     ,\n",
       "           925.6873 ,  965.8252 ],\n",
       "         ...,\n",
       "         [3191.333  , 3147.3062 , 2792.9624 , ...,    0.     ,\n",
       "          2542.626  , 2545.3748 ],\n",
       "         [3125.4966 , 3226.3386 , 2813.376  , ...,    0.     ,\n",
       "          2581.9502 , 2557.289  ],\n",
       "         [1211.0654 , 3272.148  , 2203.3604 , ...,    0.     ,\n",
       "          1540.988  , 1275.9624 ]],\n",
       " \n",
       "        [[ 807.0989 ,  402.64404,  402.6461 , ...,    0.     ,\n",
       "           636.40656,  736.4082 ],\n",
       "         [1028.3743 , 1021.313  , 1013.5934 , ...,    0.     ,\n",
       "           902.2502 ,  915.73303],\n",
       "         [1087.3157 , 1070.2107 ,  987.4673 , ...,    0.     ,\n",
       "           902.0236 ,  941.1937 ],\n",
       "         ...,\n",
       "         [3150.6536 , 3117.5884 , 2763.1907 , ...,    0.     ,\n",
       "          2521.4246 , 2521.1353 ],\n",
       "         [3084.9924 , 3195.9387 , 2780.2356 , ...,    0.     ,\n",
       "          2558.194  , 2531.274  ],\n",
       "         [1191.5016 , 3238.282  , 2179.1875 , ...,    0.     ,\n",
       "          1524.0315 , 1260.4822 ]],\n",
       " \n",
       "        [[ 799.1261 ,  399.48822,  398.7573 , ...,    0.     ,\n",
       "           630.08795,  729.6467 ],\n",
       "         [1018.557  , 1011.77594, 1003.76495, ...,    0.     ,\n",
       "           893.4348 ,  907.25946],\n",
       "         [1076.7655 , 1060.0509 ,  978.4191 , ...,    0.     ,\n",
       "           893.44415,  932.6556 ],\n",
       "         ...,\n",
       "         [3196.7698 , 3164.5718 , 2791.3171 , ...,    0.     ,\n",
       "          2549.0916 , 2537.0718 ],\n",
       "         [3131.2866 , 3241.6626 , 2809.92   , ...,    0.     ,\n",
       "          2595.2546 , 2555.6963 ],\n",
       "         [1212.4471 , 3283.257  , 2205.581  , ...,    0.     ,\n",
       "          1547.1375 , 1271.2875 ]]], dtype=float32)}"
      ]
     },
     "execution_count": 89,
     "metadata": {},
     "output_type": "execute_result"
    }
   ],
   "source": [
    "prediction.predictions"
   ]
  },
  {
   "cell_type": "markdown",
   "id": "0426ffe7-95b6-47b5-a2da-98ba31161bde",
   "metadata": {
    "tags": []
   },
   "source": [
    "---"
   ]
  },
  {
   "cell_type": "code",
   "execution_count": 90,
   "id": "2f922591-1b4d-4790-ae1c-7ea7bb68a8b7",
   "metadata": {
    "tags": []
   },
   "outputs": [
    {
     "name": "stdout",
     "output_type": "stream",
     "text": [
      "\n",
      "└── Success - Fit FunctionTransformer(func=<function div255 at 0x111ab7710>,\n",
      "                    inverse_func=<function mult255 at 0x153aeff80>) on 50 columns.\n",
      "\n",
      "\n",
      "└── Success - All columns now have encoders associated with them.\n",
      "\n",
      "Warning - The number of samples <4> in your training Split\n",
      "is not evenly divisible by the `fold_count` <3> you specified.\n",
      "This can result in misleading performance metrics for the last Fold.\n",
      "\n"
     ]
    }
   ],
   "source": [
    "tf_fore_img_fold = tests.tf_fore_img.make_queue(fold_count=3)"
   ]
  },
  {
   "cell_type": "code",
   "execution_count": 91,
   "id": "74de53c4-d8d9-4b55-8fcb-00c33b7b6043",
   "metadata": {
    "tags": []
   },
   "outputs": [
    {
     "name": "stderr",
     "output_type": "stream",
     "text": [
      "📦 Caching Splits - Fold #1 📦: 100%|█████████████████| 4/4 [00:00<00:00, 337.15it/s]\n",
      "📦 Caching Splits - Fold #2 📦: 100%|█████████████████| 4/4 [00:00<00:00, 374.93it/s]\n",
      "📦 Caching Splits - Fold #3 📦: 100%|█████████████████| 4/4 [00:00<00:00, 382.37it/s]\n",
      "🔮 Training Models - Fold #1 🔮:   0%|                         | 0/1 [00:00<?, ?it/s]"
     ]
    },
    {
     "name": "stdout",
     "output_type": "stream",
     "text": [
      "WARNING:tensorflow:5 out of the last 29 calls to <function Model.make_predict_function.<locals>.predict_function at 0x18f39f290> triggered tf.function retracing. Tracing is expensive and the excessive number of tracings could be due to (1) creating @tf.function repeatedly in a loop, (2) passing tensors with different shapes, (3) passing Python objects instead of tensors. For (1), please define your @tf.function outside of the loop. For (2), @tf.function has experimental_relax_shapes=True option that relaxes argument shapes that can avoid unnecessary retracing. For (3), please refer to https://www.tensorflow.org/guide/function#controlling_retracing and https://www.tensorflow.org/api_docs/python/tf/function for  more details.\n"
     ]
    },
    {
     "name": "stderr",
     "output_type": "stream",
     "text": [
      "🔮 Training Models - Fold #1 🔮: 100%|█████████████████| 1/1 [00:02<00:00,  2.15s/it]\n",
      "🔮 Training Models - Fold #2 🔮:   0%|                         | 0/1 [00:00<?, ?it/s]"
     ]
    },
    {
     "name": "stdout",
     "output_type": "stream",
     "text": [
      "WARNING:tensorflow:5 out of the last 13 calls to <function Model.make_predict_function.<locals>.predict_function at 0x18e469f80> triggered tf.function retracing. Tracing is expensive and the excessive number of tracings could be due to (1) creating @tf.function repeatedly in a loop, (2) passing tensors with different shapes, (3) passing Python objects instead of tensors. For (1), please define your @tf.function outside of the loop. For (2), @tf.function has experimental_relax_shapes=True option that relaxes argument shapes that can avoid unnecessary retracing. For (3), please refer to https://www.tensorflow.org/guide/function#controlling_retracing and https://www.tensorflow.org/api_docs/python/tf/function for  more details.\n"
     ]
    },
    {
     "name": "stderr",
     "output_type": "stream",
     "text": [
      "🔮 Training Models - Fold #2 🔮: 100%|█████████████████| 1/1 [00:02<00:00,  2.29s/it]\n",
      "🔮 Training Models - Fold #3 🔮: 100%|█████████████████| 1/1 [00:02<00:00,  2.65s/it]\n"
     ]
    }
   ],
   "source": [
    "tf_fore_img_fold.run_jobs()"
   ]
  },
  {
   "cell_type": "code",
   "execution_count": 92,
   "id": "0a8522a2-d3c1-4dba-a700-69f270dbc22d",
   "metadata": {
    "tags": []
   },
   "outputs": [],
   "source": [
    "prediction = tests.infer(tf_fore_img_fold, include_label=False)"
   ]
  },
  {
   "cell_type": "code",
   "execution_count": 93,
   "id": "4be59ade-fbed-4e8a-a0d3-2bee617d5c1b",
   "metadata": {
    "tags": []
   },
   "outputs": [
    {
     "data": {
      "text/plain": [
       "{'infer_0': array([[[  2.1466222 ,   1.1224617 ,  59.705414  , ...,  54.187893  ,\n",
       "           41.06577   ,   0.        ],\n",
       "         [ 54.552338  ,  48.87301   ,  56.498207  , ...,  44.848534  ,\n",
       "            0.        ,   0.        ],\n",
       "         [ 54.24295   ,  48.460552  ,  51.71341   , ...,  45.104706  ,\n",
       "           18.116823  ,   0.3933878 ],\n",
       "         ...,\n",
       "         [155.41289   ,   0.        , 185.86124   , ..., 114.47828   ,\n",
       "            2.5280082 ,   0.        ],\n",
       "         [168.25781   ,   0.        , 183.60707   , ..., 117.43908   ,\n",
       "            6.610091  ,   0.        ],\n",
       "         [ 73.02896   ,  12.507557  , 138.39308   , ...,  28.498058  ,\n",
       "            0.63750696,   0.        ]],\n",
       " \n",
       "        [[  0.        ,   5.3748236 ,  67.44666   , ...,  42.37122   ,\n",
       "           42.46373   ,   0.        ],\n",
       "         [ 67.10992   ,  74.977196  , 119.36434   , ...,   0.        ,\n",
       "           28.29535   ,   0.        ],\n",
       "         [ 66.87712   ,  85.2433    , 129.69739   , ...,   9.444649  ,\n",
       "           44.50167   ,   5.4432735 ],\n",
       "         ...,\n",
       "         [158.1197    ,   0.        , 163.74031   , ...,  90.981636  ,\n",
       "           12.690686  ,   0.        ],\n",
       "         [158.74683   ,   0.        , 161.94077   , ...,  99.125694  ,\n",
       "           19.856546  ,   0.        ],\n",
       "         [ 78.33375   ,  12.741757  , 129.3207    , ...,  26.805832  ,\n",
       "           10.520639  ,   0.        ]],\n",
       " \n",
       "        [[ 59.51956   ,   0.        ,  91.459145  , ...,  34.800816  ,\n",
       "            4.5917773 ,   0.        ],\n",
       "         [137.56023   ,   3.0723257 , 104.92452   , ...,   3.5831375 ,\n",
       "           12.877076  ,   0.        ],\n",
       "         [142.61194   ,   3.2806284 , 101.44856   , ...,  18.848207  ,\n",
       "           15.511146  ,   0.        ],\n",
       "         ...,\n",
       "         [157.97827   ,   0.        , 163.26764   , ...,  84.18096   ,\n",
       "           11.301905  ,   0.        ],\n",
       "         [154.45656   ,   0.        , 159.32909   , ...,  92.474106  ,\n",
       "           14.880623  ,   0.        ],\n",
       "         [ 75.7901    ,  13.486082  , 128.50233   , ...,  26.095333  ,\n",
       "            5.5487056 ,   0.        ]],\n",
       " \n",
       "        ...,\n",
       " \n",
       "        [[  5.4628778 ,   0.        ,  13.921473  , ...,  16.11946   ,\n",
       "           13.932723  ,   0.        ],\n",
       "         [ 19.981306  ,   3.1381805 ,  15.776748  , ...,  17.676582  ,\n",
       "           13.947017  ,   0.        ],\n",
       "         [ 18.43379   ,   3.2834764 ,  15.289298  , ...,  18.808807  ,\n",
       "           15.577264  ,   0.        ],\n",
       "         ...,\n",
       "         [150.68208   ,   0.        , 166.71336   , ..., 103.71825   ,\n",
       "            3.5020554 ,   0.        ],\n",
       "         [158.66379   ,   0.        , 166.8356    , ..., 109.39818   ,\n",
       "           10.926903  ,   0.        ],\n",
       "         [ 74.00614   ,   8.591248  , 133.30286   , ...,  31.413137  ,\n",
       "            5.654735  ,   0.        ]],\n",
       " \n",
       "        [[  6.197502  ,   0.        ,  14.010094  , ...,  14.984688  ,\n",
       "           12.48432   ,   0.        ],\n",
       "         [ 20.22523   ,   3.5106878 ,  15.441845  , ...,  16.31156   ,\n",
       "           12.550985  ,   0.        ],\n",
       "         [ 18.876871  ,   3.1859221 ,  14.770476  , ...,  17.337929  ,\n",
       "           13.904292  ,   0.        ],\n",
       "         ...,\n",
       "         [149.92924   ,   0.        , 173.76627   , ..., 112.30375   ,\n",
       "            3.4161878 ,   0.        ],\n",
       "         [160.82362   ,   0.        , 173.31816   , ..., 117.07516   ,\n",
       "            9.064202  ,   0.        ],\n",
       "         [ 71.73935   ,  14.451283  , 134.82013   , ...,  30.202883  ,\n",
       "            0.19815177,   0.        ]],\n",
       " \n",
       "        [[  6.310976  ,   0.        ,  14.038771  , ...,  15.137451  ,\n",
       "           12.722697  ,   0.        ],\n",
       "         [ 20.458328  ,   3.4324963 ,  15.36679   , ...,  16.612127  ,\n",
       "           12.684928  ,   0.        ],\n",
       "         [ 19.140789  ,   3.0716193 ,  14.73581   , ...,  17.744905  ,\n",
       "           14.123     ,   0.        ],\n",
       "         ...,\n",
       "         [159.12782   ,   0.        , 176.93344   , ..., 102.476776  ,\n",
       "            9.249534  ,   0.        ],\n",
       "         [165.4204    ,   0.        , 172.93669   , ..., 107.46818   ,\n",
       "           12.563581  ,   0.        ],\n",
       "         [ 72.3724    ,   3.8283322 , 134.53474   , ...,  29.935911  ,\n",
       "            9.139072  ,   0.        ]]], dtype=float32)}"
      ]
     },
     "execution_count": 93,
     "metadata": {},
     "output_type": "execute_result"
    }
   ],
   "source": [
    "prediction.predictions"
   ]
  },
  {
   "cell_type": "markdown",
   "id": "76964846-eeb4-4d3f-afc7-c17907c409f2",
   "metadata": {
    "tags": []
   },
   "source": [
    "---"
   ]
  },
  {
   "cell_type": "markdown",
   "id": "03a218ac-eb18-4946-befe-7f6fa780de34",
   "metadata": {
    "tags": []
   },
   "source": [
    "# PyTorch"
   ]
  },
  {
   "cell_type": "code",
   "execution_count": 94,
   "id": "238f1fca-6005-47c8-b232-b218dd3e346e",
   "metadata": {
    "tags": []
   },
   "outputs": [
    {
     "name": "stdout",
     "output_type": "stream",
     "text": [
      "\n",
      "└── Success - Fit StandardScaler(copy=False) on the following columns:\n",
      "['sepal_length', 'sepal_width', 'petal_length', 'petal_width']\n",
      "\n",
      "\n",
      "└── Success - All columns now have encoders associated with them.\n",
      "\n"
     ]
    }
   ],
   "source": [
    "torch_multi_tab = tests.torch_multi_tab.make_queue()"
   ]
  },
  {
   "cell_type": "code",
   "execution_count": 95,
   "id": "8e20f321-4acc-4271-be1e-7cb2254b394c",
   "metadata": {
    "tags": []
   },
   "outputs": [
    {
     "name": "stderr",
     "output_type": "stream",
     "text": [
      "📦 Caching Splits 📦: 100%|███████████████████████████| 3/3 [00:00<00:00, 388.34it/s]\n",
      "🔮 Training Models 🔮: 100%|███████████████████████████| 1/1 [00:03<00:00,  3.26s/it]\n"
     ]
    }
   ],
   "source": [
    "torch_multi_tab.run_jobs()"
   ]
  },
  {
   "cell_type": "code",
   "execution_count": 96,
   "id": "48822315-dac0-4471-b8a7-c3c0e8419188",
   "metadata": {
    "tags": []
   },
   "outputs": [],
   "source": [
    "prediction = tests.infer(torch_multi_tab)"
   ]
  },
  {
   "cell_type": "code",
   "execution_count": 97,
   "id": "79550ecf-c81b-4a6c-8e47-4b5d46637ab8",
   "metadata": {
    "tags": []
   },
   "outputs": [
    {
     "data": {
      "text/plain": [
       "{'infer_0': {'accuracy': 0.48,\n",
       "  'f1': 0.386,\n",
       "  'loss': 1.059,\n",
       "  'precision': 0.323,\n",
       "  'recall': 0.48,\n",
       "  'roc_auc': 0.74}}"
      ]
     },
     "execution_count": 97,
     "metadata": {},
     "output_type": "execute_result"
    }
   ],
   "source": [
    "prediction.metrics"
   ]
  },
  {
   "cell_type": "code",
   "execution_count": 98,
   "id": "10001141-c4a4-4a89-98fa-677135894b38",
   "metadata": {
    "tags": []
   },
   "outputs": [
    {
     "data": {
      "text/plain": [
       "{'infer_0': array(['versicolor', 'versicolor', 'versicolor', 'versicolor',\n",
       "        'versicolor', 'versicolor', 'versicolor', 'versicolor',\n",
       "        'versicolor', 'versicolor', 'versicolor', 'versicolor',\n",
       "        'versicolor', 'versicolor', 'virginica', 'versicolor',\n",
       "        'versicolor', 'versicolor', 'versicolor', 'versicolor',\n",
       "        'versicolor', 'versicolor', 'versicolor', 'versicolor',\n",
       "        'versicolor', 'versicolor', 'versicolor', 'versicolor',\n",
       "        'versicolor', 'versicolor', 'versicolor', 'versicolor',\n",
       "        'versicolor', 'versicolor', 'versicolor', 'versicolor',\n",
       "        'versicolor', 'versicolor', 'versicolor', 'versicolor',\n",
       "        'versicolor', 'versicolor', 'versicolor', 'versicolor',\n",
       "        'versicolor', 'versicolor', 'versicolor', 'versicolor',\n",
       "        'versicolor', 'versicolor', 'virginica', 'virginica', 'virginica',\n",
       "        'versicolor', 'virginica', 'versicolor', 'virginica', 'versicolor',\n",
       "        'virginica', 'versicolor', 'versicolor', 'virginica', 'setosa',\n",
       "        'virginica', 'versicolor', 'virginica', 'versicolor', 'versicolor',\n",
       "        'virginica', 'versicolor', 'virginica', 'virginica', 'virginica',\n",
       "        'virginica', 'virginica', 'virginica', 'virginica', 'virginica',\n",
       "        'virginica', 'versicolor', 'versicolor', 'versicolor',\n",
       "        'versicolor', 'virginica', 'versicolor', 'virginica', 'virginica',\n",
       "        'virginica', 'versicolor', 'versicolor', 'versicolor', 'virginica',\n",
       "        'versicolor', 'versicolor', 'versicolor', 'versicolor',\n",
       "        'versicolor', 'virginica', 'versicolor', 'versicolor', 'virginica',\n",
       "        'virginica', 'virginica', 'virginica', 'virginica', 'virginica',\n",
       "        'versicolor', 'virginica', 'virginica', 'virginica', 'virginica',\n",
       "        'virginica', 'virginica', 'virginica', 'virginica', 'virginica',\n",
       "        'virginica', 'virginica', 'virginica', 'virginica', 'virginica',\n",
       "        'versicolor', 'virginica', 'virginica', 'virginica', 'virginica',\n",
       "        'virginica', 'virginica', 'virginica', 'virginica', 'virginica',\n",
       "        'virginica', 'virginica', 'virginica', 'virginica', 'virginica',\n",
       "        'virginica', 'virginica', 'virginica', 'virginica', 'virginica',\n",
       "        'virginica', 'virginica', 'virginica', 'virginica', 'virginica',\n",
       "        'virginica', 'virginica', 'virginica', 'virginica'], dtype=object)}"
      ]
     },
     "execution_count": 98,
     "metadata": {},
     "output_type": "execute_result"
    }
   ],
   "source": [
    "prediction.predictions"
   ]
  },
  {
   "cell_type": "code",
   "execution_count": 99,
   "id": "84def0ae-fb52-4196-87d2-d49c5bcd1b4f",
   "metadata": {
    "tags": []
   },
   "outputs": [],
   "source": [
    "prediction = tests.infer(torch_multi_tab, include_label=False)"
   ]
  },
  {
   "cell_type": "code",
   "execution_count": 100,
   "id": "4cd60eaf-d112-4e30-88d5-72b342e94bab",
   "metadata": {
    "tags": []
   },
   "outputs": [
    {
     "data": {
      "text/plain": [
       "{'infer_1': array(['versicolor', 'versicolor', 'versicolor', 'versicolor',\n",
       "        'versicolor', 'versicolor', 'versicolor', 'versicolor',\n",
       "        'versicolor', 'versicolor', 'versicolor', 'versicolor',\n",
       "        'versicolor', 'versicolor', 'virginica', 'versicolor',\n",
       "        'versicolor', 'versicolor', 'versicolor', 'versicolor',\n",
       "        'versicolor', 'versicolor', 'versicolor', 'versicolor',\n",
       "        'versicolor', 'versicolor', 'versicolor', 'versicolor',\n",
       "        'versicolor', 'versicolor', 'versicolor', 'versicolor',\n",
       "        'versicolor', 'versicolor', 'versicolor', 'versicolor',\n",
       "        'versicolor', 'versicolor', 'versicolor', 'versicolor',\n",
       "        'versicolor', 'versicolor', 'versicolor', 'versicolor',\n",
       "        'versicolor', 'versicolor', 'versicolor', 'versicolor',\n",
       "        'versicolor', 'versicolor', 'virginica', 'virginica', 'virginica',\n",
       "        'versicolor', 'virginica', 'versicolor', 'virginica', 'versicolor',\n",
       "        'virginica', 'versicolor', 'versicolor', 'virginica', 'setosa',\n",
       "        'virginica', 'versicolor', 'virginica', 'versicolor', 'versicolor',\n",
       "        'virginica', 'versicolor', 'virginica', 'virginica', 'virginica',\n",
       "        'virginica', 'virginica', 'virginica', 'virginica', 'virginica',\n",
       "        'virginica', 'versicolor', 'versicolor', 'versicolor',\n",
       "        'versicolor', 'virginica', 'versicolor', 'virginica', 'virginica',\n",
       "        'virginica', 'versicolor', 'versicolor', 'versicolor', 'virginica',\n",
       "        'versicolor', 'versicolor', 'versicolor', 'versicolor',\n",
       "        'versicolor', 'virginica', 'versicolor', 'versicolor', 'virginica',\n",
       "        'virginica', 'virginica', 'virginica', 'virginica', 'virginica',\n",
       "        'versicolor', 'virginica', 'virginica', 'virginica', 'virginica',\n",
       "        'virginica', 'virginica', 'virginica', 'virginica', 'virginica',\n",
       "        'virginica', 'virginica', 'virginica', 'virginica', 'virginica',\n",
       "        'versicolor', 'virginica', 'virginica', 'virginica', 'virginica',\n",
       "        'virginica', 'virginica', 'virginica', 'virginica', 'virginica',\n",
       "        'virginica', 'virginica', 'virginica', 'virginica', 'virginica',\n",
       "        'virginica', 'virginica', 'virginica', 'virginica', 'virginica',\n",
       "        'virginica', 'virginica', 'virginica', 'virginica', 'virginica',\n",
       "        'virginica', 'virginica', 'virginica', 'virginica'], dtype=object)}"
      ]
     },
     "execution_count": 100,
     "metadata": {},
     "output_type": "execute_result"
    }
   ],
   "source": [
    "prediction.predictions"
   ]
  },
  {
   "cell_type": "markdown",
   "id": "b6f120e5-c643-47a7-b61b-90a7ab8d038b",
   "metadata": {
    "tags": []
   },
   "source": [
    "---"
   ]
  },
  {
   "cell_type": "code",
   "execution_count": 101,
   "id": "2c21dae4-a2f3-49fa-8266-94d1fa23f277",
   "metadata": {
    "tags": []
   },
   "outputs": [
    {
     "name": "stdout",
     "output_type": "stream",
     "text": [
      "\n",
      "└── Success - Fit StandardScaler(copy=False) on the following columns:\n",
      "['sepal_length', 'sepal_width', 'petal_length', 'petal_width']\n",
      "\n",
      "\n",
      "└── Success - All columns now have encoders associated with them.\n",
      "\n"
     ]
    }
   ],
   "source": [
    "torch_multi_tab_fold = tests.torch_multi_tab.make_queue(fold_count=3)"
   ]
  },
  {
   "cell_type": "code",
   "execution_count": 102,
   "id": "aa770cb6-20c5-49c0-a195-b1deba2a1407",
   "metadata": {
    "tags": []
   },
   "outputs": [
    {
     "name": "stderr",
     "output_type": "stream",
     "text": [
      "📦 Caching Splits - Fold #1 📦: 100%|█████████████████| 4/4 [00:00<00:00, 413.44it/s]\n",
      "📦 Caching Splits - Fold #2 📦: 100%|█████████████████| 4/4 [00:00<00:00, 392.94it/s]\n",
      "📦 Caching Splits - Fold #3 📦: 100%|█████████████████| 4/4 [00:00<00:00, 385.16it/s]\n",
      "🔮 Training Models - Fold #1 🔮: 100%|█████████████████| 1/1 [00:22<00:00, 22.09s/it]\n",
      "🔮 Training Models - Fold #2 🔮: 100%|█████████████████| 1/1 [00:20<00:00, 20.89s/it]\n",
      "🔮 Training Models - Fold #3 🔮: 100%|█████████████████| 1/1 [00:20<00:00, 20.35s/it]\n"
     ]
    }
   ],
   "source": [
    "torch_multi_tab_fold.run_jobs()"
   ]
  },
  {
   "cell_type": "code",
   "execution_count": 103,
   "id": "136cd376-88c9-48bb-b202-606349451ac9",
   "metadata": {
    "tags": []
   },
   "outputs": [],
   "source": [
    "prediction = tests.infer(torch_multi_tab_fold)"
   ]
  },
  {
   "cell_type": "code",
   "execution_count": 104,
   "id": "8a1a8d77-91c0-4ca4-ae41-91c6c14f7d75",
   "metadata": {
    "tags": []
   },
   "outputs": [
    {
     "data": {
      "text/plain": [
       "{'infer_0': {'accuracy': 0.313,\n",
       "  'f1': 0.344,\n",
       "  'loss': 1.127,\n",
       "  'precision': 0.481,\n",
       "  'recall': 0.313,\n",
       "  'roc_auc': 0.508}}"
      ]
     },
     "execution_count": 104,
     "metadata": {},
     "output_type": "execute_result"
    }
   ],
   "source": [
    "prediction.metrics"
   ]
  },
  {
   "cell_type": "code",
   "execution_count": 105,
   "id": "e43dee9a-8e82-45eb-bc0e-c0167aa8ec7c",
   "metadata": {
    "tags": []
   },
   "outputs": [
    {
     "data": {
      "text/plain": [
       "{'infer_0': array([2, 2, 2, ..., 1, 1, 1])}"
      ]
     },
     "execution_count": 105,
     "metadata": {},
     "output_type": "execute_result"
    }
   ],
   "source": [
    "prediction.predictions"
   ]
  },
  {
   "cell_type": "code",
   "execution_count": 106,
   "id": "115e4c8d-edb0-48c2-86be-968149b2a5a9",
   "metadata": {
    "tags": []
   },
   "outputs": [],
   "source": [
    "prediction = tests.infer(torch_multi_tab_fold, include_label=False)"
   ]
  },
  {
   "cell_type": "code",
   "execution_count": 107,
   "id": "9b911fbb-4820-4752-9985-4e46652e7a01",
   "metadata": {
    "tags": []
   },
   "outputs": [
    {
     "data": {
      "text/plain": [
       "{'infer_1': array([2, 2, 2, ..., 1, 1, 1])}"
      ]
     },
     "execution_count": 107,
     "metadata": {},
     "output_type": "execute_result"
    }
   ],
   "source": [
    "prediction.predictions"
   ]
  },
  {
   "cell_type": "markdown",
   "id": "bf77842a-0466-406e-af04-6874f612f4da",
   "metadata": {
    "tags": []
   },
   "source": [
    "---"
   ]
  },
  {
   "cell_type": "code",
   "execution_count": 108,
   "id": "da7a5661-f54e-41a5-8a2e-81086b88ff57",
   "metadata": {
    "tags": []
   },
   "outputs": [
    {
     "name": "stdout",
     "output_type": "stream",
     "text": [
      "\n",
      "└── Success - Fit MinMaxScaler(copy=False) on the following columns:\n",
      "['crim', 'zn', 'indus', 'nox', 'rm', 'age', 'dis', 'ptratio', 'lstat']\n",
      "\n",
      "\n",
      "└── Info - The following columns have not yet been encoded:\n",
      "['rad', 'chas', 'tax']\n",
      "\n",
      "\n",
      "└── Success - Fit OrdinalEncoder() on the following columns:\n",
      "['rad', 'chas', 'tax']\n",
      "\n",
      "\n",
      "└── Success - All columns now have encoders associated with them.\n",
      "\n"
     ]
    }
   ],
   "source": [
    "torch_reg_tab = tests.torch_reg_tab.make_queue()"
   ]
  },
  {
   "cell_type": "code",
   "execution_count": 109,
   "id": "c9ce5e6d-3af0-4103-9a16-15bf19dc673a",
   "metadata": {
    "tags": []
   },
   "outputs": [
    {
     "name": "stderr",
     "output_type": "stream",
     "text": [
      "📦 Caching Splits 📦: 100%|███████████████████████████| 3/3 [00:00<00:00, 346.29it/s]\n",
      "🔮 Training Models 🔮: 100%|███████████████████████████| 2/2 [00:02<00:00,  1.34s/it]\n"
     ]
    }
   ],
   "source": [
    "torch_reg_tab.run_jobs()"
   ]
  },
  {
   "cell_type": "code",
   "execution_count": 110,
   "id": "d965a347-2dd5-41f4-b28b-a251f356a0ff",
   "metadata": {
    "tags": []
   },
   "outputs": [],
   "source": [
    "prediction = tests.infer(torch_reg_tab)"
   ]
  },
  {
   "cell_type": "code",
   "execution_count": 111,
   "id": "62ac6e5c-347a-445f-9509-d3ba62dbd3d9",
   "metadata": {
    "tags": []
   },
   "outputs": [
    {
     "data": {
      "text/plain": [
       "{'infer_0': {'explained_variance': 0.093,\n",
       "  'loss': 0.69,\n",
       "  'mse': 0.88,\n",
       "  'r2': 0.093}}"
      ]
     },
     "execution_count": 111,
     "metadata": {},
     "output_type": "execute_result"
    }
   ],
   "source": [
    "prediction.metrics"
   ]
  },
  {
   "cell_type": "code",
   "execution_count": 112,
   "id": "cac46c92-6a74-4393-af6e-6be41d97f907",
   "metadata": {
    "tags": []
   },
   "outputs": [
    {
     "data": {
      "text/plain": [
       "{'infer_0': array([21.55916 , 22.842024, 22.83893 , 23.19033 , 23.185526, 23.191856,\n",
       "        21.330168, 21.323057, 21.328033, 21.326021, 21.32203 , 21.326296,\n",
       "        21.337805, 21.365156, 21.354841, 21.368956, 21.378674, 21.360752,\n",
       "        21.384562, 21.36637 , 21.362822, 21.3569  , 21.357746, 21.358486,\n",
       "        21.357151, 21.364637, 21.358913, 21.359005, 21.348068, 21.348661,\n",
       "        21.364424, 21.350187, 21.371414, 21.360683, 21.357128, 22.010727,\n",
       "        22.016325, 22.02449 , 22.02981 , 22.611153, 22.60766 , 22.985075,\n",
       "        22.991053, 22.991636, 22.976873, 22.985723, 22.987213, 22.959013,\n",
       "        22.96902 , 22.974842, 22.81189 , 22.79834 , 22.813097, 22.821156,\n",
       "        20.084457, 23.056664, 21.262518, 22.431963, 21.864178, 21.859264,\n",
       "        21.853682, 21.838428, 21.841543, 21.851646, 23.244755, 20.950167,\n",
       "        20.972002, 20.900959, 20.920622, 20.906763, 21.424984, 21.427479,\n",
       "        21.427279, 21.42767 , 20.518566, 20.53665 , 20.550325, 20.539562,\n",
       "        20.545994, 20.538158, 21.911776, 21.895313, 21.918304, 21.912945,\n",
       "        22.62961 , 22.62072 , 22.63791 , 22.628138, 22.213846, 22.225143,\n",
       "        22.233593, 22.229305, 22.24034 , 22.254694, 22.231874, 22.119318,\n",
       "        22.121593, 22.091326, 22.11406 , 22.107248, 20.633854, 20.627956,\n",
       "        20.64065 , 20.648108, 20.646511, 20.65744 , 20.659355, 20.647299,\n",
       "        20.645777, 20.65127 , 20.6357  , 20.317026, 20.337816, 20.339092,\n",
       "        20.321978, 20.33509 , 20.320637, 20.324154, 20.328089, 20.323715,\n",
       "        23.43729 , 23.427814, 23.426022, 23.430035, 23.425297, 23.426186,\n",
       "        23.435102, 20.19486 , 20.186901, 20.197134, 20.183228, 20.184057,\n",
       "        20.181902, 20.191668, 20.197018, 20.190529, 20.191433, 20.185413,\n",
       "        20.200226, 20.193344, 20.19935 , 20.22808 , 20.504982, 20.48108 ,\n",
       "        20.488424, 20.476553, 20.465843, 20.487835, 20.48335 , 20.471008,\n",
       "        20.457111, 20.463087, 20.483652, 20.463625, 20.48136 , 20.47695 ,\n",
       "        20.466572, 20.439997, 20.452404, 20.445812, 20.468288, 20.428205,\n",
       "        20.44973 , 20.44454 , 20.460905, 20.456146, 20.428823, 20.45689 ,\n",
       "        20.456316, 20.455814, 20.46535 , 20.46308 , 21.572508, 21.561705,\n",
       "        21.57617 , 21.583471, 21.584925, 21.56621 , 21.560106, 23.362734,\n",
       "        23.341274, 23.374043, 23.342276, 23.348228, 23.368494, 23.372303,\n",
       "        23.354168, 20.517118, 20.513662, 20.511883, 20.511368, 20.51604 ,\n",
       "        20.507492, 22.329039, 22.32635 , 22.475695, 21.117353, 21.126638,\n",
       "        21.120914, 20.372698, 20.370245, 20.747482, 20.716085, 23.10618 ,\n",
       "        23.104057, 22.090055, 22.069128, 22.069504, 22.081566, 22.074394,\n",
       "        22.067608, 22.08024 , 22.088543, 22.078249, 22.113886, 22.075382,\n",
       "        22.141634, 22.104713, 22.124216, 22.115065, 21.37714 , 21.3867  ,\n",
       "        21.381124, 21.378864, 21.367643, 21.362082, 21.366507, 21.374964,\n",
       "        21.38777 , 21.395454, 21.388243, 21.37346 , 21.366987, 21.369385,\n",
       "        21.385035, 21.389282, 21.382942, 21.374903, 21.540556, 21.527775,\n",
       "        21.520636, 21.524942, 21.526945, 21.545732, 21.218231, 21.222649,\n",
       "        21.221031, 21.20993 , 21.214846, 21.216106, 21.218761, 21.217373,\n",
       "        21.212122, 21.196695, 21.177626, 21.186256, 22.765024, 22.318552,\n",
       "        22.329687, 22.334925, 22.341713, 22.332504, 22.319992, 22.334648,\n",
       "        22.335764, 22.371832, 22.345709, 22.328817, 22.34324 , 23.164185,\n",
       "        23.16368 , 23.1687  , 23.14338 , 23.142742, 22.541185, 22.523687,\n",
       "        22.527733, 22.543058, 22.536482, 23.261112, 23.230236, 23.2556  ,\n",
       "        23.25054 , 23.354824, 21.82539 , 21.523783, 22.957603, 21.65225 ,\n",
       "        21.644066, 21.653831, 22.715427, 22.712204, 22.721468, 21.695957,\n",
       "        21.68626 , 21.68151 , 21.673573, 21.683527, 20.696392, 20.68359 ,\n",
       "        20.704187, 21.248497, 21.255236, 21.249006, 23.20003 , 23.200243,\n",
       "        23.181547, 23.190052, 21.448101, 21.462566, 21.494211, 21.46825 ,\n",
       "        21.457441, 21.45467 , 21.450497, 21.466694, 21.467093, 21.472103,\n",
       "        21.46252 , 21.471214, 21.73681 , 21.736168, 21.74263 , 21.73647 ,\n",
       "        21.742367, 21.754034, 21.748823, 21.747902, 20.249346, 20.237309,\n",
       "        20.249836, 21.474863, 21.468058, 23.089115, 23.089651, 23.096252,\n",
       "        23.093634, 23.086441, 23.09557 , 23.092936, 23.085848, 21.84689 ,\n",
       "        20.149973, 20.664034, 20.650171, 20.699203, 20.706226, 20.770668,\n",
       "        21.99222 , 20.903059, 20.9127  , 20.350182, 20.352207, 23.514944,\n",
       "        21.129087, 21.121134, 20.374695, 20.362846, 20.361269, 20.337772,\n",
       "        20.330545, 20.34265 , 20.346779, 20.369328, 20.32238 , 20.355947,\n",
       "        20.354239, 20.371794, 20.343273, 20.348297, 20.344109, 20.34168 ,\n",
       "        20.361847, 20.389355, 20.403193, 20.339855, 20.3579  , 20.353182,\n",
       "        20.365547, 20.363419, 20.37543 , 20.358318, 20.368057, 20.36893 ,\n",
       "        20.388487, 20.382082, 20.38784 , 20.385403, 20.385277, 20.365063,\n",
       "        20.356417, 20.349323, 20.375399, 20.347885, 20.355478, 20.350357,\n",
       "        20.352133, 20.360512, 20.389795, 20.366135, 20.374922, 20.358751,\n",
       "        20.356337, 20.369614, 20.380922, 20.389105, 20.384542, 20.353205,\n",
       "        20.371845, 20.353762, 20.365576, 20.357798, 20.396658, 20.37672 ,\n",
       "        20.409773, 20.372183, 20.358326, 20.377447, 20.386812, 20.34713 ,\n",
       "        20.349213, 20.350813, 20.352537, 20.359148, 20.349932, 20.368093,\n",
       "        20.34135 , 20.3541  , 20.351032, 20.3611  , 20.349009, 20.35129 ,\n",
       "        20.33364 , 20.344292, 20.351604, 20.357079, 20.352053, 20.368666,\n",
       "        20.37559 , 20.36366 , 20.365532, 20.354202, 20.35115 , 20.35357 ,\n",
       "        20.365416, 20.359133, 20.350777, 20.351473, 20.355618, 20.35402 ,\n",
       "        20.345503, 20.348686, 20.34903 , 20.34141 , 20.349874, 20.345634,\n",
       "        20.35313 , 20.348906, 20.345766, 20.3454  , 20.3429  , 20.34226 ,\n",
       "        20.341124, 20.33591 , 20.334972, 20.331306, 20.350416, 20.360674,\n",
       "        20.352537, 20.341858, 20.347885, 20.345238, 20.337378, 20.323465,\n",
       "        20.363478, 20.364357, 20.351004, 20.376148, 20.356153, 20.345985,\n",
       "        20.331732, 20.325788, 20.322395, 20.325546, 20.328259, 20.324638,\n",
       "        20.34606 , 20.329863, 20.054155, 20.065617, 20.076889, 20.052269,\n",
       "        20.038887, 20.63294 , 20.629194, 20.633615, 20.65669 , 20.64174 ,\n",
       "        20.635056, 20.645517, 20.642103, 22.182571, 22.18401 , 22.164402,\n",
       "        22.167814, 22.182076], dtype=float32)}"
      ]
     },
     "execution_count": 112,
     "metadata": {},
     "output_type": "execute_result"
    }
   ],
   "source": [
    "prediction.predictions"
   ]
  },
  {
   "cell_type": "code",
   "execution_count": 113,
   "id": "4b99e996-4d5f-432e-a46f-b2b0ca21aeba",
   "metadata": {
    "tags": []
   },
   "outputs": [],
   "source": [
    "prediction = tests.infer(torch_reg_tab, include_label=False)"
   ]
  },
  {
   "cell_type": "code",
   "execution_count": 114,
   "id": "fed4503f-08b4-4931-8c75-232f0c18f289",
   "metadata": {
    "tags": []
   },
   "outputs": [
    {
     "data": {
      "text/plain": [
       "{'infer_1': array([21.55916 , 22.842024, 22.83893 , 23.19033 , 23.185526, 23.191856,\n",
       "        21.330168, 21.323057, 21.328033, 21.326021, 21.32203 , 21.326296,\n",
       "        21.337805, 21.365156, 21.354841, 21.368956, 21.378674, 21.360752,\n",
       "        21.384562, 21.36637 , 21.362822, 21.3569  , 21.357746, 21.358486,\n",
       "        21.357151, 21.364637, 21.358913, 21.359005, 21.348068, 21.348661,\n",
       "        21.364424, 21.350187, 21.371414, 21.360683, 21.357128, 22.010727,\n",
       "        22.016325, 22.02449 , 22.02981 , 22.611153, 22.60766 , 22.985075,\n",
       "        22.991053, 22.991636, 22.976873, 22.985723, 22.987213, 22.959013,\n",
       "        22.96902 , 22.974842, 22.81189 , 22.79834 , 22.813097, 22.821156,\n",
       "        20.084457, 23.056664, 21.262518, 22.431963, 21.864178, 21.859264,\n",
       "        21.853682, 21.838428, 21.841543, 21.851646, 23.244755, 20.950167,\n",
       "        20.972002, 20.900959, 20.920622, 20.906763, 21.424984, 21.427479,\n",
       "        21.427279, 21.42767 , 20.518566, 20.53665 , 20.550325, 20.539562,\n",
       "        20.545994, 20.538158, 21.911776, 21.895313, 21.918304, 21.912945,\n",
       "        22.62961 , 22.62072 , 22.63791 , 22.628138, 22.213846, 22.225143,\n",
       "        22.233593, 22.229305, 22.24034 , 22.254694, 22.231874, 22.119318,\n",
       "        22.121593, 22.091326, 22.11406 , 22.107248, 20.633854, 20.627956,\n",
       "        20.64065 , 20.648108, 20.646511, 20.65744 , 20.659355, 20.647299,\n",
       "        20.645777, 20.65127 , 20.6357  , 20.317026, 20.337816, 20.339092,\n",
       "        20.321978, 20.33509 , 20.320637, 20.324154, 20.328089, 20.323715,\n",
       "        23.43729 , 23.427814, 23.426022, 23.430035, 23.425297, 23.426186,\n",
       "        23.435102, 20.19486 , 20.186901, 20.197134, 20.183228, 20.184057,\n",
       "        20.181902, 20.191668, 20.197018, 20.190529, 20.191433, 20.185413,\n",
       "        20.200226, 20.193344, 20.19935 , 20.22808 , 20.504982, 20.48108 ,\n",
       "        20.488424, 20.476553, 20.465843, 20.487835, 20.48335 , 20.471008,\n",
       "        20.457111, 20.463087, 20.483652, 20.463625, 20.48136 , 20.47695 ,\n",
       "        20.466572, 20.439997, 20.452404, 20.445812, 20.468288, 20.428205,\n",
       "        20.44973 , 20.44454 , 20.460905, 20.456146, 20.428823, 20.45689 ,\n",
       "        20.456316, 20.455814, 20.46535 , 20.46308 , 21.572508, 21.561705,\n",
       "        21.57617 , 21.583471, 21.584925, 21.56621 , 21.560106, 23.362734,\n",
       "        23.341274, 23.374043, 23.342276, 23.348228, 23.368494, 23.372303,\n",
       "        23.354168, 20.517118, 20.513662, 20.511883, 20.511368, 20.51604 ,\n",
       "        20.507492, 22.329039, 22.32635 , 22.475695, 21.117353, 21.126638,\n",
       "        21.120914, 20.372698, 20.370245, 20.747482, 20.716085, 23.10618 ,\n",
       "        23.104057, 22.090055, 22.069128, 22.069504, 22.081566, 22.074394,\n",
       "        22.067608, 22.08024 , 22.088543, 22.078249, 22.113886, 22.075382,\n",
       "        22.141634, 22.104713, 22.124216, 22.115065, 21.37714 , 21.3867  ,\n",
       "        21.381124, 21.378864, 21.367643, 21.362082, 21.366507, 21.374964,\n",
       "        21.38777 , 21.395454, 21.388243, 21.37346 , 21.366987, 21.369385,\n",
       "        21.385035, 21.389282, 21.382942, 21.374903, 21.540556, 21.527775,\n",
       "        21.520636, 21.524942, 21.526945, 21.545732, 21.218231, 21.222649,\n",
       "        21.221031, 21.20993 , 21.214846, 21.216106, 21.218761, 21.217373,\n",
       "        21.212122, 21.196695, 21.177626, 21.186256, 22.765024, 22.318552,\n",
       "        22.329687, 22.334925, 22.341713, 22.332504, 22.319992, 22.334648,\n",
       "        22.335764, 22.371832, 22.345709, 22.328817, 22.34324 , 23.164185,\n",
       "        23.16368 , 23.1687  , 23.14338 , 23.142742, 22.541185, 22.523687,\n",
       "        22.527733, 22.543058, 22.536482, 23.261112, 23.230236, 23.2556  ,\n",
       "        23.25054 , 23.354824, 21.82539 , 21.523783, 22.957603, 21.65225 ,\n",
       "        21.644066, 21.653831, 22.715427, 22.712204, 22.721468, 21.695957,\n",
       "        21.68626 , 21.68151 , 21.673573, 21.683527, 20.696392, 20.68359 ,\n",
       "        20.704187, 21.248497, 21.255236, 21.249006, 23.20003 , 23.200243,\n",
       "        23.181547, 23.190052, 21.448101, 21.462566, 21.494211, 21.46825 ,\n",
       "        21.457441, 21.45467 , 21.450497, 21.466694, 21.467093, 21.472103,\n",
       "        21.46252 , 21.471214, 21.73681 , 21.736168, 21.74263 , 21.73647 ,\n",
       "        21.742367, 21.754034, 21.748823, 21.747902, 20.249346, 20.237309,\n",
       "        20.249836, 21.474863, 21.468058, 23.089115, 23.089651, 23.096252,\n",
       "        23.093634, 23.086441, 23.09557 , 23.092936, 23.085848, 21.84689 ,\n",
       "        20.149973, 20.664034, 20.650171, 20.699203, 20.706226, 20.770668,\n",
       "        21.99222 , 20.903059, 20.9127  , 20.350182, 20.352207, 23.514944,\n",
       "        21.129087, 21.121134, 20.374695, 20.362846, 20.361269, 20.337772,\n",
       "        20.330545, 20.34265 , 20.346779, 20.369328, 20.32238 , 20.355947,\n",
       "        20.354239, 20.371794, 20.343273, 20.348297, 20.344109, 20.34168 ,\n",
       "        20.361847, 20.389355, 20.403193, 20.339855, 20.3579  , 20.353182,\n",
       "        20.365547, 20.363419, 20.37543 , 20.358318, 20.368057, 20.36893 ,\n",
       "        20.388487, 20.382082, 20.38784 , 20.385403, 20.385277, 20.365063,\n",
       "        20.356417, 20.349323, 20.375399, 20.347885, 20.355478, 20.350357,\n",
       "        20.352133, 20.360512, 20.389795, 20.366135, 20.374922, 20.358751,\n",
       "        20.356337, 20.369614, 20.380922, 20.389105, 20.384542, 20.353205,\n",
       "        20.371845, 20.353762, 20.365576, 20.357798, 20.396658, 20.37672 ,\n",
       "        20.409773, 20.372183, 20.358326, 20.377447, 20.386812, 20.34713 ,\n",
       "        20.349213, 20.350813, 20.352537, 20.359148, 20.349932, 20.368093,\n",
       "        20.34135 , 20.3541  , 20.351032, 20.3611  , 20.349009, 20.35129 ,\n",
       "        20.33364 , 20.344292, 20.351604, 20.357079, 20.352053, 20.368666,\n",
       "        20.37559 , 20.36366 , 20.365532, 20.354202, 20.35115 , 20.35357 ,\n",
       "        20.365416, 20.359133, 20.350777, 20.351473, 20.355618, 20.35402 ,\n",
       "        20.345503, 20.348686, 20.34903 , 20.34141 , 20.349874, 20.345634,\n",
       "        20.35313 , 20.348906, 20.345766, 20.3454  , 20.3429  , 20.34226 ,\n",
       "        20.341124, 20.33591 , 20.334972, 20.331306, 20.350416, 20.360674,\n",
       "        20.352537, 20.341858, 20.347885, 20.345238, 20.337378, 20.323465,\n",
       "        20.363478, 20.364357, 20.351004, 20.376148, 20.356153, 20.345985,\n",
       "        20.331732, 20.325788, 20.322395, 20.325546, 20.328259, 20.324638,\n",
       "        20.34606 , 20.329863, 20.054155, 20.065617, 20.076889, 20.052269,\n",
       "        20.038887, 20.63294 , 20.629194, 20.633615, 20.65669 , 20.64174 ,\n",
       "        20.635056, 20.645517, 20.642103, 22.182571, 22.18401 , 22.164402,\n",
       "        22.167814, 22.182076], dtype=float32)}"
      ]
     },
     "execution_count": 114,
     "metadata": {},
     "output_type": "execute_result"
    }
   ],
   "source": [
    "prediction.predictions"
   ]
  },
  {
   "cell_type": "markdown",
   "id": "c1c17335-21ef-44f4-b2d1-0e845ef4efdb",
   "metadata": {
    "tags": []
   },
   "source": [
    "---"
   ]
  },
  {
   "cell_type": "code",
   "execution_count": 115,
   "id": "2542f216-b99e-4fb2-a4a8-08cca285a5e0",
   "metadata": {
    "tags": []
   },
   "outputs": [
    {
     "name": "stdout",
     "output_type": "stream",
     "text": [
      "\n",
      "└── Success - Fit MinMaxScaler(copy=False) on the following columns:\n",
      "['crim', 'zn', 'indus', 'nox', 'rm', 'age', 'dis', 'ptratio', 'lstat']\n",
      "\n",
      "\n",
      "└── Info - The following columns have not yet been encoded:\n",
      "['rad', 'chas', 'tax']\n",
      "\n",
      "\n",
      "└── Success - Fit OrdinalEncoder() on the following columns:\n",
      "['rad', 'chas', 'tax']\n",
      "\n",
      "\n",
      "└── Success - All columns now have encoders associated with them.\n",
      "\n",
      "Warning - The number of samples <343> in your training Split\n",
      "is not evenly divisible by the `fold_count` <3> you specified.\n",
      "This can result in misleading performance metrics for the last Fold.\n",
      "\n"
     ]
    }
   ],
   "source": [
    "torch_reg_tab_fold = tests.torch_reg_tab.make_queue(fold_count=3)"
   ]
  },
  {
   "cell_type": "code",
   "execution_count": 116,
   "id": "bd730076-aee5-4747-963b-4580d11a0f7d",
   "metadata": {
    "tags": []
   },
   "outputs": [
    {
     "name": "stderr",
     "output_type": "stream",
     "text": [
      "📦 Caching Splits - Fold #1 📦: 100%|█████████████████| 4/4 [00:00<00:00, 419.60it/s]\n",
      "📦 Caching Splits - Fold #2 📦: 100%|█████████████████| 4/4 [00:00<00:00, 400.16it/s]\n",
      "📦 Caching Splits - Fold #3 📦: 100%|█████████████████| 4/4 [00:00<00:00, 378.53it/s]\n",
      "🔮 Training Models - Fold #1 🔮: 100%|█████████████████| 2/2 [00:01<00:00,  1.04it/s]\n",
      "🔮 Training Models - Fold #2 🔮: 100%|█████████████████| 2/2 [00:01<00:00,  1.05it/s]\n",
      "🔮 Training Models - Fold #3 🔮: 100%|█████████████████| 2/2 [00:01<00:00,  1.06it/s]\n"
     ]
    }
   ],
   "source": [
    "torch_reg_tab_fold.run_jobs()"
   ]
  },
  {
   "cell_type": "code",
   "execution_count": 117,
   "id": "d88139ce-8b3f-4c91-a311-e42509576eb2",
   "metadata": {
    "tags": []
   },
   "outputs": [],
   "source": [
    "prediction = tests.infer(torch_reg_tab_fold)"
   ]
  },
  {
   "cell_type": "code",
   "execution_count": 118,
   "id": "84ce8381-2e3b-451c-976f-71782b38503d",
   "metadata": {
    "tags": []
   },
   "outputs": [
    {
     "data": {
      "text/plain": [
       "{'infer_0': {'explained_variance': 0.047,\n",
       "  'loss': 0.672,\n",
       "  'mse': 0.828,\n",
       "  'r2': 0.047}}"
      ]
     },
     "execution_count": 118,
     "metadata": {},
     "output_type": "execute_result"
    }
   ],
   "source": [
    "prediction.metrics"
   ]
  },
  {
   "cell_type": "code",
   "execution_count": 119,
   "id": "088990ba-b5d3-4096-aee5-5b10e05b7754",
   "metadata": {
    "tags": []
   },
   "outputs": [
    {
     "data": {
      "text/plain": [
       "{'infer_0': array([21.814472, 22.039988, 22.047714, 22.092562, 22.0922  , 22.088648,\n",
       "        21.686558, 21.676712, 21.671959, 21.68075 , 21.679667, 21.681116,\n",
       "        21.69804 , 21.75428 , 21.74601 , 21.755144, 21.76553 , 21.746113,\n",
       "        21.7589  , 21.748062, 21.738842, 21.742565, 21.743223, 21.739721,\n",
       "        21.74203 , 21.743635, 21.74335 , 21.744669, 21.744192, 21.746964,\n",
       "        21.742271, 21.739508, 21.747856, 21.739721, 21.741158, 21.888391,\n",
       "        21.888847, 21.89384 , 21.895897, 22.017586, 22.021526, 22.069782,\n",
       "        22.06596 , 22.06556 , 22.062035, 22.058569, 22.057339, 22.054459,\n",
       "        22.045183, 22.055769, 22.040638, 22.042126, 22.048077, 22.044065,\n",
       "        21.153162, 22.08899 , 21.707409, 21.978975, 21.845337, 21.843088,\n",
       "        21.84291 , 21.840544, 21.845161, 21.847433, 22.1032  , 21.542723,\n",
       "        21.539986, 21.547792, 21.545826, 21.547216, 21.792786, 21.788614,\n",
       "        21.791508, 21.791904, 21.336935, 21.340284, 21.34283 , 21.341225,\n",
       "        21.341919, 21.339321, 21.886711, 21.879318, 21.884819, 21.881514,\n",
       "        22.01612 , 22.017704, 22.011705, 22.012127, 21.941786, 21.945076,\n",
       "        21.939249, 21.938349, 21.94934 , 21.95315 , 21.943712, 21.924927,\n",
       "        21.91947 , 21.931814, 21.935457, 21.929144, 21.394081, 21.393219,\n",
       "        21.394472, 21.395552, 21.395329, 21.396088, 21.396944, 21.396349,\n",
       "        21.395632, 21.396711, 21.39519 , 21.124058, 21.125946, 21.126299,\n",
       "        21.124165, 21.125631, 21.124   , 21.123497, 21.125135, 21.124065,\n",
       "        22.100658, 22.101229, 22.09873 , 22.093748, 22.098286, 22.100317,\n",
       "        22.091005, 21.194235, 21.194933, 21.19463 , 21.194458, 21.194342,\n",
       "        21.194118, 21.193745, 21.194126, 21.194933, 21.194557, 21.194876,\n",
       "        21.19607 , 21.19548 , 21.19777 , 21.200209, 21.274542, 21.296946,\n",
       "        21.297667, 21.297827, 21.292252, 21.297617, 21.297197, 21.29446 ,\n",
       "        21.291311, 21.290388, 21.266943, 21.291824, 21.269121, 21.269352,\n",
       "        21.291573, 21.292568, 21.292858, 21.288408, 21.270002, 21.291615,\n",
       "        21.269468, 21.270378, 21.294561, 21.294144, 21.292887, 21.294685,\n",
       "        21.294989, 21.295025, 21.295689, 21.294807, 21.785122, 21.790098,\n",
       "        21.78951 , 21.797249, 21.793518, 21.792536, 21.793621, 22.09673 ,\n",
       "        22.099154, 22.089449, 22.097382, 22.094223, 22.085142, 22.089182,\n",
       "        22.10223 , 21.300888, 21.298037, 21.29982 , 21.296352, 21.296505,\n",
       "        21.295855, 21.967285, 21.965174, 21.993618, 21.674831, 21.674679,\n",
       "        21.674738, 21.32992 , 21.33021 , 21.551863, 21.5582  , 22.084793,\n",
       "        22.086164, 21.915144, 21.912275, 21.905342, 21.873047, 21.86036 ,\n",
       "        21.865658, 21.862103, 21.871677, 21.91577 , 21.911451, 21.913132,\n",
       "        21.87507 , 21.910425, 21.867365, 21.87176 , 21.55222 , 21.551798,\n",
       "        21.553633, 21.584585, 21.591974, 21.592339, 21.587729, 21.586956,\n",
       "        21.614119, 21.60598 , 21.588793, 21.58988 , 21.595358, 21.596022,\n",
       "        21.55474 , 21.59115 , 21.553772, 21.592295, 21.786867, 21.782127,\n",
       "        21.782053, 21.773767, 21.779669, 21.78913 , 21.517466, 21.51761 ,\n",
       "        21.524698, 21.51967 , 21.523993, 21.528963, 21.528193, 21.52857 ,\n",
       "        21.533651, 21.539986, 21.684612, 21.686792, 22.042606, 21.945719,\n",
       "        21.937109, 21.93539 , 21.93972 , 21.94028 , 21.944191, 21.937588,\n",
       "        21.938038, 21.935678, 21.937315, 21.950493, 21.951141, 22.045034,\n",
       "        22.075872, 22.081007, 22.080956, 22.058538, 21.968113, 22.003256,\n",
       "        21.968002, 21.97043 , 22.002443, 22.101534, 22.107065, 22.10481 ,\n",
       "        22.076916, 22.046085, 21.869278, 21.79938 , 22.043835, 21.815935,\n",
       "        21.81573 , 21.81705 , 22.036545, 22.037647, 22.035606, 21.841726,\n",
       "        21.838522, 21.843815, 21.841059, 21.835323, 21.392046, 21.393639,\n",
       "        21.394423, 21.544193, 21.546844, 21.550676, 22.09896 , 22.093332,\n",
       "        22.095304, 22.09314 , 21.785686, 21.781906, 21.78104 , 21.785797,\n",
       "        21.779337, 21.783169, 21.784079, 21.781834, 21.780607, 21.78189 ,\n",
       "        21.785532, 21.785759, 21.843096, 21.842602, 21.84205 , 21.835455,\n",
       "        21.844809, 21.848772, 21.846691, 21.842838, 21.22141 , 21.22023 ,\n",
       "        21.221361, 21.789833, 21.790627, 22.08875 , 22.088285, 22.08546 ,\n",
       "        22.081541, 22.081547, 22.0826  , 22.081295, 22.080688, 21.880806,\n",
       "        21.356953, 21.38102 , 21.378021, 21.51204 , 21.511908, 21.477642,\n",
       "        21.898556, 21.640793, 21.640661, 21.243126, 21.241331, 22.145456,\n",
       "        21.57604 , 21.577383, 20.909592, 20.90697 , 20.90475 , 20.928177,\n",
       "        20.928398, 20.930588, 20.929604, 20.906925, 20.907396, 20.92618 ,\n",
       "        20.930182, 20.931837, 20.93028 , 20.908508, 20.909008, 20.933691,\n",
       "        20.907433, 20.938364, 20.9387  , 20.935553, 20.936268, 20.93658 ,\n",
       "        20.936937, 20.936638, 20.938437, 20.936438, 20.935389, 20.93561 ,\n",
       "        20.935032, 20.937151, 20.936438, 20.935854, 20.936682, 20.934134,\n",
       "        20.932964, 20.930973, 20.934769, 20.932556, 20.933113, 20.934505,\n",
       "        20.93444 , 20.934448, 20.938694, 20.933784, 20.937565, 20.93581 ,\n",
       "        20.935581, 20.93424 , 20.93551 , 20.938543, 20.935112, 20.9334  ,\n",
       "        20.936937, 20.937351, 20.935497, 20.937408, 20.938665, 20.93606 ,\n",
       "        20.939457, 20.938215, 20.935867, 20.935019, 20.938293, 20.932371,\n",
       "        20.933834, 20.932522, 20.931616, 20.93374 , 20.92849 , 20.93544 ,\n",
       "        20.926222, 20.931536, 20.931644, 20.935568, 20.9331  , 20.935625,\n",
       "        20.928982, 20.931423, 20.932606, 20.934782, 20.933313, 20.93638 ,\n",
       "        20.936024, 20.933634, 20.933983, 20.933998, 20.933184, 20.934397,\n",
       "        20.934683, 20.934912, 20.93317 , 20.932806, 20.933706, 20.93419 ,\n",
       "        20.932941, 20.93377 , 20.932114, 20.934597, 20.933462, 20.931608,\n",
       "        20.931293, 20.929396, 20.930187, 20.929682, 20.931814, 20.930687,\n",
       "        20.929502, 20.929853, 20.925829, 20.921114, 20.930502, 20.934383,\n",
       "        20.928862, 20.924238, 20.930952, 20.931665, 20.928846, 20.927505,\n",
       "        20.933355, 20.93621 , 20.934063, 20.935638, 20.934483, 20.932215,\n",
       "        20.924852, 20.92717 , 20.927834, 20.91755 , 20.91914 , 20.921059,\n",
       "        20.929018, 20.921963, 21.127684, 21.12979 , 21.13147 , 21.12828 ,\n",
       "        21.127829, 21.317724, 21.318022, 21.318333, 21.32167 , 21.318693,\n",
       "        21.31875 , 21.319416, 21.319366, 21.938643, 21.934616, 21.93851 ,\n",
       "        21.93792 , 21.934359], dtype=float32)}"
      ]
     },
     "execution_count": 119,
     "metadata": {},
     "output_type": "execute_result"
    }
   ],
   "source": [
    "prediction.predictions"
   ]
  },
  {
   "cell_type": "code",
   "execution_count": 120,
   "id": "06db154c-b749-4ec7-b983-14a31a5b5695",
   "metadata": {
    "tags": []
   },
   "outputs": [],
   "source": [
    "prediction = tests.infer(torch_reg_tab_fold, include_label=False)"
   ]
  },
  {
   "cell_type": "code",
   "execution_count": 121,
   "id": "6987ae1e-ef04-4ffa-a5bd-86a536d1829e",
   "metadata": {
    "tags": []
   },
   "outputs": [
    {
     "data": {
      "text/plain": [
       "{'infer_1': array([21.814472, 22.039988, 22.047714, 22.092562, 22.0922  , 22.088648,\n",
       "        21.686558, 21.676712, 21.671959, 21.68075 , 21.679667, 21.681116,\n",
       "        21.69804 , 21.75428 , 21.74601 , 21.755144, 21.76553 , 21.746113,\n",
       "        21.7589  , 21.748062, 21.738842, 21.742565, 21.743223, 21.739721,\n",
       "        21.74203 , 21.743635, 21.74335 , 21.744669, 21.744192, 21.746964,\n",
       "        21.742271, 21.739508, 21.747856, 21.739721, 21.741158, 21.888391,\n",
       "        21.888847, 21.89384 , 21.895897, 22.017586, 22.021526, 22.069782,\n",
       "        22.06596 , 22.06556 , 22.062035, 22.058569, 22.057339, 22.054459,\n",
       "        22.045183, 22.055769, 22.040638, 22.042126, 22.048077, 22.044065,\n",
       "        21.153162, 22.08899 , 21.707409, 21.978975, 21.845337, 21.843088,\n",
       "        21.84291 , 21.840544, 21.845161, 21.847433, 22.1032  , 21.542723,\n",
       "        21.539986, 21.547792, 21.545826, 21.547216, 21.792786, 21.788614,\n",
       "        21.791508, 21.791904, 21.336935, 21.340284, 21.34283 , 21.341225,\n",
       "        21.341919, 21.339321, 21.886711, 21.879318, 21.884819, 21.881514,\n",
       "        22.01612 , 22.017704, 22.011705, 22.012127, 21.941786, 21.945076,\n",
       "        21.939249, 21.938349, 21.94934 , 21.95315 , 21.943712, 21.924927,\n",
       "        21.91947 , 21.931814, 21.935457, 21.929144, 21.394081, 21.393219,\n",
       "        21.394472, 21.395552, 21.395329, 21.396088, 21.396944, 21.396349,\n",
       "        21.395632, 21.396711, 21.39519 , 21.124058, 21.125946, 21.126299,\n",
       "        21.124165, 21.125631, 21.124   , 21.123497, 21.125135, 21.124065,\n",
       "        22.100658, 22.101229, 22.09873 , 22.093748, 22.098286, 22.100317,\n",
       "        22.091005, 21.194235, 21.194933, 21.19463 , 21.194458, 21.194342,\n",
       "        21.194118, 21.193745, 21.194126, 21.194933, 21.194557, 21.194876,\n",
       "        21.19607 , 21.19548 , 21.19777 , 21.200209, 21.274542, 21.296946,\n",
       "        21.297667, 21.297827, 21.292252, 21.297617, 21.297197, 21.29446 ,\n",
       "        21.291311, 21.290388, 21.266943, 21.291824, 21.269121, 21.269352,\n",
       "        21.291573, 21.292568, 21.292858, 21.288408, 21.270002, 21.291615,\n",
       "        21.269468, 21.270378, 21.294561, 21.294144, 21.292887, 21.294685,\n",
       "        21.294989, 21.295025, 21.295689, 21.294807, 21.785122, 21.790098,\n",
       "        21.78951 , 21.797249, 21.793518, 21.792536, 21.793621, 22.09673 ,\n",
       "        22.099154, 22.089449, 22.097382, 22.094223, 22.085142, 22.089182,\n",
       "        22.10223 , 21.300888, 21.298037, 21.29982 , 21.296352, 21.296505,\n",
       "        21.295855, 21.967285, 21.965174, 21.993618, 21.674831, 21.674679,\n",
       "        21.674738, 21.32992 , 21.33021 , 21.551863, 21.5582  , 22.084793,\n",
       "        22.086164, 21.915144, 21.912275, 21.905342, 21.873047, 21.86036 ,\n",
       "        21.865658, 21.862103, 21.871677, 21.91577 , 21.911451, 21.913132,\n",
       "        21.87507 , 21.910425, 21.867365, 21.87176 , 21.55222 , 21.551798,\n",
       "        21.553633, 21.584585, 21.591974, 21.592339, 21.587729, 21.586956,\n",
       "        21.614119, 21.60598 , 21.588793, 21.58988 , 21.595358, 21.596022,\n",
       "        21.55474 , 21.59115 , 21.553772, 21.592295, 21.786867, 21.782127,\n",
       "        21.782053, 21.773767, 21.779669, 21.78913 , 21.517466, 21.51761 ,\n",
       "        21.524698, 21.51967 , 21.523993, 21.528963, 21.528193, 21.52857 ,\n",
       "        21.533651, 21.539986, 21.684612, 21.686792, 22.042606, 21.945719,\n",
       "        21.937109, 21.93539 , 21.93972 , 21.94028 , 21.944191, 21.937588,\n",
       "        21.938038, 21.935678, 21.937315, 21.950493, 21.951141, 22.045034,\n",
       "        22.075872, 22.081007, 22.080956, 22.058538, 21.968113, 22.003256,\n",
       "        21.968002, 21.97043 , 22.002443, 22.101534, 22.107065, 22.10481 ,\n",
       "        22.076916, 22.046085, 21.869278, 21.79938 , 22.043835, 21.815935,\n",
       "        21.81573 , 21.81705 , 22.036545, 22.037647, 22.035606, 21.841726,\n",
       "        21.838522, 21.843815, 21.841059, 21.835323, 21.392046, 21.393639,\n",
       "        21.394423, 21.544193, 21.546844, 21.550676, 22.09896 , 22.093332,\n",
       "        22.095304, 22.09314 , 21.785686, 21.781906, 21.78104 , 21.785797,\n",
       "        21.779337, 21.783169, 21.784079, 21.781834, 21.780607, 21.78189 ,\n",
       "        21.785532, 21.785759, 21.843096, 21.842602, 21.84205 , 21.835455,\n",
       "        21.844809, 21.848772, 21.846691, 21.842838, 21.22141 , 21.22023 ,\n",
       "        21.221361, 21.789833, 21.790627, 22.08875 , 22.088285, 22.08546 ,\n",
       "        22.081541, 22.081547, 22.0826  , 22.081295, 22.080688, 21.880806,\n",
       "        21.356953, 21.38102 , 21.378021, 21.51204 , 21.511908, 21.477642,\n",
       "        21.898556, 21.640793, 21.640661, 21.243126, 21.241331, 22.145456,\n",
       "        21.57604 , 21.577383, 20.909592, 20.90697 , 20.90475 , 20.928177,\n",
       "        20.928398, 20.930588, 20.929604, 20.906925, 20.907396, 20.92618 ,\n",
       "        20.930182, 20.931837, 20.93028 , 20.908508, 20.909008, 20.933691,\n",
       "        20.907433, 20.938364, 20.9387  , 20.935553, 20.936268, 20.93658 ,\n",
       "        20.936937, 20.936638, 20.938437, 20.936438, 20.935389, 20.93561 ,\n",
       "        20.935032, 20.937151, 20.936438, 20.935854, 20.936682, 20.934134,\n",
       "        20.932964, 20.930973, 20.934769, 20.932556, 20.933113, 20.934505,\n",
       "        20.93444 , 20.934448, 20.938694, 20.933784, 20.937565, 20.93581 ,\n",
       "        20.935581, 20.93424 , 20.93551 , 20.938543, 20.935112, 20.9334  ,\n",
       "        20.936937, 20.937351, 20.935497, 20.937408, 20.938665, 20.93606 ,\n",
       "        20.939457, 20.938215, 20.935867, 20.935019, 20.938293, 20.932371,\n",
       "        20.933834, 20.932522, 20.931616, 20.93374 , 20.92849 , 20.93544 ,\n",
       "        20.926222, 20.931536, 20.931644, 20.935568, 20.9331  , 20.935625,\n",
       "        20.928982, 20.931423, 20.932606, 20.934782, 20.933313, 20.93638 ,\n",
       "        20.936024, 20.933634, 20.933983, 20.933998, 20.933184, 20.934397,\n",
       "        20.934683, 20.934912, 20.93317 , 20.932806, 20.933706, 20.93419 ,\n",
       "        20.932941, 20.93377 , 20.932114, 20.934597, 20.933462, 20.931608,\n",
       "        20.931293, 20.929396, 20.930187, 20.929682, 20.931814, 20.930687,\n",
       "        20.929502, 20.929853, 20.925829, 20.921114, 20.930502, 20.934383,\n",
       "        20.928862, 20.924238, 20.930952, 20.931665, 20.928846, 20.927505,\n",
       "        20.933355, 20.93621 , 20.934063, 20.935638, 20.934483, 20.932215,\n",
       "        20.924852, 20.92717 , 20.927834, 20.91755 , 20.91914 , 20.921059,\n",
       "        20.929018, 20.921963, 21.127684, 21.12979 , 21.13147 , 21.12828 ,\n",
       "        21.127829, 21.317724, 21.318022, 21.318333, 21.32167 , 21.318693,\n",
       "        21.31875 , 21.319416, 21.319366, 21.938643, 21.934616, 21.93851 ,\n",
       "        21.93792 , 21.934359], dtype=float32)}"
      ]
     },
     "execution_count": 121,
     "metadata": {},
     "output_type": "execute_result"
    }
   ],
   "source": [
    "prediction.predictions"
   ]
  },
  {
   "cell_type": "markdown",
   "id": "3e4b2b0e-1085-464c-9153-ae4e41d2138d",
   "metadata": {
    "tags": []
   },
   "source": [
    "---"
   ]
  },
  {
   "cell_type": "code",
   "execution_count": 122,
   "id": "923f15da-ba0e-41c3-8bf2-b57b03c2f5df",
   "metadata": {
    "tags": []
   },
   "outputs": [
    {
     "name": "stdout",
     "output_type": "stream",
     "text": [
      "\n",
      "└── Success - Fit PowerTransformer(copy=False) on 60 columns.\n",
      "\n",
      "\n",
      "└── Success - All columns now have encoders associated with them.\n",
      "\n"
     ]
    }
   ],
   "source": [
    "torch_bin_tab = tests.torch_bin_tab.make_queue()"
   ]
  },
  {
   "cell_type": "code",
   "execution_count": 123,
   "id": "9798db53-a1ab-4781-ab30-19bf845310e5",
   "metadata": {
    "tags": []
   },
   "outputs": [
    {
     "name": "stderr",
     "output_type": "stream",
     "text": [
      "📦 Caching Splits 📦: 100%|███████████████████████████| 3/3 [00:00<00:00, 339.29it/s]\n",
      "🔮 Training Models 🔮: 100%|███████████████████████████| 1/1 [00:00<00:00,  1.49it/s]\n"
     ]
    }
   ],
   "source": [
    "torch_bin_tab.run_jobs()"
   ]
  },
  {
   "cell_type": "code",
   "execution_count": 124,
   "id": "1800b5ac-8863-4eb2-91af-e02a5c455a51",
   "metadata": {
    "tags": []
   },
   "outputs": [],
   "source": [
    "prediction = tests.infer(torch_bin_tab)"
   ]
  },
  {
   "cell_type": "code",
   "execution_count": 125,
   "id": "02dcbc6b-185b-4b08-87c7-b3004b127d36",
   "metadata": {
    "tags": []
   },
   "outputs": [
    {
     "data": {
      "text/plain": [
       "{'infer_0': {'accuracy': 0.596,\n",
       "  'f1': 0.528,\n",
       "  'loss': 0.687,\n",
       "  'precision': 0.58,\n",
       "  'recall': 0.485,\n",
       "  'roc_auc': 0.627}}"
      ]
     },
     "execution_count": 125,
     "metadata": {},
     "output_type": "execute_result"
    }
   ],
   "source": [
    "prediction.metrics"
   ]
  },
  {
   "cell_type": "code",
   "execution_count": 126,
   "id": "126f13a9-d0cb-4f24-8925-ff8e891a4b24",
   "metadata": {
    "tags": []
   },
   "outputs": [
    {
     "data": {
      "text/plain": [
       "{'infer_0': array(['M', 'R', 'M', 'R', 'R', 'R', 'M', 'R', 'R', 'M', 'R', 'R', 'M',\n",
       "        'M', 'M', 'M', 'M', 'M', 'R', 'M', 'M', 'M', 'R', 'R', 'R', 'M',\n",
       "        'R', 'M', 'M', 'M', 'R', 'M', 'R', 'M', 'R', 'M', 'M', 'R', 'M',\n",
       "        'M', 'M', 'M', 'R', 'M', 'M', 'M', 'M', 'M', 'M', 'R', 'R', 'R',\n",
       "        'R', 'R', 'R', 'R', 'R', 'M', 'M', 'R', 'M', 'M', 'M', 'R', 'R',\n",
       "        'R', 'R', 'R', 'R', 'M', 'M', 'R', 'M', 'R', 'M', 'M', 'M', 'M',\n",
       "        'R', 'R', 'R', 'M', 'M', 'R', 'R', 'R', 'R', 'M', 'M', 'R', 'M',\n",
       "        'M', 'R', 'R', 'R', 'M', 'R', 'M', 'M', 'R', 'M', 'M', 'M', 'R',\n",
       "        'M', 'M', 'M', 'M', 'M', 'M', 'R', 'M', 'M', 'M', 'M', 'M', 'M',\n",
       "        'M', 'M', 'M', 'R', 'M', 'M', 'M', 'M', 'M', 'M', 'M', 'M', 'M',\n",
       "        'M', 'M', 'M', 'M', 'M', 'M', 'M', 'M', 'M', 'M', 'R', 'M', 'M',\n",
       "        'M', 'R', 'M', 'M', 'M', 'R', 'R', 'M', 'M', 'M', 'R', 'R', 'M',\n",
       "        'R', 'R', 'R', 'R', 'R', 'R', 'R', 'M', 'M', 'M', 'R', 'R', 'M',\n",
       "        'M', 'M', 'M', 'M', 'R', 'M', 'M', 'M', 'M', 'R', 'M', 'M', 'R',\n",
       "        'M', 'R', 'M', 'M', 'R', 'R', 'R', 'R', 'R', 'R', 'R', 'R', 'R',\n",
       "        'M', 'M', 'M', 'M', 'M', 'M', 'M', 'M', 'M', 'R', 'M', 'R', 'M'],\n",
       "       dtype='<U1')}"
      ]
     },
     "execution_count": 126,
     "metadata": {},
     "output_type": "execute_result"
    }
   ],
   "source": [
    "prediction.predictions"
   ]
  },
  {
   "cell_type": "code",
   "execution_count": 127,
   "id": "0c8bfc21-a7d2-47d0-8b2e-d35a22fb282e",
   "metadata": {
    "tags": []
   },
   "outputs": [],
   "source": [
    "prediction = tests.infer(torch_bin_tab, include_label=False)"
   ]
  },
  {
   "cell_type": "code",
   "execution_count": 128,
   "id": "b0eb1dbc-f248-46f5-8d3d-17d39da1be3c",
   "metadata": {
    "tags": []
   },
   "outputs": [
    {
     "data": {
      "text/plain": [
       "{'infer_1': array(['M', 'R', 'M', 'R', 'R', 'R', 'M', 'R', 'R', 'M', 'R', 'R', 'M',\n",
       "        'M', 'M', 'M', 'M', 'M', 'R', 'M', 'M', 'M', 'R', 'R', 'R', 'M',\n",
       "        'R', 'M', 'M', 'M', 'R', 'M', 'R', 'M', 'R', 'M', 'M', 'R', 'M',\n",
       "        'M', 'M', 'M', 'R', 'M', 'M', 'M', 'M', 'M', 'M', 'R', 'R', 'R',\n",
       "        'R', 'R', 'R', 'R', 'R', 'M', 'M', 'R', 'M', 'M', 'M', 'R', 'R',\n",
       "        'R', 'R', 'R', 'R', 'M', 'M', 'R', 'M', 'R', 'M', 'M', 'M', 'M',\n",
       "        'R', 'R', 'R', 'M', 'M', 'R', 'R', 'R', 'R', 'M', 'M', 'R', 'M',\n",
       "        'M', 'R', 'R', 'R', 'M', 'R', 'M', 'M', 'R', 'M', 'M', 'M', 'R',\n",
       "        'M', 'M', 'M', 'M', 'M', 'M', 'R', 'M', 'M', 'M', 'M', 'M', 'M',\n",
       "        'M', 'M', 'M', 'R', 'M', 'M', 'M', 'M', 'M', 'M', 'M', 'M', 'M',\n",
       "        'M', 'M', 'M', 'M', 'M', 'M', 'M', 'M', 'M', 'M', 'R', 'M', 'M',\n",
       "        'M', 'R', 'M', 'M', 'M', 'R', 'R', 'M', 'M', 'M', 'R', 'R', 'M',\n",
       "        'R', 'R', 'R', 'R', 'R', 'R', 'R', 'M', 'M', 'M', 'R', 'R', 'M',\n",
       "        'M', 'M', 'M', 'M', 'R', 'M', 'M', 'M', 'M', 'R', 'M', 'M', 'R',\n",
       "        'M', 'R', 'M', 'M', 'R', 'R', 'R', 'R', 'R', 'R', 'R', 'R', 'R',\n",
       "        'M', 'M', 'M', 'M', 'M', 'M', 'M', 'M', 'M', 'R', 'M', 'R', 'M'],\n",
       "       dtype='<U1')}"
      ]
     },
     "execution_count": 128,
     "metadata": {},
     "output_type": "execute_result"
    }
   ],
   "source": [
    "prediction.predictions"
   ]
  },
  {
   "cell_type": "markdown",
   "id": "2ff87335-ac8c-48f8-b8f6-e1c56f92249f",
   "metadata": {
    "tags": []
   },
   "source": [
    "---"
   ]
  },
  {
   "cell_type": "code",
   "execution_count": 129,
   "id": "478bd1ad-2f20-403f-9730-54d04507e444",
   "metadata": {
    "tags": []
   },
   "outputs": [
    {
     "name": "stdout",
     "output_type": "stream",
     "text": [
      "\n",
      "└── Success - Fit PowerTransformer(copy=False) on 60 columns.\n",
      "\n",
      "\n",
      "└── Success - All columns now have encoders associated with them.\n",
      "\n"
     ]
    }
   ],
   "source": [
    "torch_bin_tab_fold = tests.torch_bin_tab.make_queue(fold_count=3)"
   ]
  },
  {
   "cell_type": "code",
   "execution_count": 130,
   "id": "2d493c37-fc52-4596-b232-b7c0421216b1",
   "metadata": {
    "tags": []
   },
   "outputs": [
    {
     "name": "stderr",
     "output_type": "stream",
     "text": [
      "📦 Caching Splits - Fold #1 📦: 100%|█████████████████| 4/4 [00:00<00:00, 404.86it/s]\n",
      "📦 Caching Splits - Fold #2 📦: 100%|█████████████████| 4/4 [00:00<00:00, 379.46it/s]\n",
      "📦 Caching Splits - Fold #3 📦: 100%|█████████████████| 4/4 [00:00<00:00, 394.56it/s]\n",
      "🔮 Training Models - Fold #1 🔮: 100%|█████████████████| 1/1 [00:00<00:00,  1.75it/s]\n",
      "🔮 Training Models - Fold #2 🔮: 100%|█████████████████| 1/1 [00:00<00:00,  1.75it/s]\n",
      "🔮 Training Models - Fold #3 🔮: 100%|█████████████████| 1/1 [00:00<00:00,  1.78it/s]\n"
     ]
    }
   ],
   "source": [
    "torch_bin_tab_fold.run_jobs()"
   ]
  },
  {
   "cell_type": "code",
   "execution_count": 131,
   "id": "87a8f14b-d1c4-4baf-8e2a-9303dc5a654a",
   "metadata": {
    "tags": []
   },
   "outputs": [],
   "source": [
    "prediction = tests.infer(torch_bin_tab_fold)"
   ]
  },
  {
   "cell_type": "code",
   "execution_count": 132,
   "id": "91f7f2c5-6f84-489b-ab81-1ad9aa11c520",
   "metadata": {
    "tags": []
   },
   "outputs": [
    {
     "data": {
      "text/plain": [
       "{'infer_0': {'accuracy': 0.524,\n",
       "  'f1': 0.517,\n",
       "  'loss': 0.743,\n",
       "  'precision': 0.491,\n",
       "  'recall': 0.546,\n",
       "  'roc_auc': 0.515}}"
      ]
     },
     "execution_count": 132,
     "metadata": {},
     "output_type": "execute_result"
    }
   ],
   "source": [
    "prediction.metrics"
   ]
  },
  {
   "cell_type": "code",
   "execution_count": 133,
   "id": "87383854-7d8e-42ae-ab6c-36e1d91aa721",
   "metadata": {
    "tags": []
   },
   "outputs": [
    {
     "data": {
      "text/plain": [
       "{'infer_0': array(['R', 'M', 'M', 'M', 'M', 'M', 'M', 'R', 'M', 'R', 'R', 'R', 'R',\n",
       "        'M', 'R', 'R', 'M', 'M', 'M', 'M', 'M', 'M', 'M', 'M', 'M', 'M',\n",
       "        'M', 'R', 'R', 'R', 'R', 'R', 'M', 'M', 'R', 'M', 'R', 'R', 'M',\n",
       "        'R', 'R', 'R', 'R', 'R', 'M', 'R', 'R', 'R', 'R', 'R', 'M', 'R',\n",
       "        'R', 'R', 'R', 'R', 'R', 'R', 'R', 'R', 'R', 'R', 'R', 'M', 'M',\n",
       "        'M', 'M', 'M', 'M', 'M', 'R', 'M', 'R', 'R', 'R', 'R', 'R', 'R',\n",
       "        'M', 'R', 'M', 'M', 'M', 'M', 'M', 'R', 'R', 'R', 'M', 'R', 'R',\n",
       "        'M', 'M', 'R', 'M', 'R', 'M', 'M', 'M', 'M', 'M', 'M', 'M', 'M',\n",
       "        'M', 'R', 'M', 'R', 'R', 'R', 'R', 'M', 'R', 'M', 'M', 'M', 'R',\n",
       "        'R', 'R', 'R', 'R', 'R', 'R', 'R', 'M', 'R', 'M', 'R', 'M', 'M',\n",
       "        'M', 'M', 'M', 'M', 'M', 'M', 'M', 'R', 'R', 'M', 'M', 'M', 'R',\n",
       "        'M', 'M', 'M', 'M', 'R', 'M', 'M', 'R', 'R', 'M', 'M', 'M', 'M',\n",
       "        'R', 'R', 'M', 'M', 'R', 'R', 'M', 'R', 'M', 'R', 'M', 'R', 'R',\n",
       "        'R', 'R', 'R', 'M', 'M', 'R', 'R', 'R', 'R', 'R', 'M', 'R', 'M',\n",
       "        'R', 'R', 'R', 'R', 'M', 'M', 'M', 'M', 'M', 'M', 'R', 'M', 'R',\n",
       "        'R', 'R', 'M', 'M', 'R', 'R', 'M', 'R', 'R', 'R', 'R', 'R', 'R'],\n",
       "       dtype='<U1')}"
      ]
     },
     "execution_count": 133,
     "metadata": {},
     "output_type": "execute_result"
    }
   ],
   "source": [
    "prediction.predictions"
   ]
  },
  {
   "cell_type": "code",
   "execution_count": 134,
   "id": "e90136f7-5d4d-40c4-a948-d6cbb39bea30",
   "metadata": {
    "tags": []
   },
   "outputs": [],
   "source": [
    "prediction = tests.infer(torch_bin_tab_fold, include_label=False)"
   ]
  },
  {
   "cell_type": "code",
   "execution_count": 135,
   "id": "24fa755e-f2e8-43cd-be45-bf94f6385a96",
   "metadata": {
    "tags": []
   },
   "outputs": [
    {
     "data": {
      "text/plain": [
       "{'infer_1': array(['R', 'M', 'M', 'M', 'M', 'M', 'M', 'R', 'M', 'R', 'R', 'R', 'R',\n",
       "        'M', 'R', 'R', 'M', 'M', 'M', 'M', 'M', 'M', 'M', 'M', 'M', 'M',\n",
       "        'M', 'R', 'R', 'R', 'R', 'R', 'M', 'M', 'R', 'M', 'R', 'R', 'M',\n",
       "        'R', 'R', 'R', 'R', 'R', 'M', 'R', 'R', 'R', 'R', 'R', 'M', 'R',\n",
       "        'R', 'R', 'R', 'R', 'R', 'R', 'R', 'R', 'R', 'R', 'R', 'M', 'M',\n",
       "        'M', 'M', 'M', 'M', 'M', 'R', 'M', 'R', 'R', 'R', 'R', 'R', 'R',\n",
       "        'M', 'R', 'M', 'M', 'M', 'M', 'M', 'R', 'R', 'R', 'M', 'R', 'R',\n",
       "        'M', 'M', 'R', 'M', 'R', 'M', 'M', 'M', 'M', 'M', 'M', 'M', 'M',\n",
       "        'M', 'R', 'M', 'R', 'R', 'R', 'R', 'M', 'R', 'M', 'M', 'M', 'R',\n",
       "        'R', 'R', 'R', 'R', 'R', 'R', 'R', 'M', 'R', 'M', 'R', 'M', 'M',\n",
       "        'M', 'M', 'M', 'M', 'M', 'M', 'M', 'R', 'R', 'M', 'M', 'M', 'R',\n",
       "        'M', 'M', 'M', 'M', 'R', 'M', 'M', 'R', 'R', 'M', 'M', 'M', 'M',\n",
       "        'R', 'R', 'M', 'M', 'R', 'R', 'M', 'R', 'M', 'R', 'M', 'R', 'R',\n",
       "        'R', 'R', 'R', 'M', 'M', 'R', 'R', 'R', 'R', 'R', 'M', 'R', 'M',\n",
       "        'R', 'R', 'R', 'R', 'M', 'M', 'M', 'M', 'M', 'M', 'R', 'M', 'R',\n",
       "        'R', 'R', 'M', 'M', 'R', 'R', 'M', 'R', 'R', 'R', 'R', 'R', 'R'],\n",
       "       dtype='<U1')}"
      ]
     },
     "execution_count": 135,
     "metadata": {},
     "output_type": "execute_result"
    }
   ],
   "source": [
    "prediction.predictions"
   ]
  },
  {
   "cell_type": "markdown",
   "id": "46a76cfc-958d-49ad-baa4-ce31a4c696dd",
   "metadata": {
    "tags": []
   },
   "source": [
    "---"
   ]
  },
  {
   "cell_type": "code",
   "execution_count": 136,
   "id": "514c7929-be1e-4980-8ac9-b1c42361ed95",
   "metadata": {
    "tags": []
   },
   "outputs": [
    {
     "name": "stdout",
     "output_type": "stream",
     "text": [
      "\n",
      "└── Info - System overriding user input to set `sklearn_preprocess.copy=False`.\n",
      "This saves memory when concatenating the output of many encoders.\n",
      "\n",
      "\n",
      "└── Success - Fit StandardScaler(copy=False) on the following columns:\n",
      "['0']\n",
      "\n",
      "\n",
      "└── Success - All columns now have encoders associated with them.\n",
      "\n",
      "\n",
      "Info - Featureset only contains 1 non-OHE column. System overriding to `permute_count=0`.\n",
      "\n"
     ]
    }
   ],
   "source": [
    "torch_bin_seq = tests.torch_bin_seq.make_queue()"
   ]
  },
  {
   "cell_type": "code",
   "execution_count": 137,
   "id": "4c1d131b-641c-4235-acf6-137df19a2ce8",
   "metadata": {
    "tags": []
   },
   "outputs": [
    {
     "name": "stderr",
     "output_type": "stream",
     "text": [
      "📦 Caching Splits 📦: 100%|███████████████████████████| 3/3 [00:00<00:00, 229.23it/s]\n",
      "🔮 Training Models 🔮: 100%|███████████████████████████| 1/1 [00:15<00:00, 15.07s/it]\n"
     ]
    }
   ],
   "source": [
    "torch_bin_seq.run_jobs()"
   ]
  },
  {
   "cell_type": "code",
   "execution_count": 138,
   "id": "03bcf0f0-fe7b-4cb4-ae66-8834c4898e81",
   "metadata": {
    "tags": []
   },
   "outputs": [],
   "source": [
    "prediction = tests.infer(torch_bin_seq)"
   ]
  },
  {
   "cell_type": "code",
   "execution_count": 139,
   "id": "dfe75db0-b0be-49f0-a511-7b202345a304",
   "metadata": {
    "tags": []
   },
   "outputs": [
    {
     "data": {
      "text/plain": [
       "{'infer_0': {'accuracy': 0.589,\n",
       "  'f1': 0.552,\n",
       "  'loss': 0.687,\n",
       "  'precision': 0.607,\n",
       "  'recall': 0.506,\n",
       "  'roc_auc': 0.585}}"
      ]
     },
     "execution_count": 139,
     "metadata": {},
     "output_type": "execute_result"
    }
   ],
   "source": [
    "prediction.metrics"
   ]
  },
  {
   "cell_type": "code",
   "execution_count": 140,
   "id": "117076dd-bf1e-4edc-a578-90c481fcbe6e",
   "metadata": {
    "tags": []
   },
   "outputs": [
    {
     "data": {
      "text/plain": [
       "{'infer_0': array([1, 1, 0, 1, 0, 0, 0, 0, 1, 1, 1, 0, 0, 0, 1, 0, 1, 0, 1, 1, 0, 0,\n",
       "        1, 0, 1, 1, 0, 0, 0, 0, 0, 0, 1, 1, 1, 1, 1, 0, 1, 0, 0, 1, 1, 1,\n",
       "        0, 0, 1, 0, 0, 1, 1, 0, 0, 1, 1, 1, 1, 1, 0, 1, 0, 1, 0, 1, 1, 1,\n",
       "        1, 0, 0, 0, 0, 0, 0, 0, 1, 1, 1, 0, 0, 1, 0, 1, 0, 1, 0, 0, 0, 0,\n",
       "        1, 1, 0, 1, 1, 1, 0, 0, 0, 1, 0, 0, 1, 1, 0, 1, 0, 0, 1, 1, 1, 1,\n",
       "        0, 1, 0, 1, 1, 1, 1, 0, 1, 0, 1, 1, 0, 0, 1, 1, 0, 1, 0, 1, 0, 0,\n",
       "        0, 0, 1, 1, 0, 0, 1, 1, 0, 1, 0, 0, 1, 0, 1, 1, 1, 0, 1, 1, 1, 0,\n",
       "        0, 1, 0, 0, 1, 1, 0, 1, 1, 1, 0, 1, 1, 0, 1, 0, 0, 0, 1, 0, 0, 0,\n",
       "        1, 0, 1, 1, 0, 1, 0, 0, 0, 0, 1, 1, 0, 1, 1, 0, 1, 1, 1, 1, 0, 0,\n",
       "        0, 1, 1, 0, 1, 1, 0, 1, 0, 0, 0, 0, 1, 1, 1, 1, 1, 1, 1, 1, 0, 0,\n",
       "        1, 1, 1, 1, 0, 0, 0, 1, 0, 1, 0, 1, 1, 0, 0, 0, 1, 1, 0, 1, 1, 0,\n",
       "        0, 0, 0, 0, 1, 0, 1, 1, 1, 1, 0, 0, 0, 0, 0, 0, 0, 1, 1, 0, 0, 0,\n",
       "        1, 0, 0, 1, 0, 0, 1, 0, 0, 1, 0, 1, 0, 0, 1, 0, 1, 1, 1, 1, 1, 0,\n",
       "        1, 1, 1, 0, 0, 0, 0, 0, 1, 1, 0, 1, 0, 1, 0, 0, 0, 1, 0, 0, 0, 0,\n",
       "        0, 0, 1, 1, 1, 0, 1, 1, 1, 0, 1, 1, 1, 0, 0, 1, 0, 0, 0, 1, 1, 1,\n",
       "        1, 1, 1, 0, 1, 0, 0, 1, 0, 0, 0, 1, 1, 0, 0, 1, 0, 1, 0, 1, 1, 0,\n",
       "        1, 0, 1, 0, 1, 0, 0, 0, 1, 0, 0, 0, 1, 0, 1, 0, 0, 1, 0, 1, 0, 1,\n",
       "        1, 1, 0, 0, 0, 1, 0, 1, 0, 1, 1, 0, 1, 1, 1, 1, 0, 0, 1, 1, 0, 1,\n",
       "        0, 0, 1, 1, 1, 1, 0, 0, 1, 0, 1, 0, 0, 0, 0, 1, 0, 0, 0, 1, 0, 1,\n",
       "        0, 0, 1, 1, 0, 1, 1, 1, 0, 1, 1, 1, 0, 0, 0, 0, 1, 1, 1, 0, 0, 1,\n",
       "        1, 1, 1, 1, 0, 0, 0, 1, 1, 0, 0, 0, 1, 0, 0, 0, 1, 1, 1, 0, 1, 0,\n",
       "        1, 0, 1, 0, 0, 0, 0, 1, 1, 1, 0, 1, 0, 0, 1, 1, 0, 1, 0, 1, 1, 1,\n",
       "        1, 1, 0, 1, 1, 1, 1, 1, 1, 1, 0, 1, 1, 0, 0, 0, 1, 0, 0, 0, 0, 0,\n",
       "        1, 0, 0, 0, 0, 0, 0, 0, 1, 0, 1, 0, 0, 0, 0, 0, 0, 0, 0, 0, 1, 0,\n",
       "        1, 0, 0, 1, 1, 0, 0, 1, 0, 1, 0, 0, 0, 0, 0, 0, 1, 0, 0, 0, 1, 0,\n",
       "        0, 1, 0, 0, 0, 0, 0, 1, 0, 0, 0, 1, 0, 0, 0, 0, 0, 0, 0, 0, 0, 1,\n",
       "        0, 0, 0, 0, 1, 1, 1, 0, 1, 0, 1, 1, 0, 1, 0, 1, 0, 1, 1, 0, 1, 1,\n",
       "        0, 0, 0, 1, 0, 0, 0, 1, 0, 0, 1, 0, 0, 0, 0, 0, 1, 0, 0, 1, 1, 1,\n",
       "        0, 0, 1, 0, 0, 1, 1, 0, 0, 1, 0, 1, 0, 1, 0, 1, 0, 0, 0, 1, 0, 0,\n",
       "        0, 0, 1, 1, 0, 0, 0, 1, 0, 1, 0, 0, 0, 0, 1, 1, 0, 0, 0, 0, 1, 0,\n",
       "        0, 0, 0, 0, 1, 0, 0, 1, 0, 1, 0, 1, 0, 0, 1, 1, 0, 0, 0, 1, 1, 0,\n",
       "        0, 1, 0, 0, 0, 1, 0, 0, 0, 1, 0, 1, 1, 1, 1, 1, 0, 0, 0, 0, 0, 0,\n",
       "        0, 0, 1, 0, 1, 0, 1, 1, 1, 0, 0, 0, 0, 1, 0, 0, 1, 1, 0, 0, 1, 0,\n",
       "        0, 0, 0, 0, 1, 0, 0, 0, 0, 0, 0, 1, 0, 0, 1, 0, 0, 0, 1, 0, 0, 1,\n",
       "        1, 0, 0, 1, 0, 0, 1, 0, 0, 0, 0, 0, 1, 1, 0, 0, 1, 0, 1, 0, 0, 1,\n",
       "        0, 0, 0, 0, 0, 0, 1, 0, 0, 1, 0, 1, 0, 0, 1, 1, 0, 0, 1, 1, 1, 0,\n",
       "        0, 0, 0, 0, 0, 1, 0, 1, 1, 0, 1, 0, 1, 0, 1, 0, 0, 1, 0, 1, 0, 0,\n",
       "        0, 0, 0, 0, 0, 0, 0, 0, 0, 0, 1, 1, 1, 1, 1, 0, 1, 0, 0, 0, 1, 1,\n",
       "        0, 0, 0, 0, 1, 0, 0, 0, 0, 1, 0, 1, 0, 1, 0, 0, 1, 0, 0, 0, 1, 0,\n",
       "        1, 1, 0, 0, 1, 0, 1, 0, 1, 1, 1, 0, 0, 0, 0, 0, 0, 0, 0, 1, 0, 0,\n",
       "        0, 0, 0, 0, 0, 1, 0, 1, 0, 0, 0, 1, 0, 1, 0, 0, 1, 0, 0, 0, 0, 0,\n",
       "        0, 0, 1, 0, 0, 0, 0, 0, 0, 0, 1, 0, 0, 1, 0, 0, 0, 1, 0, 0, 0, 1,\n",
       "        1, 0, 1, 0, 0, 0, 1, 0, 1, 0, 0, 0, 1, 0, 0, 0, 1, 1, 1, 0, 1, 1,\n",
       "        0, 0, 0, 0, 0, 0, 1, 1, 0, 1, 0, 0, 0, 0, 0, 0, 0, 0, 0, 0, 0, 0,\n",
       "        1, 1, 0, 0, 1, 0, 1, 0, 1, 1, 0, 0, 1, 1, 0, 0, 0, 1, 0, 0, 0, 1,\n",
       "        1, 0, 1, 0, 0, 1, 0, 1, 1, 0], dtype=int32)}"
      ]
     },
     "execution_count": 140,
     "metadata": {},
     "output_type": "execute_result"
    }
   ],
   "source": [
    "prediction.predictions"
   ]
  },
  {
   "cell_type": "code",
   "execution_count": 141,
   "id": "88bd403a-463b-4187-b0de-ca1682e466d5",
   "metadata": {
    "tags": []
   },
   "outputs": [],
   "source": [
    "prediction = tests.infer(torch_bin_seq, include_label=False)"
   ]
  },
  {
   "cell_type": "code",
   "execution_count": 142,
   "id": "fdd973fc-f3d3-491e-b20a-84ec66b73f88",
   "metadata": {
    "tags": []
   },
   "outputs": [
    {
     "data": {
      "text/plain": [
       "{'infer_1': array([1, 1, 0, 1, 0, 0, 0, 0, 1, 1, 1, 0, 0, 0, 1, 0, 1, 0, 1, 1, 0, 0,\n",
       "        1, 0, 1, 1, 0, 0, 0, 0, 0, 0, 1, 1, 1, 1, 1, 0, 1, 0, 0, 1, 1, 1,\n",
       "        0, 0, 1, 0, 0, 1, 1, 0, 0, 1, 1, 1, 1, 1, 0, 1, 0, 1, 0, 1, 1, 1,\n",
       "        1, 0, 0, 0, 0, 0, 0, 0, 1, 1, 1, 0, 0, 1, 0, 1, 0, 1, 0, 0, 0, 0,\n",
       "        1, 1, 0, 1, 1, 1, 0, 0, 0, 1, 0, 0, 1, 1, 0, 1, 0, 0, 1, 1, 1, 1,\n",
       "        0, 1, 0, 1, 1, 1, 1, 0, 1, 0, 1, 1, 0, 0, 1, 1, 0, 1, 0, 1, 0, 0,\n",
       "        0, 0, 1, 1, 0, 0, 1, 1, 0, 1, 0, 0, 1, 0, 1, 1, 1, 0, 1, 1, 1, 0,\n",
       "        0, 1, 0, 0, 1, 1, 0, 1, 1, 1, 0, 1, 1, 0, 1, 0, 0, 0, 1, 0, 0, 0,\n",
       "        1, 0, 1, 1, 0, 1, 0, 0, 0, 0, 1, 1, 0, 1, 1, 0, 1, 1, 1, 1, 0, 0,\n",
       "        0, 1, 1, 0, 1, 1, 0, 1, 0, 0, 0, 0, 1, 1, 1, 1, 1, 1, 1, 1, 0, 0,\n",
       "        1, 1, 1, 1, 0, 0, 0, 1, 0, 1, 0, 1, 1, 0, 0, 0, 1, 1, 0, 1, 1, 0,\n",
       "        0, 0, 0, 0, 1, 0, 1, 1, 1, 1, 0, 0, 0, 0, 0, 0, 0, 1, 1, 0, 0, 0,\n",
       "        1, 0, 0, 1, 0, 0, 1, 0, 0, 1, 0, 1, 0, 0, 1, 0, 1, 1, 1, 1, 1, 0,\n",
       "        1, 1, 1, 0, 0, 0, 0, 0, 1, 1, 0, 1, 0, 1, 0, 0, 0, 1, 0, 0, 0, 0,\n",
       "        0, 0, 1, 1, 1, 0, 1, 1, 1, 0, 1, 1, 1, 0, 0, 1, 0, 0, 0, 1, 1, 1,\n",
       "        1, 1, 1, 0, 1, 0, 0, 1, 0, 0, 0, 1, 1, 0, 0, 1, 0, 1, 0, 1, 1, 0,\n",
       "        1, 0, 1, 0, 1, 0, 0, 0, 1, 0, 0, 0, 1, 0, 1, 0, 0, 1, 0, 1, 0, 1,\n",
       "        1, 1, 0, 0, 0, 1, 0, 1, 0, 1, 1, 0, 1, 1, 1, 1, 0, 0, 1, 1, 0, 1,\n",
       "        0, 0, 1, 1, 1, 1, 0, 0, 1, 0, 1, 0, 0, 0, 0, 1, 0, 0, 0, 1, 0, 1,\n",
       "        0, 0, 1, 1, 0, 1, 1, 1, 0, 1, 1, 1, 0, 0, 0, 0, 1, 1, 1, 0, 0, 1,\n",
       "        1, 1, 1, 1, 0, 0, 0, 1, 1, 0, 0, 0, 1, 0, 0, 0, 1, 1, 1, 0, 1, 0,\n",
       "        1, 0, 1, 0, 0, 0, 0, 1, 1, 1, 0, 1, 0, 0, 1, 1, 0, 1, 0, 1, 1, 1,\n",
       "        1, 1, 0, 1, 1, 1, 1, 1, 1, 1, 0, 1, 1, 0, 0, 0, 1, 0, 0, 0, 0, 0,\n",
       "        1, 0, 0, 0, 0, 0, 0, 0, 1, 0, 1, 0, 0, 0, 0, 0, 0, 0, 0, 0, 1, 0,\n",
       "        1, 0, 0, 1, 1, 0, 0, 1, 0, 1, 0, 0, 0, 0, 0, 0, 1, 0, 0, 0, 1, 0,\n",
       "        0, 1, 0, 0, 0, 0, 0, 1, 0, 0, 0, 1, 0, 0, 0, 0, 0, 0, 0, 0, 0, 1,\n",
       "        0, 0, 0, 0, 1, 1, 1, 0, 1, 0, 1, 1, 0, 1, 0, 1, 0, 1, 1, 0, 1, 1,\n",
       "        0, 0, 0, 1, 0, 0, 0, 1, 0, 0, 1, 0, 0, 0, 0, 0, 1, 0, 0, 1, 1, 1,\n",
       "        0, 0, 1, 0, 0, 1, 1, 0, 0, 1, 0, 1, 0, 1, 0, 1, 0, 0, 0, 1, 0, 0,\n",
       "        0, 0, 1, 1, 0, 0, 0, 1, 0, 1, 0, 0, 0, 0, 1, 1, 0, 0, 0, 0, 1, 0,\n",
       "        0, 0, 0, 0, 1, 0, 0, 1, 0, 1, 0, 1, 0, 0, 1, 1, 0, 0, 0, 1, 1, 0,\n",
       "        0, 1, 0, 0, 0, 1, 0, 0, 0, 1, 0, 1, 1, 1, 1, 1, 0, 0, 0, 0, 0, 0,\n",
       "        0, 0, 1, 0, 1, 0, 1, 1, 1, 0, 0, 0, 0, 1, 0, 0, 1, 1, 0, 0, 1, 0,\n",
       "        0, 0, 0, 0, 1, 0, 0, 0, 0, 0, 0, 1, 0, 0, 1, 0, 0, 0, 1, 0, 0, 1,\n",
       "        1, 0, 0, 1, 0, 0, 1, 0, 0, 0, 0, 0, 1, 1, 0, 0, 1, 0, 1, 0, 0, 1,\n",
       "        0, 0, 0, 0, 0, 0, 1, 0, 0, 1, 0, 1, 0, 0, 1, 1, 0, 0, 1, 1, 1, 0,\n",
       "        0, 0, 0, 0, 0, 1, 0, 1, 1, 0, 1, 0, 1, 0, 1, 0, 0, 1, 0, 1, 0, 0,\n",
       "        0, 0, 0, 0, 0, 0, 0, 0, 0, 0, 1, 1, 1, 1, 1, 0, 1, 0, 0, 0, 1, 1,\n",
       "        0, 0, 0, 0, 1, 0, 0, 0, 0, 1, 0, 1, 0, 1, 0, 0, 1, 0, 0, 0, 1, 0,\n",
       "        1, 1, 0, 0, 1, 0, 1, 0, 1, 1, 1, 0, 0, 0, 0, 0, 0, 0, 0, 1, 0, 0,\n",
       "        0, 0, 0, 0, 0, 1, 0, 1, 0, 0, 0, 1, 0, 1, 0, 0, 1, 0, 0, 0, 0, 0,\n",
       "        0, 0, 1, 0, 0, 0, 0, 0, 0, 0, 1, 0, 0, 1, 0, 0, 0, 1, 0, 0, 0, 1,\n",
       "        1, 0, 1, 0, 0, 0, 1, 0, 1, 0, 0, 0, 1, 0, 0, 0, 1, 1, 1, 0, 1, 1,\n",
       "        0, 0, 0, 0, 0, 0, 1, 1, 0, 1, 0, 0, 0, 0, 0, 0, 0, 0, 0, 0, 0, 0,\n",
       "        1, 1, 0, 0, 1, 0, 1, 0, 1, 1, 0, 0, 1, 1, 0, 0, 0, 1, 0, 0, 0, 1,\n",
       "        1, 0, 1, 0, 0, 1, 0, 1, 1, 0], dtype=int32)}"
      ]
     },
     "execution_count": 142,
     "metadata": {},
     "output_type": "execute_result"
    }
   ],
   "source": [
    "prediction.predictions"
   ]
  },
  {
   "cell_type": "markdown",
   "id": "39249c52-ddb3-4464-afe1-6a6f3cc6445d",
   "metadata": {
    "tags": []
   },
   "source": [
    "---"
   ]
  },
  {
   "cell_type": "code",
   "execution_count": 143,
   "id": "a161a005-0af4-45b5-bfdb-02e0a93c9762",
   "metadata": {
    "tags": []
   },
   "outputs": [
    {
     "name": "stdout",
     "output_type": "stream",
     "text": [
      "\n",
      "└── Info - System overriding user input to set `sklearn_preprocess.copy=False`.\n",
      "This saves memory when concatenating the output of many encoders.\n",
      "\n",
      "\n",
      "└── Success - Fit StandardScaler(copy=False) on the following columns:\n",
      "['0']\n",
      "\n",
      "\n",
      "└── Success - All columns now have encoders associated with them.\n",
      "\n",
      "\n",
      "Info - Featureset only contains 1 non-OHE column. System overriding to `permute_count=0`.\n",
      "\n"
     ]
    }
   ],
   "source": [
    "torch_bin_seq_fold = tests.torch_bin_seq.make_queue(fold_count=3)"
   ]
  },
  {
   "cell_type": "code",
   "execution_count": 144,
   "id": "01044198-e06a-4e11-9d10-97579514cd8f",
   "metadata": {
    "tags": []
   },
   "outputs": [
    {
     "name": "stderr",
     "output_type": "stream",
     "text": [
      "📦 Caching Splits - Fold #1 📦: 100%|█████████████████| 4/4 [00:00<00:00, 278.28it/s]\n",
      "📦 Caching Splits - Fold #2 📦: 100%|█████████████████| 4/4 [00:00<00:00, 278.78it/s]\n",
      "📦 Caching Splits - Fold #3 📦: 100%|█████████████████| 4/4 [00:00<00:00, 298.63it/s]\n",
      "🔮 Training Models - Fold #1 🔮: 100%|█████████████████| 1/1 [00:10<00:00, 10.42s/it]\n",
      "🔮 Training Models - Fold #2 🔮: 100%|█████████████████| 1/1 [00:10<00:00, 10.22s/it]\n",
      "🔮 Training Models - Fold #3 🔮: 100%|█████████████████| 1/1 [00:10<00:00, 10.21s/it]\n"
     ]
    }
   ],
   "source": [
    "torch_bin_seq_fold.run_jobs()"
   ]
  },
  {
   "cell_type": "code",
   "execution_count": 145,
   "id": "5653b0ca-6b62-4d8a-8240-e30dd05497fb",
   "metadata": {
    "tags": []
   },
   "outputs": [],
   "source": [
    "prediction = tests.infer(torch_bin_seq_fold)"
   ]
  },
  {
   "cell_type": "code",
   "execution_count": 146,
   "id": "a1763710-ba4b-4619-8150-cd71fb87f042",
   "metadata": {
    "tags": []
   },
   "outputs": [
    {
     "data": {
      "text/plain": [
       "{'infer_0': {'accuracy': 0.396,\n",
       "  'f1': 0.315,\n",
       "  'loss': 0.719,\n",
       "  'precision': 0.364,\n",
       "  'recall': 0.278,\n",
       "  'roc_auc': 0.342}}"
      ]
     },
     "execution_count": 146,
     "metadata": {},
     "output_type": "execute_result"
    }
   ],
   "source": [
    "prediction.metrics"
   ]
  },
  {
   "cell_type": "code",
   "execution_count": 147,
   "id": "e0f5fc99-f50c-40e9-b163-f8e5f569fb5c",
   "metadata": {
    "tags": []
   },
   "outputs": [
    {
     "data": {
      "text/plain": [
       "{'infer_0': array([0, 0, 0, 0, 1, 1, 1, 1, 0, 0, 0, 0, 1, 0, 0, 1, 1, 1, 0, 0, 1, 0,\n",
       "        0, 1, 0, 0, 0, 1, 1, 1, 0, 1, 0, 0, 0, 0, 0, 1, 0, 1, 0, 0, 0, 0,\n",
       "        1, 1, 0, 1, 1, 0, 0, 0, 0, 0, 0, 0, 0, 0, 1, 0, 0, 0, 1, 1, 0, 0,\n",
       "        0, 1, 1, 0, 0, 0, 1, 1, 0, 0, 0, 0, 1, 0, 1, 0, 0, 0, 1, 0, 1, 0,\n",
       "        0, 0, 1, 0, 0, 0, 1, 1, 1, 0, 1, 1, 0, 0, 0, 0, 1, 0, 0, 0, 0, 0,\n",
       "        1, 1, 0, 0, 0, 0, 0, 1, 0, 1, 0, 0, 0, 0, 0, 0, 1, 0, 0, 0, 1, 1,\n",
       "        1, 0, 0, 0, 0, 0, 0, 0, 0, 0, 1, 0, 0, 0, 0, 0, 0, 0, 0, 0, 0, 0,\n",
       "        1, 0, 1, 1, 0, 0, 1, 0, 0, 0, 0, 0, 0, 0, 0, 0, 0, 1, 0, 1, 1, 0,\n",
       "        0, 0, 0, 0, 0, 0, 0, 0, 1, 0, 0, 0, 1, 0, 0, 0, 0, 0, 0, 0, 0, 1,\n",
       "        0, 0, 0, 1, 0, 0, 0, 0, 1, 1, 0, 1, 0, 0, 0, 0, 0, 1, 0, 0, 1, 1,\n",
       "        0, 0, 0, 0, 0, 0, 1, 0, 0, 1, 1, 0, 0, 0, 1, 0, 0, 0, 0, 0, 0, 0,\n",
       "        0, 0, 0, 1, 0, 1, 0, 0, 0, 0, 1, 0, 0, 1, 1, 0, 1, 0, 0, 0, 0, 0,\n",
       "        0, 1, 0, 0, 0, 0, 0, 0, 1, 0, 1, 0, 1, 1, 0, 0, 0, 0, 0, 0, 0, 0,\n",
       "        0, 0, 0, 0, 1, 1, 0, 0, 0, 0, 1, 0, 1, 0, 1, 1, 1, 0, 0, 1, 0, 1,\n",
       "        0, 0, 0, 0, 0, 0, 0, 0, 0, 1, 0, 0, 0, 0, 0, 0, 0, 0, 1, 0, 0, 0,\n",
       "        0, 0, 0, 1, 0, 0, 1, 0, 0, 0, 1, 0, 0, 1, 1, 0, 1, 0, 0, 0, 0, 1,\n",
       "        0, 1, 0, 1, 0, 0, 1, 1, 0, 1, 1, 0, 0, 0, 0, 1, 1, 0, 1, 0, 1, 0,\n",
       "        0, 0, 0, 0, 0, 0, 0, 0, 1, 0, 0, 1, 0, 0, 0, 0, 1, 0, 0, 0, 0, 0,\n",
       "        1, 1, 0, 0, 0, 0, 1, 0, 0, 0, 0, 0, 1, 0, 1, 0, 1, 1, 1, 0, 1, 0,\n",
       "        1, 1, 0, 0, 0, 0, 0, 0, 0, 0, 0, 0, 0, 0, 0, 1, 0, 0, 0, 0, 1, 0,\n",
       "        0, 0, 0, 0, 1, 1, 1, 0, 0, 0, 1, 0, 0, 0, 0, 1, 0, 0, 0, 0, 0, 1,\n",
       "        0, 0, 0, 1, 0, 1, 0, 0, 0, 0, 1, 0, 1, 0, 0, 1, 0, 0, 1, 0, 0, 0,\n",
       "        0, 0, 1, 1, 0, 0, 0, 0, 0, 0, 1, 0, 0, 0, 0, 1, 1, 1, 0, 1, 1, 1,\n",
       "        0, 1, 0, 1, 1, 1, 1, 0, 0, 1, 0, 1, 0, 1, 1, 1, 0, 1, 0, 1, 0, 1,\n",
       "        0, 0, 1, 0, 0, 0, 1, 0, 0, 0, 1, 0, 1, 0, 1, 1, 0, 1, 1, 1, 1, 1,\n",
       "        1, 0, 0, 1, 1, 1, 0, 0, 1, 0, 1, 0, 1, 1, 1, 1, 1, 1, 1, 1, 1, 0,\n",
       "        0, 1, 0, 0, 0, 0, 0, 0, 1, 1, 0, 0, 1, 0, 0, 0, 1, 0, 0, 0, 0, 0,\n",
       "        1, 0, 0, 0, 1, 1, 1, 0, 1, 0, 0, 1, 0, 0, 1, 1, 0, 1, 1, 0, 0, 0,\n",
       "        1, 1, 0, 1, 1, 0, 0, 0, 0, 0, 0, 0, 1, 0, 1, 0, 0, 1, 1, 0, 0, 0,\n",
       "        0, 0, 0, 0, 0, 1, 1, 0, 1, 0, 1, 1, 0, 0, 0, 0, 1, 0, 0, 1, 0, 0,\n",
       "        0, 1, 1, 1, 0, 1, 1, 0, 1, 0, 1, 0, 1, 1, 1, 0, 1, 0, 1, 0, 0, 1,\n",
       "        1, 0, 0, 1, 1, 0, 1, 1, 1, 0, 0, 0, 0, 0, 0, 0, 1, 1, 0, 1, 1, 1,\n",
       "        0, 0, 0, 1, 0, 1, 0, 0, 1, 0, 1, 0, 0, 0, 1, 1, 0, 0, 1, 0, 0, 1,\n",
       "        0, 0, 1, 0, 0, 1, 1, 1, 1, 0, 1, 0, 1, 0, 0, 1, 0, 1, 0, 0, 1, 1,\n",
       "        1, 1, 0, 0, 1, 1, 0, 1, 0, 1, 1, 1, 0, 0, 0, 1, 0, 0, 0, 1, 0, 0,\n",
       "        1, 0, 1, 1, 0, 1, 0, 0, 1, 0, 0, 0, 1, 1, 0, 0, 1, 1, 0, 1, 0, 1,\n",
       "        1, 1, 0, 1, 1, 0, 1, 1, 0, 0, 0, 0, 0, 1, 0, 0, 1, 0, 1, 1, 1, 0,\n",
       "        1, 0, 1, 0, 1, 0, 1, 1, 1, 1, 0, 0, 0, 0, 0, 1, 1, 1, 1, 1, 0, 1,\n",
       "        0, 1, 1, 1, 1, 1, 1, 0, 1, 0, 1, 0, 1, 0, 0, 0, 0, 1, 0, 0, 0, 1,\n",
       "        0, 1, 1, 0, 1, 1, 0, 1, 1, 0, 0, 0, 0, 1, 0, 1, 1, 0, 1, 0, 1, 1,\n",
       "        1, 0, 1, 1, 1, 0, 1, 0, 0, 0, 1, 0, 0, 0, 1, 1, 0, 1, 1, 0, 1, 1,\n",
       "        1, 1, 0, 1, 1, 1, 0, 0, 1, 0, 0, 0, 0, 0, 1, 1, 1, 0, 1, 1, 1, 0,\n",
       "        0, 1, 0, 0, 1, 0, 0, 0, 0, 0, 0, 1, 0, 1, 0, 0, 0, 0, 0, 0, 0, 0,\n",
       "        1, 1, 1, 1, 1, 0, 0, 0, 1, 0, 1, 0, 1, 1, 1, 1, 1, 1, 1, 1, 1, 0,\n",
       "        0, 0, 1, 0, 0, 0, 0, 1, 1, 0, 1, 1, 0, 0, 1, 1, 0, 0, 0, 1, 1, 0,\n",
       "        0, 1, 0, 1, 1, 0, 1, 0, 0, 1], dtype=int32)}"
      ]
     },
     "execution_count": 147,
     "metadata": {},
     "output_type": "execute_result"
    }
   ],
   "source": [
    "prediction.predictions"
   ]
  },
  {
   "cell_type": "code",
   "execution_count": 148,
   "id": "d7ea58e7-d628-40ad-a00d-de4c01190221",
   "metadata": {
    "tags": []
   },
   "outputs": [],
   "source": [
    "prediction = tests.infer(torch_bin_seq_fold, include_label=False)"
   ]
  },
  {
   "cell_type": "code",
   "execution_count": 149,
   "id": "57dbd82e-a6d2-4759-b9c5-848a973196e1",
   "metadata": {
    "tags": []
   },
   "outputs": [
    {
     "data": {
      "text/plain": [
       "{'infer_1': array([0, 0, 0, 0, 1, 1, 1, 1, 0, 0, 0, 0, 1, 0, 0, 1, 1, 1, 0, 0, 1, 0,\n",
       "        0, 1, 0, 0, 0, 1, 1, 1, 0, 1, 0, 0, 0, 0, 0, 1, 0, 1, 0, 0, 0, 0,\n",
       "        1, 1, 0, 1, 1, 0, 0, 0, 0, 0, 0, 0, 0, 0, 1, 0, 0, 0, 1, 1, 0, 0,\n",
       "        0, 1, 1, 0, 0, 0, 1, 1, 0, 0, 0, 0, 1, 0, 1, 0, 0, 0, 1, 0, 1, 0,\n",
       "        0, 0, 1, 0, 0, 0, 1, 1, 1, 0, 1, 1, 0, 0, 0, 0, 1, 0, 0, 0, 0, 0,\n",
       "        1, 1, 0, 0, 0, 0, 0, 1, 0, 1, 0, 0, 0, 0, 0, 0, 1, 0, 0, 0, 1, 1,\n",
       "        1, 0, 0, 0, 0, 0, 0, 0, 0, 0, 1, 0, 0, 0, 0, 0, 0, 0, 0, 0, 0, 0,\n",
       "        1, 0, 1, 1, 0, 0, 1, 0, 0, 0, 0, 0, 0, 0, 0, 0, 0, 1, 0, 1, 1, 0,\n",
       "        0, 0, 0, 0, 0, 0, 0, 0, 1, 0, 0, 0, 1, 0, 0, 0, 0, 0, 0, 0, 0, 1,\n",
       "        0, 0, 0, 1, 0, 0, 0, 0, 1, 1, 0, 1, 0, 0, 0, 0, 0, 1, 0, 0, 1, 1,\n",
       "        0, 0, 0, 0, 0, 0, 1, 0, 0, 1, 1, 0, 0, 0, 1, 0, 0, 0, 0, 0, 0, 0,\n",
       "        0, 0, 0, 1, 0, 1, 0, 0, 0, 0, 1, 0, 0, 1, 1, 0, 1, 0, 0, 0, 0, 0,\n",
       "        0, 1, 0, 0, 0, 0, 0, 0, 1, 0, 1, 0, 1, 1, 0, 0, 0, 0, 0, 0, 0, 0,\n",
       "        0, 0, 0, 0, 1, 1, 0, 0, 0, 0, 1, 0, 1, 0, 1, 1, 1, 0, 0, 1, 0, 1,\n",
       "        0, 0, 0, 0, 0, 0, 0, 0, 0, 1, 0, 0, 0, 0, 0, 0, 0, 0, 1, 0, 0, 0,\n",
       "        0, 0, 0, 1, 0, 0, 1, 0, 0, 0, 1, 0, 0, 1, 1, 0, 1, 0, 0, 0, 0, 1,\n",
       "        0, 1, 0, 1, 0, 0, 1, 1, 0, 1, 1, 0, 0, 0, 0, 1, 1, 0, 1, 0, 1, 0,\n",
       "        0, 0, 0, 0, 0, 0, 0, 0, 1, 0, 0, 1, 0, 0, 0, 0, 1, 0, 0, 0, 0, 0,\n",
       "        1, 1, 0, 0, 0, 0, 1, 0, 0, 0, 0, 0, 1, 0, 1, 0, 1, 1, 1, 0, 1, 0,\n",
       "        1, 1, 0, 0, 0, 0, 0, 0, 0, 0, 0, 0, 0, 0, 0, 1, 0, 0, 0, 0, 1, 0,\n",
       "        0, 0, 0, 0, 1, 1, 1, 0, 0, 0, 1, 0, 0, 0, 0, 1, 0, 0, 0, 0, 0, 1,\n",
       "        0, 0, 0, 1, 0, 1, 0, 0, 0, 0, 1, 0, 1, 0, 0, 1, 0, 0, 1, 0, 0, 0,\n",
       "        0, 0, 1, 1, 0, 0, 0, 0, 0, 0, 1, 0, 0, 0, 0, 1, 1, 1, 0, 1, 1, 1,\n",
       "        0, 1, 0, 1, 1, 1, 1, 0, 0, 1, 0, 1, 0, 1, 1, 1, 0, 1, 0, 1, 0, 1,\n",
       "        0, 0, 1, 0, 0, 0, 1, 0, 0, 0, 1, 0, 1, 0, 1, 1, 0, 1, 1, 1, 1, 1,\n",
       "        1, 0, 0, 1, 1, 1, 0, 0, 1, 0, 1, 0, 1, 1, 1, 1, 1, 1, 1, 1, 1, 0,\n",
       "        0, 1, 0, 0, 0, 0, 0, 0, 1, 1, 0, 0, 1, 0, 0, 0, 1, 0, 0, 0, 0, 0,\n",
       "        1, 0, 0, 0, 1, 1, 1, 0, 1, 0, 0, 1, 0, 0, 1, 1, 0, 1, 1, 0, 0, 0,\n",
       "        1, 1, 0, 1, 1, 0, 0, 0, 0, 0, 0, 0, 1, 0, 1, 0, 0, 1, 1, 0, 0, 0,\n",
       "        0, 0, 0, 0, 0, 1, 1, 0, 1, 0, 1, 1, 0, 0, 0, 0, 1, 0, 0, 1, 0, 0,\n",
       "        0, 1, 1, 1, 0, 1, 1, 0, 1, 0, 1, 0, 1, 1, 1, 0, 1, 0, 1, 0, 0, 1,\n",
       "        1, 0, 0, 1, 1, 0, 1, 1, 1, 0, 0, 0, 0, 0, 0, 0, 1, 1, 0, 1, 1, 1,\n",
       "        0, 0, 0, 1, 0, 1, 0, 0, 1, 0, 1, 0, 0, 0, 1, 1, 0, 0, 1, 0, 0, 1,\n",
       "        0, 0, 1, 0, 0, 1, 1, 1, 1, 0, 1, 0, 1, 0, 0, 1, 0, 1, 0, 0, 1, 1,\n",
       "        1, 1, 0, 0, 1, 1, 0, 1, 0, 1, 1, 1, 0, 0, 0, 1, 0, 0, 0, 1, 0, 0,\n",
       "        1, 0, 1, 1, 0, 1, 0, 0, 1, 0, 0, 0, 1, 1, 0, 0, 1, 1, 0, 1, 0, 1,\n",
       "        1, 1, 0, 1, 1, 0, 1, 1, 0, 0, 0, 0, 0, 1, 0, 0, 1, 0, 1, 1, 1, 0,\n",
       "        1, 0, 1, 0, 1, 0, 1, 1, 1, 1, 0, 0, 0, 0, 0, 1, 1, 1, 1, 1, 0, 1,\n",
       "        0, 1, 1, 1, 1, 1, 1, 0, 1, 0, 1, 0, 1, 0, 0, 0, 0, 1, 0, 0, 0, 1,\n",
       "        0, 1, 1, 0, 1, 1, 0, 1, 1, 0, 0, 0, 0, 1, 0, 1, 1, 0, 1, 0, 1, 1,\n",
       "        1, 0, 1, 1, 1, 0, 1, 0, 0, 0, 1, 0, 0, 0, 1, 1, 0, 1, 1, 0, 1, 1,\n",
       "        1, 1, 0, 1, 1, 1, 0, 0, 1, 0, 0, 0, 0, 0, 1, 1, 1, 0, 1, 1, 1, 0,\n",
       "        0, 1, 0, 0, 1, 0, 0, 0, 0, 0, 0, 1, 0, 1, 0, 0, 0, 0, 0, 0, 0, 0,\n",
       "        1, 1, 1, 1, 1, 0, 0, 0, 1, 0, 1, 0, 1, 1, 1, 1, 1, 1, 1, 1, 1, 0,\n",
       "        0, 0, 1, 0, 0, 0, 0, 1, 1, 0, 1, 1, 0, 0, 1, 1, 0, 0, 0, 1, 1, 0,\n",
       "        0, 1, 0, 1, 1, 0, 1, 0, 0, 1], dtype=int32)}"
      ]
     },
     "execution_count": 149,
     "metadata": {},
     "output_type": "execute_result"
    }
   ],
   "source": [
    "prediction.predictions"
   ]
  },
  {
   "cell_type": "markdown",
   "id": "c7475b00-0c2e-48c9-bab9-28a33569a458",
   "metadata": {
    "tags": []
   },
   "source": [
    "---"
   ]
  },
  {
   "cell_type": "code",
   "execution_count": 150,
   "id": "9522390b-6802-4bc4-a5b7-9123a4474bf9",
   "metadata": {
    "tags": []
   },
   "outputs": [
    {
     "name": "stdout",
     "output_type": "stream",
     "text": [
      "\n",
      "└── Success - Fit FunctionTransformer(func=<function div255 at 0x111ab7710>,\n",
      "                    inverse_func=<function mult255 at 0x153aeff80>) on 120 columns.\n",
      "\n",
      "\n",
      "└── Success - All columns now have encoders associated with them.\n",
      "\n",
      "\n",
      "Info - Featureset only contains image features. System overriding to `permute_count=0`.\n",
      "\n"
     ]
    }
   ],
   "source": [
    "torch_bin_img = tests.torch_bin_img.make_queue()"
   ]
  },
  {
   "cell_type": "code",
   "execution_count": 151,
   "id": "2085d802-3afa-4549-b503-58ce1b867acc",
   "metadata": {
    "tags": []
   },
   "outputs": [
    {
     "name": "stderr",
     "output_type": "stream",
     "text": [
      "📦 Caching Splits 📦: 100%|████████████████████████████| 3/3 [00:00<00:00, 19.51it/s]\n",
      "🔮 Training Models 🔮: 100%|███████████████████████████| 1/1 [00:19<00:00, 19.56s/it]\n"
     ]
    }
   ],
   "source": [
    "torch_bin_img.run_jobs()"
   ]
  },
  {
   "cell_type": "code",
   "execution_count": 152,
   "id": "eef615b0-12f7-4c5f-8cc1-1f91692710a4",
   "metadata": {
    "tags": []
   },
   "outputs": [],
   "source": [
    "prediction = tests.infer(torch_bin_img)"
   ]
  },
  {
   "cell_type": "code",
   "execution_count": 153,
   "id": "5ae855ed-edbe-43ab-9499-a0c71b6f71f2",
   "metadata": {
    "tags": []
   },
   "outputs": [
    {
     "data": {
      "text/plain": [
       "{'infer_0': {'accuracy': 0.412,\n",
       "  'f1': 0.515,\n",
       "  'loss': 1.623,\n",
       "  'precision': 0.439,\n",
       "  'recall': 0.625,\n",
       "  'roc_auc': 0.356}}"
      ]
     },
     "execution_count": 153,
     "metadata": {},
     "output_type": "execute_result"
    }
   ],
   "source": [
    "prediction.metrics"
   ]
  },
  {
   "cell_type": "code",
   "execution_count": 154,
   "id": "2ada642f-0127-41ab-837c-b8b98ab2d108",
   "metadata": {
    "tags": []
   },
   "outputs": [
    {
     "data": {
      "text/plain": [
       "{'infer_0': array([1, 1, 1, 1, 0, 0, 0, 1, 1, 0, 1, 1, 1, 1, 1, 1, 1, 1, 0, 1, 1, 1,\n",
       "        0, 0, 1, 1, 1, 1, 1, 1, 1, 1, 1, 1, 1, 1, 1, 1, 0, 1, 0, 1, 1, 1,\n",
       "        1, 1, 1, 1, 1, 1, 1, 1, 0, 0, 0, 1, 1, 0, 0, 0, 1, 1, 1, 1, 1, 0,\n",
       "        0, 0, 1, 0, 1, 1, 0, 0, 0, 1, 1, 0, 1, 1], dtype=int32)}"
      ]
     },
     "execution_count": 154,
     "metadata": {},
     "output_type": "execute_result"
    }
   ],
   "source": [
    "prediction.predictions"
   ]
  },
  {
   "cell_type": "code",
   "execution_count": 155,
   "id": "edee2178-ade3-41e4-8229-33528c1a35d3",
   "metadata": {
    "tags": []
   },
   "outputs": [],
   "source": [
    "prediction = tests.infer(torch_bin_img, include_label=False)"
   ]
  },
  {
   "cell_type": "code",
   "execution_count": 156,
   "id": "edcb5f2b-4676-4694-b74e-97da0d8cb60f",
   "metadata": {
    "tags": []
   },
   "outputs": [
    {
     "data": {
      "text/plain": [
       "{'infer_1': array([1, 1, 1, 1, 0, 0, 0, 1, 1, 0, 1, 1, 1, 1, 1, 1, 1, 1, 0, 1, 1, 1,\n",
       "        0, 0, 1, 1, 1, 1, 1, 1, 1, 1, 1, 1, 1, 1, 1, 1, 0, 1, 0, 1, 1, 1,\n",
       "        1, 1, 1, 1, 1, 1, 1, 1, 0, 0, 0, 1, 1, 0, 0, 0, 1, 1, 1, 1, 1, 0,\n",
       "        0, 0, 1, 0, 1, 1, 0, 0, 0, 1, 1, 0, 1, 1], dtype=int32)}"
      ]
     },
     "execution_count": 156,
     "metadata": {},
     "output_type": "execute_result"
    }
   ],
   "source": [
    "prediction.predictions"
   ]
  },
  {
   "cell_type": "markdown",
   "id": "e309392f-21e1-4f2d-a000-ad28b79f4f0b",
   "metadata": {
    "tags": []
   },
   "source": [
    "---"
   ]
  },
  {
   "cell_type": "code",
   "execution_count": 157,
   "id": "cb722fd7-5e88-4ec3-af62-ef4d244112dc",
   "metadata": {
    "tags": []
   },
   "outputs": [
    {
     "name": "stdout",
     "output_type": "stream",
     "text": [
      "\n",
      "└── Success - Fit FunctionTransformer(func=<function div255 at 0x111ab7710>,\n",
      "                    inverse_func=<function mult255 at 0x153aeff80>) on 120 columns.\n",
      "\n",
      "\n",
      "└── Success - All columns now have encoders associated with them.\n",
      "\n",
      "\n",
      "Info - Featureset only contains image features. System overriding to `permute_count=0`.\n",
      "\n"
     ]
    }
   ],
   "source": [
    "torch_bin_img_fold = tests.torch_bin_img.make_queue(fold_count=3)"
   ]
  },
  {
   "cell_type": "code",
   "execution_count": 158,
   "id": "63d3069f-6730-4076-bb02-a8ea917dc516",
   "metadata": {
    "tags": []
   },
   "outputs": [
    {
     "name": "stderr",
     "output_type": "stream",
     "text": [
      "📦 Caching Splits - Fold #1 📦: 100%|██████████████████| 4/4 [00:00<00:00, 25.35it/s]\n",
      "📦 Caching Splits - Fold #2 📦: 100%|██████████████████| 4/4 [00:00<00:00, 24.27it/s]\n",
      "📦 Caching Splits - Fold #3 📦: 100%|██████████████████| 4/4 [00:00<00:00, 25.07it/s]\n",
      "🔮 Training Models - Fold #1 🔮: 100%|█████████████████| 1/1 [00:14<00:00, 14.98s/it]\n",
      "🔮 Training Models - Fold #2 🔮: 100%|█████████████████| 1/1 [00:14<00:00, 14.46s/it]\n",
      "🔮 Training Models - Fold #3 🔮: 100%|█████████████████| 1/1 [00:17<00:00, 17.33s/it]\n"
     ]
    }
   ],
   "source": [
    "torch_bin_img_fold.run_jobs()"
   ]
  },
  {
   "cell_type": "code",
   "execution_count": 159,
   "id": "80dbbe17-7d14-4942-ba2c-a8622f45c13e",
   "metadata": {
    "tags": []
   },
   "outputs": [],
   "source": [
    "prediction = tests.infer(torch_bin_img_fold)"
   ]
  },
  {
   "cell_type": "code",
   "execution_count": 160,
   "id": "a477d0eb-f150-4c60-8e70-6df5c70c1f34",
   "metadata": {
    "tags": []
   },
   "outputs": [
    {
     "data": {
      "text/plain": [
       "{'infer_0': {'accuracy': 0.488,\n",
       "  'f1': 0.655,\n",
       "  'loss': 1.305,\n",
       "  'precision': 0.494,\n",
       "  'recall': 0.975,\n",
       "  'roc_auc': 0.382}}"
      ]
     },
     "execution_count": 160,
     "metadata": {},
     "output_type": "execute_result"
    }
   ],
   "source": [
    "prediction.metrics"
   ]
  },
  {
   "cell_type": "code",
   "execution_count": 161,
   "id": "345b01a4-2023-4bb5-b6e6-4b3afc9429d5",
   "metadata": {
    "tags": []
   },
   "outputs": [
    {
     "data": {
      "text/plain": [
       "{'infer_0': array([1, 1, 1, 1, 1, 1, 1, 1, 1, 1, 1, 1, 1, 1, 1, 1, 1, 1, 1, 1, 1, 1,\n",
       "        1, 1, 1, 1, 1, 1, 1, 1, 1, 1, 1, 1, 1, 1, 1, 1, 1, 1, 1, 1, 1, 1,\n",
       "        1, 1, 1, 1, 1, 0, 1, 1, 1, 1, 1, 1, 1, 1, 1, 1, 1, 1, 1, 1, 1, 1,\n",
       "        1, 1, 1, 1, 1, 1, 1, 1, 1, 1, 1, 1, 1, 1], dtype=int32)}"
      ]
     },
     "execution_count": 161,
     "metadata": {},
     "output_type": "execute_result"
    }
   ],
   "source": [
    "prediction.predictions"
   ]
  },
  {
   "cell_type": "code",
   "execution_count": 162,
   "id": "6b4a2225-2e2f-49cf-a017-b2b6dbecdd7f",
   "metadata": {
    "tags": []
   },
   "outputs": [],
   "source": [
    "prediction = tests.infer(torch_bin_img_fold, include_label=False)"
   ]
  },
  {
   "cell_type": "code",
   "execution_count": 163,
   "id": "410f4914-2563-4cd3-9f22-570dd4836762",
   "metadata": {
    "tags": []
   },
   "outputs": [
    {
     "data": {
      "text/plain": [
       "{'infer_1': array([1, 1, 1, 1, 1, 1, 1, 1, 1, 1, 1, 1, 1, 1, 1, 1, 1, 1, 1, 1, 1, 1,\n",
       "        1, 1, 1, 1, 1, 1, 1, 1, 1, 1, 1, 1, 1, 1, 1, 1, 1, 1, 1, 1, 1, 1,\n",
       "        1, 1, 1, 1, 1, 0, 1, 1, 1, 1, 1, 1, 1, 1, 1, 1, 1, 1, 1, 1, 1, 1,\n",
       "        1, 1, 1, 1, 1, 1, 1, 1, 1, 1, 1, 1, 1, 1], dtype=int32)}"
      ]
     },
     "execution_count": 163,
     "metadata": {},
     "output_type": "execute_result"
    }
   ],
   "source": [
    "prediction.predictions"
   ]
  },
  {
   "cell_type": "markdown",
   "id": "f125b5ac-6fee-4819-9938-ecbd64d280b6",
   "metadata": {
    "tags": []
   },
   "source": [
    "---"
   ]
  }
 ],
 "metadata": {
  "kernelspec": {
   "display_name": "Python 3",
   "language": "python",
   "name": "python3"
  },
  "language_info": {
   "codemirror_mode": {
    "name": "ipython",
    "version": 3
   },
   "file_extension": ".py",
   "mimetype": "text/x-python",
   "name": "python",
   "nbconvert_exporter": "python",
   "pygments_lexer": "ipython3",
   "version": "3.7.12"
  },
  "toc-autonumbering": false
 },
 "nbformat": 4,
 "nbformat_minor": 5
}
